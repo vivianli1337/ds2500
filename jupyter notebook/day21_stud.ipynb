{
 "cells": [
  {
   "cell_type": "markdown",
   "id": "9e0b4e60",
   "metadata": {
    "slideshow": {
     "slide_type": "slide"
    }
   },
   "source": [
    "# DS2500 Day 21\n",
    "\n",
    "Mar 31, 2023\n",
    "\n",
    "### Content\n",
    "- Weather API\n",
    "    - timestamps\n",
    "    - representing a tree via nested dictionaries (json format)\n",
    "    - making API calls\n",
    "- 🐂💩 visualizations\n",
    "    - the colorful language, [it isn't mine](https://www.callingbullshit.org/), though it does add a certain excitement to our ordinarily dry technical lingo\n",
    "\n",
    "### Admin\n",
    "- focus on the project!\n",
    "    - presentatoin preferences due next monday @ 9AM\n",
    "        - https://piazza.com/class/lbxsbawi9yq2f9/post/403\n",
    "    - lab sessions next week will support hw7\n",
    "        - its optional, no need to go if you don't feel the need\n",
    "        - hw7 is due next monday (April 3) to allow you to ask questions in lab\n",
    "\n",
    "    - no classes next week, sign up for a project team meeting with Prof Higger\n",
    "        - link on course website"
   ]
  },
  {
   "cell_type": "markdown",
   "id": "870b0ff1",
   "metadata": {
    "slideshow": {
     "slide_type": "slide"
    }
   },
   "source": [
    "# Timestamps\n",
    "## Unix Time\n",
    "\n",
    "- [UTC 00:00](https://en.wikipedia.org/wiki/UTC%2B00:00) Coordinated Universal Time's \"zero\" timezome\n",
    "    - time zone at 0 deg longitude\n",
    "        - how is 0 deg longitude defined?  \n",
    "            - A succesfully warring empire (United Kingdom) chose it \n",
    "                - (personally, I'd find it convenient if a metric system loving empire had been more successful at war ...)\n",
    "- [Unix Time](https://en.wikipedia.org/wiki/Unix_time) is The number of seconds which have passed since 00:00:00 UTC on 1 Jan 1970 (ignoring leap seconds)\n",
    "- UTC is time zone agnostic \n",
    "    - (more on this next lesson...)\n",
    "\n",
    "## Python's `datetime` & `timedelta`\n",
    "- helpful for all those pesky unit conversions"
   ]
  },
  {
   "cell_type": "code",
   "execution_count": 1,
   "id": "5adc58fc",
   "metadata": {},
   "outputs": [
    {
     "data": {
      "text/plain": [
       "datetime.datetime(2021, 2, 14, 2, 0)"
      ]
     },
     "execution_count": 1,
     "metadata": {},
     "output_type": "execute_result"
    }
   ],
   "source": [
    "from datetime import datetime, timedelta\n",
    "\n",
    "utc_example = 1613286000\n",
    "\n",
    "# WARNING! assumes the time zone of the machine its running on!\n",
    "# (we'll see this issue again later ...)\n",
    "dt0 = datetime.fromtimestamp(utc_example)\n",
    "dt0"
   ]
  },
  {
   "cell_type": "markdown",
   "id": "55cbacb4",
   "metadata": {},
   "source": [
    "[further reading](https://docs.python.org/3/library/datetime.html#aware-and-naive-objects) on the datetime above being timezone agnostic."
   ]
  },
  {
   "cell_type": "code",
   "execution_count": 2,
   "id": "94556cf9",
   "metadata": {},
   "outputs": [
    {
     "data": {
      "text/plain": [
       "(2, 14)"
      ]
     },
     "execution_count": 2,
     "metadata": {},
     "output_type": "execute_result"
    }
   ],
   "source": [
    "# we can access meaningful date attributes of a datetime object\n",
    "# year, month, day, hour, minute, second\n",
    "dt0.month, dt0.day"
   ]
  },
  {
   "cell_type": "code",
   "execution_count": 3,
   "id": "faf7f937",
   "metadata": {},
   "outputs": [
    {
     "data": {
      "text/plain": [
       "datetime.datetime(2023, 3, 31, 11, 26, 52, 374385)"
      ]
     },
     "execution_count": 3,
     "metadata": {},
     "output_type": "execute_result"
    }
   ],
   "source": [
    "dt1 = datetime.now()\n",
    "dt1"
   ]
  },
  {
   "cell_type": "code",
   "execution_count": 4,
   "id": "3ee738bf",
   "metadata": {
    "scrolled": true
   },
   "outputs": [
    {
     "data": {
      "text/plain": [
       "datetime.datetime(2222, 2, 2, 2, 0)"
      ]
     },
     "execution_count": 4,
     "metadata": {},
     "output_type": "execute_result"
    }
   ],
   "source": [
    "dt2 = datetime(year=2222, month=2, day=2, hour=2)\n",
    "dt2"
   ]
  },
  {
   "cell_type": "code",
   "execution_count": 5,
   "id": "87f7c545",
   "metadata": {},
   "outputs": [
    {
     "data": {
      "text/plain": [
       "datetime.timedelta(days=72625, seconds=52387, microseconds=625615)"
      ]
     },
     "execution_count": 5,
     "metadata": {},
     "output_type": "execute_result"
    }
   ],
   "source": [
    "# time delta measure differences between two datetimes:\n",
    "dt2 - dt1"
   ]
  },
  {
   "cell_type": "code",
   "execution_count": 6,
   "id": "d924614d",
   "metadata": {},
   "outputs": [
    {
     "data": {
      "text/plain": [
       "datetime.timedelta(days=3, seconds=37056)"
      ]
     },
     "execution_count": 6,
     "metadata": {},
     "output_type": "execute_result"
    }
   ],
   "source": [
    "# you can build them explicitly:\n",
    "offset = timedelta(days=2, seconds=123456)\n",
    "offset"
   ]
  },
  {
   "cell_type": "code",
   "execution_count": 7,
   "id": "e2e6b617",
   "metadata": {},
   "outputs": [
    {
     "data": {
      "text/plain": [
       "datetime.datetime(2222, 2, 5, 12, 17, 36)"
      ]
     },
     "execution_count": 7,
     "metadata": {},
     "output_type": "execute_result"
    }
   ],
   "source": [
    "# and operate with them (datetime + timedelta = datetime)\n",
    "dt2 + offset"
   ]
  },
  {
   "cell_type": "code",
   "execution_count": 8,
   "id": "12d15e2f",
   "metadata": {},
   "outputs": [
    {
     "data": {
      "text/plain": [
       "733577212.491442"
      ]
     },
     "execution_count": 8,
     "metadata": {},
     "output_type": "execute_result"
    }
   ],
   "source": [
    "# how many seconds old are you?\n",
    "(datetime.now() - datetime(year=2000, month=1, day=1)).total_seconds()"
   ]
  },
  {
   "cell_type": "code",
   "execution_count": 9,
   "id": "0de30b1c",
   "metadata": {},
   "outputs": [
    {
     "data": {
      "text/plain": [
       "31.70958904109589"
      ]
     },
     "execution_count": 9,
     "metadata": {},
     "output_type": "execute_result"
    }
   ],
   "source": [
    "# you've got a billionth second birthday coming up around age 31 or so:\n",
    "billion_sec = timedelta(seconds=1e9)\n",
    "billion_sec.days/365"
   ]
  },
  {
   "cell_type": "code",
   "execution_count": 10,
   "id": "91dea7a1",
   "metadata": {},
   "outputs": [
    {
     "data": {
      "text/plain": [
       "datetime.datetime(2031, 9, 9, 1, 46, 40)"
      ]
     },
     "execution_count": 10,
     "metadata": {},
     "output_type": "execute_result"
    }
   ],
   "source": [
    "# be sure to compute below so you can plan that party 10 years from now\n",
    "datetime(year=2000, month=1, day=1) + billion_sec"
   ]
  },
  {
   "cell_type": "markdown",
   "id": "3f25eeaf",
   "metadata": {
    "slideshow": {
     "slide_type": "slide"
    }
   },
   "source": [
    "# `pd.to_datetime()`\n",
    "\n",
    "Use pandas's [pd.to_datetime()](https://pandas.pydata.org/docs/reference/api/pandas.to_datetime.html) function to convert a column of your dataframe to datetime objects.  \n",
    "\n",
    "`to_datetime()` does a pretty good job guessing your format, but if it runs into trouble you've always got [strftime & strptime](https://docs.python.org/3/library/datetime.html#strftime-and-strptime-behavior)"
   ]
  },
  {
   "cell_type": "code",
   "execution_count": 11,
   "id": "df2bca22",
   "metadata": {},
   "outputs": [
    {
     "data": {
      "text/plain": [
       "0          dec 23, 2000\n",
       "1       jan 1, 2039 3AM\n",
       "2    jan 14, 2039 14:00\n",
       "3     not really a time\n",
       "dtype: object"
      ]
     },
     "execution_count": 11,
     "metadata": {},
     "output_type": "execute_result"
    }
   ],
   "source": [
    "import pandas as pd\n",
    "\n",
    "s = pd.Series(['dec 23, 2000', 'jan 1, 2039 3AM', 'jan 14, 2039 14:00', 'not really a time'])\n",
    "\n",
    "s"
   ]
  },
  {
   "cell_type": "code",
   "execution_count": 12,
   "id": "7ec7f28f",
   "metadata": {},
   "outputs": [
    {
     "data": {
      "text/plain": [
       "0   2000-12-23 00:00:00\n",
       "1   2039-01-01 03:00:00\n",
       "2   2039-01-14 14:00:00\n",
       "3                   NaT\n",
       "dtype: datetime64[ns]"
      ]
     },
     "execution_count": 12,
     "metadata": {},
     "output_type": "execute_result"
    }
   ],
   "source": [
    "# the errors = 'coerce' argument yield \"NaT\", not-a-time, objects for inputs which\n",
    "# can't be converted.  without this generates an error\n",
    "pd.to_datetime(s, errors='coerce')"
   ]
  },
  {
   "cell_type": "markdown",
   "id": "8e969b4b",
   "metadata": {
    "slideshow": {
     "slide_type": "slide"
    }
   },
   "source": [
    "# Do you know what time it is?\n",
    "[after reading this, I'm not sure that I do ...](https://www.creativedeletion.com/2015/01/28/falsehoods-programmers-date-time-zones.html)\n",
    "\n",
    "takeaways:\n",
    "- don't underestimate the difficulty of describing time unabmiguously, its hard!\n",
    "- use a library where you might run into time issues:\n",
    "    - timezones\n",
    "    - leap year / second\n",
    "    - varying days of month / year\n",
    "    - time formatting 'Feb' vs 'February' etc\n",
    "- Unix Time isn't human readable ... but it is unambiguous.  \n",
    "\n",
    "### Punchline: measuring time is hard, don't underestimate it (I certainly have!)"
   ]
  },
  {
   "cell_type": "markdown",
   "id": "dbf0b3e4",
   "metadata": {
    "slideshow": {
     "slide_type": "slide"
    }
   },
   "source": [
    "## Representing Trees as Lists & Dictionaries\n",
    "- useful for representing a tree of data\n",
    "- (our API calls will return nested dictionaries)\n",
    "\n",
    "<img src=\"https://i.ibb.co/Pmxqpb3/tree-ex.png\" alt=\"Drawing\" style=\"width: 400px;\"/>"
   ]
  },
  {
   "cell_type": "code",
   "execution_count": 13,
   "id": "a917657b",
   "metadata": {},
   "outputs": [
    {
     "data": {
      "text/plain": [
       "{'f': {'a': 0, 'b': 1, 'c': 2}, 'g': {'x': 24, 'y': 25, 'z': 26}}"
      ]
     },
     "execution_count": 13,
     "metadata": {},
     "output_type": "execute_result"
    }
   ],
   "source": [
    "red_branch_dict = {'a': 0, 'b': 1, 'c': 2}\n",
    "blu_branch_dict = {'x': 24, 'y': 25, 'z': 26}\n",
    "tree_dict = {'f': red_branch_dict,\n",
    "             'g': blu_branch_dict}\n",
    "tree_dict"
   ]
  },
  {
   "cell_type": "code",
   "execution_count": 14,
   "id": "f131240a",
   "metadata": {},
   "outputs": [
    {
     "data": {
      "text/plain": [
       "1"
      ]
     },
     "execution_count": 14,
     "metadata": {},
     "output_type": "execute_result"
    }
   ],
   "source": [
    "tree_dict['f']['b']"
   ]
  },
  {
   "cell_type": "markdown",
   "id": "4f999d34",
   "metadata": {},
   "source": [
    "<img src=\"https://i.ibb.co/4SSH4mm/tree-ex2.png\" alt=\"Drawing\" style=\"width: 600px;\"/>"
   ]
  },
  {
   "cell_type": "code",
   "execution_count": 15,
   "id": "4493f8d9",
   "metadata": {},
   "outputs": [],
   "source": [
    "dict0 = {'num': [3, 1, 4, 1, 5, 9, 2, 6],\n",
    "        'letter': 'C'}\n",
    "dict1 = {'num': 17,\n",
    "        'letter': 'R'}\n",
    "dict2 = {'num': 21,\n",
    "        'letter': 'S'}\n",
    "\n",
    "list_of_dict = [dict0, dict1, dict2]"
   ]
  },
  {
   "cell_type": "code",
   "execution_count": 16,
   "id": "140088ac",
   "metadata": {},
   "outputs": [
    {
     "data": {
      "text/plain": [
       "[3, 1, 4, 1, 5, 9, 2, 6]"
      ]
     },
     "execution_count": 16,
     "metadata": {},
     "output_type": "execute_result"
    }
   ],
   "source": [
    "list_of_dict[0]['num']"
   ]
  },
  {
   "cell_type": "markdown",
   "id": "93046c6d",
   "metadata": {},
   "source": [
    "## In class activity 1:\n",
    "1. Express all of the following penguin group's height and weight as a list of dictionaries:\n",
    "<img src=\"https://i.ibb.co/XXzX4Wk/penguin-tree.png\" alt=\"Drawing\" style=\"width: 700px;\"/>"
   ]
  },
  {
   "cell_type": "code",
   "execution_count": 17,
   "id": "5d39415e",
   "metadata": {},
   "outputs": [],
   "source": [
    "penguin0 = {'height': [2,3,2], 'weight': [4,6,5]}\n",
    "penguin1 = {'height': [4,6,5], 'weight': [2,3,3]}\n",
    "penguin2 = {'heigh': [10,7,8], 'weight': [11,6,5]}"
   ]
  },
  {
   "cell_type": "code",
   "execution_count": 18,
   "id": "5ced7099",
   "metadata": {},
   "outputs": [],
   "source": [
    "pen_list = [penguin0, penguin1, penguin2]"
   ]
  },
  {
   "cell_type": "code",
   "execution_count": 19,
   "id": "70f1c3c8",
   "metadata": {},
   "outputs": [
    {
     "data": {
      "text/plain": [
       "[{'height': [2, 3, 2], 'weight': [4, 6, 5]},\n",
       " {'height': [4, 6, 5], 'weight': [2, 3, 3]},\n",
       " {'heigh': [10, 7, 8], 'weight': [11, 6, 5]}]"
      ]
     },
     "execution_count": 19,
     "metadata": {},
     "output_type": "execute_result"
    }
   ],
   "source": [
    "pen_list"
   ]
  },
  {
   "cell_type": "code",
   "execution_count": 20,
   "id": "f80a3e82",
   "metadata": {},
   "outputs": [],
   "source": [
    "dict0 = {'name': 'penguin0', 'height': [2,3,2], 'weight': [4,6,5]}\n",
    "dict1 = {'name': 'penguin1', 'height': [4,6,5], 'weight': [2,3,3]}\n",
    "dict2 = {'name': 'penguin2', 'heigh': [10,7,8], 'weight': [11,6,5]}\n",
    "\n",
    "\n",
    "list_of_dict = [dict0, dict1, dict2]"
   ]
  },
  {
   "cell_type": "markdown",
   "id": "5839a432",
   "metadata": {
    "slideshow": {
     "slide_type": "slide"
    }
   },
   "source": [
    "# API\n",
    "###  Definitions\n",
    "**API** Application Program Interface\n",
    " - within DS: a server which gives out data (often over the internet)\n",
    " - note: 'API', in general, refers to the barrier between two pieces of software, has a specific meaning in DS\n",
    " \n",
    " \n",
    " **JSON** JavaScript Object Notation\n",
    "  - a method of storing objects as text\n",
    "  - much like the nested dictionaries ... JSON and similar formats are often trees"
   ]
  },
  {
   "cell_type": "markdown",
   "id": "29264c73",
   "metadata": {
    "slideshow": {
     "slide_type": "slide"
    }
   },
   "source": [
    "## OpenWeather API\n",
    "What information does this offer?\n",
    "\n",
    "- [https://openweathermap.org/api](https://openweathermap.org/api)\n",
    "- (note, you won't have access to all that, see the \"free\" column [here](https://openweathermap.org/price))\n",
    "\n",
    "How do I get ready to use it?\n",
    "- sign up for an account\n",
    "    - [https://home.openweathermap.org/users/sign_up](https://home.openweathermap.org/users/sign_up)\n",
    "- get an api key\n",
    "    - [https://home.openweathermap.org/api_keys](https://home.openweathermap.org/api_keys)\n",
    "        \n",
    "Think of APIs as a hybrid of a website and a function.  Its a website where your query is stored in the address:"
   ]
  },
  {
   "cell_type": "code",
   "execution_count": 21,
   "id": "ddf57001",
   "metadata": {},
   "outputs": [
    {
     "name": "stdout",
     "output_type": "stream",
     "text": [
      "https://api.openweathermap.org/data/2.5/forecast?lat=42.3601&lon=-71.0589&units=imperial&appid=eea5fcef9a7ea19505dc1c165bacac4a\n"
     ]
    }
   ],
   "source": [
    "api_key = 'eea5fcef9a7ea19505dc1c165bacac4a'\n",
    "\n",
    "# north = positive, south = negative\n",
    "lat = 42.3601\n",
    "# west = positive, east = negative\n",
    "lon = -71.0589\n",
    "\n",
    "units = 'imperial'\n",
    "\n",
    "url = f'https://api.openweathermap.org/data/2.5/forecast?lat={lat}&lon={lon}&units={units}&appid={api_key}'\n",
    "print(url)"
   ]
  },
  {
   "cell_type": "code",
   "execution_count": 22,
   "id": "1d51a6ed",
   "metadata": {
    "scrolled": true
   },
   "outputs": [
    {
     "data": {
      "text/plain": [
       "'{\"cod\":\"200\",\"message\":0,\"cnt\":40,\"list\":[{\"dt\":1680285600,\"main\":{\"temp\":46.71,\"feels_like\":43.77,\"temp_min\":46.71,\"temp_max\":51.44,\"pressure\":1025,\"sea_level\":1025,\"grnd_level\":1023,\"humidity\":30,\"temp_kf\":-2.63},\"weather\":[{\"id\":804,\"main\":\"Clouds\",\"description\":\"overcast clouds\",\"icon\":\"04d\"}],\"clouds\":{\"all\":96},\"wind\":{\"speed\":5.95,\"deg\":213,\"gust\":12.77},\"visibility\":10000,\"pop\":0,\"sys\":{\"pod\":\"d\"},\"dt_txt\":\"2023-03-31 18:00:00\"},{\"dt\":1680296400,\"main\":{\"temp\":45.07,\"feels_like\":39.13,\"temp_min\":45.07,\"temp_max\":45.45,\"pressure\":1023,\"sea_level\":1023,\"grnd_level\":1020,\"humidity\":48,\"temp_kf\":-0.21},\"weather\":[{\"id\":500,\"main\":\"Rain\",\"description\":\"light rain\",\"icon\":\"10d\"}],\"clouds\":{\"all\":99},\"wind\":{\"speed\":12.28,\"deg\":194,\"gust\":18.52},\"visibility\":10000,\"pop\":0.4,\"rain\":{\"3h\":0.11},\"sys\":{\"pod\":\"d\"},\"dt_txt\":\"2023-03-31 21:00:00\"},{\"dt\":1680307200,\"main\":{\"temp\":39.45,\"feels_like\":33.03,\"temp_min\":39.45,\"temp_max\":39.45,\"pressure\":1019,\"sea_level\":1019,\"grnd_level\":1018,\"humidity\":87,\"temp_kf\":0},\"weather\":[{\"id\":501,\"main\":\"Rain\",\"description\":\"moderate rain\",\"icon\":\"10n\"}],\"clouds\":{\"all\":100},\"wind\":{\"speed\":9.84,\"deg\":168,\"gust\":29.39},\"visibility\":5974,\"pop\":0.96,\"rain\":{\"3h\":4.27},\"sys\":{\"pod\":\"n\"},\"dt_txt\":\"2023-04-01 00:00:00\"},{\"dt\":1680318000,\"main\":{\"temp\":43.29,\"feels_like\":38.86,\"temp_min\":43.29,\"temp_max\":43.29,\"pressure\":1014,\"sea_level\":1014,\"grnd_level\":1014,\"humidity\":94,\"temp_kf\":0},\"weather\":[{\"id\":501,\"main\":\"Rain\",\"description\":\"moderate rain\",\"icon\":\"10n\"}],\"clouds\":{\"all\":100},\"wind\":{\"speed\":7.47,\"deg\":180,\"gust\":26.02},\"visibility\":10000,\"pop\":1,\"rain\":{\"3h\":4.63},\"sys\":{\"pod\":\"n\"},\"dt_txt\":\"2023-04-01 03:00:00\"},{\"dt\":1680328800,\"main\":{\"temp\":43.86,\"feels_like\":43.86,\"temp_min\":43.86,\"temp_max\":43.86,\"pressure\":1011,\"sea_level\":1011,\"grnd_level\":1010,\"humidity\":98,\"temp_kf\":0},\"weather\":[{\"id\":500,\"main\":\"Rain\",\"description\":\"light rain\",\"icon\":\"10n\"}],\"clouds\":{\"all\":100},\"wind\":{\"speed\":2.62,\"deg\":271,\"gust\":7.7},\"visibility\":10000,\"pop\":1,\"rain\":{\"3h\":0.58},\"sys\":{\"pod\":\"n\"},\"dt_txt\":\"2023-04-01 06:00:00\"},{\"dt\":1680339600,\"main\":{\"temp\":43,\"feels_like\":43,\"temp_min\":43,\"temp_max\":43,\"pressure\":1009,\"sea_level\":1009,\"grnd_level\":1008,\"humidity\":98,\"temp_kf\":0},\"weather\":[{\"id\":804,\"main\":\"Clouds\",\"description\":\"overcast clouds\",\"icon\":\"04n\"}],\"clouds\":{\"all\":100},\"wind\":{\"speed\":2.01,\"deg\":275,\"gust\":4.5},\"visibility\":10000,\"pop\":0,\"sys\":{\"pod\":\"n\"},\"dt_txt\":\"2023-04-01 09:00:00\"},{\"dt\":1680350400,\"main\":{\"temp\":44.6,\"feels_like\":42.93,\"temp_min\":44.6,\"temp_max\":44.6,\"pressure\":1005,\"sea_level\":1005,\"grnd_level\":1005,\"humidity\":98,\"temp_kf\":0},\"weather\":[{\"id\":500,\"main\":\"Rain\",\"description\":\"light rain\",\"icon\":\"10d\"}],\"clouds\":{\"all\":100},\"wind\":{\"speed\":3.67,\"deg\":146,\"gust\":13.35},\"visibility\":4623,\"pop\":0.21,\"rain\":{\"3h\":0.2},\"sys\":{\"pod\":\"d\"},\"dt_txt\":\"2023-04-01 12:00:00\"},{\"dt\":1680361200,\"main\":{\"temp\":51.3,\"feels_like\":50.63,\"temp_min\":51.3,\"temp_max\":51.3,\"pressure\":1000,\"sea_level\":1000,\"grnd_level\":999,\"humidity\":96,\"temp_kf\":0},\"weather\":[{\"id\":501,\"main\":\"Rain\",\"description\":\"moderate rain\",\"icon\":\"10d\"}],\"clouds\":{\"all\":100},\"wind\":{\"speed\":12.21,\"deg\":206,\"gust\":38.54},\"visibility\":10000,\"pop\":1,\"rain\":{\"3h\":5.57},\"sys\":{\"pod\":\"d\"},\"dt_txt\":\"2023-04-01 15:00:00\"},{\"dt\":1680372000,\"main\":{\"temp\":55.49,\"feels_like\":55.11,\"temp_min\":55.49,\"temp_max\":55.49,\"pressure\":995,\"sea_level\":995,\"grnd_level\":995,\"humidity\":93,\"temp_kf\":0},\"weather\":[{\"id\":500,\"main\":\"Rain\",\"description\":\"light rain\",\"icon\":\"10d\"}],\"clouds\":{\"all\":100},\"wind\":{\"speed\":15.39,\"deg\":217,\"gust\":38.95},\"visibility\":10000,\"pop\":1,\"rain\":{\"3h\":1.93},\"sys\":{\"pod\":\"d\"},\"dt_txt\":\"2023-04-01 18:00:00\"},{\"dt\":1680382800,\"main\":{\"temp\":58.33,\"feels_like\":57.96,\"temp_min\":58.33,\"temp_max\":58.33,\"pressure\":993,\"sea_level\":993,\"grnd_level\":993,\"humidity\":87,\"temp_kf\":0},\"weather\":[{\"id\":500,\"main\":\"Rain\",\"description\":\"light rain\",\"icon\":\"10d\"}],\"clouds\":{\"all\":91},\"wind\":{\"speed\":12.57,\"deg\":217,\"gust\":29.01},\"visibility\":10000,\"pop\":0.8,\"rain\":{\"3h\":0.94},\"sys\":{\"pod\":\"d\"},\"dt_txt\":\"2023-04-01 21:00:00\"},{\"dt\":1680393600,\"main\":{\"temp\":53.87,\"feels_like\":53.33,\"temp_min\":53.87,\"temp_max\":53.87,\"pressure\":991,\"sea_level\":991,\"grnd_level\":990,\"humidity\":93,\"temp_kf\":0},\"weather\":[{\"id\":803,\"main\":\"Clouds\",\"description\":\"broken clouds\",\"icon\":\"04n\"}],\"clouds\":{\"all\":67},\"wind\":{\"speed\":11.05,\"deg\":196,\"gust\":34.83},\"visibility\":10000,\"pop\":0.66,\"sys\":{\"pod\":\"n\"},\"dt_txt\":\"2023-04-02 00:00:00\"},{\"dt\":1680404400,\"main\":{\"temp\":50.86,\"feels_like\":49.69,\"temp_min\":50.86,\"temp_max\":50.86,\"pressure\":990,\"sea_level\":990,\"grnd_level\":989,\"humidity\":86,\"temp_kf\":0},\"weather\":[{\"id\":501,\"main\":\"Rain\",\"description\":\"moderate rain\",\"icon\":\"10n\"}],\"clouds\":{\"all\":100},\"wind\":{\"speed\":8.75,\"deg\":261,\"gust\":24.56},\"visibility\":10000,\"pop\":1,\"rain\":{\"3h\":5.89},\"sys\":{\"pod\":\"n\"},\"dt_txt\":\"2023-04-02 03:00:00\"},{\"dt\":1680415200,\"main\":{\"temp\":47.52,\"feels_like\":41.14,\"temp_min\":47.52,\"temp_max\":47.52,\"pressure\":991,\"sea_level\":991,\"grnd_level\":991,\"humidity\":81,\"temp_kf\":0},\"weather\":[{\"id\":500,\"main\":\"Rain\",\"description\":\"light rain\",\"icon\":\"10n\"}],\"clouds\":{\"all\":100},\"wind\":{\"speed\":16.28,\"deg\":274,\"gust\":30.42},\"visibility\":10000,\"pop\":1,\"rain\":{\"3h\":0.55},\"sys\":{\"pod\":\"n\"},\"dt_txt\":\"2023-04-02 06:00:00\"},{\"dt\":1680426000,\"main\":{\"temp\":43.83,\"feels_like\":36.18,\"temp_min\":43.83,\"temp_max\":43.83,\"pressure\":996,\"sea_level\":996,\"grnd_level\":996,\"humidity\":75,\"temp_kf\":0},\"weather\":[{\"id\":500,\"main\":\"Rain\",\"description\":\"light rain\",\"icon\":\"10n\"}],\"clouds\":{\"all\":100},\"wind\":{\"speed\":17.09,\"deg\":299,\"gust\":31.79},\"visibility\":10000,\"pop\":0.35,\"rain\":{\"3h\":0.3},\"sys\":{\"pod\":\"n\"},\"dt_txt\":\"2023-04-02 09:00:00\"},{\"dt\":1680436800,\"main\":{\"temp\":35.67,\"feels_like\":25.57,\"temp_min\":35.67,\"temp_max\":35.67,\"pressure\":1004,\"sea_level\":1004,\"grnd_level\":1004,\"humidity\":61,\"temp_kf\":0},\"weather\":[{\"id\":803,\"main\":\"Clouds\",\"description\":\"broken clouds\",\"icon\":\"04d\"}],\"clouds\":{\"all\":62},\"wind\":{\"speed\":17.27,\"deg\":316,\"gust\":36.78},\"visibility\":10000,\"pop\":0.12,\"sys\":{\"pod\":\"d\"},\"dt_txt\":\"2023-04-02 12:00:00\"},{\"dt\":1680447600,\"main\":{\"temp\":38.95,\"feels_like\":29.48,\"temp_min\":38.95,\"temp_max\":38.95,\"pressure\":1009,\"sea_level\":1009,\"grnd_level\":1008,\"humidity\":31,\"temp_kf\":0},\"weather\":[{\"id\":800,\"main\":\"Clear\",\"description\":\"clear sky\",\"icon\":\"01d\"}],\"clouds\":{\"all\":3},\"wind\":{\"speed\":18.52,\"deg\":326,\"gust\":29.68},\"visibility\":10000,\"pop\":0,\"sys\":{\"pod\":\"d\"},\"dt_txt\":\"2023-04-02 15:00:00\"},{\"dt\":1680458400,\"main\":{\"temp\":42.84,\"feels_like\":35.44,\"temp_min\":42.84,\"temp_max\":42.84,\"pressure\":1012,\"sea_level\":1012,\"grnd_level\":1011,\"humidity\":27,\"temp_kf\":0},\"weather\":[{\"id\":800,\"main\":\"Clear\",\"description\":\"clear sky\",\"icon\":\"01d\"}],\"clouds\":{\"all\":2},\"wind\":{\"speed\":15.12,\"deg\":328,\"gust\":22.01},\"visibility\":10000,\"pop\":0,\"sys\":{\"pod\":\"d\"},\"dt_txt\":\"2023-04-02 18:00:00\"},{\"dt\":1680469200,\"main\":{\"temp\":42.89,\"feels_like\":36.16,\"temp_min\":42.89,\"temp_max\":42.89,\"pressure\":1014,\"sea_level\":1014,\"grnd_level\":1013,\"humidity\":28,\"temp_kf\":0},\"weather\":[{\"id\":800,\"main\":\"Clear\",\"description\":\"clear sky\",\"icon\":\"01d\"}],\"clouds\":{\"all\":0},\"wind\":{\"speed\":12.97,\"deg\":326,\"gust\":18.54},\"visibility\":10000,\"pop\":0,\"sys\":{\"pod\":\"d\"},\"dt_txt\":\"2023-04-02 21:00:00\"},{\"dt\":1680480000,\"main\":{\"temp\":37.83,\"feels_like\":30.81,\"temp_min\":37.83,\"temp_max\":37.83,\"pressure\":1018,\"sea_level\":1018,\"grnd_level\":1017,\"humidity\":36,\"temp_kf\":0},\"weather\":[{\"id\":800,\"main\":\"Clear\",\"description\":\"clear sky\",\"icon\":\"01n\"}],\"clouds\":{\"all\":1},\"wind\":{\"speed\":10.31,\"deg\":330,\"gust\":20},\"visibility\":10000,\"pop\":0,\"sys\":{\"pod\":\"n\"},\"dt_txt\":\"2023-04-03 00:00:00\"},{\"dt\":1680490800,\"main\":{\"temp\":34,\"feels_like\":27.43,\"temp_min\":34,\"temp_max\":34,\"pressure\":1019,\"sea_level\":1019,\"grnd_level\":1019,\"humidity\":40,\"temp_kf\":0},\"weather\":[{\"id\":800,\"main\":\"Clear\",\"description\":\"clear sky\",\"icon\":\"01n\"}],\"clouds\":{\"all\":9},\"wind\":{\"speed\":7.74,\"deg\":328,\"gust\":16.71},\"visibility\":10000,\"pop\":0,\"sys\":{\"pod\":\"n\"},\"dt_txt\":\"2023-04-03 03:00:00\"},{\"dt\":1680501600,\"main\":{\"temp\":32.67,\"feels_like\":32.67,\"temp_min\":32.67,\"temp_max\":32.67,\"pressure\":1020,\"sea_level\":1020,\"grnd_level\":1019,\"humidity\":41,\"temp_kf\":0},\"weather\":[{\"id\":800,\"main\":\"Clear\",\"description\":\"clear sky\",\"icon\":\"01n\"}],\"clouds\":{\"all\":9},\"wind\":{\"speed\":2.39,\"deg\":301,\"gust\":4.63},\"visibility\":10000,\"pop\":0,\"sys\":{\"pod\":\"n\"},\"dt_txt\":\"2023-04-03 06:00:00\"},{\"dt\":1680512400,\"main\":{\"temp\":32.38,\"feels_like\":29.25,\"temp_min\":32.38,\"temp_max\":32.38,\"pressure\":1020,\"sea_level\":1020,\"grnd_level\":1020,\"humidity\":45,\"temp_kf\":0},\"weather\":[{\"id\":800,\"main\":\"Clear\",\"description\":\"clear sky\",\"icon\":\"01n\"}],\"clouds\":{\"all\":10},\"wind\":{\"speed\":3.38,\"deg\":195,\"gust\":6.62},\"visibility\":10000,\"pop\":0,\"sys\":{\"pod\":\"n\"},\"dt_txt\":\"2023-04-03 09:00:00\"},{\"dt\":1680523200,\"main\":{\"temp\":35.87,\"feels_like\":30.72,\"temp_min\":35.87,\"temp_max\":35.87,\"pressure\":1021,\"sea_level\":1021,\"grnd_level\":1021,\"humidity\":44,\"temp_kf\":0},\"weather\":[{\"id\":801,\"main\":\"Clouds\",\"description\":\"few clouds\",\"icon\":\"02d\"}],\"clouds\":{\"all\":13},\"wind\":{\"speed\":6.17,\"deg\":208,\"gust\":12.24},\"visibility\":10000,\"pop\":0,\"sys\":{\"pod\":\"d\"},\"dt_txt\":\"2023-04-03 12:00:00\"},{\"dt\":1680534000,\"main\":{\"temp\":45.79,\"feels_like\":40.24,\"temp_min\":45.79,\"temp_max\":45.79,\"pressure\":1019,\"sea_level\":1019,\"grnd_level\":1019,\"humidity\":30,\"temp_kf\":0},\"weather\":[{\"id\":804,\"main\":\"Clouds\",\"description\":\"overcast clouds\",\"icon\":\"04d\"}],\"clouds\":{\"all\":100},\"wind\":{\"speed\":11.65,\"deg\":210,\"gust\":19.33},\"visibility\":10000,\"pop\":0,\"sys\":{\"pod\":\"d\"},\"dt_txt\":\"2023-04-03 15:00:00\"},{\"dt\":1680544800,\"main\":{\"temp\":54.7,\"feels_like\":51.37,\"temp_min\":54.7,\"temp_max\":54.7,\"pressure\":1015,\"sea_level\":1015,\"grnd_level\":1015,\"humidity\":32,\"temp_kf\":0},\"weather\":[{\"id\":804,\"main\":\"Clouds\",\"description\":\"overcast clouds\",\"icon\":\"04d\"}],\"clouds\":{\"all\":99},\"wind\":{\"speed\":14.29,\"deg\":213,\"gust\":24.54},\"visibility\":10000,\"pop\":0,\"sys\":{\"pod\":\"d\"},\"dt_txt\":\"2023-04-03 18:00:00\"},{\"dt\":1680555600,\"main\":{\"temp\":53.56,\"feels_like\":50.59,\"temp_min\":53.56,\"temp_max\":53.56,\"pressure\":1012,\"sea_level\":1012,\"grnd_level\":1012,\"humidity\":42,\"temp_kf\":0},\"weather\":[{\"id\":804,\"main\":\"Clouds\",\"description\":\"overcast clouds\",\"icon\":\"04d\"}],\"clouds\":{\"all\":100},\"wind\":{\"speed\":14.85,\"deg\":208,\"gust\":30.44},\"visibility\":10000,\"pop\":0,\"sys\":{\"pod\":\"d\"},\"dt_txt\":\"2023-04-03 21:00:00\"},{\"dt\":1680566400,\"main\":{\"temp\":49.3,\"feels_like\":43.99,\"temp_min\":49.3,\"temp_max\":49.3,\"pressure\":1013,\"sea_level\":1013,\"grnd_level\":1012,\"humidity\":61,\"temp_kf\":0},\"weather\":[{\"id\":804,\"main\":\"Clouds\",\"description\":\"overcast clouds\",\"icon\":\"04n\"}],\"clouds\":{\"all\":100},\"wind\":{\"speed\":14.05,\"deg\":216,\"gust\":39.19},\"visibility\":10000,\"pop\":0,\"sys\":{\"pod\":\"n\"},\"dt_txt\":\"2023-04-04 00:00:00\"},{\"dt\":1680577200,\"main\":{\"temp\":49.23,\"feels_like\":44.37,\"temp_min\":49.23,\"temp_max\":49.23,\"pressure\":1012,\"sea_level\":1012,\"grnd_level\":1012,\"humidity\":72,\"temp_kf\":0},\"weather\":[{\"id\":804,\"main\":\"Clouds\",\"description\":\"overcast clouds\",\"icon\":\"04n\"}],\"clouds\":{\"all\":100},\"wind\":{\"speed\":12.26,\"deg\":224,\"gust\":36.57},\"visibility\":10000,\"pop\":0.04,\"sys\":{\"pod\":\"n\"},\"dt_txt\":\"2023-04-04 03:00:00\"},{\"dt\":1680588000,\"main\":{\"temp\":47.82,\"feels_like\":45.63,\"temp_min\":47.82,\"temp_max\":47.82,\"pressure\":1014,\"sea_level\":1014,\"grnd_level\":1013,\"humidity\":85,\"temp_kf\":0},\"weather\":[{\"id\":500,\"main\":\"Rain\",\"description\":\"light rain\",\"icon\":\"10n\"}],\"clouds\":{\"all\":100},\"wind\":{\"speed\":5.06,\"deg\":286,\"gust\":16.06},\"visibility\":10000,\"pop\":0.49,\"rain\":{\"3h\":0.54},\"sys\":{\"pod\":\"n\"},\"dt_txt\":\"2023-04-04 06:00:00\"},{\"dt\":1680598800,\"main\":{\"temp\":46.51,\"feels_like\":44.82,\"temp_min\":46.51,\"temp_max\":46.51,\"pressure\":1014,\"sea_level\":1014,\"grnd_level\":1013,\"humidity\":93,\"temp_kf\":0},\"weather\":[{\"id\":500,\"main\":\"Rain\",\"description\":\"light rain\",\"icon\":\"10n\"}],\"clouds\":{\"all\":100},\"wind\":{\"speed\":4.03,\"deg\":162,\"gust\":7.07},\"visibility\":10000,\"pop\":0.79,\"rain\":{\"3h\":0.87},\"sys\":{\"pod\":\"n\"},\"dt_txt\":\"2023-04-04 09:00:00\"},{\"dt\":1680609600,\"main\":{\"temp\":48.15,\"feels_like\":46.36,\"temp_min\":48.15,\"temp_max\":48.15,\"pressure\":1015,\"sea_level\":1015,\"grnd_level\":1015,\"humidity\":90,\"temp_kf\":0},\"weather\":[{\"id\":804,\"main\":\"Clouds\",\"description\":\"overcast clouds\",\"icon\":\"04d\"}],\"clouds\":{\"all\":100},\"wind\":{\"speed\":4.5,\"deg\":192,\"gust\":9.35},\"visibility\":10000,\"pop\":0.66,\"sys\":{\"pod\":\"d\"},\"dt_txt\":\"2023-04-04 12:00:00\"},{\"dt\":1680620400,\"main\":{\"temp\":57.43,\"feels_like\":55.94,\"temp_min\":57.43,\"temp_max\":57.43,\"pressure\":1016,\"sea_level\":1016,\"grnd_level\":1015,\"humidity\":65,\"temp_kf\":0},\"weather\":[{\"id\":803,\"main\":\"Clouds\",\"description\":\"broken clouds\",\"icon\":\"04d\"}],\"clouds\":{\"all\":79},\"wind\":{\"speed\":1.83,\"deg\":266,\"gust\":4.21},\"visibility\":10000,\"pop\":0,\"sys\":{\"pod\":\"d\"},\"dt_txt\":\"2023-04-04 15:00:00\"},{\"dt\":1680631200,\"main\":{\"temp\":62.13,\"feels_like\":60.26,\"temp_min\":62.13,\"temp_max\":62.13,\"pressure\":1016,\"sea_level\":1016,\"grnd_level\":1015,\"humidity\":47,\"temp_kf\":0},\"weather\":[{\"id\":804,\"main\":\"Clouds\",\"description\":\"overcast clouds\",\"icon\":\"04d\"}],\"clouds\":{\"all\":88},\"wind\":{\"speed\":2.77,\"deg\":308,\"gust\":8.99},\"visibility\":10000,\"pop\":0,\"sys\":{\"pod\":\"d\"},\"dt_txt\":\"2023-04-04 18:00:00\"},{\"dt\":1680642000,\"main\":{\"temp\":63.36,\"feels_like\":61.56,\"temp_min\":63.36,\"temp_max\":63.36,\"pressure\":1017,\"sea_level\":1017,\"grnd_level\":1017,\"humidity\":46,\"temp_kf\":0},\"weather\":[{\"id\":804,\"main\":\"Clouds\",\"description\":\"overcast clouds\",\"icon\":\"04d\"}],\"clouds\":{\"all\":100},\"wind\":{\"speed\":3.36,\"deg\":328,\"gust\":9.86},\"visibility\":10000,\"pop\":0,\"sys\":{\"pod\":\"d\"},\"dt_txt\":\"2023-04-04 21:00:00\"},{\"dt\":1680652800,\"main\":{\"temp\":54.3,\"feels_like\":52.63,\"temp_min\":54.3,\"temp_max\":54.3,\"pressure\":1020,\"sea_level\":1020,\"grnd_level\":1020,\"humidity\":68,\"temp_kf\":0},\"weather\":[{\"id\":804,\"main\":\"Clouds\",\"description\":\"overcast clouds\",\"icon\":\"04n\"}],\"clouds\":{\"all\":99},\"wind\":{\"speed\":2.53,\"deg\":122,\"gust\":5.53},\"visibility\":10000,\"pop\":0,\"sys\":{\"pod\":\"n\"},\"dt_txt\":\"2023-04-05 00:00:00\"},{\"dt\":1680663600,\"main\":{\"temp\":52,\"feels_like\":50.52,\"temp_min\":52,\"temp_max\":52,\"pressure\":1022,\"sea_level\":1022,\"grnd_level\":1021,\"humidity\":77,\"temp_kf\":0},\"weather\":[{\"id\":803,\"main\":\"Clouds\",\"description\":\"broken clouds\",\"icon\":\"04n\"}],\"clouds\":{\"all\":73},\"wind\":{\"speed\":1.92,\"deg\":63,\"gust\":3.24},\"visibility\":10000,\"pop\":0,\"sys\":{\"pod\":\"n\"},\"dt_txt\":\"2023-04-05 03:00:00\"},{\"dt\":1680674400,\"main\":{\"temp\":49.55,\"feels_like\":49.55,\"temp_min\":49.55,\"temp_max\":49.55,\"pressure\":1022,\"sea_level\":1022,\"grnd_level\":1022,\"humidity\":86,\"temp_kf\":0},\"weather\":[{\"id\":803,\"main\":\"Clouds\",\"description\":\"broken clouds\",\"icon\":\"04n\"}],\"clouds\":{\"all\":76},\"wind\":{\"speed\":1.88,\"deg\":69,\"gust\":3.8},\"visibility\":10000,\"pop\":0,\"sys\":{\"pod\":\"n\"},\"dt_txt\":\"2023-04-05 06:00:00\"},{\"dt\":1680685200,\"main\":{\"temp\":48.72,\"feels_like\":46.9,\"temp_min\":48.72,\"temp_max\":48.72,\"pressure\":1024,\"sea_level\":1024,\"grnd_level\":1023,\"humidity\":89,\"temp_kf\":0},\"weather\":[{\"id\":804,\"main\":\"Clouds\",\"description\":\"overcast clouds\",\"icon\":\"04n\"}],\"clouds\":{\"all\":92},\"wind\":{\"speed\":4.7,\"deg\":34,\"gust\":6.96},\"visibility\":10000,\"pop\":0,\"sys\":{\"pod\":\"n\"},\"dt_txt\":\"2023-04-05 09:00:00\"},{\"dt\":1680696000,\"main\":{\"temp\":47.46,\"feels_like\":45.36,\"temp_min\":47.46,\"temp_max\":47.46,\"pressure\":1025,\"sea_level\":1025,\"grnd_level\":1024,\"humidity\":90,\"temp_kf\":0},\"weather\":[{\"id\":804,\"main\":\"Clouds\",\"description\":\"overcast clouds\",\"icon\":\"04d\"}],\"clouds\":{\"all\":94},\"wind\":{\"speed\":4.81,\"deg\":76,\"gust\":8.99},\"visibility\":10000,\"pop\":0,\"sys\":{\"pod\":\"d\"},\"dt_txt\":\"2023-04-05 12:00:00\"},{\"dt\":1680706800,\"main\":{\"temp\":54.25,\"feels_like\":52.84,\"temp_min\":54.25,\"temp_max\":54.25,\"pressure\":1024,\"sea_level\":1024,\"grnd_level\":1024,\"humidity\":74,\"temp_kf\":0},\"weather\":[{\"id\":804,\"main\":\"Clouds\",\"description\":\"overcast clouds\",\"icon\":\"04d\"}],\"clouds\":{\"all\":87},\"wind\":{\"speed\":5.68,\"deg\":105,\"gust\":9.75},\"visibility\":10000,\"pop\":0,\"sys\":{\"pod\":\"d\"},\"dt_txt\":\"2023-04-05 15:00:00\"}],\"city\":{\"id\":4930956,\"name\":\"Boston\",\"coord\":{\"lat\":42.3601,\"lon\":-71.0589},\"country\":\"US\",\"population\":617594,\"timezone\":-14400,\"sunrise\":1680258525,\"sunset\":1680304072}}'"
      ]
     },
     "execution_count": 22,
     "metadata": {},
     "output_type": "execute_result"
    }
   ],
   "source": [
    "import requests\n",
    "\n",
    "# get url as a string\n",
    "url_text = requests.get(url).text    \n",
    "url_text"
   ]
  },
  {
   "cell_type": "markdown",
   "id": "cb188d8e",
   "metadata": {},
   "source": [
    "The resulting JSON object is a dictionary of dictionaries (or a list of dictionaries) tree as seen in the previous section.\n",
    "\n",
    "You can convert it from string to dicts and lists via:"
   ]
  },
  {
   "cell_type": "code",
   "execution_count": 23,
   "id": "7fe29f4b",
   "metadata": {},
   "outputs": [
    {
     "data": {
      "text/plain": [
       "dict_keys(['cod', 'message', 'cnt', 'list', 'city'])"
      ]
     },
     "execution_count": 23,
     "metadata": {},
     "output_type": "execute_result"
    }
   ],
   "source": [
    "import json\n",
    "\n",
    "# convert json to a nested dict\n",
    "weather_dict = json.loads(url_text)\n",
    "\n",
    "weather_dict.keys()"
   ]
  },
  {
   "cell_type": "code",
   "execution_count": 24,
   "id": "aa60c358",
   "metadata": {
    "scrolled": true
   },
   "outputs": [
    {
     "data": {
      "text/plain": [
       "[{'dt': 1680285600,\n",
       "  'main': {'temp': 46.71,\n",
       "   'feels_like': 43.77,\n",
       "   'temp_min': 46.71,\n",
       "   'temp_max': 51.44,\n",
       "   'pressure': 1025,\n",
       "   'sea_level': 1025,\n",
       "   'grnd_level': 1023,\n",
       "   'humidity': 30,\n",
       "   'temp_kf': -2.63},\n",
       "  'weather': [{'id': 804,\n",
       "    'main': 'Clouds',\n",
       "    'description': 'overcast clouds',\n",
       "    'icon': '04d'}],\n",
       "  'clouds': {'all': 96},\n",
       "  'wind': {'speed': 5.95, 'deg': 213, 'gust': 12.77},\n",
       "  'visibility': 10000,\n",
       "  'pop': 0,\n",
       "  'sys': {'pod': 'd'},\n",
       "  'dt_txt': '2023-03-31 18:00:00'},\n",
       " {'dt': 1680296400,\n",
       "  'main': {'temp': 45.07,\n",
       "   'feels_like': 39.13,\n",
       "   'temp_min': 45.07,\n",
       "   'temp_max': 45.45,\n",
       "   'pressure': 1023,\n",
       "   'sea_level': 1023,\n",
       "   'grnd_level': 1020,\n",
       "   'humidity': 48,\n",
       "   'temp_kf': -0.21},\n",
       "  'weather': [{'id': 500,\n",
       "    'main': 'Rain',\n",
       "    'description': 'light rain',\n",
       "    'icon': '10d'}],\n",
       "  'clouds': {'all': 99},\n",
       "  'wind': {'speed': 12.28, 'deg': 194, 'gust': 18.52},\n",
       "  'visibility': 10000,\n",
       "  'pop': 0.4,\n",
       "  'rain': {'3h': 0.11},\n",
       "  'sys': {'pod': 'd'},\n",
       "  'dt_txt': '2023-03-31 21:00:00'},\n",
       " {'dt': 1680307200,\n",
       "  'main': {'temp': 39.45,\n",
       "   'feels_like': 33.03,\n",
       "   'temp_min': 39.45,\n",
       "   'temp_max': 39.45,\n",
       "   'pressure': 1019,\n",
       "   'sea_level': 1019,\n",
       "   'grnd_level': 1018,\n",
       "   'humidity': 87,\n",
       "   'temp_kf': 0},\n",
       "  'weather': [{'id': 501,\n",
       "    'main': 'Rain',\n",
       "    'description': 'moderate rain',\n",
       "    'icon': '10n'}],\n",
       "  'clouds': {'all': 100},\n",
       "  'wind': {'speed': 9.84, 'deg': 168, 'gust': 29.39},\n",
       "  'visibility': 5974,\n",
       "  'pop': 0.96,\n",
       "  'rain': {'3h': 4.27},\n",
       "  'sys': {'pod': 'n'},\n",
       "  'dt_txt': '2023-04-01 00:00:00'},\n",
       " {'dt': 1680318000,\n",
       "  'main': {'temp': 43.29,\n",
       "   'feels_like': 38.86,\n",
       "   'temp_min': 43.29,\n",
       "   'temp_max': 43.29,\n",
       "   'pressure': 1014,\n",
       "   'sea_level': 1014,\n",
       "   'grnd_level': 1014,\n",
       "   'humidity': 94,\n",
       "   'temp_kf': 0},\n",
       "  'weather': [{'id': 501,\n",
       "    'main': 'Rain',\n",
       "    'description': 'moderate rain',\n",
       "    'icon': '10n'}],\n",
       "  'clouds': {'all': 100},\n",
       "  'wind': {'speed': 7.47, 'deg': 180, 'gust': 26.02},\n",
       "  'visibility': 10000,\n",
       "  'pop': 1,\n",
       "  'rain': {'3h': 4.63},\n",
       "  'sys': {'pod': 'n'},\n",
       "  'dt_txt': '2023-04-01 03:00:00'},\n",
       " {'dt': 1680328800,\n",
       "  'main': {'temp': 43.86,\n",
       "   'feels_like': 43.86,\n",
       "   'temp_min': 43.86,\n",
       "   'temp_max': 43.86,\n",
       "   'pressure': 1011,\n",
       "   'sea_level': 1011,\n",
       "   'grnd_level': 1010,\n",
       "   'humidity': 98,\n",
       "   'temp_kf': 0},\n",
       "  'weather': [{'id': 500,\n",
       "    'main': 'Rain',\n",
       "    'description': 'light rain',\n",
       "    'icon': '10n'}],\n",
       "  'clouds': {'all': 100},\n",
       "  'wind': {'speed': 2.62, 'deg': 271, 'gust': 7.7},\n",
       "  'visibility': 10000,\n",
       "  'pop': 1,\n",
       "  'rain': {'3h': 0.58},\n",
       "  'sys': {'pod': 'n'},\n",
       "  'dt_txt': '2023-04-01 06:00:00'},\n",
       " {'dt': 1680339600,\n",
       "  'main': {'temp': 43,\n",
       "   'feels_like': 43,\n",
       "   'temp_min': 43,\n",
       "   'temp_max': 43,\n",
       "   'pressure': 1009,\n",
       "   'sea_level': 1009,\n",
       "   'grnd_level': 1008,\n",
       "   'humidity': 98,\n",
       "   'temp_kf': 0},\n",
       "  'weather': [{'id': 804,\n",
       "    'main': 'Clouds',\n",
       "    'description': 'overcast clouds',\n",
       "    'icon': '04n'}],\n",
       "  'clouds': {'all': 100},\n",
       "  'wind': {'speed': 2.01, 'deg': 275, 'gust': 4.5},\n",
       "  'visibility': 10000,\n",
       "  'pop': 0,\n",
       "  'sys': {'pod': 'n'},\n",
       "  'dt_txt': '2023-04-01 09:00:00'},\n",
       " {'dt': 1680350400,\n",
       "  'main': {'temp': 44.6,\n",
       "   'feels_like': 42.93,\n",
       "   'temp_min': 44.6,\n",
       "   'temp_max': 44.6,\n",
       "   'pressure': 1005,\n",
       "   'sea_level': 1005,\n",
       "   'grnd_level': 1005,\n",
       "   'humidity': 98,\n",
       "   'temp_kf': 0},\n",
       "  'weather': [{'id': 500,\n",
       "    'main': 'Rain',\n",
       "    'description': 'light rain',\n",
       "    'icon': '10d'}],\n",
       "  'clouds': {'all': 100},\n",
       "  'wind': {'speed': 3.67, 'deg': 146, 'gust': 13.35},\n",
       "  'visibility': 4623,\n",
       "  'pop': 0.21,\n",
       "  'rain': {'3h': 0.2},\n",
       "  'sys': {'pod': 'd'},\n",
       "  'dt_txt': '2023-04-01 12:00:00'},\n",
       " {'dt': 1680361200,\n",
       "  'main': {'temp': 51.3,\n",
       "   'feels_like': 50.63,\n",
       "   'temp_min': 51.3,\n",
       "   'temp_max': 51.3,\n",
       "   'pressure': 1000,\n",
       "   'sea_level': 1000,\n",
       "   'grnd_level': 999,\n",
       "   'humidity': 96,\n",
       "   'temp_kf': 0},\n",
       "  'weather': [{'id': 501,\n",
       "    'main': 'Rain',\n",
       "    'description': 'moderate rain',\n",
       "    'icon': '10d'}],\n",
       "  'clouds': {'all': 100},\n",
       "  'wind': {'speed': 12.21, 'deg': 206, 'gust': 38.54},\n",
       "  'visibility': 10000,\n",
       "  'pop': 1,\n",
       "  'rain': {'3h': 5.57},\n",
       "  'sys': {'pod': 'd'},\n",
       "  'dt_txt': '2023-04-01 15:00:00'},\n",
       " {'dt': 1680372000,\n",
       "  'main': {'temp': 55.49,\n",
       "   'feels_like': 55.11,\n",
       "   'temp_min': 55.49,\n",
       "   'temp_max': 55.49,\n",
       "   'pressure': 995,\n",
       "   'sea_level': 995,\n",
       "   'grnd_level': 995,\n",
       "   'humidity': 93,\n",
       "   'temp_kf': 0},\n",
       "  'weather': [{'id': 500,\n",
       "    'main': 'Rain',\n",
       "    'description': 'light rain',\n",
       "    'icon': '10d'}],\n",
       "  'clouds': {'all': 100},\n",
       "  'wind': {'speed': 15.39, 'deg': 217, 'gust': 38.95},\n",
       "  'visibility': 10000,\n",
       "  'pop': 1,\n",
       "  'rain': {'3h': 1.93},\n",
       "  'sys': {'pod': 'd'},\n",
       "  'dt_txt': '2023-04-01 18:00:00'},\n",
       " {'dt': 1680382800,\n",
       "  'main': {'temp': 58.33,\n",
       "   'feels_like': 57.96,\n",
       "   'temp_min': 58.33,\n",
       "   'temp_max': 58.33,\n",
       "   'pressure': 993,\n",
       "   'sea_level': 993,\n",
       "   'grnd_level': 993,\n",
       "   'humidity': 87,\n",
       "   'temp_kf': 0},\n",
       "  'weather': [{'id': 500,\n",
       "    'main': 'Rain',\n",
       "    'description': 'light rain',\n",
       "    'icon': '10d'}],\n",
       "  'clouds': {'all': 91},\n",
       "  'wind': {'speed': 12.57, 'deg': 217, 'gust': 29.01},\n",
       "  'visibility': 10000,\n",
       "  'pop': 0.8,\n",
       "  'rain': {'3h': 0.94},\n",
       "  'sys': {'pod': 'd'},\n",
       "  'dt_txt': '2023-04-01 21:00:00'},\n",
       " {'dt': 1680393600,\n",
       "  'main': {'temp': 53.87,\n",
       "   'feels_like': 53.33,\n",
       "   'temp_min': 53.87,\n",
       "   'temp_max': 53.87,\n",
       "   'pressure': 991,\n",
       "   'sea_level': 991,\n",
       "   'grnd_level': 990,\n",
       "   'humidity': 93,\n",
       "   'temp_kf': 0},\n",
       "  'weather': [{'id': 803,\n",
       "    'main': 'Clouds',\n",
       "    'description': 'broken clouds',\n",
       "    'icon': '04n'}],\n",
       "  'clouds': {'all': 67},\n",
       "  'wind': {'speed': 11.05, 'deg': 196, 'gust': 34.83},\n",
       "  'visibility': 10000,\n",
       "  'pop': 0.66,\n",
       "  'sys': {'pod': 'n'},\n",
       "  'dt_txt': '2023-04-02 00:00:00'},\n",
       " {'dt': 1680404400,\n",
       "  'main': {'temp': 50.86,\n",
       "   'feels_like': 49.69,\n",
       "   'temp_min': 50.86,\n",
       "   'temp_max': 50.86,\n",
       "   'pressure': 990,\n",
       "   'sea_level': 990,\n",
       "   'grnd_level': 989,\n",
       "   'humidity': 86,\n",
       "   'temp_kf': 0},\n",
       "  'weather': [{'id': 501,\n",
       "    'main': 'Rain',\n",
       "    'description': 'moderate rain',\n",
       "    'icon': '10n'}],\n",
       "  'clouds': {'all': 100},\n",
       "  'wind': {'speed': 8.75, 'deg': 261, 'gust': 24.56},\n",
       "  'visibility': 10000,\n",
       "  'pop': 1,\n",
       "  'rain': {'3h': 5.89},\n",
       "  'sys': {'pod': 'n'},\n",
       "  'dt_txt': '2023-04-02 03:00:00'},\n",
       " {'dt': 1680415200,\n",
       "  'main': {'temp': 47.52,\n",
       "   'feels_like': 41.14,\n",
       "   'temp_min': 47.52,\n",
       "   'temp_max': 47.52,\n",
       "   'pressure': 991,\n",
       "   'sea_level': 991,\n",
       "   'grnd_level': 991,\n",
       "   'humidity': 81,\n",
       "   'temp_kf': 0},\n",
       "  'weather': [{'id': 500,\n",
       "    'main': 'Rain',\n",
       "    'description': 'light rain',\n",
       "    'icon': '10n'}],\n",
       "  'clouds': {'all': 100},\n",
       "  'wind': {'speed': 16.28, 'deg': 274, 'gust': 30.42},\n",
       "  'visibility': 10000,\n",
       "  'pop': 1,\n",
       "  'rain': {'3h': 0.55},\n",
       "  'sys': {'pod': 'n'},\n",
       "  'dt_txt': '2023-04-02 06:00:00'},\n",
       " {'dt': 1680426000,\n",
       "  'main': {'temp': 43.83,\n",
       "   'feels_like': 36.18,\n",
       "   'temp_min': 43.83,\n",
       "   'temp_max': 43.83,\n",
       "   'pressure': 996,\n",
       "   'sea_level': 996,\n",
       "   'grnd_level': 996,\n",
       "   'humidity': 75,\n",
       "   'temp_kf': 0},\n",
       "  'weather': [{'id': 500,\n",
       "    'main': 'Rain',\n",
       "    'description': 'light rain',\n",
       "    'icon': '10n'}],\n",
       "  'clouds': {'all': 100},\n",
       "  'wind': {'speed': 17.09, 'deg': 299, 'gust': 31.79},\n",
       "  'visibility': 10000,\n",
       "  'pop': 0.35,\n",
       "  'rain': {'3h': 0.3},\n",
       "  'sys': {'pod': 'n'},\n",
       "  'dt_txt': '2023-04-02 09:00:00'},\n",
       " {'dt': 1680436800,\n",
       "  'main': {'temp': 35.67,\n",
       "   'feels_like': 25.57,\n",
       "   'temp_min': 35.67,\n",
       "   'temp_max': 35.67,\n",
       "   'pressure': 1004,\n",
       "   'sea_level': 1004,\n",
       "   'grnd_level': 1004,\n",
       "   'humidity': 61,\n",
       "   'temp_kf': 0},\n",
       "  'weather': [{'id': 803,\n",
       "    'main': 'Clouds',\n",
       "    'description': 'broken clouds',\n",
       "    'icon': '04d'}],\n",
       "  'clouds': {'all': 62},\n",
       "  'wind': {'speed': 17.27, 'deg': 316, 'gust': 36.78},\n",
       "  'visibility': 10000,\n",
       "  'pop': 0.12,\n",
       "  'sys': {'pod': 'd'},\n",
       "  'dt_txt': '2023-04-02 12:00:00'},\n",
       " {'dt': 1680447600,\n",
       "  'main': {'temp': 38.95,\n",
       "   'feels_like': 29.48,\n",
       "   'temp_min': 38.95,\n",
       "   'temp_max': 38.95,\n",
       "   'pressure': 1009,\n",
       "   'sea_level': 1009,\n",
       "   'grnd_level': 1008,\n",
       "   'humidity': 31,\n",
       "   'temp_kf': 0},\n",
       "  'weather': [{'id': 800,\n",
       "    'main': 'Clear',\n",
       "    'description': 'clear sky',\n",
       "    'icon': '01d'}],\n",
       "  'clouds': {'all': 3},\n",
       "  'wind': {'speed': 18.52, 'deg': 326, 'gust': 29.68},\n",
       "  'visibility': 10000,\n",
       "  'pop': 0,\n",
       "  'sys': {'pod': 'd'},\n",
       "  'dt_txt': '2023-04-02 15:00:00'},\n",
       " {'dt': 1680458400,\n",
       "  'main': {'temp': 42.84,\n",
       "   'feels_like': 35.44,\n",
       "   'temp_min': 42.84,\n",
       "   'temp_max': 42.84,\n",
       "   'pressure': 1012,\n",
       "   'sea_level': 1012,\n",
       "   'grnd_level': 1011,\n",
       "   'humidity': 27,\n",
       "   'temp_kf': 0},\n",
       "  'weather': [{'id': 800,\n",
       "    'main': 'Clear',\n",
       "    'description': 'clear sky',\n",
       "    'icon': '01d'}],\n",
       "  'clouds': {'all': 2},\n",
       "  'wind': {'speed': 15.12, 'deg': 328, 'gust': 22.01},\n",
       "  'visibility': 10000,\n",
       "  'pop': 0,\n",
       "  'sys': {'pod': 'd'},\n",
       "  'dt_txt': '2023-04-02 18:00:00'},\n",
       " {'dt': 1680469200,\n",
       "  'main': {'temp': 42.89,\n",
       "   'feels_like': 36.16,\n",
       "   'temp_min': 42.89,\n",
       "   'temp_max': 42.89,\n",
       "   'pressure': 1014,\n",
       "   'sea_level': 1014,\n",
       "   'grnd_level': 1013,\n",
       "   'humidity': 28,\n",
       "   'temp_kf': 0},\n",
       "  'weather': [{'id': 800,\n",
       "    'main': 'Clear',\n",
       "    'description': 'clear sky',\n",
       "    'icon': '01d'}],\n",
       "  'clouds': {'all': 0},\n",
       "  'wind': {'speed': 12.97, 'deg': 326, 'gust': 18.54},\n",
       "  'visibility': 10000,\n",
       "  'pop': 0,\n",
       "  'sys': {'pod': 'd'},\n",
       "  'dt_txt': '2023-04-02 21:00:00'},\n",
       " {'dt': 1680480000,\n",
       "  'main': {'temp': 37.83,\n",
       "   'feels_like': 30.81,\n",
       "   'temp_min': 37.83,\n",
       "   'temp_max': 37.83,\n",
       "   'pressure': 1018,\n",
       "   'sea_level': 1018,\n",
       "   'grnd_level': 1017,\n",
       "   'humidity': 36,\n",
       "   'temp_kf': 0},\n",
       "  'weather': [{'id': 800,\n",
       "    'main': 'Clear',\n",
       "    'description': 'clear sky',\n",
       "    'icon': '01n'}],\n",
       "  'clouds': {'all': 1},\n",
       "  'wind': {'speed': 10.31, 'deg': 330, 'gust': 20},\n",
       "  'visibility': 10000,\n",
       "  'pop': 0,\n",
       "  'sys': {'pod': 'n'},\n",
       "  'dt_txt': '2023-04-03 00:00:00'},\n",
       " {'dt': 1680490800,\n",
       "  'main': {'temp': 34,\n",
       "   'feels_like': 27.43,\n",
       "   'temp_min': 34,\n",
       "   'temp_max': 34,\n",
       "   'pressure': 1019,\n",
       "   'sea_level': 1019,\n",
       "   'grnd_level': 1019,\n",
       "   'humidity': 40,\n",
       "   'temp_kf': 0},\n",
       "  'weather': [{'id': 800,\n",
       "    'main': 'Clear',\n",
       "    'description': 'clear sky',\n",
       "    'icon': '01n'}],\n",
       "  'clouds': {'all': 9},\n",
       "  'wind': {'speed': 7.74, 'deg': 328, 'gust': 16.71},\n",
       "  'visibility': 10000,\n",
       "  'pop': 0,\n",
       "  'sys': {'pod': 'n'},\n",
       "  'dt_txt': '2023-04-03 03:00:00'},\n",
       " {'dt': 1680501600,\n",
       "  'main': {'temp': 32.67,\n",
       "   'feels_like': 32.67,\n",
       "   'temp_min': 32.67,\n",
       "   'temp_max': 32.67,\n",
       "   'pressure': 1020,\n",
       "   'sea_level': 1020,\n",
       "   'grnd_level': 1019,\n",
       "   'humidity': 41,\n",
       "   'temp_kf': 0},\n",
       "  'weather': [{'id': 800,\n",
       "    'main': 'Clear',\n",
       "    'description': 'clear sky',\n",
       "    'icon': '01n'}],\n",
       "  'clouds': {'all': 9},\n",
       "  'wind': {'speed': 2.39, 'deg': 301, 'gust': 4.63},\n",
       "  'visibility': 10000,\n",
       "  'pop': 0,\n",
       "  'sys': {'pod': 'n'},\n",
       "  'dt_txt': '2023-04-03 06:00:00'},\n",
       " {'dt': 1680512400,\n",
       "  'main': {'temp': 32.38,\n",
       "   'feels_like': 29.25,\n",
       "   'temp_min': 32.38,\n",
       "   'temp_max': 32.38,\n",
       "   'pressure': 1020,\n",
       "   'sea_level': 1020,\n",
       "   'grnd_level': 1020,\n",
       "   'humidity': 45,\n",
       "   'temp_kf': 0},\n",
       "  'weather': [{'id': 800,\n",
       "    'main': 'Clear',\n",
       "    'description': 'clear sky',\n",
       "    'icon': '01n'}],\n",
       "  'clouds': {'all': 10},\n",
       "  'wind': {'speed': 3.38, 'deg': 195, 'gust': 6.62},\n",
       "  'visibility': 10000,\n",
       "  'pop': 0,\n",
       "  'sys': {'pod': 'n'},\n",
       "  'dt_txt': '2023-04-03 09:00:00'},\n",
       " {'dt': 1680523200,\n",
       "  'main': {'temp': 35.87,\n",
       "   'feels_like': 30.72,\n",
       "   'temp_min': 35.87,\n",
       "   'temp_max': 35.87,\n",
       "   'pressure': 1021,\n",
       "   'sea_level': 1021,\n",
       "   'grnd_level': 1021,\n",
       "   'humidity': 44,\n",
       "   'temp_kf': 0},\n",
       "  'weather': [{'id': 801,\n",
       "    'main': 'Clouds',\n",
       "    'description': 'few clouds',\n",
       "    'icon': '02d'}],\n",
       "  'clouds': {'all': 13},\n",
       "  'wind': {'speed': 6.17, 'deg': 208, 'gust': 12.24},\n",
       "  'visibility': 10000,\n",
       "  'pop': 0,\n",
       "  'sys': {'pod': 'd'},\n",
       "  'dt_txt': '2023-04-03 12:00:00'},\n",
       " {'dt': 1680534000,\n",
       "  'main': {'temp': 45.79,\n",
       "   'feels_like': 40.24,\n",
       "   'temp_min': 45.79,\n",
       "   'temp_max': 45.79,\n",
       "   'pressure': 1019,\n",
       "   'sea_level': 1019,\n",
       "   'grnd_level': 1019,\n",
       "   'humidity': 30,\n",
       "   'temp_kf': 0},\n",
       "  'weather': [{'id': 804,\n",
       "    'main': 'Clouds',\n",
       "    'description': 'overcast clouds',\n",
       "    'icon': '04d'}],\n",
       "  'clouds': {'all': 100},\n",
       "  'wind': {'speed': 11.65, 'deg': 210, 'gust': 19.33},\n",
       "  'visibility': 10000,\n",
       "  'pop': 0,\n",
       "  'sys': {'pod': 'd'},\n",
       "  'dt_txt': '2023-04-03 15:00:00'},\n",
       " {'dt': 1680544800,\n",
       "  'main': {'temp': 54.7,\n",
       "   'feels_like': 51.37,\n",
       "   'temp_min': 54.7,\n",
       "   'temp_max': 54.7,\n",
       "   'pressure': 1015,\n",
       "   'sea_level': 1015,\n",
       "   'grnd_level': 1015,\n",
       "   'humidity': 32,\n",
       "   'temp_kf': 0},\n",
       "  'weather': [{'id': 804,\n",
       "    'main': 'Clouds',\n",
       "    'description': 'overcast clouds',\n",
       "    'icon': '04d'}],\n",
       "  'clouds': {'all': 99},\n",
       "  'wind': {'speed': 14.29, 'deg': 213, 'gust': 24.54},\n",
       "  'visibility': 10000,\n",
       "  'pop': 0,\n",
       "  'sys': {'pod': 'd'},\n",
       "  'dt_txt': '2023-04-03 18:00:00'},\n",
       " {'dt': 1680555600,\n",
       "  'main': {'temp': 53.56,\n",
       "   'feels_like': 50.59,\n",
       "   'temp_min': 53.56,\n",
       "   'temp_max': 53.56,\n",
       "   'pressure': 1012,\n",
       "   'sea_level': 1012,\n",
       "   'grnd_level': 1012,\n",
       "   'humidity': 42,\n",
       "   'temp_kf': 0},\n",
       "  'weather': [{'id': 804,\n",
       "    'main': 'Clouds',\n",
       "    'description': 'overcast clouds',\n",
       "    'icon': '04d'}],\n",
       "  'clouds': {'all': 100},\n",
       "  'wind': {'speed': 14.85, 'deg': 208, 'gust': 30.44},\n",
       "  'visibility': 10000,\n",
       "  'pop': 0,\n",
       "  'sys': {'pod': 'd'},\n",
       "  'dt_txt': '2023-04-03 21:00:00'},\n",
       " {'dt': 1680566400,\n",
       "  'main': {'temp': 49.3,\n",
       "   'feels_like': 43.99,\n",
       "   'temp_min': 49.3,\n",
       "   'temp_max': 49.3,\n",
       "   'pressure': 1013,\n",
       "   'sea_level': 1013,\n",
       "   'grnd_level': 1012,\n",
       "   'humidity': 61,\n",
       "   'temp_kf': 0},\n",
       "  'weather': [{'id': 804,\n",
       "    'main': 'Clouds',\n",
       "    'description': 'overcast clouds',\n",
       "    'icon': '04n'}],\n",
       "  'clouds': {'all': 100},\n",
       "  'wind': {'speed': 14.05, 'deg': 216, 'gust': 39.19},\n",
       "  'visibility': 10000,\n",
       "  'pop': 0,\n",
       "  'sys': {'pod': 'n'},\n",
       "  'dt_txt': '2023-04-04 00:00:00'},\n",
       " {'dt': 1680577200,\n",
       "  'main': {'temp': 49.23,\n",
       "   'feels_like': 44.37,\n",
       "   'temp_min': 49.23,\n",
       "   'temp_max': 49.23,\n",
       "   'pressure': 1012,\n",
       "   'sea_level': 1012,\n",
       "   'grnd_level': 1012,\n",
       "   'humidity': 72,\n",
       "   'temp_kf': 0},\n",
       "  'weather': [{'id': 804,\n",
       "    'main': 'Clouds',\n",
       "    'description': 'overcast clouds',\n",
       "    'icon': '04n'}],\n",
       "  'clouds': {'all': 100},\n",
       "  'wind': {'speed': 12.26, 'deg': 224, 'gust': 36.57},\n",
       "  'visibility': 10000,\n",
       "  'pop': 0.04,\n",
       "  'sys': {'pod': 'n'},\n",
       "  'dt_txt': '2023-04-04 03:00:00'},\n",
       " {'dt': 1680588000,\n",
       "  'main': {'temp': 47.82,\n",
       "   'feels_like': 45.63,\n",
       "   'temp_min': 47.82,\n",
       "   'temp_max': 47.82,\n",
       "   'pressure': 1014,\n",
       "   'sea_level': 1014,\n",
       "   'grnd_level': 1013,\n",
       "   'humidity': 85,\n",
       "   'temp_kf': 0},\n",
       "  'weather': [{'id': 500,\n",
       "    'main': 'Rain',\n",
       "    'description': 'light rain',\n",
       "    'icon': '10n'}],\n",
       "  'clouds': {'all': 100},\n",
       "  'wind': {'speed': 5.06, 'deg': 286, 'gust': 16.06},\n",
       "  'visibility': 10000,\n",
       "  'pop': 0.49,\n",
       "  'rain': {'3h': 0.54},\n",
       "  'sys': {'pod': 'n'},\n",
       "  'dt_txt': '2023-04-04 06:00:00'},\n",
       " {'dt': 1680598800,\n",
       "  'main': {'temp': 46.51,\n",
       "   'feels_like': 44.82,\n",
       "   'temp_min': 46.51,\n",
       "   'temp_max': 46.51,\n",
       "   'pressure': 1014,\n",
       "   'sea_level': 1014,\n",
       "   'grnd_level': 1013,\n",
       "   'humidity': 93,\n",
       "   'temp_kf': 0},\n",
       "  'weather': [{'id': 500,\n",
       "    'main': 'Rain',\n",
       "    'description': 'light rain',\n",
       "    'icon': '10n'}],\n",
       "  'clouds': {'all': 100},\n",
       "  'wind': {'speed': 4.03, 'deg': 162, 'gust': 7.07},\n",
       "  'visibility': 10000,\n",
       "  'pop': 0.79,\n",
       "  'rain': {'3h': 0.87},\n",
       "  'sys': {'pod': 'n'},\n",
       "  'dt_txt': '2023-04-04 09:00:00'},\n",
       " {'dt': 1680609600,\n",
       "  'main': {'temp': 48.15,\n",
       "   'feels_like': 46.36,\n",
       "   'temp_min': 48.15,\n",
       "   'temp_max': 48.15,\n",
       "   'pressure': 1015,\n",
       "   'sea_level': 1015,\n",
       "   'grnd_level': 1015,\n",
       "   'humidity': 90,\n",
       "   'temp_kf': 0},\n",
       "  'weather': [{'id': 804,\n",
       "    'main': 'Clouds',\n",
       "    'description': 'overcast clouds',\n",
       "    'icon': '04d'}],\n",
       "  'clouds': {'all': 100},\n",
       "  'wind': {'speed': 4.5, 'deg': 192, 'gust': 9.35},\n",
       "  'visibility': 10000,\n",
       "  'pop': 0.66,\n",
       "  'sys': {'pod': 'd'},\n",
       "  'dt_txt': '2023-04-04 12:00:00'},\n",
       " {'dt': 1680620400,\n",
       "  'main': {'temp': 57.43,\n",
       "   'feels_like': 55.94,\n",
       "   'temp_min': 57.43,\n",
       "   'temp_max': 57.43,\n",
       "   'pressure': 1016,\n",
       "   'sea_level': 1016,\n",
       "   'grnd_level': 1015,\n",
       "   'humidity': 65,\n",
       "   'temp_kf': 0},\n",
       "  'weather': [{'id': 803,\n",
       "    'main': 'Clouds',\n",
       "    'description': 'broken clouds',\n",
       "    'icon': '04d'}],\n",
       "  'clouds': {'all': 79},\n",
       "  'wind': {'speed': 1.83, 'deg': 266, 'gust': 4.21},\n",
       "  'visibility': 10000,\n",
       "  'pop': 0,\n",
       "  'sys': {'pod': 'd'},\n",
       "  'dt_txt': '2023-04-04 15:00:00'},\n",
       " {'dt': 1680631200,\n",
       "  'main': {'temp': 62.13,\n",
       "   'feels_like': 60.26,\n",
       "   'temp_min': 62.13,\n",
       "   'temp_max': 62.13,\n",
       "   'pressure': 1016,\n",
       "   'sea_level': 1016,\n",
       "   'grnd_level': 1015,\n",
       "   'humidity': 47,\n",
       "   'temp_kf': 0},\n",
       "  'weather': [{'id': 804,\n",
       "    'main': 'Clouds',\n",
       "    'description': 'overcast clouds',\n",
       "    'icon': '04d'}],\n",
       "  'clouds': {'all': 88},\n",
       "  'wind': {'speed': 2.77, 'deg': 308, 'gust': 8.99},\n",
       "  'visibility': 10000,\n",
       "  'pop': 0,\n",
       "  'sys': {'pod': 'd'},\n",
       "  'dt_txt': '2023-04-04 18:00:00'},\n",
       " {'dt': 1680642000,\n",
       "  'main': {'temp': 63.36,\n",
       "   'feels_like': 61.56,\n",
       "   'temp_min': 63.36,\n",
       "   'temp_max': 63.36,\n",
       "   'pressure': 1017,\n",
       "   'sea_level': 1017,\n",
       "   'grnd_level': 1017,\n",
       "   'humidity': 46,\n",
       "   'temp_kf': 0},\n",
       "  'weather': [{'id': 804,\n",
       "    'main': 'Clouds',\n",
       "    'description': 'overcast clouds',\n",
       "    'icon': '04d'}],\n",
       "  'clouds': {'all': 100},\n",
       "  'wind': {'speed': 3.36, 'deg': 328, 'gust': 9.86},\n",
       "  'visibility': 10000,\n",
       "  'pop': 0,\n",
       "  'sys': {'pod': 'd'},\n",
       "  'dt_txt': '2023-04-04 21:00:00'},\n",
       " {'dt': 1680652800,\n",
       "  'main': {'temp': 54.3,\n",
       "   'feels_like': 52.63,\n",
       "   'temp_min': 54.3,\n",
       "   'temp_max': 54.3,\n",
       "   'pressure': 1020,\n",
       "   'sea_level': 1020,\n",
       "   'grnd_level': 1020,\n",
       "   'humidity': 68,\n",
       "   'temp_kf': 0},\n",
       "  'weather': [{'id': 804,\n",
       "    'main': 'Clouds',\n",
       "    'description': 'overcast clouds',\n",
       "    'icon': '04n'}],\n",
       "  'clouds': {'all': 99},\n",
       "  'wind': {'speed': 2.53, 'deg': 122, 'gust': 5.53},\n",
       "  'visibility': 10000,\n",
       "  'pop': 0,\n",
       "  'sys': {'pod': 'n'},\n",
       "  'dt_txt': '2023-04-05 00:00:00'},\n",
       " {'dt': 1680663600,\n",
       "  'main': {'temp': 52,\n",
       "   'feels_like': 50.52,\n",
       "   'temp_min': 52,\n",
       "   'temp_max': 52,\n",
       "   'pressure': 1022,\n",
       "   'sea_level': 1022,\n",
       "   'grnd_level': 1021,\n",
       "   'humidity': 77,\n",
       "   'temp_kf': 0},\n",
       "  'weather': [{'id': 803,\n",
       "    'main': 'Clouds',\n",
       "    'description': 'broken clouds',\n",
       "    'icon': '04n'}],\n",
       "  'clouds': {'all': 73},\n",
       "  'wind': {'speed': 1.92, 'deg': 63, 'gust': 3.24},\n",
       "  'visibility': 10000,\n",
       "  'pop': 0,\n",
       "  'sys': {'pod': 'n'},\n",
       "  'dt_txt': '2023-04-05 03:00:00'},\n",
       " {'dt': 1680674400,\n",
       "  'main': {'temp': 49.55,\n",
       "   'feels_like': 49.55,\n",
       "   'temp_min': 49.55,\n",
       "   'temp_max': 49.55,\n",
       "   'pressure': 1022,\n",
       "   'sea_level': 1022,\n",
       "   'grnd_level': 1022,\n",
       "   'humidity': 86,\n",
       "   'temp_kf': 0},\n",
       "  'weather': [{'id': 803,\n",
       "    'main': 'Clouds',\n",
       "    'description': 'broken clouds',\n",
       "    'icon': '04n'}],\n",
       "  'clouds': {'all': 76},\n",
       "  'wind': {'speed': 1.88, 'deg': 69, 'gust': 3.8},\n",
       "  'visibility': 10000,\n",
       "  'pop': 0,\n",
       "  'sys': {'pod': 'n'},\n",
       "  'dt_txt': '2023-04-05 06:00:00'},\n",
       " {'dt': 1680685200,\n",
       "  'main': {'temp': 48.72,\n",
       "   'feels_like': 46.9,\n",
       "   'temp_min': 48.72,\n",
       "   'temp_max': 48.72,\n",
       "   'pressure': 1024,\n",
       "   'sea_level': 1024,\n",
       "   'grnd_level': 1023,\n",
       "   'humidity': 89,\n",
       "   'temp_kf': 0},\n",
       "  'weather': [{'id': 804,\n",
       "    'main': 'Clouds',\n",
       "    'description': 'overcast clouds',\n",
       "    'icon': '04n'}],\n",
       "  'clouds': {'all': 92},\n",
       "  'wind': {'speed': 4.7, 'deg': 34, 'gust': 6.96},\n",
       "  'visibility': 10000,\n",
       "  'pop': 0,\n",
       "  'sys': {'pod': 'n'},\n",
       "  'dt_txt': '2023-04-05 09:00:00'},\n",
       " {'dt': 1680696000,\n",
       "  'main': {'temp': 47.46,\n",
       "   'feels_like': 45.36,\n",
       "   'temp_min': 47.46,\n",
       "   'temp_max': 47.46,\n",
       "   'pressure': 1025,\n",
       "   'sea_level': 1025,\n",
       "   'grnd_level': 1024,\n",
       "   'humidity': 90,\n",
       "   'temp_kf': 0},\n",
       "  'weather': [{'id': 804,\n",
       "    'main': 'Clouds',\n",
       "    'description': 'overcast clouds',\n",
       "    'icon': '04d'}],\n",
       "  'clouds': {'all': 94},\n",
       "  'wind': {'speed': 4.81, 'deg': 76, 'gust': 8.99},\n",
       "  'visibility': 10000,\n",
       "  'pop': 0,\n",
       "  'sys': {'pod': 'd'},\n",
       "  'dt_txt': '2023-04-05 12:00:00'},\n",
       " {'dt': 1680706800,\n",
       "  'main': {'temp': 54.25,\n",
       "   'feels_like': 52.84,\n",
       "   'temp_min': 54.25,\n",
       "   'temp_max': 54.25,\n",
       "   'pressure': 1024,\n",
       "   'sea_level': 1024,\n",
       "   'grnd_level': 1024,\n",
       "   'humidity': 74,\n",
       "   'temp_kf': 0},\n",
       "  'weather': [{'id': 804,\n",
       "    'main': 'Clouds',\n",
       "    'description': 'overcast clouds',\n",
       "    'icon': '04d'}],\n",
       "  'clouds': {'all': 87},\n",
       "  'wind': {'speed': 5.68, 'deg': 105, 'gust': 9.75},\n",
       "  'visibility': 10000,\n",
       "  'pop': 0,\n",
       "  'sys': {'pod': 'd'},\n",
       "  'dt_txt': '2023-04-05 15:00:00'}]"
      ]
     },
     "execution_count": 24,
     "metadata": {},
     "output_type": "execute_result"
    }
   ],
   "source": [
    "weather_dict['list']"
   ]
  },
  {
   "cell_type": "markdown",
   "id": "f3c16f79",
   "metadata": {
    "slideshow": {
     "slide_type": "slide"
    }
   },
   "source": [
    "## Cleaning up data from one instant"
   ]
  },
  {
   "cell_type": "code",
   "execution_count": 25,
   "id": "82ec7713",
   "metadata": {},
   "outputs": [
    {
     "data": {
      "text/plain": [
       "{'dt': 1680285600,\n",
       " 'main': {'temp': 46.71,\n",
       "  'feels_like': 43.77,\n",
       "  'temp_min': 46.71,\n",
       "  'temp_max': 51.44,\n",
       "  'pressure': 1025,\n",
       "  'sea_level': 1025,\n",
       "  'grnd_level': 1023,\n",
       "  'humidity': 30,\n",
       "  'temp_kf': -2.63},\n",
       " 'weather': [{'id': 804,\n",
       "   'main': 'Clouds',\n",
       "   'description': 'overcast clouds',\n",
       "   'icon': '04d'}],\n",
       " 'clouds': {'all': 96},\n",
       " 'wind': {'speed': 5.95, 'deg': 213, 'gust': 12.77},\n",
       " 'visibility': 10000,\n",
       " 'pop': 0,\n",
       " 'sys': {'pod': 'd'},\n",
       " 'dt_txt': '2023-03-31 18:00:00',\n",
       " 'datetime': datetime.datetime(2023, 3, 31, 14, 0)}"
      ]
     },
     "execution_count": 25,
     "metadata": {},
     "output_type": "execute_result"
    }
   ],
   "source": [
    "d = weather_dict['list'][0]\n",
    "d\n",
    "\n",
    "# lets convert from unix time to a datetime (easier to use)\n",
    "d['datetime'] = datetime.fromtimestamp(d['dt'])\n",
    "\n",
    "d"
   ]
  },
  {
   "cell_type": "code",
   "execution_count": 26,
   "id": "b7a43108",
   "metadata": {
    "scrolled": true
   },
   "outputs": [
    {
     "data": {
      "text/plain": [
       "{'dt': 1680285600,\n",
       " 'weather': [{'id': 804,\n",
       "   'main': 'Clouds',\n",
       "   'description': 'overcast clouds',\n",
       "   'icon': '04d'}],\n",
       " 'clouds': {'all': 96},\n",
       " 'wind': {'speed': 5.95, 'deg': 213, 'gust': 12.77},\n",
       " 'visibility': 10000,\n",
       " 'pop': 0,\n",
       " 'sys': {'pod': 'd'},\n",
       " 'dt_txt': '2023-03-31 18:00:00',\n",
       " 'datetime': datetime.datetime(2023, 3, 31, 14, 0),\n",
       " 'temp': 46.71,\n",
       " 'feels_like': 43.77,\n",
       " 'temp_min': 46.71,\n",
       " 'temp_max': 51.44,\n",
       " 'pressure': 1025,\n",
       " 'sea_level': 1025,\n",
       " 'grnd_level': 1023,\n",
       " 'humidity': 30,\n",
       " 'temp_kf': -2.63}"
      ]
     },
     "execution_count": 26,
     "metadata": {},
     "output_type": "execute_result"
    }
   ],
   "source": [
    "# lets \"flatten\" the main dictionary\n",
    "d.update(d['main'])\n",
    "del d['main']\n",
    "\n",
    "d"
   ]
  },
  {
   "cell_type": "markdown",
   "id": "df69f5b2",
   "metadata": {
    "slideshow": {
     "slide_type": "slide"
    }
   },
   "source": [
    "# Why doesn't our datetime match the \"dt_txt\"?\n",
    "\n",
    "[lets examine the API's documentation](https://openweathermap.org/forecast5)\n",
    "\n",
    "(spoiler: the forecasted day is in UTC 00:00, our function converts it to our computer's timezone ... see how sneaky measuring time can be?)"
   ]
  },
  {
   "cell_type": "markdown",
   "id": "131942d2",
   "metadata": {
    "slideshow": {
     "slide_type": "slide"
    }
   },
   "source": [
    "# Storing an API key in another file\n",
    "\n",
    "- security of your account\n",
    "- easily swappable with another user"
   ]
  },
  {
   "cell_type": "code",
   "execution_count": 27,
   "id": "c2c8f92f",
   "metadata": {},
   "outputs": [
    {
     "ename": "ModuleNotFoundError",
     "evalue": "No module named 'weather_api'",
     "output_type": "error",
     "traceback": [
      "\u001b[0;31m---------------------------------------------------------------------------\u001b[0m",
      "\u001b[0;31mModuleNotFoundError\u001b[0m                       Traceback (most recent call last)",
      "\u001b[0;32m/var/folders/9m/1hg1hctj5s94qtlnx8n6561h0000gn/T/ipykernel_5406/2447092580.py\u001b[0m in \u001b[0;36m<module>\u001b[0;34m\u001b[0m\n\u001b[0;32m----> 1\u001b[0;31m \u001b[0;32mfrom\u001b[0m \u001b[0mweather_api\u001b[0m \u001b[0;32mimport\u001b[0m \u001b[0mapi_key\u001b[0m\u001b[0;34m\u001b[0m\u001b[0;34m\u001b[0m\u001b[0m\n\u001b[0m\u001b[1;32m      2\u001b[0m \u001b[0;34m\u001b[0m\u001b[0m\n\u001b[1;32m      3\u001b[0m \u001b[0;31m# nice to keep it a bit more hidden in your code\u001b[0m\u001b[0;34m\u001b[0m\u001b[0;34m\u001b[0m\u001b[0m\n\u001b[1;32m      4\u001b[0m \u001b[0;31m# (though you'd do better not to parrot it on a jupyter output cell,\u001b[0m\u001b[0;34m\u001b[0m\u001b[0;34m\u001b[0m\u001b[0m\n\u001b[1;32m      5\u001b[0m \u001b[0;31m# I just want to show you all how this works)\u001b[0m\u001b[0;34m\u001b[0m\u001b[0;34m\u001b[0m\u001b[0m\n",
      "\u001b[0;31mModuleNotFoundError\u001b[0m: No module named 'weather_api'"
     ]
    }
   ],
   "source": [
    "from weather_api import api_key\n",
    "\n",
    "# nice to keep it a bit more hidden in your code\n",
    "# (though you'd do better not to parrot it on a jupyter output cell,\n",
    "# I just want to show you all how this works)\n",
    "api_key\n",
    "\n",
    "# make a file"
   ]
  },
  {
   "cell_type": "markdown",
   "id": "dbad9bd6",
   "metadata": {
    "slideshow": {
     "slide_type": "slide"
    }
   },
   "source": [
    "## In Class Activity 2\n",
    "    \n",
    "1. Make a function `get_forecast` which accepts:\n",
    "    - `lat`\n",
    "    - `lon`\n",
    "    - `api_key`\n",
    "    - `units` (default = 'imperial')\n",
    "    \n",
    "    and returns a dataframe of the forecasted weather\n",
    "    \n",
    "```python\n",
    "# clean it up\n",
    "row_list = list()\n",
    "for d in weather_dict['list']:\n",
    "    # process dictionary into a row\n",
    "\n",
    "    # store\n",
    "    row_list.append(d)\n",
    "\n",
    "# convert list of dictionaries to dataframe\n",
    "df = pd.DataFrame(row_list)\n",
    "```\n",
    "\n",
    "2. \"flatten\" the parts of the dictionary which make sense (see \"main\" example a few cells above).\n",
    "\n",
    "\n",
    "## Test Case\n",
    "\n",
    "Osaka, Japan is located at:\n",
    "\n",
    "    34.6937° N, 135.5023° E\n",
    "    \n",
    "The first few rows of my call \n",
    "\n",
    "```python\n",
    "df_osaka = get_forecast(lat=34.6937, lon=135.5023, api_key=api_key)\n",
    "```\n",
    "\n",
    "yielded the following dataframe:\n",
    "\n",
    "|   | dt         | visibility | pop | dt_txt              | all | speed | deg | gust | pod | temp  | feels_like | temp_min | temp_max | pressure | sea_level | grnd_level | humidity | temp_kf | id  | main   | description | icon |\n",
    "|---|------------|------------|-----|---------------------|-----|-------|-----|------|-----|-------|------------|----------|----------|----------|-----------|------------|----------|---------|-----|--------|-------------|------|\n",
    "| 0 | 1680264000 | 10000      | 0   | 2023-03-31 12:00:00 | 0   | 4.79  | 222 | 7.87 | n   | 60.35 | 58.24      | 60.04    | 60.35    | 1016     | 1016      | 1016       | 46       | 0.17    | 800 | Clear  | clear sky   | 01n  |\n",
    "| 1 | 1680274800 | 10000      | 0   | 2023-03-31 15:00:00 | 11  | 3.18  | 211 | 6.51 | n   | 59.38 | 57.56      | 57.43    | 59.38    | 1017     | 1017      | 1016       | 54       | 1.08    | 801 | Clouds | few clouds  | 02n  |\n",
    "| 2 | 1680285600 | 10000      | 0   | 2023-03-31 18:00:00 | 21  | 1.72  | 78  | 2.37 | n   | 57.18 | 55.42      | 55.6     | 57.18    | 1017     | 1017      | 1015       | 60       | 0.88    | 801 | Clouds | few clouds  | 02n  |\n",
    "| 3 | 1680296400 | 10000      | 0   | 2023-03-31 21:00:00 | 4   | 3     | 58  | 4.52 | d   | 53.69 | 51.82      | 53.69    | 53.69    | 1017     | 1017      | 1015       | 65       | 0       | 800 | Clear  | clear sky   | 01d  |\n",
    "| 4 | 1680307200 | 10000      | 0   | 2023-04-01 00:00:00 | 2   | 3.69  | 50  | 4.34 | d   | 61.18 | 59.25      | 61.18    | 61.18    | 1018     | 1018      | 1016       | 48       | 0       | 800 | Clear  | clear sky   | 01d  |"
   ]
  },
  {
   "cell_type": "code",
   "execution_count": null,
   "id": "74aac6ff",
   "metadata": {},
   "outputs": [],
   "source": [
    "import weather_api import api_key\n",
    "import requests\n",
    "import json\n",
    "\n",
    "def get_forecast(lat, lon, api_key, units = 'imperial'):\n",
    "    \"\"\" get forecase based on lat, lon, api_key\n",
    "    Args: \n",
    "        lat (float): latitude\n",
    "        lon (float): longitude\n",
    "        api_key (string): api key\n",
    "        units (Str): type of units\n",
    "    \n",
    "    return:\n",
    "        df (pd.DataFrame): forecasted weather, \n",
    "                    one instant per row, \n",
    "                    one feature per col\n",
    "    \"\"\"\n",
    "\n",
    "    url = f'https://api.openweathermap.org/data/2.5/forecast?lat={lat}&lon={lon}&units={units}&appid={api_key}\n",
    "    \n",
    "    # get url as a string\n",
    "    url_text = requests.get(url).text   \n",
    "\n",
    "    # convert json to a nested dict\n",
    "    weather_dict = json.loads(url_text)\n",
    "    \n",
    "#     # convert list of dictionaries to dataframe\n",
    "#     df = pd.DataFrame(row_list)\n",
    "    \n",
    "    # process dictionary into a row\n",
    "#     d = weather_dict['list'][0]\n",
    "\n",
    "# lets convert from unix time to a datetime (easier to use)\n",
    "#     d['datetime'] = datetime.fromtimestamp(d['dt'])\n",
    "\n",
    "        # clean it up\n",
    "    row_list = list()\n",
    "    for d in weather_dict['list']:\n",
    "        \n",
    "        # lets \"flatten\" the main dictionary\n",
    "        for feat in ['clouds', 'wind', 'sys', 'main']:\n",
    "            d.update(d[feat])\n",
    "            del d[feat]\n",
    "        \n",
    "        # lets \"flatten\" weather\n",
    "        d.update(d['weather'][0])\n",
    "            del d['weather']\n",
    "        \n",
    "        # store\n",
    "        row_list.append(d)\n",
    "    \n",
    "    return pd.DataFrame(row_list)\n",
    "    \n",
    "    \n",
    "    "
   ]
  },
  {
   "cell_type": "code",
   "execution_count": null,
   "id": "3aa076be",
   "metadata": {},
   "outputs": [],
   "source": [
    "df_osaka = get_forecast(lat=34.6937, lon=135.5023, api_key=api_key)\n",
    "df_osaka"
   ]
  }
 ],
 "metadata": {
  "celltoolbar": "Slideshow",
  "kernelspec": {
   "display_name": "Python 3 (ipykernel)",
   "language": "python",
   "name": "python3"
  },
  "language_info": {
   "codemirror_mode": {
    "name": "ipython",
    "version": 3
   },
   "file_extension": ".py",
   "mimetype": "text/x-python",
   "name": "python",
   "nbconvert_exporter": "python",
   "pygments_lexer": "ipython3",
   "version": "3.9.7"
  }
 },
 "nbformat": 4,
 "nbformat_minor": 5
}
