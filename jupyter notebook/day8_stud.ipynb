{
 "cells": [
  {
   "cell_type": "markdown",
   "id": "70968230",
   "metadata": {
    "slideshow": {
     "slide_type": "slide"
    }
   },
   "source": [
    "# Lesson 8\n",
    "\n",
    "Feb 7, 2023\n",
    "\n",
    "### Topics:\n",
    "- Object Orient Programming (OOP)\n",
    "    - heavy concept day\n",
    "        - ask lots of questions\n",
    "            - I'm happy to push content to next lesson to make time for your questions\n",
    "            \n",
    "### Admin:\n"
   ]
  },
  {
   "cell_type": "markdown",
   "id": "54ae26a5",
   "metadata": {
    "slideshow": {
     "slide_type": "slide"
    }
   },
   "source": [
    "# One motivation for Object Oriented Programming (OOP):\n",
    "\n",
    "Do you know everything a car does when you step on one of these? ... me neither, but I can still use a car.\n",
    "<img src=\"https://www.statefarm.com/content/dam/sf-library/en-us/secure/legacy/simple-insights/quick-steps-to-take-if-your-gas-pedal-sticks.jpg\">\n",
    "\n",
    "- Users need only understand some interface to use an object\n",
    "- Users need not how tasks are accomplished\n",
    "\n",
    "Examples:\n",
    "- cars: we regularly drive cars without understanding all their behaviors:\n",
    "    - driving faster than 10 mph -> lock doors\n",
    "    - when wheel turning left -> turn off right blinker (after turn)\n",
    "    - collision detected -> airbag\n",
    "    - slipping applied -> relax force on brakes (ABS)\n",
    "- software: `pd.DataFrame.groupby()`\n",
    "    - we know what this function does\n",
    "    - we know what inputs the function requires and what outputs it gives\n",
    "    - we don't know precisely how this function is built ... \n",
    "        - ... didn't stop us from using it though!\n"
   ]
  },
  {
   "cell_type": "markdown",
   "id": "3007172d",
   "metadata": {
    "slideshow": {
     "slide_type": "slide"
    }
   },
   "source": [
    "# Implementation vs Interface: \n",
    "Let's define (and distinguish) the following in our software\n",
    "- interface\n",
    "    - the inputs, outputs and expected behavior of a function\n",
    "- implementation\n",
    "     - the particular operations applied to accomplish some task\n",
    "        \n",
    "For example, from Lab 2's tic-tac-toe project:\n",
    "\n",
    "### Interface\n",
    "```python\n",
    "def get_apply_input(board, player_idx, board_null=0):\n",
    "    \"\"\" gets input from user and applies their mark\n",
    "    \n",
    "    re-query if input given does not refer to a \n",
    "    position on the board currently marked as board_null\n",
    "    \n",
    "    Args:\n",
    "        board (np.array): a 3x3 tic-tac-toe board\n",
    "        player_idx (int): player whose turn is being taken\n",
    "            (either 1 or 2)\n",
    "        board_null (int): the value of open positions\n",
    "            on the board\n",
    "            \n",
    "    Returns:\n",
    "        board (np.array): a 3x3 tic-tac-toe board\n",
    "            which has recorded \n",
    "    \"\"\"\n",
    "    assert player_idx in (1, 2), 'invalid player_idx'\n",
    "```\n",
    "\n",
    "### Implementation\n",
    "``` python\n",
    "    # get input from user\n",
    "    while True:\n",
    "        row_idx, col_idx = get_position(player_idx)\n",
    "        if board[row_idx, col_idx] == board_null:\n",
    "            break\n",
    "        print('invalid input given')\n",
    "        \n",
    "    # mark board and return\n",
    "    board[row_idx, col_idx] = player_idx\n",
    "    \n",
    "    return board   \n",
    "```\n"
   ]
  },
  {
   "cell_type": "markdown",
   "id": "aa6fde41",
   "metadata": {
    "slideshow": {
     "slide_type": "slide"
    }
   },
   "source": [
    "## OOP software ...\n",
    "- hides (often irrelevant) implementation details\n",
    "- only requires a user understand its interface\n",
    "\n",
    "## This can profoundly simplify our software `:)!`\n",
    "\n",
    "Why is simple software good?\n",
    "- bugs hide in complexity ... they're easily found in a simple program\n",
    "- easier to maintain / upgrade\n",
    "- easier to share software among different programmers\n",
    "- quicker construction of complex projects\n",
    "- that satisfying feeling of boiling an idea down to its essense...\n",
    "\n",
    "###### Quick Definition Aside: Modularity / Modular Programming\n",
    "Breaking a big task into distinct \"modules\", which are only aware of each others interface is **modular programming** ... the first statement above can be summarized as \"OOP allows for modular programming\"\n"
   ]
  },
  {
   "cell_type": "markdown",
   "id": "6186b5e8",
   "metadata": {
    "slideshow": {
     "slide_type": "slide"
    }
   },
   "source": [
    "### How does OOP hide the implementation?\n",
    "\n",
    "### Procedural Programming\n",
    "\n",
    "A style of programming where information is processed in a step-by-step recipe.\n",
    "\n",
    "```python\n",
    "# find the smallest element in some tuple, replace it with 123\n",
    "some_tuple = 1, 2, 3, 4\n",
    "smallest_idx = 0\n",
    "for idx in range(1, len(some_tuple)):\n",
    "    if some_tuple[idx] < some_tuple[smallest_idx]:\n",
    "        # new smallest item is found\n",
    "        smallest_idx = idx\n",
    "some_tuple[smallest_idx] = 123\n",
    "```\n",
    "\n",
    "### Object Oriented Programming\n",
    "\n",
    "```python\n",
    "# find the smallest element in some tuple-like object, replace it with 123\n",
    "some_tuple_obj = TupleLikeObject((1, 2, 3, 4))\n",
    "some_tuple_obj.replace_smallest(123)\n",
    "```\n",
    "\n",
    "where:\n",
    "\n",
    "`replace_smallest()` is a particular function we've associated with our data\n",
    "\n",
    "### OOP achieves this simplification by \"hiding\" the implementation of `replace_smallest()` in a class definition which defines the behavior of a `TupleLikeObject`\n"
   ]
  },
  {
   "cell_type": "markdown",
   "id": "c741f95b",
   "metadata": {
    "slideshow": {
     "slide_type": "slide"
    }
   },
   "source": [
    "### Sorry for lying to you ...\n",
    "Today I'll talk about Procedural and OOP as if they're completely distinct ... this is a helpful lie as we get introduced to OOP.\n",
    "\n",
    "In practice you'll find they're opposite ends of a spectrum and are entirely compatible styles.\n"
   ]
  },
  {
   "cell_type": "markdown",
   "id": "d59281f0",
   "metadata": {
    "slideshow": {
     "slide_type": "slide"
    }
   },
   "source": [
    "# The classic OOP Example: a bank account\n",
    "\n",
    "We'll go back over the anatomy of this example later to learn the syntax of OOP **implementation**, but for now I think you'll find its **interface** is so intuitive we can use this thing before studying its construction in detail.\n"
   ]
  },
  {
   "cell_type": "code",
   "execution_count": 2,
   "id": "03b5808f",
   "metadata": {},
   "outputs": [],
   "source": [
    "class Account:\n",
    "    \"\"\" a bank account\n",
    "    \n",
    "    Attributes:\n",
    "        owner (str): owner of account\n",
    "        balance (float): how much money is in it\n",
    "        active (bool): true if account is open, false if account is closed.  \n",
    "            deposit() and withdraw() only work on active accounts\n",
    "    \"\"\"\n",
    "    \n",
    "    def __init__(self, owner, balance=0, active=True):\n",
    "        self.owner = owner\n",
    "        self.balance = balance\n",
    "        self.active = active\n",
    "        \n",
    "    def __repr__(self):\n",
    "        return f'Account(owner={self.owner}, balance={self.balance}, active={self.active})'\n",
    "        \n",
    "    def deposit(self, value):\n",
    "        \"\"\" add input value to account balance \n",
    "        \n",
    "        Args:\n",
    "            value (float): input value\n",
    "        \"\"\"\n",
    "        assert self.active, 'account is inactive'\n",
    "        self.balance = self.balance + value\n",
    "        \n",
    "    def withdraw(self, value):\n",
    "        \"\"\" withdraw value from account balance\n",
    "        \n",
    "        Args:\n",
    "            value (float): input value\n",
    "        \"\"\"\n",
    "        assert self.active, 'account is inactive'\n",
    "        \n",
    "        self.balance = self.balance - value\n",
    "        \n",
    "    def deactivate(self):\n",
    "        \"\"\" closes account, no more deposit / withdraws possible \"\"\"\n",
    "        self.active = False\n",
    "        \n",
    "    def activate(self):\n",
    "        \"\"\" activates account, deposit / withdraws possible \"\"\"\n",
    "        self.active = True    \n"
   ]
  },
  {
   "cell_type": "code",
   "execution_count": 3,
   "id": "4301d0d2",
   "metadata": {},
   "outputs": [
    {
     "data": {
      "text/plain": [
       "Account(owner=matt, balance=3, active=True)"
      ]
     },
     "execution_count": 3,
     "metadata": {},
     "output_type": "execute_result"
    }
   ],
   "source": [
    "# make a new object: matt_checking with given attributes\n",
    "matt_checking = Account(owner='matt', balance=3)\n",
    "matt_checking\n"
   ]
  },
  {
   "cell_type": "code",
   "execution_count": 4,
   "id": "c8e2722d",
   "metadata": {},
   "outputs": [
    {
     "data": {
      "text/plain": [
       "Account(owner=matt, balance=13, active=True)"
      ]
     },
     "execution_count": 4,
     "metadata": {},
     "output_type": "execute_result"
    }
   ],
   "source": [
    "# deposit 10 into object matt_checking\n",
    "matt_checking.deposit(10)\n",
    "matt_checking\n"
   ]
  },
  {
   "cell_type": "code",
   "execution_count": 5,
   "id": "8bd741fb",
   "metadata": {},
   "outputs": [
    {
     "data": {
      "text/plain": [
       "Account(owner=matt, balance=9, active=True)"
      ]
     },
     "execution_count": 5,
     "metadata": {},
     "output_type": "execute_result"
    }
   ],
   "source": [
    "# withdraw 4 from object matt_checking\n",
    "matt_checking.withdraw(4)\n",
    "matt_checking\n"
   ]
  },
  {
   "cell_type": "code",
   "execution_count": 6,
   "id": "e5312e0e",
   "metadata": {},
   "outputs": [
    {
     "data": {
      "text/plain": [
       "Account(owner=matt, balance=9, active=False)"
      ]
     },
     "execution_count": 6,
     "metadata": {},
     "output_type": "execute_result"
    }
   ],
   "source": [
    "# deactivate matt_checking \n",
    "# (notice: comment is redundant with code below ... what beautiful variable / function names!)\n",
    "matt_checking.deactivate()\n",
    "matt_checking\n"
   ]
  },
  {
   "cell_type": "code",
   "execution_count": 7,
   "id": "f35ada66",
   "metadata": {},
   "outputs": [],
   "source": [
    "# you can't make deposits if the account isn't active!\n",
    "# matt_checking.deposit(1)\n"
   ]
  },
  {
   "cell_type": "code",
   "execution_count": 8,
   "id": "7a84e926",
   "metadata": {},
   "outputs": [
    {
     "data": {
      "text/plain": [
       "9"
      ]
     },
     "execution_count": 8,
     "metadata": {},
     "output_type": "execute_result"
    }
   ],
   "source": [
    "# you can access an object's attributes directly if you'd like\n",
    "matt_checking.balance\n"
   ]
  },
  {
   "cell_type": "code",
   "execution_count": 9,
   "id": "de8c6346",
   "metadata": {},
   "outputs": [
    {
     "data": {
      "text/plain": [
       "Account(owner=matt, balance=12348, active=False)"
      ]
     },
     "execution_count": 9,
     "metadata": {},
     "output_type": "execute_result"
    }
   ],
   "source": [
    "# you can modify an object's attributes directly \n",
    "# (but you shouldn't ... allow me to explain later)\n",
    "matt_checking.balance = 12348\n",
    "matt_checking\n"
   ]
  },
  {
   "cell_type": "markdown",
   "id": "5a7c0c2d",
   "metadata": {
    "slideshow": {
     "slide_type": "slide"
    }
   },
   "source": [
    "# In Class Activity A\n",
    "\n",
    "- Build a new bank account with your own name and a starting balance of your choosing\n",
    "- Build another bank account with another name and balance\n",
    "    - any choice is fine\n",
    "- deposit 100 into your account\n",
    "- deactivate (and then reactivate) your account\n",
    "- withdraw half the balance of your account\n",
    "    - (++) can you do this programmatically ... having the computer compute half the balance of the account?\n"
   ]
  },
  {
   "cell_type": "code",
   "execution_count": 10,
   "id": "d97eaa2c",
   "metadata": {},
   "outputs": [
    {
     "data": {
      "text/plain": [
       "Account(owner=vivian, balance=2023, active=True)"
      ]
     },
     "execution_count": 10,
     "metadata": {},
     "output_type": "execute_result"
    }
   ],
   "source": [
    "# new bank account\n",
    "vivi_bank = Account(owner='vivian', balance=2023)\n",
    "vivi_bank"
   ]
  },
  {
   "cell_type": "code",
   "execution_count": 11,
   "id": "b0692e23",
   "metadata": {},
   "outputs": [
    {
     "data": {
      "text/plain": [
       "Account(owner=zach, balance=6222, active=True)"
      ]
     },
     "execution_count": 11,
     "metadata": {},
     "output_type": "execute_result"
    }
   ],
   "source": [
    "# another bank\n",
    "zach_bank = Account(owner=\"zach\", balance=6222)\n",
    "zach_bank\n"
   ]
  },
  {
   "cell_type": "code",
   "execution_count": 12,
   "id": "984e9d9c",
   "metadata": {},
   "outputs": [
    {
     "data": {
      "text/plain": [
       "Account(owner=vivian, balance=2123, active=True)"
      ]
     },
     "execution_count": 12,
     "metadata": {},
     "output_type": "execute_result"
    }
   ],
   "source": [
    "# deposit 100\n",
    "vivi_bank.deposit(100)\n",
    "vivi_bank"
   ]
  },
  {
   "cell_type": "code",
   "execution_count": 50,
   "id": "5ea47e80",
   "metadata": {},
   "outputs": [
    {
     "data": {
      "text/plain": [
       "Account(owner=vivian, balance=2123, active=False)"
      ]
     },
     "execution_count": 50,
     "metadata": {},
     "output_type": "execute_result"
    }
   ],
   "source": [
    "# deactivate\n",
    "vivi_bank.deactivate()\n",
    "vivi_bank"
   ]
  },
  {
   "cell_type": "code",
   "execution_count": 51,
   "id": "138f791e",
   "metadata": {},
   "outputs": [
    {
     "data": {
      "text/plain": [
       "Account(owner=vivian, balance=2123, active=True)"
      ]
     },
     "execution_count": 51,
     "metadata": {},
     "output_type": "execute_result"
    }
   ],
   "source": [
    "# activate\n",
    "vivi_bank.activate()\n",
    "vivi_bank"
   ]
  },
  {
   "cell_type": "code",
   "execution_count": 56,
   "id": "0ff5df06",
   "metadata": {},
   "outputs": [
    {
     "data": {
      "text/plain": [
       "Account(owner=vivian, balance=1061.5, active=True)"
      ]
     },
     "execution_count": 56,
     "metadata": {},
     "output_type": "execute_result"
    }
   ],
   "source": [
    "acct_balance = vivi_bank.balance\n",
    "vivi_bank.withdraw(acct_balance/2)\n",
    "vivi_bank"
   ]
  },
  {
   "cell_type": "code",
   "execution_count": null,
   "id": "7ab84a70",
   "metadata": {},
   "outputs": [],
   "source": [
    "# # prof's code\n",
    "# vivi_bank = account(owner=\"vivi\", balance=100)\n",
    "# vivi_bank.balance = vivi_bank.balance / 2\n",
    "# vivi_bank"
   ]
  },
  {
   "cell_type": "markdown",
   "id": "720a5533",
   "metadata": {
    "slideshow": {
     "slide_type": "slide"
    }
   },
   "source": [
    "# Procedural vs Object Oriented Programming \n",
    "\n",
    "### Procedural\n",
    "In procedural programming, one seperates:\n",
    "- **data** - the information that our programs process (nouns)\n",
    "- **functions** - the machines which accept some input data and give new output data (verbs)\n",
    "\n",
    "\n",
    "# An object is the fusion of data & the functions which use this data\n",
    "\n",
    "### Object Oriented Programming\n",
    "In OOP, we construct \"objects\", which contain both data and functions which operate with this data.\n",
    "\n",
    "- **attributes** - special name for data contained within an object\n",
    "    - e.g. the `matt_checking` object above contains attributes:\n",
    "        - `owner`\n",
    "        - `balance`\n",
    "        - `active`\n",
    "    - The **state** of an object is the set of all its attribute.\n",
    "- **methods** - special name for a function associated with object's data (attributes)\n",
    "    - e.g. any `Account` object contains methods:\n",
    "        - `Account.deposit()`\n",
    "        - `Account.withdraw()`\n",
    "        - `Account.activate()`\n",
    "        - `Account.deactivate()`\n",
    "        \n",
    "**attributes** are the things an object has while **methods** are the things an object can do\n",
    "        \n"
   ]
  },
  {
   "cell_type": "markdown",
   "id": "8463df55",
   "metadata": {
    "slideshow": {
     "slide_type": "slide"
    }
   },
   "source": [
    "### Procedural Functions vs OOP Methods:\n",
    "\n",
    "```python\n",
    "# typical procedural programming\n",
    "some_new_data = function(some_input_data)\n",
    "```\n",
    "notice: the function returns some new data\n",
    "\n",
    "```python\n",
    "# typical oop programming\n",
    "matt_checking.deposit(100)\n",
    "```\n",
    "- the method doesn't need to return any data, it has modified the `matt_checking` object's attribute `balance`.\n",
    "- though this method doesn't return anything, other methods can (see `__repr__()` above)\n"
   ]
  },
  {
   "cell_type": "markdown",
   "id": "2110073a",
   "metadata": {
    "slideshow": {
     "slide_type": "slide"
    }
   },
   "source": [
    "# Whats a Class, how is different than an object?\n",
    "\n",
    "A **Class** is a template which defines the behavior of all the objects of that type.\n",
    "- `Account` is a class\n",
    "\n",
    "An **Object** is a particular instance of a class.  (Mutiple objects may belong to a single class)\n",
    "- `matt_checking` is an instance of class `Account`\n"
   ]
  },
  {
   "cell_type": "code",
   "execution_count": 57,
   "id": "e5fd768b",
   "metadata": {},
   "outputs": [
    {
     "data": {
      "text/plain": [
       "__main__.Account"
      ]
     },
     "execution_count": 57,
     "metadata": {},
     "output_type": "execute_result"
    }
   ],
   "source": [
    "matt_checking = Account(owner='matt', balance=123)\n",
    "type(matt_checking)\n"
   ]
  },
  {
   "cell_type": "code",
   "execution_count": 58,
   "id": "2ecd68dc",
   "metadata": {},
   "outputs": [
    {
     "data": {
      "text/plain": [
       "Account(owner=zeke, balance=39875987, active=True)"
      ]
     },
     "execution_count": 58,
     "metadata": {},
     "output_type": "execute_result"
    }
   ],
   "source": [
    "# notice: we can make another object for a completely different account\n",
    "# (and calling its methods doesn't impact other accounts)\n",
    "zeke_brokerage = Account(owner='zeke', balance=39875987)\n",
    "zeke_brokerage\n"
   ]
  },
  {
   "cell_type": "code",
   "execution_count": 59,
   "id": "7ff6f7d1",
   "metadata": {},
   "outputs": [
    {
     "data": {
      "text/plain": [
       "Account(owner=matt, balance=123, active=True)"
      ]
     },
     "execution_count": 59,
     "metadata": {},
     "output_type": "execute_result"
    }
   ],
   "source": [
    "matt_checking\n"
   ]
  },
  {
   "cell_type": "markdown",
   "id": "e97fe54f",
   "metadata": {},
   "source": [
    "# Class and Type refer to the same thing\n",
    "`type()` is a function which returns the type / class of a particular object\n"
   ]
  },
  {
   "cell_type": "code",
   "execution_count": 60,
   "id": "6558d3f8",
   "metadata": {},
   "outputs": [
    {
     "data": {
      "text/plain": [
       "__main__.Account"
      ]
     },
     "execution_count": 60,
     "metadata": {},
     "output_type": "execute_result"
    }
   ],
   "source": [
    "type(matt_checking)\n"
   ]
  },
  {
   "cell_type": "markdown",
   "id": "1c67bb5b",
   "metadata": {
    "slideshow": {
     "slide_type": "-"
    }
   },
   "source": [
    "### Many of our old friend data types are objects ...\n",
    "\n",
    "`str`, `dict`, `list`, `tuple`, `int`, `float`\n",
    "\n",
    "honestly ... most things in python are objects.\n"
   ]
  },
  {
   "cell_type": "code",
   "execution_count": 61,
   "id": "1e6cdc6c",
   "metadata": {},
   "outputs": [
    {
     "data": {
      "text/plain": [
       "list"
      ]
     },
     "execution_count": 61,
     "metadata": {},
     "output_type": "execute_result"
    }
   ],
   "source": [
    "# build a new object `some_list` whose class is `list`\n",
    "some_list = list([1, 2, 3])\n",
    "type(some_list)\n"
   ]
  },
  {
   "cell_type": "code",
   "execution_count": 18,
   "id": "e0649e88",
   "metadata": {
    "scrolled": true
   },
   "outputs": [
    {
     "data": {
      "text/plain": [
       "[1, 2, 3, 100]"
      ]
     },
     "execution_count": 18,
     "metadata": {},
     "output_type": "execute_result"
    }
   ],
   "source": [
    "# notice: no return value, but modifies the internal state of some_list ... feels like OOP\n",
    "some_list.append(100)\n",
    "some_list\n"
   ]
  },
  {
   "cell_type": "markdown",
   "id": "41678114",
   "metadata": {
    "slideshow": {
     "slide_type": "slide"
    }
   },
   "source": [
    "# Thats a lot of new stuff ... lets review some core ideas:\n",
    "\n",
    "- objects contain both:\n",
    "    - data (called attributes) \n",
    "    - functions (called methods)\n",
    "\n",
    "- A class (e.g. `Account`) is a template which defines the behavior of all individual object instances (e.g. `matt_checking`)\n",
    "\n",
    "- The class definition (that big block of code we didn't study before beggining with `class Account`)\n",
    "    - defines what attributes an object has\n",
    "    - defines what methods an object has\n"
   ]
  },
  {
   "cell_type": "markdown",
   "id": "1c2409f6",
   "metadata": {
    "slideshow": {
     "slide_type": "slide"
    }
   },
   "source": [
    "# Today's big skill: Anatomy of a Class Definition\n",
    "\n",
    "Exactly how does all that syntax define the behavior of `Account` objects?\n"
   ]
  },
  {
   "cell_type": "markdown",
   "id": "fe31b2ed",
   "metadata": {
    "slideshow": {
     "slide_type": "slide"
    }
   },
   "source": [
    "## A class definition statement\n",
    "\n",
    "```python\n",
    "class Account:\n",
    "```\n",
    "\n",
    "tells python we're defining a new class.  By [convention](https://course.ccs.neu.edu/ds2500/python_style.html#class-docstrings) classes use camelcase:\n",
    "- e.g. CapitalizeFirstLetterOfEachNewWord\n",
    "    - and don't use underscores\n",
    "    \n",
    "##### Note: \n",
    "the following slides take apart the remaining pieces of the `Account` class definition:\n",
    "- all should be indented underneath this `class Account:` statement.\n"
   ]
  },
  {
   "cell_type": "markdown",
   "id": "5ef435fe",
   "metadata": {
    "slideshow": {
     "slide_type": "slide"
    }
   },
   "source": [
    "## A class docstring\n",
    "\n",
    "```python\n",
    "    \"\"\" a bank account\n",
    "    \n",
    "    Attributes:\n",
    "        owner (str): owner of account\n",
    "        balance (float): how much money is in it\n",
    "        active (bool): true if account is open,\n",
    "            false if account is closed.  closed\n",
    "            accounts much have zero balance.\n",
    "    \"\"\"\n",
    "```\n",
    "- a brief statement summarizing object\n",
    "- (optional) as many sentences as you want to include to describe object.  \n",
    "    - each method will document its own behavior, no need to do that here\n",
    "- a list of attributes and their descriptions\n",
    "    - since all methods may access attributes, we include their description right here at the top \n",
    "        - no need to repeat this throughout the class definition\n",
    "    \n"
   ]
  },
  {
   "cell_type": "markdown",
   "id": "7ebce574",
   "metadata": {
    "slideshow": {
     "slide_type": "slide"
    }
   },
   "source": [
    "## Class Methods\n",
    "\n",
    "Methods are functions which belong to a class.  Their syntax reflects this, just write functions indented under the proper class definition:\n",
    "\n",
    "```python\n",
    "    def deposit(self, value):\n",
    "        \"\"\" add input value to account balance \n",
    "        \n",
    "        Args:\n",
    "            value (float): input value\n",
    "        \"\"\"\n",
    "        assert self.active, 'account is inactive'\n",
    "        self.balance = self.balance + value\n",
    "        \n",
    "    def withdraw(self, value):\n",
    "        \"\"\" withdraw value from account balance\n",
    "        \n",
    "        Args:\n",
    "            value (float): input value\n",
    "        \"\"\"\n",
    "        assert self.active, 'account is inactive'\n",
    "        \n",
    "        self.balance = self.balance - value\n",
    "        \n",
    "    def deactivate(self):\n",
    "        \"\"\" closes account, no more deposit / withdraws possible \"\"\"\n",
    "        self.active = False\n",
    "        \n",
    "    def activate(self):\n",
    "        \"\"\" activates account, deposit / withdraws possible \"\"\"\n",
    "        self.active = True    \n",
    "```\n",
    "\n",
    "### What is `self`?\n",
    "Remember, all objects have a set of internal attributes (owner, balance, active).  The methods of an object operate on these internal attirbutes.  \n",
    "\n",
    "**To access these internal attributes the first input of all methods is `self`, attributes are accessed as `self.owner` or similar**\n",
    "\n",
    "notes: \n",
    "- because self is input to all methods ... no need to document it\n",
    "- self is always the first input to all methods \n",
    "    - python syntax rule\n",
    "- you could rename the variable \"self\" to some variable name within a method ...\n",
    "    - ... but don't\n",
    "    - python community convention\n",
    "\n",
    "### Common student error:\n",
    "We must first build a particular instance (object) of some class before we can use its methods.  \n"
   ]
  },
  {
   "cell_type": "markdown",
   "id": "6222678c",
   "metadata": {
    "slideshow": {
     "slide_type": "slide"
    }
   },
   "source": [
    "## A constructor\n",
    "\n",
    "```python\n",
    "    def __init__(self, owner, balance=0, active=True):\n",
    "        self.owner = owner\n",
    "        self.balance = balance\n",
    "        self.active = active\n",
    "```\n",
    "\n",
    "A **constructor** is the special method which builds new objects of the class (every class has a constructor).\n",
    "- to call the constructor a class, use the same of the class, not `__init__()`\n",
    "- most constructors are just storing data as a particular object's attributes (as above)\n",
    "    - for variables you're just storing, no need to document in constructor ... already given in class docstring\n"
   ]
  },
  {
   "cell_type": "code",
   "execution_count": 19,
   "id": "e98c858a",
   "metadata": {},
   "outputs": [],
   "source": [
    "# build a new account with given data\n",
    "matt_account = Account(owner='matt', balance=10)\n"
   ]
  },
  {
   "cell_type": "markdown",
   "id": "81a0932c",
   "metadata": {
    "slideshow": {
     "slide_type": "slide"
    }
   },
   "source": [
    "## `__repr__()`\n",
    "    \n",
    "```python\n",
    "    def __repr__(self):\n",
    "        return f'Account(owner={self.owner}, balance={self.balance}, active={self.active})'\n",
    "```\n",
    "\n",
    "returns a string representation of the object, used when we `print(object)`\n",
    "- By convention we use a format like the constructor interface, but any string returned is proper python syntax.   \n",
    "- some objects have so many attributes its not worth writing them all out ...\n",
    "    - e.g. consider an object with a large array attribute\n"
   ]
  },
  {
   "cell_type": "code",
   "execution_count": 20,
   "id": "10eb1f1b",
   "metadata": {},
   "outputs": [],
   "source": [
    "class ASillyClass:\n",
    "    # a class with no attributes and a silly string representation\n",
    "    def __init__(self):\n",
    "        # every class needs a constructor\n",
    "        print('hi, the constructor is running now!')\n",
    "    def __repr__(self):\n",
    "        return 'this is an awfully silly string representation of some object whose type is ASillyClass'\n"
   ]
  },
  {
   "cell_type": "code",
   "execution_count": 21,
   "id": "5b29a557",
   "metadata": {},
   "outputs": [
    {
     "name": "stdout",
     "output_type": "stream",
     "text": [
      "hi, the constructor is running now!\n"
     ]
    }
   ],
   "source": [
    "a_silly_object = ASillyClass()\n"
   ]
  },
  {
   "cell_type": "code",
   "execution_count": 22,
   "id": "712a9db9",
   "metadata": {},
   "outputs": [
    {
     "name": "stdout",
     "output_type": "stream",
     "text": [
      "this is an awfully silly string representation of some object whose type is ASillyClass\n"
     ]
    }
   ],
   "source": [
    "# __repr__() is called to represent the object, when printed\n",
    "print(a_silly_object)\n"
   ]
  },
  {
   "cell_type": "code",
   "execution_count": 23,
   "id": "c6c993f0",
   "metadata": {},
   "outputs": [
    {
     "data": {
      "text/plain": [
       "this is an awfully silly string representation of some object whose type is ASillyClass"
      ]
     },
     "execution_count": 23,
     "metadata": {},
     "output_type": "execute_result"
    }
   ],
   "source": [
    "# ... or parroted by jupyter\n",
    "a_silly_object\n"
   ]
  },
  {
   "cell_type": "markdown",
   "id": "34500c47",
   "metadata": {
    "slideshow": {
     "slide_type": "slide"
    }
   },
   "source": [
    "# In Class Activity B:\n",
    "By copy-pasting and modifying the `Account` class above, create a new class `AccountTaxable` which has the following upgrades:\n",
    "- includes a new attribute `kind` which stores a string \n",
    "    - e.g. 'checking', 'savings', 'brokerage', 'creepy-secret-offshore-unethical-kind-of-thing'\n",
    "        - you needn't ensure the input is one of these particular strings\n",
    "- the method `AccountTaxable.withdraw()` now checks to ensure there is a sufficient balance in the account before operating.  If requested withdraw amount is greater than the balance, throw an error (i.e. `assert`)\n",
    "- add a new method `AccountTaxable.tax()` which accepts a single variable `rate` which is a float betweeen 0 and 1.  \n",
    "    - The `taxed_amount` is computed as `AccountTaxable.balance * rate`.  \n",
    "    - Reduce the balance by `taxed_amount`\n",
    "    - return `taxed_amount` \n",
    "        - so the user of our object can see how much tax was assessed\n",
    "    - throw an error if account type is 'creepy-secret-offshore-unethical-kind-of-thing'\n",
    "        - how silly of our user ... we couldn't tax these kinds of accounts!\n",
    "        \n",
    "While modifying the Class `AccountTaxable`, create a few objects (i.e. `bob_checking = AccountTaxable(...)`) and call the methods modified to ensure that the behavior you're after is implemented correctly.     \n"
   ]
  },
  {
   "cell_type": "code",
   "execution_count": 78,
   "id": "3b98d8e6",
   "metadata": {},
   "outputs": [],
   "source": [
    "class AccountTaxable:\n",
    "    \"\"\" a bank account\n",
    "    \n",
    "    Attributes:\n",
    "        owner (str): owner of account\n",
    "        balance (float): how much money is in it\n",
    "        active (bool): true if account is open, false if account is closed.  \n",
    "            deposit() and withdraw() only work on active accounts\n",
    "        kind (str): describes kind of account\n",
    "    \"\"\"\n",
    "    \n",
    "    def __init__(self, owner, balance=0, active=True):\n",
    "        self.owner = owner\n",
    "        self.balance = balance\n",
    "        self.active = active\n",
    "        self.kind = kind\n",
    "        \n",
    "    def __repr__(self):\n",
    "        return f'Account(owner={self.owner}, balance={self.balance}, active={self.active})'\n",
    "        \n",
    "    def withdraw(self, value):\n",
    "        \"\"\" withdraw value from account balance\n",
    "        \n",
    "        Args:\n",
    "            value (float): input value\n",
    "        \"\"\"\n",
    "        assert self.active, 'account is inactive'\n",
    "        assert self.balance > value, 'account balance is low'\n",
    "        \n",
    "        self.balance = self.balance - value \n",
    "        \n",
    "    def kind(self):\n",
    "        '''string'''\n",
    "        print(\"checking\")\n",
    "        \n",
    "    def tax(self, rate):\n",
    "        \"\"\"return assessed tax\"\"\"\n",
    "        taxed_amount = self.balance * rate\n",
    "        self.balance = self.balance - taxed_amount\n",
    "        return self.balance\n",
    "        assert self.kind != 'creepy-secret-offshore-unethical-kind-of-thingself.active', 'Error'\n",
    "        \n",
    "\n"
   ]
  },
  {
   "cell_type": "code",
   "execution_count": 79,
   "id": "c01f3fd3",
   "metadata": {},
   "outputs": [
    {
     "data": {
      "text/plain": [
       "Account(owner=kai, balance=100, active=True)"
      ]
     },
     "execution_count": 79,
     "metadata": {},
     "output_type": "execute_result"
    }
   ],
   "source": [
    "kai_bank = AccountTaxable(owner=\"kai\", balance = 100)\n",
    "kai_bank\n"
   ]
  },
  {
   "cell_type": "code",
   "execution_count": 80,
   "id": "aee388de",
   "metadata": {},
   "outputs": [
    {
     "data": {
      "text/plain": [
       "Account(owner=kai, balance=95, active=True)"
      ]
     },
     "execution_count": 80,
     "metadata": {},
     "output_type": "execute_result"
    }
   ],
   "source": [
    "kai_bank.withdraw(5)\n",
    "kai_bank"
   ]
  },
  {
   "cell_type": "code",
   "execution_count": 81,
   "id": "50141828",
   "metadata": {},
   "outputs": [
    {
     "data": {
      "text/plain": [
       "Account(owner=kai, balance=85.5, active=True)"
      ]
     },
     "execution_count": 81,
     "metadata": {},
     "output_type": "execute_result"
    }
   ],
   "source": [
    "kai_bank.tax(.10)\n",
    "kai_bank"
   ]
  },
  {
   "cell_type": "markdown",
   "id": "11c0f655",
   "metadata": {
    "slideshow": {
     "slide_type": "slide"
    }
   },
   "source": [
    "# `is` vs `==`\n",
    "\n",
    "- `==` tests if two objects are equal\n",
    "- `is` tests if two seperate variable names refer to the very same object\n"
   ]
  },
  {
   "cell_type": "code",
   "execution_count": 24,
   "id": "58c822c6",
   "metadata": {},
   "outputs": [],
   "source": [
    "# these are two seperate lists\n",
    "list0 = [1, 2, 3]\n",
    "list1 = [1, 2, 3]\n"
   ]
  },
  {
   "cell_type": "code",
   "execution_count": 25,
   "id": "c0a591e0",
   "metadata": {},
   "outputs": [
    {
     "data": {
      "text/plain": [
       "True"
      ]
     },
     "execution_count": 25,
     "metadata": {},
     "output_type": "execute_result"
    }
   ],
   "source": [
    "# the values of the lists are equivilent\n",
    "list0 == list1\n"
   ]
  },
  {
   "cell_type": "code",
   "execution_count": 26,
   "id": "78845cc3",
   "metadata": {},
   "outputs": [
    {
     "data": {
      "text/plain": [
       "False"
      ]
     },
     "execution_count": 26,
     "metadata": {},
     "output_type": "execute_result"
    }
   ],
   "source": [
    "# but these are two seperate objects\n",
    "list0 is list1\n"
   ]
  },
  {
   "cell_type": "code",
   "execution_count": 27,
   "id": "7e9efaaa",
   "metadata": {},
   "outputs": [],
   "source": [
    "# this is one list, with two variable names\n",
    "list_a = [1, 2, 3]\n",
    "list_b = list_a\n"
   ]
  },
  {
   "cell_type": "code",
   "execution_count": 28,
   "id": "e9f8de0c",
   "metadata": {},
   "outputs": [
    {
     "data": {
      "text/plain": [
       "True"
      ]
     },
     "execution_count": 28,
     "metadata": {},
     "output_type": "execute_result"
    }
   ],
   "source": [
    "# the values of the lists are equivilent\n",
    "list_a == list_b\n"
   ]
  },
  {
   "cell_type": "code",
   "execution_count": 29,
   "id": "1eacb87d",
   "metadata": {},
   "outputs": [
    {
     "data": {
      "text/plain": [
       "True"
      ]
     },
     "execution_count": 29,
     "metadata": {},
     "output_type": "execute_result"
    }
   ],
   "source": [
    "# they refer to the same object\n",
    "list_a is list_b\n"
   ]
  },
  {
   "cell_type": "markdown",
   "id": "8c6beee6",
   "metadata": {},
   "source": [
    "# funky behavior / bug alert\n",
    "\n",
    "When we have two variable names which refer to the same object, modifying \"one\" will modify the \"other\".\n",
    "\n",
    "(We use quotes to emphasize that there is really only one object with two names, you can access it with either name)\n"
   ]
  },
  {
   "cell_type": "code",
   "execution_count": 30,
   "id": "75079370",
   "metadata": {},
   "outputs": [],
   "source": [
    "list_a.append('a new item on the end')\n"
   ]
  },
  {
   "cell_type": "code",
   "execution_count": 31,
   "id": "b6672db1",
   "metadata": {},
   "outputs": [
    {
     "data": {
      "text/plain": [
       "[1, 2, 3, 'a new item on the end']"
      ]
     },
     "execution_count": 31,
     "metadata": {},
     "output_type": "execute_result"
    }
   ],
   "source": [
    "list_b\n"
   ]
  },
  {
   "cell_type": "markdown",
   "id": "2fb68b1a",
   "metadata": {
    "slideshow": {
     "slide_type": "slide"
    }
   },
   "source": [
    "# A common (and subtle) bug: mutable default values\n",
    "\n",
    "This bug shows up for default values which are mutable (changable): list, array, dictionary\n",
    "\n",
    "Note that you're safe with default values which aren't mutable: int, float, tuple, string\n"
   ]
  },
  {
   "cell_type": "code",
   "execution_count": 32,
   "id": "c5c6d977",
   "metadata": {},
   "outputs": [],
   "source": [
    "def some_fnc(input_list=list()):\n",
    "    \"\"\" appends a few values to an list and returns it\"\"\"\n",
    "    \n",
    "    input_list.append(123)\n",
    "    input_list.append('hey!')\n",
    "    \n",
    "    return input_list\n"
   ]
  },
  {
   "cell_type": "code",
   "execution_count": 33,
   "id": "ad860ca3",
   "metadata": {},
   "outputs": [
    {
     "data": {
      "text/plain": [
       "[1, 2, 3, 123, 'hey!']"
      ]
     },
     "execution_count": 33,
     "metadata": {},
     "output_type": "execute_result"
    }
   ],
   "source": [
    "# if we pass a list into this function, it works as expected\n",
    "some_fnc([1, 2, 3])\n"
   ]
  },
  {
   "cell_type": "code",
   "execution_count": 34,
   "id": "980087f8",
   "metadata": {},
   "outputs": [
    {
     "data": {
      "text/plain": [
       "[123, 'hey!']"
      ]
     },
     "execution_count": 34,
     "metadata": {},
     "output_type": "execute_result"
    }
   ],
   "source": [
    "# if we don't pass a list, it appears to work (the first time)\n",
    "x = some_fnc()\n",
    "x\n"
   ]
  },
  {
   "cell_type": "code",
   "execution_count": 35,
   "id": "76f82208",
   "metadata": {},
   "outputs": [
    {
     "data": {
      "text/plain": [
       "[123, 'hey!', 123, 'hey!']"
      ]
     },
     "execution_count": 35,
     "metadata": {},
     "output_type": "execute_result"
    }
   ],
   "source": [
    "# but what happened the second time?\n",
    "y = some_fnc()\n",
    "y\n"
   ]
  },
  {
   "cell_type": "code",
   "execution_count": 36,
   "id": "2c0278e3",
   "metadata": {},
   "outputs": [
    {
     "data": {
      "text/plain": [
       "[123, 'hey!', 123, 'hey!']"
      ]
     },
     "execution_count": 36,
     "metadata": {},
     "output_type": "execute_result"
    }
   ],
   "source": [
    "# and how come that function call immediately above modified x?\n",
    "x\n"
   ]
  },
  {
   "cell_type": "code",
   "execution_count": 37,
   "id": "0c1ee2a5",
   "metadata": {},
   "outputs": [
    {
     "data": {
      "text/plain": [
       "True"
      ]
     },
     "execution_count": 37,
     "metadata": {},
     "output_type": "execute_result"
    }
   ],
   "source": [
    "# because x and y are the same ...\n",
    "x is y\n"
   ]
  },
  {
   "cell_type": "markdown",
   "id": "f08ed41d",
   "metadata": {},
   "source": [
    "There is one (and only one) default input list ... even if we assign it multiple variable names (see `list_a` / `list_b` example above).  Whenever we modify this default list it changes the default in all future runs!\n",
    "\n",
    "### Convention to avoid this trouble:\n",
    "If your default value is mutable (an object whose attributes can be changed), don't set it in the function header statement like this:\n",
    "\n",
    "```python\n",
    "def some_fnc(input_list=list()):\n",
    "```\n",
    "\n",
    "instead, let us use a 1 as a \"placeholder\" value\n",
    "\n",
    "```python\n",
    "def some_fnc(input_list=1):\n",
    "```\n",
    "\n",
    "if input_list equals this 1, then we'll build a fresh copy of the default empty list with every call to the function:\n"
   ]
  },
  {
   "cell_type": "code",
   "execution_count": 38,
   "id": "fa2cc348",
   "metadata": {},
   "outputs": [],
   "source": [
    "def some_fnc_improved(input_list=1):\n",
    "    \"\"\" appends a few values to an list and returns it\n",
    "    \"\"\"\n",
    "    \n",
    "    if input_list == 1:\n",
    "        # we built a new list for default value with every function run\n",
    "        input_list = list()\n",
    "        \n",
    "    input_list.append(123)\n",
    "    input_list.append('hey!')\n",
    "    \n",
    "    return input_list\n"
   ]
  },
  {
   "cell_type": "code",
   "execution_count": 39,
   "id": "0df2146a",
   "metadata": {},
   "outputs": [
    {
     "data": {
      "text/plain": [
       "[1, 2, 3, 123, 'hey!']"
      ]
     },
     "execution_count": 39,
     "metadata": {},
     "output_type": "execute_result"
    }
   ],
   "source": [
    "# works if you pass a list\n",
    "some_fnc_improved([1, 2, 3])\n"
   ]
  },
  {
   "cell_type": "code",
   "execution_count": 40,
   "id": "fb77711c",
   "metadata": {},
   "outputs": [],
   "source": [
    "# works first time\n",
    "x = some_fnc_improved()\n"
   ]
  },
  {
   "cell_type": "code",
   "execution_count": 41,
   "id": "946cae32",
   "metadata": {},
   "outputs": [
    {
     "data": {
      "text/plain": [
       "[123, 'hey!']"
      ]
     },
     "execution_count": 41,
     "metadata": {},
     "output_type": "execute_result"
    }
   ],
   "source": [
    "# works a second time (an improvement!)\n",
    "y = some_fnc_improved()\n",
    "y\n"
   ]
  },
  {
   "cell_type": "code",
   "execution_count": 42,
   "id": "8eb0871d",
   "metadata": {},
   "outputs": [
    {
     "data": {
      "text/plain": [
       "False"
      ]
     },
     "execution_count": 42,
     "metadata": {},
     "output_type": "execute_result"
    }
   ],
   "source": [
    "# a different default value is made with each run: problem solved!\n",
    "x is y\n"
   ]
  },
  {
   "cell_type": "markdown",
   "id": "14c05ef9",
   "metadata": {},
   "source": [
    "# Problem!\n",
    "\n",
    "Is it safe to use 1 as a placeholder like this in all cases?  \n",
    "\n",
    "What if 1 is a valid input to the function ... how will we distinguish between the placeholder 1 and the valid input 1?\n",
    "\n",
    "... using the value 1 as a placeholder isn't such a good idea.\n"
   ]
  },
  {
   "cell_type": "markdown",
   "id": "46394e9b",
   "metadata": {
    "slideshow": {
     "slide_type": "slide"
    }
   },
   "source": [
    "# `None`\n",
    "\n",
    "`None` is a special python object.  Its used as a placeholder to indicate the absence of data.\n",
    "\n",
    "(None is similar in spirit to `np.nan`, though nan is used to represent the absence of a number, `None` is used to represent the absence of any input)\n"
   ]
  },
  {
   "cell_type": "code",
   "execution_count": 43,
   "id": "9f479565",
   "metadata": {},
   "outputs": [
    {
     "name": "stdout",
     "output_type": "stream",
     "text": [
      "None\n"
     ]
    }
   ],
   "source": [
    "# printing None shows 'None'\n",
    "print(None)\n"
   ]
  },
  {
   "cell_type": "code",
   "execution_count": 44,
   "id": "113c94c4",
   "metadata": {},
   "outputs": [],
   "source": [
    "# jupyter parroting None doesn't show anything though\n",
    "None\n"
   ]
  },
  {
   "cell_type": "code",
   "execution_count": 45,
   "id": "d6ece5a4",
   "metadata": {},
   "outputs": [
    {
     "name": "stdout",
     "output_type": "stream",
     "text": [
      "this function didnt return anything\n"
     ]
    }
   ],
   "source": [
    "# we see None show up when we set a variable equal to a function which doesn't return anything\n",
    "def some_fnc_no_return():\n",
    "    print('this function didnt return anything')\n",
    "    \n",
    "x = some_fnc_no_return()\n"
   ]
  },
  {
   "cell_type": "code",
   "execution_count": 46,
   "id": "7d384264",
   "metadata": {},
   "outputs": [
    {
     "data": {
      "text/plain": [
       "True"
      ]
     },
     "execution_count": 46,
     "metadata": {},
     "output_type": "execute_result"
    }
   ],
   "source": [
    "x == None\n"
   ]
  },
  {
   "cell_type": "markdown",
   "id": "fd812283",
   "metadata": {
    "slideshow": {
     "slide_type": "slide"
    }
   },
   "source": [
    "# Using `None` as a placeholder for the default value:\n",
    "\n",
    "(don't use values which might ever be legitimate inputs as placeholders, we just used 1 earlier for exposition)\n"
   ]
  },
  {
   "cell_type": "code",
   "execution_count": 47,
   "id": "698f7da7",
   "metadata": {},
   "outputs": [],
   "source": [
    "def some_fnc_improved(input_list=None):\n",
    "    \"\"\" appends a few values to an list and returns it\n",
    "    \"\"\"\n",
    "    \n",
    "    if input_list == None:\n",
    "        # we built a new list for default value with every function run\n",
    "        input_list = list()\n",
    "        \n",
    "    input_list.append(123)\n",
    "    input_list.append('hey!')\n",
    "    \n",
    "    return input_list\n"
   ]
  },
  {
   "cell_type": "markdown",
   "id": "b6d6838a",
   "metadata": {
    "slideshow": {
     "slide_type": "slide"
    }
   },
   "source": [
    "# In Class Activity C (if time)\n",
    "\n",
    "Build an `AccountSimple` class which is a bank account class having attributes:\n",
    "- owner (str)\n",
    "- balance (float)\n",
    "- heir_list (list of strings)\n",
    "    - default to empty list\n",
    "        - feels like a potential bug we've seen recently ...\n",
    "        \n",
    "Your `AccountSimple` should have methods:\n",
    "- `AccountSimple.__init__()`\n",
    "- (++)`AccountSimple.give_to_heirs()`\n",
    "    - the accounts balance is evenly distributed to all heirs\n",
    "        - account balance should be 0 after running this method\n",
    "    - returns a list of `AccountSimple` objects for each heir\n",
    "        - heir accounts created with proper owner & balance\n",
    "            - each heir account should be built with default `heir_list`\n"
   ]
  },
  {
   "cell_type": "code",
   "execution_count": 48,
   "id": "5ba4e2ff",
   "metadata": {},
   "outputs": [
    {
     "ename": "NameError",
     "evalue": "name 'account_a' is not defined",
     "output_type": "error",
     "traceback": [
      "\u001b[0;31m---------------------------------------------------------------------------\u001b[0m",
      "\u001b[0;31mNameError\u001b[0m                                 Traceback (most recent call last)",
      "\u001b[0;32m/var/folders/9m/1hg1hctj5s94qtlnx8n6561h0000gn/T/ipykernel_4910/3941847731.py\u001b[0m in \u001b[0;36m<module>\u001b[0;34m\u001b[0m\n\u001b[0;32m----> 1\u001b[0;31m \u001b[0mheir_acct_list\u001b[0m \u001b[0;34m=\u001b[0m \u001b[0maccount_a\u001b[0m\u001b[0;34m.\u001b[0m\u001b[0mgive_to_heirs\u001b[0m\u001b[0;34m(\u001b[0m\u001b[0;34m)\u001b[0m\u001b[0;34m\u001b[0m\u001b[0;34m\u001b[0m\u001b[0m\n\u001b[0m\u001b[1;32m      2\u001b[0m \u001b[0mheir_acct_list\u001b[0m\u001b[0;34m\u001b[0m\u001b[0;34m\u001b[0m\u001b[0m\n",
      "\u001b[0;31mNameError\u001b[0m: name 'account_a' is not defined"
     ]
    }
   ],
   "source": [
    "heir_acct_list = account_a.give_to_heirs()\n",
    "heir_acct_list\n"
   ]
  },
  {
   "cell_type": "code",
   "execution_count": null,
   "id": "14fd2ee6",
   "metadata": {},
   "outputs": [],
   "source": [
    "account_a\n"
   ]
  }
 ],
 "metadata": {
  "celltoolbar": "Slideshow",
  "kernelspec": {
   "display_name": "Python 3 (ipykernel)",
   "language": "python",
   "name": "python3"
  },
  "language_info": {
   "codemirror_mode": {
    "name": "ipython",
    "version": 3
   },
   "file_extension": ".py",
   "mimetype": "text/x-python",
   "name": "python",
   "nbconvert_exporter": "python",
   "pygments_lexer": "ipython3",
   "version": "3.9.7"
  }
 },
 "nbformat": 4,
 "nbformat_minor": 5
}
