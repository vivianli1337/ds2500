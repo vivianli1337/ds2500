{
 "cells": [
  {
   "cell_type": "markdown",
   "id": "39e41d4a",
   "metadata": {
    "slideshow": {
     "slide_type": "slide"
    }
   },
   "source": [
    "# DS2500 Lesson 2\n",
    "Jan 17, 2023\n",
    "\n",
    "Content:\n",
    "- Slicing a list/tuple\n",
    "- Functions\n",
    "- Assert\n",
    "    - input validation & test cases\n"
   ]
  },
  {
   "cell_type": "markdown",
   "id": "6171b09f",
   "metadata": {
    "slideshow": {
     "slide_type": "slide"
    }
   },
   "source": [
    "## Slicing a list (part 1)\n",
    "A slice refers to a \"contiguous\" run of items in a list.  Slicing returns these elements from the list.\n",
    "\n",
    "![](https://i.ibb.co/JK1VHpy/list1.png)\n",
    "\n",
    "### notes: #\n",
    "- sequence of numbers that are ajacent \n",
    "- slicing means to return specific elements\n",
    "- c[0] starts first position\n",
    "- when it is c[1:4]\n",
    "    - it includes the starting index but excluding the ending index\n",
    "    - counts the second position c[1] and stops at the fourth postion c[3]"
   ]
  },
  {
   "cell_type": "code",
   "execution_count": null,
   "id": "3a84f6f4",
   "metadata": {},
   "outputs": [],
   "source": [
    "# lets build the example above\n",
    "c = [-45, 6, 0, 72, 1543]\n",
    "c\n"
   ]
  },
  {
   "cell_type": "code",
   "execution_count": null,
   "id": "5f446ff2",
   "metadata": {},
   "outputs": [],
   "source": [
    "# the first index is the starting index (included in slice)\n",
    "# the second index is the ending index (not included in slice)\n",
    "c[1:1 + 3]\n"
   ]
  },
  {
   "cell_type": "code",
   "execution_count": null,
   "id": "5e047171",
   "metadata": {},
   "outputs": [],
   "source": [
    "# by default, if we exclude the starting index it is assumed to be 0\n",
    "c[:2]\n"
   ]
  },
  {
   "cell_type": "code",
   "execution_count": null,
   "id": "06dee335",
   "metadata": {},
   "outputs": [],
   "source": [
    "# by default, if we exclude the ending index it is assumed the length of the list\n",
    "c[2:]\n"
   ]
  },
  {
   "cell_type": "markdown",
   "id": "55c8f566",
   "metadata": {
    "slideshow": {
     "slide_type": "slide"
    }
   },
   "source": [
    "## Slicing a list (part 2)\n"
   ]
  },
  {
   "cell_type": "markdown",
   "id": "b1189659",
   "metadata": {
    "slideshow": {
     "slide_type": "-"
    }
   },
   "source": [
    "Negative indices are helpful if we want to start counting from the \"end\" of a list:\n",
    "\n",
    "![](https://i.ibb.co/RGF8sPW/list2.png)\n",
    "\n",
    "\n",
    "### notes: #\n",
    "- negative indices count backwards\n",
    "- c[-1] is the last position\n",
    "- will only be moving left to right"
   ]
  },
  {
   "cell_type": "code",
   "execution_count": null,
   "id": "79962040",
   "metadata": {},
   "outputs": [],
   "source": [
    "c = [-45, 6, 0, 72, 1543]\n"
   ]
  },
  {
   "cell_type": "code",
   "execution_count": null,
   "id": "126d4a9b",
   "metadata": {},
   "outputs": [],
   "source": [
    "# just the same as c[3:5]\n",
    "c[-2:]\n"
   ]
  },
  {
   "cell_type": "code",
   "execution_count": null,
   "id": "0582602d",
   "metadata": {},
   "outputs": [],
   "source": [
    "# this backwards counting & default ending index make for an elegant way to get the last n elements of a list\n",
    "c[-3:]\n"
   ]
  },
  {
   "cell_type": "markdown",
   "id": "8274c8ff",
   "metadata": {},
   "source": [
    "### Skip counting in a slice (1, 3, 5, 7, ...)\n",
    "\n",
    "We might be interested in skipping through the list by some constant index (skipping by 2 gets every other index, for example)\n",
    "\n",
    "### notes: #\n",
    "- the skipping step is added after the first and last indices\n"
   ]
  },
  {
   "cell_type": "code",
   "execution_count": null,
   "id": "154f0f04",
   "metadata": {},
   "outputs": [],
   "source": [
    "c = [-45, 6, 0, 72, 1543]\n",
    "c\n"
   ]
  },
  {
   "cell_type": "code",
   "execution_count": null,
   "id": "b2fb0b3c",
   "metadata": {},
   "outputs": [],
   "source": [
    "# some_list[start_idx: stop_idx: step_size]\n",
    "# starting idx: 0, ending idx: 5, step size: 2\n",
    "c[0:5:2]\n"
   ]
  },
  {
   "cell_type": "code",
   "execution_count": null,
   "id": "74a8ddf6",
   "metadata": {},
   "outputs": [],
   "source": [
    "# same as above but now we use defaults\n",
    "c[::2]\n"
   ]
  },
  {
   "cell_type": "code",
   "execution_count": null,
   "id": "d02f91de",
   "metadata": {},
   "outputs": [],
   "source": [
    "# grab all the odd indexed elements\n",
    "c[1::2]\n"
   ]
  },
  {
   "cell_type": "code",
   "execution_count": null,
   "id": "b1688c2e",
   "metadata": {},
   "outputs": [],
   "source": [
    "c\n"
   ]
  },
  {
   "cell_type": "code",
   "execution_count": null,
   "id": "bdeeb9a5",
   "metadata": {},
   "outputs": [],
   "source": [
    "# we can even take negative steps if we want to\n",
    "c[5:0:-1]\n"
   ]
  },
  {
   "cell_type": "code",
   "execution_count": null,
   "id": "bd0912ff",
   "metadata": {},
   "outputs": [],
   "source": [
    "# reverses list order\n",
    "c[::-1]\n"
   ]
  },
  {
   "cell_type": "markdown",
   "id": "464e6f1c",
   "metadata": {},
   "source": [
    "### Good to know:\n",
    "\n",
    "This slice syntax is common among many python data types:\n",
    "- tuples / lists / strings\n",
    "- pandas dataframes (like a table of data)\n",
    "- numpy arrays\n",
    "\n",
    "*cannot jump through list without patterns*\n"
   ]
  },
  {
   "cell_type": "markdown",
   "id": "079c3ab7",
   "metadata": {
    "slideshow": {
     "slide_type": "slide"
    }
   },
   "source": [
    "# In Class Assignment A\n",
    " \n",
    "Slice the string `ascii_letters` below to:\n",
    "- produce the 10th through the 15th letters of the alphabet (lowercase).  please include the 15th letter of hte alphabet in your output\n",
    "- produce all \"odd\" indexed characters ('bdfh...')\n",
    "- produce the first 3 letters\n",
    "- produce the last 10 letters\n",
    "- reverse the order of the string\n"
   ]
  },
  {
   "cell_type": "code",
   "execution_count": null,
   "id": "e4c7f106",
   "metadata": {},
   "outputs": [],
   "source": [
    "# import ascii_letters from string\n",
    "from string import ascii_letters\n",
    "\n",
    "# assign ascii_letters to a variable\n",
    "s = ascii_letters\n",
    "s"
   ]
  },
  {
   "cell_type": "code",
   "execution_count": null,
   "id": "8bc5aa95",
   "metadata": {},
   "outputs": [],
   "source": [
    "# produce 10th to 15th letters (lowercase) including the 15th letter\n",
    "s[9:15]"
   ]
  },
  {
   "cell_type": "code",
   "execution_count": null,
   "id": "3eaddd0a",
   "metadata": {},
   "outputs": [],
   "source": [
    "# produce all the \"odd\" indexed characters ('bdfh')\n",
    "s[1::2]"
   ]
  },
  {
   "cell_type": "code",
   "execution_count": null,
   "id": "62fc58cc",
   "metadata": {
    "scrolled": true
   },
   "outputs": [],
   "source": [
    "# produce the first 3 letters in ascii_letters\n",
    "s[:3]"
   ]
  },
  {
   "cell_type": "code",
   "execution_count": null,
   "id": "ca2d7fc6",
   "metadata": {},
   "outputs": [],
   "source": [
    "# produce the last 10 letters\n",
    "s[-10:]"
   ]
  },
  {
   "cell_type": "code",
   "execution_count": null,
   "id": "04b7180b",
   "metadata": {},
   "outputs": [],
   "source": [
    "# reverse order of the string using -1 skip step\n",
    "s[::-1]"
   ]
  },
  {
   "cell_type": "markdown",
   "id": "db2fc422",
   "metadata": {
    "slideshow": {
     "slide_type": "slide"
    }
   },
   "source": [
    "## Functions\n",
    "\n",
    "* defining and calling functions\n",
    "* functions with multiple inputs\n",
    "* functions with multiple outputs (tuple unpacking to the rescue!)\n",
    "* default parameter values\n"
   ]
  },
  {
   "cell_type": "code",
   "execution_count": null,
   "id": "24dac786",
   "metadata": {},
   "outputs": [],
   "source": [
    "def square(number):\n",
    "    \"\"\" squares a number\n",
    "    \n",
    "    Args:\n",
    "        number (float): input number\n",
    "        \n",
    "    Returns:\n",
    "        sq (float): square of input\n",
    "    \"\"\"\n",
    "    sq = number ** 2\n",
    "    return sq\n"
   ]
  },
  {
   "cell_type": "code",
   "execution_count": null,
   "id": "afe8ee45",
   "metadata": {},
   "outputs": [],
   "source": [
    "square(10)\n"
   ]
  },
  {
   "cell_type": "markdown",
   "id": "355bf36b",
   "metadata": {
    "slideshow": {
     "slide_type": "slide"
    }
   },
   "source": [
    "## Anatomy of a Function\n",
    "\n",
    "1. function definition: \n",
    "```python\n",
    "def square(number):\n",
    "```\n",
    "    - `def` is python keyword to say \"this next block is a function\"\n",
    "    - `square` is the name of the function:\n",
    "        - convention: lowercase w/ underscores\n",
    "    - `number` is input to function\n",
    "2. function documentation string (docstring):\n",
    "    ```python\n",
    "    \"\"\" squares a number\n",
    "\n",
    "    Args:\n",
    "        number (float): input number\n",
    "\n",
    "    Returns:\n",
    "        sq (float): square of input\n",
    "    \"\"\"\n",
    "    ```\n",
    "3. \"guts\" of function:\n",
    "    ```python\n",
    "    sq = number ** 2\n",
    "    ```\n",
    "    - notice: `number` corresponds to user's input\n",
    "    - make sure that the return variable and guts variable are different from the function name to prevent any mistakes\n",
    "4. return statement\n",
    "    ```python\n",
    "    return sq\n",
    "    ```\n",
    "    - in effect: the function call `square(10)` will be replaced with `sq`\n"
   ]
  },
  {
   "cell_type": "markdown",
   "id": "d4acc42b",
   "metadata": {},
   "source": [
    "### Multiple Inputs to Fnc\n",
    "- passing by order\n",
    "- passing by keyword\n",
    "- default inputs\n",
    "- passing by order & keyword\n"
   ]
  },
  {
   "cell_type": "code",
   "execution_count": null,
   "id": "b9af7635",
   "metadata": {},
   "outputs": [],
   "source": [
    "def raise_to_power(a, b=2):\n",
    "    \"\"\" compute a to the b power\n",
    "    \n",
    "    Args:\n",
    "        a (float): base\n",
    "        b (float): exponent\n",
    "        \n",
    "    Returns:\n",
    "        out (float): a to the b-th power\n",
    "    \"\"\"\n",
    "    return a ** b\n"
   ]
  },
  {
   "cell_type": "code",
   "execution_count": null,
   "id": "4abe9fed",
   "metadata": {},
   "outputs": [],
   "source": [
    "# notice: the arguments (inputs) are distinguished by the order they're passed in\n",
    "raise_to_power(2, 10)\n"
   ]
  },
  {
   "cell_type": "code",
   "execution_count": null,
   "id": "a0a1445c",
   "metadata": {},
   "outputs": [],
   "source": [
    "# passing arguments by keyword\n",
    "raise_to_power(a=2, b=10)\n"
   ]
  },
  {
   "cell_type": "code",
   "execution_count": null,
   "id": "b42663f4",
   "metadata": {},
   "outputs": [],
   "source": [
    "raise_to_power(b=10, a=2)\n"
   ]
  },
  {
   "cell_type": "code",
   "execution_count": null,
   "id": "79302838",
   "metadata": {},
   "outputs": [],
   "source": [
    "# passing by order & keyword (all ordered args before keyword args)\n",
    "raise_to_power(4, b=3)\n"
   ]
  },
  {
   "cell_type": "code",
   "execution_count": null,
   "id": "4c394c42",
   "metadata": {},
   "outputs": [],
   "source": [
    "# using default param\n",
    "raise_to_power(a=7)\n"
   ]
  },
  {
   "cell_type": "markdown",
   "id": "24c0a3d6",
   "metadata": {
    "slideshow": {
     "slide_type": "slide"
    }
   },
   "source": [
    "### Multiple Outputs From Fnc\n",
    "- tuple unpacking allows for multiple outputs\n"
   ]
  },
  {
   "cell_type": "code",
   "execution_count": null,
   "id": "6c5c7160",
   "metadata": {},
   "outputs": [],
   "source": [
    "# make a tuple\n",
    "some_tuple = ('a', 1, 3.14)\n",
    "some_tuple\n"
   ]
  },
  {
   "cell_type": "code",
   "execution_count": null,
   "id": "0dba82a8",
   "metadata": {},
   "outputs": [],
   "source": [
    "# tuple unpacking: break a tuple into its component variables\n",
    "item0, item1, item2 = some_tuple\n",
    "item2\n"
   ]
  },
  {
   "cell_type": "code",
   "execution_count": null,
   "id": "cd3f9fe5",
   "metadata": {},
   "outputs": [],
   "source": [
    "def get_multiple(x):\n",
    "    \"\"\" computes first few multiples of x\n",
    "    \n",
    "    Args:\n",
    "        x (float): input number\n",
    "        \n",
    "    Returns:\n",
    "        mult1 (float): x\n",
    "        mult2 (float): 2x\n",
    "        mult3 (float): 3x\n",
    "    \"\"\"\n",
    "    mult1 = x\n",
    "    mult2 = x * 2\n",
    "    mult3 = x * 3\n",
    "    \n",
    "    return mult1, mult2, mult3\n"
   ]
  },
  {
   "cell_type": "code",
   "execution_count": null,
   "id": "14cffe9d",
   "metadata": {},
   "outputs": [],
   "source": [
    "# supports returning multiple values\n",
    "mult1, mult2, mult3 = get_multiple(100)\n"
   ]
  },
  {
   "cell_type": "code",
   "execution_count": null,
   "id": "7efed177",
   "metadata": {},
   "outputs": [],
   "source": [
    "mult3\n"
   ]
  },
  {
   "cell_type": "code",
   "execution_count": null,
   "id": "64b20af6",
   "metadata": {},
   "outputs": [],
   "source": [
    "# you can also store all outputs as the tuple (if you wanted)\n",
    "tuple_out = get_multiple(3)\n",
    "tuple_out\n"
   ]
  },
  {
   "cell_type": "markdown",
   "id": "65fc1a46",
   "metadata": {
    "slideshow": {
     "slide_type": "slide"
    }
   },
   "source": [
    "# When should I make a function? (what are they good for?)\n",
    "\n",
    "Use a function to:\n",
    "1. avoid repeating code which is necessary in more than one place\n",
    "2. encapsulate some part of your program with a particular job\n",
    "    - its easier to understand / debug a program broken down into pieces than as a whole\n",
    "    \n",
    "A guideline:\n",
    "- using a function in your program should be simpler than not using a function\n",
    "    - note: we have some overly simple functions in class notes for pedagogical reasons ... don't mimic this\n"
   ]
  },
  {
   "cell_type": "markdown",
   "id": "e9272559",
   "metadata": {
    "slideshow": {
     "slide_type": "slide"
    }
   },
   "source": [
    "# Assert\n",
    "\n",
    "`assert` evaluates some boolean\n",
    "- if True does nothing\n",
    "    - \"passing the assert\"\n",
    "- if False, immediately stops your program with an `AssertionError`\n",
    "    - \"failing the assert\"\n"
   ]
  },
  {
   "cell_type": "code",
   "execution_count": null,
   "id": "ed7c40e2",
   "metadata": {},
   "outputs": [],
   "source": [
    "assert 3 == 3\n"
   ]
  },
  {
   "cell_type": "code",
   "execution_count": null,
   "id": "ebaa6f58",
   "metadata": {},
   "outputs": [],
   "source": [
    "assert 3 == 5\n"
   ]
  },
  {
   "cell_type": "code",
   "execution_count": null,
   "id": "38716115",
   "metadata": {},
   "outputs": [],
   "source": [
    "# assert also accepts a string, which is shared if assert fails\n",
    "assert 3 == 5, 'testing 3 equals 5'\n"
   ]
  },
  {
   "cell_type": "markdown",
   "id": "70942ca1",
   "metadata": {
    "slideshow": {
     "slide_type": "slide"
    }
   },
   "source": [
    "# Whats an `assert` good for?\n",
    "- validating function inputs\n",
    "- testing functions\n",
    "\n",
    "(there are other uses too ... but we focus on these two)\n"
   ]
  },
  {
   "cell_type": "markdown",
   "id": "c28873cf",
   "metadata": {
    "slideshow": {
     "slide_type": "slide"
    }
   },
   "source": [
    "## `assert` to validate function inputs (part 1)\n",
    "\n",
    "By checking that the inputs to our function are appropriate, we can warn a programmer with a clear error message.\n"
   ]
  },
  {
   "cell_type": "code",
   "execution_count": null,
   "id": "d2d22b7a",
   "metadata": {},
   "outputs": [],
   "source": [
    "def triple_dangerous(x):\n",
    "    \"\"\" scales a number (supposedly)\n",
    "    \n",
    "    Args:\n",
    "        x (float): input number (supposedly)\n",
    "        \n",
    "    Return:\n",
    "        scaled_x (float): scale * x\n",
    "    \"\"\"\n",
    "    return 3 * x\n"
   ]
  },
  {
   "cell_type": "code",
   "execution_count": null,
   "id": "3c1f2a46",
   "metadata": {},
   "outputs": [],
   "source": [
    "# seems ok to me ...\n",
    "triple_dangerous(5)\n"
   ]
  },
  {
   "cell_type": "code",
   "execution_count": null,
   "id": "78b9cd1f",
   "metadata": {},
   "outputs": [],
   "source": [
    "# what happened?!?!1\n",
    "triple_dangerous('is this an appropriate input? ')\n"
   ]
  },
  {
   "cell_type": "code",
   "execution_count": null,
   "id": "59639443",
   "metadata": {},
   "outputs": [],
   "source": [
    "# oh yeah... strings * integers just repeates the string\n",
    "'asdf' * 3\n"
   ]
  },
  {
   "cell_type": "markdown",
   "id": "a825c631",
   "metadata": {},
   "source": [
    "The output of `triple_dangerous()` should be a number, but its a string!  The string will head off to some other part of our program and break it ... and we'll have to trace the problem back here.  \n",
    "\n"
   ]
  },
  {
   "cell_type": "markdown",
   "id": "51208d9a",
   "metadata": {
    "slideshow": {
     "slide_type": "slide"
    }
   },
   "source": [
    "## `assert` to validate function inputs  (part 2)\n"
   ]
  },
  {
   "cell_type": "code",
   "execution_count": null,
   "id": "5fe853b7",
   "metadata": {},
   "outputs": [],
   "source": [
    "def triple_safe(x):\n",
    "    \"\"\" scales a number (supposedly)\n",
    "    \n",
    "    Args:\n",
    "        x (float): input number (supposedly)\n",
    "        \n",
    "    Return:\n",
    "        scaled_x (float): scale * x\n",
    "    \"\"\"\n",
    "    # check that x is a number\n",
    "    assert type(x) == int or type(x) == float, 'int or float required'\n",
    "    \n",
    "    return 3 * x\n"
   ]
  },
  {
   "cell_type": "code",
   "execution_count": null,
   "id": "5d186968",
   "metadata": {
    "scrolled": false
   },
   "outputs": [],
   "source": [
    "# its nice that this breaks in a way which is easy to understand now, right?\n",
    "triple_safe('Im not sure a string is an appropriate input to this function ...')\n"
   ]
  },
  {
   "cell_type": "markdown",
   "id": "9d9e6d7d",
   "metadata": {
    "slideshow": {
     "slide_type": "slide"
    }
   },
   "source": [
    "# When should I validate inputs to my function?\n",
    "\n",
    "Doing it all the time is rather cumbersome ... though not doing it at all is dangerous.\n",
    "\n",
    "Validate inputs which:\n",
    "- might commonly be misunderstood\n",
    "- would cause \"silent\" errors\n",
    "    - the function returns something inappropriate without warning user\n",
    "- its very important that your function works as intended\n",
    "    - is your software for an ICA or a pacemaker?\n"
   ]
  },
  {
   "cell_type": "markdown",
   "id": "405f1d61",
   "metadata": {
    "slideshow": {
     "slide_type": "slide"
    }
   },
   "source": [
    "## Test Cases: `assert` to test a function behavior (part 1)\n",
    "\n",
    "Does the function above work?  Until we test it, we shouldn't be so sure ...\n"
   ]
  },
  {
   "cell_type": "code",
   "execution_count": null,
   "id": "ee7f564c",
   "metadata": {},
   "outputs": [],
   "source": [
    "def alpha_sort_list(list_in):\n",
    "    \"\"\" sorts a list, alphabetically (regardless of case)\n",
    "    \n",
    "    Args:\n",
    "        list_in (list): list of strings\n",
    "        \n",
    "    Return:\n",
    "        list_out (list): list of strings, alpha sorted\n",
    "    \"\"\"\n",
    "    \n",
    "    return sorted(list_in)\n"
   ]
  },
  {
   "cell_type": "markdown",
   "id": "6e4f98d1",
   "metadata": {},
   "source": [
    "A **test case** is a set of inputs and outputs to a function with our intended behavior:\n",
    "\n",
    "case0:\n",
    "- input: `list_in=['Bruno', 'Callum', 'Eliana']`\n",
    "- expected output: `['Bruno', 'Callum', 'Eliana']`\n",
    "\n",
    "case1:\n",
    "- input: `list_in=['Bruno', 'callum', 'Eliana']`\n",
    "- expected output: `['Bruno', 'callum', 'Eliana']`\n"
   ]
  },
  {
   "cell_type": "code",
   "execution_count": null,
   "id": "2a6ee39f",
   "metadata": {},
   "outputs": [],
   "source": [
    "# test case0: works\n",
    "alpha_sort_list(list_in=['Bruno', 'Callum', 'Eliana'])\n"
   ]
  },
  {
   "cell_type": "code",
   "execution_count": null,
   "id": "4590ad0e",
   "metadata": {},
   "outputs": [],
   "source": [
    "# test case1: doesn't work!\n",
    "alpha_sort_list(list_in=['Bruno', 'callum', 'Eliana'])\n"
   ]
  },
  {
   "cell_type": "code",
   "execution_count": null,
   "id": "cffbff60",
   "metadata": {},
   "outputs": [],
   "source": [
    "# why doesn't test case 1 work?  capitalization matters with string comparisons\n",
    "'E' < 'c'\n"
   ]
  },
  {
   "cell_type": "markdown",
   "id": "25cd8c02",
   "metadata": {
    "slideshow": {
     "slide_type": "slide"
    }
   },
   "source": [
    "## Test Cases: `assert` to test a function behavior (part 2)\n",
    "\n",
    "It was cumbersome to manually test like that ... lets use an `assert` instead\n"
   ]
  },
  {
   "cell_type": "code",
   "execution_count": null,
   "id": "22320c19",
   "metadata": {
    "scrolled": true
   },
   "outputs": [],
   "source": [
    "assert alpha_sort_list(['Eliana', 'Callum', 'Bruno']) == ['Bruno', 'Callum', 'Eliana']\n",
    "assert alpha_sort_list(['Eliana', 'callum', 'Bruno']) == ['Bruno', 'callum', 'Eliana']\n"
   ]
  },
  {
   "cell_type": "markdown",
   "id": "1d7ef492",
   "metadata": {},
   "source": [
    "# In Class Activity B\n",
    "\n",
    "Not only do test cases validate that your function works, they specify its behavior!  By studying the given test cases, you can fully understand what the function should be doing.\n",
    "\n",
    "For example, after studying the test cases, you can complete the `evaluate_rps()` function below, which evaluates a round of [rock, paper, scissors](https://en.wikipedia.org/wiki/Rock_paper_scissors).  Be sure to [document your code:\n",
    "](https://course.ccs.neu.edu/ds2500/python_style.html):\n",
    "- function docstring\n",
    "- comments\n",
    "- \"chunks\" of code which do similar things\n",
    "- variable names which are short and descriptive\n",
    "\n",
    "++ If you're done early, see if you can simplify your implementation as much as possible.  I found an early return statement (a return in some if block where the function continues afterwards) to be helpful here.\n"
   ]
  },
  {
   "cell_type": "code",
   "execution_count": 19,
   "id": "f26a7acb",
   "metadata": {},
   "outputs": [],
   "source": [
    "def evaluate_rps(user0_rps, user1_rps):\n",
    "    # your docstring goes here!\n",
    "    ''' evaluate players' rock, paper, scissors game\n",
    "    \n",
    "    Args: \n",
    "        user0_rps (string): input \"rock\", \"paper\", or \"scissors\" \n",
    "        user1_rps (string): input \"rock\", \"paper\", or \"scissors\" \n",
    "    \n",
    "    Returns\n",
    "        points (int):\n",
    "        0 if user0 wins\n",
    "        1 if user1 wins\n",
    "        -1 if tied\n",
    "    \n",
    "    '''\n",
    "    # validate proper inputs given\n",
    "    rps_tuple = 'rock', 'paper', 'scissors'\n",
    "    assert user0_rps in rps_tuple, 'invalid user0 input'    \n",
    "    assert user1_rps in rps_tuple, 'invalid user1 input'\n",
    "    \n",
    "    # your function \"guts\" go here!\n",
    "    \n",
    "    # set variables for input variables\n",
    "    u0 = user0_rps\n",
    "    u1 = user1_rps\n",
    "    \n",
    "    # create conditional statements for points/winners\n",
    "    if u0 == \"rock\":\n",
    "        if u1 == \"paper\":\n",
    "            return 1\n",
    "        elif u1 == \"scissors\":\n",
    "            return 0\n",
    "        elif u1 == \"rock\":\n",
    "            return -1\n",
    "    elif u0 == \"scissors\":\n",
    "        if u1 == \"paper\":\n",
    "            return 0\n",
    "        elif u1 == \"scissors\":\n",
    "            return -1\n",
    "        elif u1 == \"rock\":\n",
    "            return 1\n",
    "    elif u0 == \"paper\":\n",
    "        if u1 == \"paper\":\n",
    "            return -1\n",
    "        elif u1 == \"scissors\":\n",
    "            return 1\n",
    "        elif u1 == \"rock\":\n",
    "            return 0\n",
    "    "
   ]
  },
  {
   "cell_type": "code",
   "execution_count": 18,
   "id": "f9ed76cb",
   "metadata": {},
   "outputs": [],
   "source": [
    "# paper beats rock\n",
    "assert evaluate_rps('paper', 'rock') == 0\n",
    "assert evaluate_rps('rock', 'paper') == 1\n",
    "\n",
    "# scissors beats paper\n",
    "assert evaluate_rps('scissors', 'paper') == 0\n",
    "assert evaluate_rps('paper', 'scissors') == 1\n",
    "\n",
    "# rock beats scissors\n",
    "assert evaluate_rps('rock', 'scissors') == 0\n",
    "assert evaluate_rps('scissors', 'rock') == 1\n",
    "\n",
    "# ties\n",
    "assert evaluate_rps('scissors', 'scissors') == -1\n",
    "assert evaluate_rps('rock', 'rock') == -1\n",
    "assert evaluate_rps('paper', 'paper') == -1\n"
   ]
  },
  {
   "cell_type": "code",
   "execution_count": 15,
   "id": "f503fa57",
   "metadata": {},
   "outputs": [],
   "source": [
    "# another solution \n",
    "def evaluate_rps(user0_rps, user1_rps):\n",
    "    # your docstring goes here!\n",
    "    ''' evaluate players' rock, paper, scissors game\n",
    "    \n",
    "    Args: \n",
    "        user0_rps (string): input \"rock\", \"paper\", or \"scissors\" \n",
    "        user1_rps (string): input \"rock\", \"paper\", or \"scissors\" \n",
    "    \n",
    "    Returns\n",
    "        points (int):\n",
    "        0 if user0 wins\n",
    "        1 if user1 wins\n",
    "        -1 if tied\n",
    "    \n",
    "    '''\n",
    "    # validate proper inputs given\n",
    "    rps_tuple = 'rock', 'paper', 'scissors'\n",
    "    assert user0_rps in rps_tuple, 'invalid user0 input'    \n",
    "    assert user1_rps in rps_tuple, 'invalid user1 input'\n",
    "    \n",
    "    # your function \"guts\" go here!\n",
    "\n",
    "# another way\n",
    "# set variables for input variables\n",
    "    u0 = user0_rps\n",
    "    u1 = user1_rps\n",
    "    \n",
    "    # create conditional statements for points/winners\n",
    "    if u0 == \"rock\" and u1 == \"paper\":\n",
    "        point = 1\n",
    "    elif u0 == \"rock\" and u1 == \"scissors\":\n",
    "        point = 0\n",
    "    elif u0 == \"rock\" and u1 == \"rock\":\n",
    "        point = -1\n",
    "    elif u0 == \"scissors\" and u1 == \"paper\":\n",
    "        point = 0\n",
    "    elif u0 == \"scissors\" and u1 == \"scissors\":\n",
    "        point = -1\n",
    "    elif u0 == \"scissors\" and u1 == \"rock\":\n",
    "        point = 1\n",
    "    elif u0 == \"paper\" and u1 == \"paper\":\n",
    "        point = -1\n",
    "    elif u0 == \"paper\" and u1 == \"scissors\":\n",
    "        point = 1\n",
    "    elif u0 == \"paper\" and u1 == \"rock\":\n",
    "        point = 0\n",
    "    \n",
    "    return point\n",
    "    "
   ]
  },
  {
   "cell_type": "code",
   "execution_count": 17,
   "id": "5ca9f374",
   "metadata": {},
   "outputs": [],
   "source": [
    "# professor's solution\n",
    "def evaluate_rps(user0_rps, user1_rps):\n",
    "    # your docstring goes here!\n",
    "    ''' evaluate players' rock, paper, scissors game\n",
    "    \n",
    "    Args: \n",
    "        user0_rps (string): input \"rock\", \"paper\", or \"scissors\" \n",
    "        user1_rps (string): input \"rock\", \"paper\", or \"scissors\" \n",
    "    \n",
    "    Returns\n",
    "        points (int):\n",
    "        0 if user0 wins\n",
    "        1 if user1 wins\n",
    "        -1 if tied\n",
    "    \n",
    "    '''\n",
    "    # validate proper inputs given\n",
    "    rps_tuple = 'rock', 'paper', 'scissors'\n",
    "    assert user0_rps in rps_tuple, 'invalid user0 input'    \n",
    "    assert user1_rps in rps_tuple, 'invalid user1 input'\n",
    "    \n",
    "    # your function \"guts\" go here!\n",
    "\n",
    "    #! snip-start: stu, sec 2, sec 3, sec 4\n",
    "    if user0_rps == user1_rps:\n",
    "        # tie\n",
    "        return -1\n",
    "    \n",
    "    # test if user0 won\n",
    "    if (user0_rps, user1_rps) in [(\"rock\", \"scissors\"), (\"scissors\", \"paper\"), (\"paper\", \"rock\")]:\n",
    "        return 0\n",
    "    \n",
    "    # users gave different imputs, and users didnt win\n",
    "    return 1\n",
    "\n",
    "#! snip-end: stud, sec2, sec3, sec4"
   ]
  }
 ],
 "metadata": {
  "celltoolbar": "Slideshow",
  "kernelspec": {
   "display_name": "Python 3 (ipykernel)",
   "language": "python",
   "name": "python3"
  },
  "language_info": {
   "codemirror_mode": {
    "name": "ipython",
    "version": 3
   },
   "file_extension": ".py",
   "mimetype": "text/x-python",
   "name": "python",
   "nbconvert_exporter": "python",
   "pygments_lexer": "ipython3",
   "version": "3.9.7"
  }
 },
 "nbformat": 4,
 "nbformat_minor": 5
}
