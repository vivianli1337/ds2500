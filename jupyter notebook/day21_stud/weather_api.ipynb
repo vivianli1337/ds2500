{
 "cells": [
  {
   "cell_type": "code",
   "execution_count": 1,
   "id": "3bbc539e",
   "metadata": {},
   "outputs": [],
   "source": [
    "api_key = 'eea5fcef9a7ea19505dc1c165bacac4a'\n",
    "\n",
    "def some_fnc(x):\n",
    "    return 2 * x"
   ]
  }
 ],
 "metadata": {
  "kernelspec": {
   "display_name": "Python 3 (ipykernel)",
   "language": "python",
   "name": "python3"
  },
  "language_info": {
   "codemirror_mode": {
    "name": "ipython",
    "version": 3
   },
   "file_extension": ".py",
   "mimetype": "text/x-python",
   "name": "python",
   "nbconvert_exporter": "python",
   "pygments_lexer": "ipython3",
   "version": "3.9.7"
  }
 },
 "nbformat": 4,
 "nbformat_minor": 5
}
