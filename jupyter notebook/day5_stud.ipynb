{
 "cells": [
  {
   "cell_type": "markdown",
   "metadata": {
    "slideshow": {
     "slide_type": "slide"
    }
   },
   "source": [
    "# DS2500 Lesson5\n",
    "\n",
    "Jan 27, 2023\n",
    "\n",
    "Content:\n",
    "- numpy & arrays (finishing up)\n",
    "- designing & writing beautiful software\n",
    "\n",
    "Admin:\n",
    "\n",
    "\n"
   ]
  },
  {
   "cell_type": "markdown",
   "metadata": {
    "slideshow": {
     "slide_type": "slide"
    }
   },
   "source": [
    "### Computing stats on an array\n",
    "- `.sum()`\n",
    "- `.min()`\n",
    "- `.max()`\n",
    "- `.mean()`\n",
    "- `.std()`\n",
    "    - standard deviation\n",
    "- `.var()`\n",
    "    - variance\n",
    "- `.argmin()`\n",
    "    - index of item which is smallest\n",
    "- `.argmax()`\n",
    "    - index of item which is largest\n"
   ]
  },
  {
   "cell_type": "code",
   "execution_count": 1,
   "metadata": {},
   "outputs": [
    {
     "data": {
      "text/plain": [
       "array([4, 3, 5, 4])"
      ]
     },
     "execution_count": 1,
     "metadata": {},
     "output_type": "execute_result"
    }
   ],
   "source": [
    "import numpy as np\n",
    "x = np.array([4, 3, 5, 4])\n",
    "x\n"
   ]
  },
  {
   "cell_type": "code",
   "execution_count": 2,
   "metadata": {},
   "outputs": [
    {
     "data": {
      "text/plain": [
       "3"
      ]
     },
     "execution_count": 2,
     "metadata": {},
     "output_type": "execute_result"
    }
   ],
   "source": [
    "x.min()\n"
   ]
  },
  {
   "cell_type": "code",
   "execution_count": 3,
   "metadata": {},
   "outputs": [
    {
     "data": {
      "text/plain": [
       "1"
      ]
     },
     "execution_count": 3,
     "metadata": {},
     "output_type": "execute_result"
    }
   ],
   "source": [
    "# get index of smallest item\n",
    "# (smallest item, 3, is at index 1)\n",
    "x.argmin()\n"
   ]
  },
  {
   "cell_type": "code",
   "execution_count": 4,
   "metadata": {},
   "outputs": [
    {
     "data": {
      "text/plain": [
       "array([[100, 101, 102, 103],\n",
       "       [104, 105, 106, 107],\n",
       "       [108, 109, 110, 111]])"
      ]
     },
     "execution_count": 4,
     "metadata": {},
     "output_type": "execute_result"
    }
   ],
   "source": [
    "import numpy as np\n",
    "y = np.arange(100, 112).reshape((3, 4))\n",
    "y\n"
   ]
  },
  {
   "cell_type": "code",
   "execution_count": 5,
   "metadata": {},
   "outputs": [
    {
     "data": {
      "text/plain": [
       "(1266, 100, 111, 105.5, 3.452052529534663, 11.916666666666666)"
      ]
     },
     "execution_count": 5,
     "metadata": {},
     "output_type": "execute_result"
    }
   ],
   "source": [
    "y.sum(), y.min(), y.max(), y.mean(), y.std(), y.var()\n"
   ]
  },
  {
   "cell_type": "code",
   "execution_count": 6,
   "metadata": {},
   "outputs": [
    {
     "data": {
      "text/plain": [
       "array([104., 105., 106., 107.])"
      ]
     },
     "execution_count": 6,
     "metadata": {},
     "output_type": "execute_result"
    }
   ],
   "source": [
    "# axis: which of the shape parameters should I operate on? \n",
    "# shape = (shape0, shape1)\n",
    "\n",
    "# axis=0 averages across different rows to give the column average\n",
    "y.mean(axis=0)"
   ]
  },
  {
   "cell_type": "code",
   "execution_count": 7,
   "metadata": {},
   "outputs": [
    {
     "data": {
      "text/plain": [
       "array([101.5, 105.5, 109.5])"
      ]
     },
     "execution_count": 7,
     "metadata": {},
     "output_type": "execute_result"
    }
   ],
   "source": [
    "# axis=1 averages across different columns to give the row average\n",
    "y.mean(axis=1)\n"
   ]
  },
  {
   "cell_type": "code",
   "execution_count": 8,
   "metadata": {},
   "outputs": [
    {
     "data": {
      "text/plain": [
       "array([100, 104, 108])"
      ]
     },
     "execution_count": 8,
     "metadata": {},
     "output_type": "execute_result"
    }
   ],
   "source": [
    "# axis is an accepted keyword of all methods listed above\n",
    "y.min(axis=1)\n"
   ]
  },
  {
   "cell_type": "code",
   "execution_count": 9,
   "metadata": {},
   "outputs": [
    {
     "data": {
      "text/plain": [
       "array([100, 101, 102, 103])"
      ]
     },
     "execution_count": 9,
     "metadata": {},
     "output_type": "execute_result"
    }
   ],
   "source": [
    "y.min(axis=0)\n"
   ]
  },
  {
   "cell_type": "markdown",
   "metadata": {
    "slideshow": {
     "slide_type": "slide"
    }
   },
   "source": [
    "## Why did we do this again?\n",
    "\n",
    "<img src=\"https://imgur.com/orZWHly.png\" width=300 />\n",
    "\n",
    "Data isn't just \"information\", but a story.  When we are able to manipulate these python objects gracefully we'll observe across a population in a way not possible when going sample-by-sample (or feature-by-feature) through a dataset.\n"
   ]
  },
  {
   "cell_type": "code",
   "execution_count": 10,
   "metadata": {
    "scrolled": true
   },
   "outputs": [
    {
     "data": {
      "text/html": [
       "<div>\n",
       "<style scoped>\n",
       "    .dataframe tbody tr th:only-of-type {\n",
       "        vertical-align: middle;\n",
       "    }\n",
       "\n",
       "    .dataframe tbody tr th {\n",
       "        vertical-align: top;\n",
       "    }\n",
       "\n",
       "    .dataframe thead th {\n",
       "        text-align: right;\n",
       "    }\n",
       "</style>\n",
       "<table border=\"1\" class=\"dataframe\">\n",
       "  <thead>\n",
       "    <tr style=\"text-align: right;\">\n",
       "      <th></th>\n",
       "      <th>species</th>\n",
       "      <th>island</th>\n",
       "      <th>bill_length_mm</th>\n",
       "      <th>bill_depth_mm</th>\n",
       "      <th>flipper_length_mm</th>\n",
       "      <th>body_mass_g</th>\n",
       "      <th>sex</th>\n",
       "    </tr>\n",
       "  </thead>\n",
       "  <tbody>\n",
       "    <tr>\n",
       "      <th>0</th>\n",
       "      <td>Adelie</td>\n",
       "      <td>Torgersen</td>\n",
       "      <td>39.1</td>\n",
       "      <td>18.7</td>\n",
       "      <td>181.0</td>\n",
       "      <td>3750.0</td>\n",
       "      <td>Male</td>\n",
       "    </tr>\n",
       "    <tr>\n",
       "      <th>1</th>\n",
       "      <td>Adelie</td>\n",
       "      <td>Torgersen</td>\n",
       "      <td>39.5</td>\n",
       "      <td>17.4</td>\n",
       "      <td>186.0</td>\n",
       "      <td>3800.0</td>\n",
       "      <td>Female</td>\n",
       "    </tr>\n",
       "    <tr>\n",
       "      <th>2</th>\n",
       "      <td>Adelie</td>\n",
       "      <td>Torgersen</td>\n",
       "      <td>40.3</td>\n",
       "      <td>18.0</td>\n",
       "      <td>195.0</td>\n",
       "      <td>3250.0</td>\n",
       "      <td>Female</td>\n",
       "    </tr>\n",
       "    <tr>\n",
       "      <th>3</th>\n",
       "      <td>Adelie</td>\n",
       "      <td>Torgersen</td>\n",
       "      <td>NaN</td>\n",
       "      <td>NaN</td>\n",
       "      <td>NaN</td>\n",
       "      <td>NaN</td>\n",
       "      <td>NaN</td>\n",
       "    </tr>\n",
       "    <tr>\n",
       "      <th>4</th>\n",
       "      <td>Adelie</td>\n",
       "      <td>Torgersen</td>\n",
       "      <td>36.7</td>\n",
       "      <td>19.3</td>\n",
       "      <td>193.0</td>\n",
       "      <td>3450.0</td>\n",
       "      <td>Female</td>\n",
       "    </tr>\n",
       "  </tbody>\n",
       "</table>\n",
       "</div>"
      ],
      "text/plain": [
       "  species     island  bill_length_mm  bill_depth_mm  flipper_length_mm  \\\n",
       "0  Adelie  Torgersen            39.1           18.7              181.0   \n",
       "1  Adelie  Torgersen            39.5           17.4              186.0   \n",
       "2  Adelie  Torgersen            40.3           18.0              195.0   \n",
       "3  Adelie  Torgersen             NaN            NaN                NaN   \n",
       "4  Adelie  Torgersen            36.7           19.3              193.0   \n",
       "\n",
       "   body_mass_g     sex  \n",
       "0       3750.0    Male  \n",
       "1       3800.0  Female  \n",
       "2       3250.0  Female  \n",
       "3          NaN     NaN  \n",
       "4       3450.0  Female  "
      ]
     },
     "execution_count": 10,
     "metadata": {},
     "output_type": "execute_result"
    }
   ],
   "source": [
    "import seaborn as sns\n",
    "\n",
    "# data source: https://github.com/mwaskom/seaborn-data/blob/master/penguins.csv\n",
    "df_penguin = sns.load_dataset('penguins')\n",
    "df_penguin.head()\n"
   ]
  },
  {
   "cell_type": "markdown",
   "metadata": {
    "slideshow": {
     "slide_type": "slide"
    }
   },
   "source": [
    "## Array Operations:\n",
    "- array and a scalar: \n",
    "    - apply operation to every element of array\n",
    "- array and array: \n",
    "    - apply operation to corresponding elements of arrays (requires shape or [special](https://numpy.org/doc/stable/user/basics.broadcasting.html) structure)\n",
    "\n"
   ]
  },
  {
   "cell_type": "code",
   "execution_count": 11,
   "metadata": {},
   "outputs": [
    {
     "data": {
      "text/plain": [
       "array([[ 0,  1,  2,  3],\n",
       "       [ 4,  5,  6,  7],\n",
       "       [ 8,  9, 10, 11]])"
      ]
     },
     "execution_count": 11,
     "metadata": {},
     "output_type": "execute_result"
    }
   ],
   "source": [
    "y1 = np.arange(12).reshape((3, 4))\n",
    "y1\n"
   ]
  },
  {
   "cell_type": "code",
   "execution_count": 12,
   "metadata": {},
   "outputs": [
    {
     "data": {
      "text/plain": [
       "array([[ 3,  4,  5,  6],\n",
       "       [ 7,  8,  9, 10],\n",
       "       [11, 12, 13, 14]])"
      ]
     },
     "execution_count": 12,
     "metadata": {},
     "output_type": "execute_result"
    }
   ],
   "source": [
    "y1 + 3\n"
   ]
  },
  {
   "cell_type": "code",
   "execution_count": 13,
   "metadata": {},
   "outputs": [
    {
     "data": {
      "text/plain": [
       "array([[  0,  10,  20,  30],\n",
       "       [ 40,  50,  60,  70],\n",
       "       [ 80,  90, 100, 110]])"
      ]
     },
     "execution_count": 13,
     "metadata": {},
     "output_type": "execute_result"
    }
   ],
   "source": [
    "y1 * 10\n"
   ]
  },
  {
   "cell_type": "code",
   "execution_count": 14,
   "metadata": {},
   "outputs": [
    {
     "data": {
      "text/plain": [
       "array([[  0,   1,   4,   9],\n",
       "       [ 16,  25,  36,  49],\n",
       "       [ 64,  81, 100, 121]])"
      ]
     },
     "execution_count": 14,
     "metadata": {},
     "output_type": "execute_result"
    }
   ],
   "source": [
    "y1 ** 2\n"
   ]
  },
  {
   "cell_type": "code",
   "execution_count": 15,
   "metadata": {},
   "outputs": [
    {
     "data": {
      "text/plain": [
       "(array([[ 0,  1,  2,  3],\n",
       "        [ 4,  5,  6,  7],\n",
       "        [ 8,  9, 10, 11]]),\n",
       " array([[100, 101, 102, 103],\n",
       "        [104, 105, 106, 107],\n",
       "        [108, 109, 110, 111]]))"
      ]
     },
     "execution_count": 15,
     "metadata": {},
     "output_type": "execute_result"
    }
   ],
   "source": [
    "# array and array arithmetic\n",
    "y2 = np.arange(100, 112).reshape((3, 4))\n",
    "y1, y2\n"
   ]
  },
  {
   "cell_type": "code",
   "execution_count": 16,
   "metadata": {},
   "outputs": [
    {
     "data": {
      "text/plain": [
       "array([[100, 102, 104, 106],\n",
       "       [108, 110, 112, 114],\n",
       "       [116, 118, 120, 122]])"
      ]
     },
     "execution_count": 16,
     "metadata": {},
     "output_type": "execute_result"
    }
   ],
   "source": [
    "# array and array arithmetic applies operation to corresponding items in arrays\n",
    "y1 + y2\n"
   ]
  },
  {
   "cell_type": "code",
   "execution_count": 17,
   "metadata": {},
   "outputs": [
    {
     "data": {
      "text/plain": [
       "array([[   0,  101,  204,  309],\n",
       "       [ 416,  525,  636,  749],\n",
       "       [ 864,  981, 1100, 1221]])"
      ]
     },
     "execution_count": 17,
     "metadata": {},
     "output_type": "execute_result"
    }
   ],
   "source": [
    "y1 * y2\n"
   ]
  },
  {
   "cell_type": "code",
   "execution_count": 18,
   "metadata": {},
   "outputs": [
    {
     "data": {
      "text/plain": [
       "array([[ 0,  1,  2,  3],\n",
       "       [ 4,  5,  6,  7],\n",
       "       [ 8,  9, 10, 11]])"
      ]
     },
     "execution_count": 18,
     "metadata": {},
     "output_type": "execute_result"
    }
   ],
   "source": [
    "y1\n"
   ]
  },
  {
   "cell_type": "code",
   "execution_count": 19,
   "metadata": {},
   "outputs": [
    {
     "data": {
      "text/plain": [
       "(array([1000, 2000, 3000, 4000]),\n",
       " array([[ 0,  1,  2,  3],\n",
       "        [ 4,  5,  6,  7],\n",
       "        [ 8,  9, 10, 11]]))"
      ]
     },
     "execution_count": 19,
     "metadata": {},
     "output_type": "execute_result"
    }
   ],
   "source": [
    "# (++) adding a constant row (x) to all rows of a matrix (y1)\n",
    "# more details here: https://numpy.org/doc/stable/user/basics.broadcasting.html\n",
    "x = np.array([1000, 2000, 3000, 4000])\n",
    "x, y1\n"
   ]
  },
  {
   "cell_type": "code",
   "execution_count": 20,
   "metadata": {},
   "outputs": [
    {
     "data": {
      "text/plain": [
       "array([[1000, 2001, 3002, 4003],\n",
       "       [1004, 2005, 3006, 4007],\n",
       "       [1008, 2009, 3010, 4011]])"
      ]
     },
     "execution_count": 20,
     "metadata": {},
     "output_type": "execute_result"
    }
   ],
   "source": [
    "y1 + x\n"
   ]
  },
  {
   "cell_type": "markdown",
   "metadata": {
    "slideshow": {
     "slide_type": "slide"
    }
   },
   "source": [
    "## In Class Activity A\n",
    "A horrible autograder assigns students arbitrary grades for the quizzes they take.\n",
    "Let's assume that:\n",
    "- `n_student=5` students take each quiz\n",
    "- `n_quiz=3` quizzes are taken\n",
    "\n",
    "1. Record all student grades in a two dimensional `np.array`\n",
    "    - **together:** should a student be a row or a column?\n",
    "    - make up all the grades, use simple values to allow for easy testing (e.g. 0, 1, 2, 3, ...)\n",
    "1. Use the functions we just learned to answer:\n",
    "    1. what's the mean score among all the students and quizzes?\n",
    "    1. what's the mean score of the student who was had the highest average?\n",
    "    1. which quiz had the lowest mean score?\n",
    "        - we don't want the score, we want to know which quiz it was, 0, 1 or 2\n"
   ]
  },
  {
   "cell_type": "code",
   "execution_count": 21,
   "metadata": {},
   "outputs": [
    {
     "data": {
      "text/plain": [
       "array([[ 0,  1,  2],\n",
       "       [ 3,  4,  5],\n",
       "       [ 6,  7,  8],\n",
       "       [ 9, 10, 11],\n",
       "       [12, 13, 14]])"
      ]
     },
     "execution_count": 21,
     "metadata": {},
     "output_type": "execute_result"
    }
   ],
   "source": [
    "import numpy as np\n",
    "n_student = 5 # students took quiz \n",
    "n_quiuz = 3 # quizzes taken - samples\n",
    "\n",
    "# 1. record all student grades in 2d np.array\n",
    "\n",
    "x = np.arange(0,15).reshape((5, 3))\n",
    "x"
   ]
  },
  {
   "cell_type": "code",
   "execution_count": 22,
   "metadata": {},
   "outputs": [
    {
     "data": {
      "text/plain": [
       "7.0"
      ]
     },
     "execution_count": 22,
     "metadata": {},
     "output_type": "execute_result"
    }
   ],
   "source": [
    "# 2. A - what is the mean\n",
    "x.mean()"
   ]
  },
  {
   "cell_type": "code",
   "execution_count": 23,
   "metadata": {},
   "outputs": [
    {
     "data": {
      "text/plain": [
       "13.0"
      ]
     },
     "execution_count": 23,
     "metadata": {},
     "output_type": "execute_result"
    }
   ],
   "source": [
    "# 2. B - what is the mean score of student who had thehighest average\n",
    "# find the average of each student's score and then the highest average\n",
    "x1 = x.mean(axis=1)\n",
    "x1.max()"
   ]
  },
  {
   "cell_type": "code",
   "execution_count": 24,
   "metadata": {},
   "outputs": [
    {
     "data": {
      "text/plain": [
       "0"
      ]
     },
     "execution_count": 24,
     "metadata": {},
     "output_type": "execute_result"
    }
   ],
   "source": [
    "# 2. C - which quiz has the lowest mean score\n",
    "x1 = x.mean(axis=1)\n",
    "x1.argmin()"
   ]
  },
  {
   "cell_type": "markdown",
   "metadata": {
    "slideshow": {
     "slide_type": "slide"
    }
   },
   "source": [
    "# What is \"beautiful\" software?\n",
    "\n",
    "- simple\n",
    "    - bugs hide in complexity\n",
    "        - not sure why your code doesn't work?  Try simplifying how it works\n",
    "- unambiguous\n",
    "    - every job is done is one place in the code\n",
    "- well documented\n",
    "    - DS: its not enough to be correct, you must also be compelling\n",
    "    - it'll help others understand your code\n",
    "    - it'll help you write your code quicker\n"
   ]
  },
  {
   "cell_type": "markdown",
   "metadata": {
    "slideshow": {
     "slide_type": "slide"
    }
   },
   "source": [
    "# ... where are my car keys?\n",
    "\n",
    "- I should clean up the whole house (i.e. make it \"simple, unambiguous & well-documented\").\n",
    "    - I'll want to find something else and organizing it all will help me for next time.\n"
   ]
  },
  {
   "cell_type": "markdown",
   "metadata": {},
   "source": [
    "# ... Why doesn't my program work?\n",
    "\n",
    "- I should make my whole program beautiful (i.e. make it \"simple, unambiguous & well-documented\").\n",
    "    - I'll want to verify / extend its functionality so organizing it all will help me for next time.\n"
   ]
  },
  {
   "cell_type": "markdown",
   "metadata": {
    "slideshow": {
     "slide_type": "slide"
    }
   },
   "source": [
    "# Interface vs Implementation\n",
    "\n",
    "# Interface\n",
    "\n",
    "<img src=\"https://www.statefarm.com/content/dam/sf-library/en-us/secure/legacy/simple-insights/quick-steps-to-take-if-your-gas-pedal-sticks.jpg\" width=300>\n",
    "\n",
    "\n",
    "An **interface** is the set of inputs and outputs of a part of program:\n",
    "- a function docstring describes an interface\n",
    "- a set of test cases also describes an interface\n",
    "    - ideally, a set of test cases completely describes the interface\n",
    "\n",
    "# Implementation\n",
    "\n",
    "<img src=\"https://cdn.carbuzz.com/gallery-images/840x560/591000/100/591155.jpg\" width=300>\n",
    "\n",
    "An **implementation** is the code which actually accomplishes the work of converting input to desired output\n"
   ]
  },
  {
   "cell_type": "code",
   "execution_count": 25,
   "metadata": {},
   "outputs": [],
   "source": [
    "def evaluate_rps(user0_rps, user1_rps):\n",
    "    \"\"\" determining winner in a round of rps\n",
    "    \n",
    "    Args:\n",
    "        user0_rps (str): 'rock', 'paper', 'scissors'\n",
    "        user1_rps (str): 'rock', 'paper', 'scissors'\n",
    "        \n",
    "    Returns:\n",
    "        idx_win (int): 0 if user0 wins, 1 if user1 wins\n",
    "            -1 if a tie\n",
    "    \"\"\"    \n",
    "    # validate proper inputs given\n",
    "    rps_tuple = 'rock', 'paper', 'scissors'\n",
    "    assert user0_rps in rps_tuple, 'invalid user0 input'    \n",
    "    assert user1_rps in rps_tuple, 'invalid user1 input'\n",
    "    \n",
    "    if user0_rps == user1_rps:\n",
    "        # tie\n",
    "        return -1\n",
    "    \n",
    "    # test if user0 won\n",
    "    if (user0_rps, user1_rps) in [('rock', 'scissors'),\n",
    "                                  ('scissors', 'paper'),\n",
    "                                  ('paper', 'rock')]:\n",
    "        return 0\n",
    "    \n",
    "    # users gave different inputs, and user0 didn't win\n",
    "    return 1\n"
   ]
  },
  {
   "cell_type": "markdown",
   "metadata": {
    "slideshow": {
     "slide_type": "slide"
    }
   },
   "source": [
    "# How to write beautiful software\n",
    "\n",
    "1. Thoughtfully design your program\n",
    "    - write notes, flowcharts, scribble on a whiteboard, pseudocode ...\n",
    "    - common mistake: not spending enough time daydreaming about the whole anatomy of a program\n",
    "        - its easy to change the design now ... later on we'll have invested time in building it some particular way\n",
    "        \n",
    "1. Define your interface: \n",
    "    - A. Write your function headers & docstrings\n",
    "    - B. Write your test cases\n",
    "1. Complete your implementation\n",
    "    - A. add comments to your functions\n",
    "    - B. implement functions (per comments) until it passes all test cases\n"
   ]
  },
  {
   "cell_type": "markdown",
   "metadata": {
    "slideshow": {
     "slide_type": "slide"
    }
   },
   "source": [
    "# Step 1. Thoughtfully design your program\n",
    "Write notes, flowcharts, scribble on a whiteboard, pseudocode ...\n",
    "<img src=\"https://i.ibb.co/qDXFDnw/rps-plan.png\" width=700>\n"
   ]
  },
  {
   "cell_type": "markdown",
   "metadata": {
    "slideshow": {
     "slide_type": "slide"
    }
   },
   "source": [
    "# Step 2A: Write your function headers & docstrings\n",
    "    \n",
    "```python\n",
    "def evaluate_rps(user0_rps, user1_rps):\n",
    "    \"\"\" determining winner in a round of rps\n",
    "    \n",
    "    Args:\n",
    "        user0_rps (str): 'rock', 'paper', 'scissors'\n",
    "        user1_rps (str): 'rock', 'paper', 'scissors'\n",
    "        \n",
    "    Returns:\n",
    "        idx_win (int): 0 if user0 wins, 1 if user1 wins\n",
    "            -1 if a tie\n",
    "    \"\"\"   \n",
    "```\n"
   ]
  },
  {
   "cell_type": "markdown",
   "metadata": {
    "slideshow": {
     "slide_type": "slide"
    }
   },
   "source": [
    "# Step 2B: Write your test cases\n",
    "    \n",
    "```python\n",
    "# paper beats rock\n",
    "assert evaluate_rps('paper', 'rock') == 0\n",
    "assert evaluate_rps('rock', 'paper') == 1\n",
    "\n",
    "# scissors beats paper\n",
    "assert evaluate_rps('scissors', 'paper') == 0\n",
    "assert evaluate_rps('paper', 'scissors') == 1\n",
    "\n",
    "# rock beats scissors\n",
    "assert evaluate_rps('rock', 'scissors') == 0\n",
    "assert evaluate_rps('scissors', 'rock') == 1\n",
    "\n",
    "# ties\n",
    "assert evaluate_rps('scissors', 'scissors') == -1\n",
    "assert evaluate_rps('rock', 'rock') == -1\n",
    "assert evaluate_rps('paper', 'paper') == -1\n",
    "```\n"
   ]
  },
  {
   "cell_type": "markdown",
   "metadata": {
    "slideshow": {
     "slide_type": "slide"
    }
   },
   "source": [
    "# Step 3A: add comments to your functions\n",
    "    \n",
    "```python\n",
    "def evaluate_rps(user0_rps, user1_rps):\n",
    "    \"\"\" determining winner in a round of rps\n",
    "    \n",
    "    Args:\n",
    "        user0_rps (str): 'rock', 'paper', 'scissors'\n",
    "        user1_rps (str): 'rock', 'paper', 'scissors'\n",
    "        \n",
    "    Returns:\n",
    "        idx_win (int): 0 if user0 wins, 1 if user1 wins\n",
    "            -1 if a tie\n",
    "    \"\"\"    \n",
    "    # validate proper inputs given\n",
    "    \n",
    "    # test if user's tied (return -1 if so)\n",
    "    \n",
    "    # test if user0 won (return 0 if so)\n",
    "    \n",
    "    # otherwise, user1 must have won (return 1)\n",
    "```\n"
   ]
  },
  {
   "cell_type": "markdown",
   "metadata": {
    "slideshow": {
     "slide_type": "slide"
    }
   },
   "source": [
    "# Step 3B: implement (per comments) until passing all test cases\n",
    "    \n",
    "```python\n",
    "def evaluate_rps(user0_rps, user1_rps):\n",
    "    \"\"\" determining winner in a round of rps\n",
    "    \n",
    "    Args:\n",
    "        user0_rps (str): 'rock', 'paper', 'scissors'\n",
    "        user1_rps (str): 'rock', 'paper', 'scissors'\n",
    "        \n",
    "    Returns:\n",
    "        idx_win (int): 0 if user0 wins, 1 if user1 wins\n",
    "            -1 if a tie\n",
    "    \"\"\"    \n",
    "    # validate proper inputs given\n",
    "    rps_tuple = 'rock', 'paper', 'scissors'\n",
    "    assert user0_rps in rps_tuple, 'invalid user0 input'    \n",
    "    assert user1_rps in rps_tuple, 'invalid user1 input'\n",
    "    \n",
    "    if user0_rps == user1_rps:\n",
    "        # tie: users gave same input\n",
    "        return -1\n",
    "    \n",
    "    # user0_win_list is a list of all the ways user0 can win\n",
    "    user0_win_list = [('rock', 'scissors'),\n",
    "                      ('scissors', 'paper'),\n",
    "                      ('paper', 'rock')]\n",
    "    if (user0_rps, user1_rps) in user0_win_list:\n",
    "        # user 0 won\n",
    "        return 0\n",
    "    \n",
    "    # user1 won (not a tie and user0 didn't win)\n",
    "    return 1\n",
    "```\n"
   ]
  },
  {
   "cell_type": "markdown",
   "metadata": {
    "slideshow": {
     "slide_type": "slide"
    }
   },
   "source": [
    "# In Class Activity B\n",
    "\n",
    "Complete steps 1 and 2 of the process above to build [tic-tac-toe](https://en.wikipedia.org/wiki/Tic-tac-toe), playable via user `input()`s in jupyter.\n",
    "\n",
    "- know there isn't one \"right\" answer here, though some designs are certainly more complex than others\n",
    "- as a guide, it may help to know my function includes 3 functions but you're welcome to build differently\n",
    "- test cases for user interfaces are tough to write, feel free to describe with a bit of text or show example output (as lab0: part 1 does)\n"
   ]
  },
  {
   "cell_type": "markdown",
   "metadata": {},
   "source": [
    "# Step 1. Thoughtfully design your program\n",
    "\n",
    "User interface:\n",
    "\n",
    "play:\n",
    "- create a array; 3 x 3\n",
    "- for loop --- until row, column, or diagonal is filled\n",
    "- 2 users\n",
    "    - one will be X and other will be O - or any other 2 symbols\n",
    "    - ask user 1 to start first \n",
    "        - string & where to place\n",
    "            - use replace\n",
    "    - ask user 2 to follow after\n",
    "        - string & where to replace\n",
    "            - use replace\n",
    "- re-query if placed in the filled spot\n",
    "    - show result of the board\n",
    "    \n",
    "\n",
    "evaluate_winner:\n",
    "- evaluate the board\n",
    "    - if row, column, or diagonal is filled\n",
    "- win, lose, or tie\n",
    "    - if user1 win: announce the winner\n",
    "    - if user2 win: announce the winner\n",
    "    - if tied, announce the result = no winner\n",
    "\n",
    "\n"
   ]
  },
  {
   "cell_type": "code",
   "execution_count": 26,
   "metadata": {},
   "outputs": [],
   "source": [
    "# Step 2A: Write your function headers & docstrings\n",
    "\n",
    "\n",
    "def play(board, user1, user2):\n",
    "    \"\"\" show the result of each player's turn\n",
    "\n",
    "    Args:\n",
    "        user1 (str): 'X'\n",
    "        user2 (str): 'O'\n",
    "\n",
    "    Returns:\n",
    "        board (array 3x3) - a new board showing each player's play\n",
    "    \"\"\"   \n",
    "    \n",
    "    # create an array 3x3 with \"-\" as placeholders\n",
    "    \n",
    "    # use a for loop \n",
    "        # ask user1 to input \"X\" on a specific spot in the array\n",
    "        # re-query if the spot is filled\n",
    "        \n",
    "        # ask user2 to input \"O\" on a specific spot in the array\n",
    "        # re-query if the spot is filled\n",
    "        \n",
    "    # return a new board\n"
   ]
  },
  {
   "cell_type": "code",
   "execution_count": 27,
   "metadata": {},
   "outputs": [],
   "source": [
    "def evaluate_winner(play):\n",
    "    \"\"\" show the result of each player's turn\n",
    "\n",
    "    Args:\n",
    "        board (array) with each player's moves\n",
    "\n",
    "    Returns:\n",
    "        points:\n",
    "            - if user1 win: print(\"user1 wins\") str\n",
    "            - if user2 win: print(\"user2 wins\") str\n",
    "            - if users tied: print(\"Tied\") str\n",
    "    \"\"\"   \n",
    "    \n",
    "    # conditional statement:\n",
    "    # if row, column, diagonal on board = X, user1 wins \n",
    "    \n",
    "    # if row, column, diagonal on board = O, user2 wins \n",
    "    \n",
    "    # if row, column, diagonal on board != X and != O, it is a tie\n",
    "    \n",
    "    \n",
    "    # return the winner\n",
    "    "
   ]
  },
  {
   "cell_type": "code",
   "execution_count": 28,
   "metadata": {},
   "outputs": [
    {
     "ename": "NameError",
     "evalue": "name 'winner' is not defined",
     "output_type": "error",
     "traceback": [
      "\u001b[0;31m---------------------------------------------------------------------------\u001b[0m",
      "\u001b[0;31mNameError\u001b[0m                                 Traceback (most recent call last)",
      "\u001b[0;32m/var/folders/9m/1hg1hctj5s94qtlnx8n6561h0000gn/T/ipykernel_14918/2750118214.py\u001b[0m in \u001b[0;36m<module>\u001b[0;34m\u001b[0m\n\u001b[1;32m      2\u001b[0m \u001b[0;34m\u001b[0m\u001b[0m\n\u001b[1;32m      3\u001b[0m \u001b[0;31m# user 1 win\u001b[0m\u001b[0;34m\u001b[0m\u001b[0;34m\u001b[0m\u001b[0m\n\u001b[0;32m----> 4\u001b[0;31m \u001b[0;32massert\u001b[0m \u001b[0mwinner\u001b[0m \u001b[0;34m==\u001b[0m \u001b[0;34m\"User1 wins!\"\u001b[0m\u001b[0;34m\u001b[0m\u001b[0;34m\u001b[0m\u001b[0m\n\u001b[0m\u001b[1;32m      5\u001b[0m \u001b[0;31m# user 2 win\u001b[0m\u001b[0;34m\u001b[0m\u001b[0;34m\u001b[0m\u001b[0m\n\u001b[1;32m      6\u001b[0m \u001b[0;32massert\u001b[0m \u001b[0mwinner\u001b[0m \u001b[0;34m==\u001b[0m \u001b[0;34m\"User2 wins!\"\u001b[0m\u001b[0;34m\u001b[0m\u001b[0;34m\u001b[0m\u001b[0m\n",
      "\u001b[0;31mNameError\u001b[0m: name 'winner' is not defined"
     ]
    }
   ],
   "source": [
    "#Step 2B: Write your test cases¶\n",
    "\n",
    "# user 1 win\n",
    "assert winner == \"User1 wins!\"\n",
    "# user 2 win\n",
    "assert winner == \"User2 wins!\"\n",
    "# users 1 & 2 tie\n",
    "assert winner == \"Tied!\""
   ]
  }
 ],
 "metadata": {
  "celltoolbar": "Slideshow",
  "kernelspec": {
   "display_name": "Python 3 (ipykernel)",
   "language": "python",
   "name": "python3"
  },
  "language_info": {
   "codemirror_mode": {
    "name": "ipython",
    "version": 3
   },
   "file_extension": ".py",
   "mimetype": "text/x-python",
   "name": "python",
   "nbconvert_exporter": "python",
   "pygments_lexer": "ipython3",
   "version": "3.9.7"
  }
 },
 "nbformat": 4,
 "nbformat_minor": 4
}
