{
 "cells": [
  {
   "cell_type": "markdown",
   "id": "7b79a60a",
   "metadata": {},
   "source": [
    "# DS2500 Lesson11\n",
    "\n",
    "Feb 17, 2023\n",
    "\n",
    "Content:\n",
    "- types of data\n",
    "- averages\n",
    "    - mean\n",
    "    - median\n",
    "    - mode\n",
    "- \"measure of dispersion\"\n",
    "    - i.e. \"How close is my data to its mean?\"\n",
    "    - variance\n",
    "    - standard deviation\n",
    "- \"how do two features vary together?\"\n",
    "    - covariance\n",
    "    - correlation\n",
    "\n",
    "Admin:\n",
    "- hw2 due tonight\n",
    "- project\n",
    "    - [proposal](https://course.ccs.neu.edu/ds2500/proj_rubric.html#project-proposal) due M Feb 27\n",
    "    - [team formation process](https://course.ccs.neu.edu/ds2500/proj_team.html#team-formation)\n",
    "- I will almost certainly do a zoom video on the last bit of this lesson (correlation)\n",
    "\n"
   ]
  },
  {
   "cell_type": "markdown",
   "id": "f2e76c99",
   "metadata": {
    "slideshow": {
     "slide_type": "slide"
    }
   },
   "source": [
    "## Types of Data\n",
    "\n",
    "|                | **Type**     | **Ordered** | **Meaningful Distances** | **State between any others** | **Example**                                 |\n",
    "|----------------|--------------|-------------|--------------------------|------------------------------|---------------------------------------------|\n",
    "| **Nominal**   | Qualitative  | No          | No                       | No                           | rainy, sunny, windy, cloudy                         |\n",
    "| **Ordinal**    | Qualitative  | Yes         | No                       | No                           | rainy, damp, dry                            |\n",
    "| **Discrete**   | Quantitative | Yes         | Yes                      | No                           | inches of rainfall (rounded to nearest int) |\n",
    "| **Continuous** | Quantitative | Yes         | Yes                      | Yes                          | inches of rainfall                          |\n",
    "\n",
    "## Ordered Data\n",
    "Any set of observations has some natural ordering.\n",
    "\n",
    "## Meaningful Distances\n",
    "We can compute (and interpret) difference between any pair of outcomes.\n",
    "\n",
    "## State between any others\n",
    "Between every pair of outcomes there is another outcome\n",
    "\n",
    "<img src=\"https://media.geeksforgeeks.org/wp-content/uploads/20211019230043/UntitledDiagram13.jpg\" width=400>\n",
    "\n",
    "## Quick-Question\n",
    "What type of data are zipcodes?\n"
   ]
  },
  {
   "cell_type": "markdown",
   "id": "5968996a",
   "metadata": {
    "slideshow": {
     "slide_type": "slide"
    }
   },
   "source": [
    "## Sample Mean\n"
   ]
  },
  {
   "cell_type": "code",
   "execution_count": 1,
   "id": "40260ffe",
   "metadata": {},
   "outputs": [
    {
     "data": {
      "text/html": [
       "<div>\n",
       "<style scoped>\n",
       "    .dataframe tbody tr th:only-of-type {\n",
       "        vertical-align: middle;\n",
       "    }\n",
       "\n",
       "    .dataframe tbody tr th {\n",
       "        vertical-align: top;\n",
       "    }\n",
       "\n",
       "    .dataframe thead th {\n",
       "        text-align: right;\n",
       "    }\n",
       "</style>\n",
       "<table border=\"1\" class=\"dataframe\">\n",
       "  <thead>\n",
       "    <tr style=\"text-align: right;\">\n",
       "      <th></th>\n",
       "      <th>quiz1</th>\n",
       "      <th>quiz2</th>\n",
       "    </tr>\n",
       "  </thead>\n",
       "  <tbody>\n",
       "    <tr>\n",
       "      <th>0</th>\n",
       "      <td>6</td>\n",
       "      <td>6</td>\n",
       "    </tr>\n",
       "    <tr>\n",
       "      <th>1</th>\n",
       "      <td>7</td>\n",
       "      <td>5</td>\n",
       "    </tr>\n",
       "    <tr>\n",
       "      <th>2</th>\n",
       "      <td>8</td>\n",
       "      <td>6</td>\n",
       "    </tr>\n",
       "    <tr>\n",
       "      <th>3</th>\n",
       "      <td>8</td>\n",
       "      <td>10</td>\n",
       "    </tr>\n",
       "    <tr>\n",
       "      <th>4</th>\n",
       "      <td>6</td>\n",
       "      <td>9</td>\n",
       "    </tr>\n",
       "    <tr>\n",
       "      <th>5</th>\n",
       "      <td>7</td>\n",
       "      <td>5</td>\n",
       "    </tr>\n",
       "    <tr>\n",
       "      <th>6</th>\n",
       "      <td>7</td>\n",
       "      <td>6</td>\n",
       "    </tr>\n",
       "    <tr>\n",
       "      <th>7</th>\n",
       "      <td>6</td>\n",
       "      <td>10</td>\n",
       "    </tr>\n",
       "    <tr>\n",
       "      <th>8</th>\n",
       "      <td>8</td>\n",
       "      <td>6</td>\n",
       "    </tr>\n",
       "  </tbody>\n",
       "</table>\n",
       "</div>"
      ],
      "text/plain": [
       "   quiz1  quiz2\n",
       "0      6      6\n",
       "1      7      5\n",
       "2      8      6\n",
       "3      8     10\n",
       "4      6      9\n",
       "5      7      5\n",
       "6      7      6\n",
       "7      6     10\n",
       "8      8      6"
      ]
     },
     "execution_count": 1,
     "metadata": {},
     "output_type": "execute_result"
    }
   ],
   "source": [
    "import pandas as pd\n",
    "\n",
    "df_grades = pd.DataFrame({'quiz1': [6, 7, 8, 8, 6, 7, 7, 6, 8], \n",
    "                          'quiz2': [6, 5, 6, 10, 9, 5, 6, 10, 6]})\n",
    "df_grades\n"
   ]
  },
  {
   "cell_type": "markdown",
   "id": "6a8192ec",
   "metadata": {},
   "source": [
    "**Sample Mean** of a population is the arithmetic average:\n",
    "$$ \\bar{x} = \\frac{1}{N} \\sum_i x_i $$\n",
    "(add all entries together and divide by number of entries)\n"
   ]
  },
  {
   "cell_type": "code",
   "execution_count": 2,
   "id": "10b642fd",
   "metadata": {},
   "outputs": [
    {
     "data": {
      "text/plain": [
       "quiz1    7.0\n",
       "quiz2    7.0\n",
       "dtype: float64"
      ]
     },
     "execution_count": 2,
     "metadata": {},
     "output_type": "execute_result"
    }
   ],
   "source": [
    "df_grades.mean()\n"
   ]
  },
  {
   "cell_type": "markdown",
   "id": "fe9b74af",
   "metadata": {},
   "source": [
    "### Plotting code\n",
    "- Feel free to ignore it today (it isn't our focus today)\n",
    "    - If you see something you'd like to re-use, you can always go back and peek\n"
   ]
  },
  {
   "cell_type": "code",
   "execution_count": 3,
   "id": "49286570",
   "metadata": {},
   "outputs": [
    {
     "data": {
      "image/png": "[encoded data removed]",
      "text/plain": [
       "<Figure size 1440x360 with 2 Axes>"
      ]
     },
     "metadata": {},
     "output_type": "display_data"
    }
   ],
   "source": [
    "import matplotlib.pyplot as plt\n",
    "import seaborn as sns\n",
    "\n",
    "sns.set(font_scale=2)\n",
    "\n",
    "f, axes = plt.subplots(1, 2, sharey=True)\n",
    "for ax, label in zip(axes, df_grades.columns):\n",
    "    ax.plot(df_grades[label], 'o', color='black')\n",
    "    ax.set_title(label)\n",
    "    ax.set_xlabel('student')\n",
    "    ax.grid(True)\n",
    "    ax.axhline(df_grades[label].mean(), color='tab:green', ls=':', lw=4)\n",
    "    ax.annotate(xy = (df_grades.shape[0]-0.75, df_grades[label].mean()+.125), text='sample mean',\n",
    "               ha='right', fontsize=12, color='tab:green')\n",
    "axes[0].set_ylabel('grade')\n",
    "f.set_size_inches(20, 5)\n"
   ]
  },
  {
   "cell_type": "markdown",
   "id": "f7d66b88",
   "metadata": {
    "slideshow": {
     "slide_type": "slide"
    }
   },
   "source": [
    "## Sample Median\n"
   ]
  },
  {
   "cell_type": "markdown",
   "id": "c6cbfbf7",
   "metadata": {},
   "source": [
    "**Sample Median** is the \"halfway\" point of a set of sorted values:\n",
    "- half of the remaining data is greater than median\n",
    "- half of the remaining data is less than  median\n",
    "\n",
    "If a set of numbers has an even number of points then median is mean of middle most two points.\n"
   ]
  },
  {
   "cell_type": "code",
   "execution_count": 4,
   "id": "39ec689b",
   "metadata": {},
   "outputs": [
    {
     "data": {
      "text/plain": [
       "9"
      ]
     },
     "execution_count": 4,
     "metadata": {},
     "output_type": "execute_result"
    }
   ],
   "source": [
    "df_grades[label].shape[0]\n"
   ]
  },
  {
   "cell_type": "code",
   "execution_count": 5,
   "id": "90cb8777",
   "metadata": {},
   "outputs": [
    {
     "data": {
      "text/plain": [
       "quiz1    7.0\n",
       "quiz2    6.0\n",
       "dtype: float64"
      ]
     },
     "execution_count": 5,
     "metadata": {},
     "output_type": "execute_result"
    }
   ],
   "source": [
    "df_grades.median()\n"
   ]
  },
  {
   "cell_type": "code",
   "execution_count": 6,
   "id": "fe5f9841",
   "metadata": {},
   "outputs": [
    {
     "data": {
      "image/png": "[encoded data removed]",
      "text/plain": [
       "<Figure size 1440x360 with 2 Axes>"
      ]
     },
     "metadata": {},
     "output_type": "display_data"
    }
   ],
   "source": [
    "import matplotlib.pyplot as plt\n",
    "\n",
    "sns.set(font_scale=3)\n",
    "\n",
    "f, axes = plt.subplots(1, 2, sharey=True)\n",
    "for ax, label in zip(axes, df_grades.columns):\n",
    "    ax.plot(df_grades[label].sort_values().values, 'o', color='black')\n",
    "    ax.set_xticks(range(0, len(df_grades)))\n",
    "    ax.set_xticklabels(df_grades[label].sort_values().index)\n",
    "    ax.set_title(label)\n",
    "    ax.set_xlabel('student')\n",
    "    ax.grid(True)\n",
    "    ax.axhline(df_grades[label].mean(), color='tab:green', ls=':', lw=4)\n",
    "    ax.annotate(xy = (df_grades.shape[0]-0.75, df_grades[label].mean()+.125), text='sample mean',\n",
    "               ha='right', fontsize=12, color='tab:green')\n",
    "    \n",
    "    ax.axhline(df_grades[label].median(), color='tab:blue', ls='--', lw=4)\n",
    "    ax.annotate(xy = (df_grades.shape[0]-0.75, df_grades[label].median()-.125), text='sample median',\n",
    "               ha='right', fontsize=12, color='tab:blue', va='top')\n",
    "    \n",
    "    ax.annotate(xy = (.525, .975), color='tab:blue', xycoords='axes fraction', rotation=90, \n",
    "               text = 'halfway point', va='top', ha='left')\n",
    "    \n",
    "    ax.axvline((len(df_grades)-1)/2, ls='-.', color='tab:blue')\n",
    "    \n",
    "axes[0].set_ylabel('grade')\n",
    "f.set_size_inches(20, 5)\n"
   ]
  },
  {
   "cell_type": "code",
   "execution_count": null,
   "id": "92598356",
   "metadata": {},
   "outputs": [],
   "source": [
    "\n"
   ]
  },
  {
   "cell_type": "markdown",
   "id": "93ba0650",
   "metadata": {},
   "source": [
    "### Median is an attractive average when \n",
    "- data contains outliers\n",
    "    - **outlier:** a value which is atypically far from the average\n",
    "- data is ordinal\n",
    "    - we can't compute mean of ordinal data\n",
    "    \n"
   ]
  },
  {
   "cell_type": "markdown",
   "id": "59c19cad",
   "metadata": {
    "slideshow": {
     "slide_type": "slide"
    }
   },
   "source": [
    "## Sample Mode\n"
   ]
  },
  {
   "cell_type": "code",
   "execution_count": 7,
   "id": "0703c982",
   "metadata": {},
   "outputs": [
    {
     "data": {
      "text/html": [
       "<div>\n",
       "<style scoped>\n",
       "    .dataframe tbody tr th:only-of-type {\n",
       "        vertical-align: middle;\n",
       "    }\n",
       "\n",
       "    .dataframe tbody tr th {\n",
       "        vertical-align: top;\n",
       "    }\n",
       "\n",
       "    .dataframe thead th {\n",
       "        text-align: right;\n",
       "    }\n",
       "</style>\n",
       "<table border=\"1\" class=\"dataframe\">\n",
       "  <thead>\n",
       "    <tr style=\"text-align: right;\">\n",
       "      <th></th>\n",
       "      <th>quiz1</th>\n",
       "      <th>quiz2</th>\n",
       "    </tr>\n",
       "  </thead>\n",
       "  <tbody>\n",
       "    <tr>\n",
       "      <th>0</th>\n",
       "      <td>6</td>\n",
       "      <td>6</td>\n",
       "    </tr>\n",
       "    <tr>\n",
       "      <th>1</th>\n",
       "      <td>7</td>\n",
       "      <td>5</td>\n",
       "    </tr>\n",
       "    <tr>\n",
       "      <th>2</th>\n",
       "      <td>8</td>\n",
       "      <td>6</td>\n",
       "    </tr>\n",
       "    <tr>\n",
       "      <th>3</th>\n",
       "      <td>8</td>\n",
       "      <td>10</td>\n",
       "    </tr>\n",
       "    <tr>\n",
       "      <th>4</th>\n",
       "      <td>6</td>\n",
       "      <td>9</td>\n",
       "    </tr>\n",
       "    <tr>\n",
       "      <th>5</th>\n",
       "      <td>7</td>\n",
       "      <td>5</td>\n",
       "    </tr>\n",
       "    <tr>\n",
       "      <th>6</th>\n",
       "      <td>7</td>\n",
       "      <td>6</td>\n",
       "    </tr>\n",
       "    <tr>\n",
       "      <th>7</th>\n",
       "      <td>6</td>\n",
       "      <td>10</td>\n",
       "    </tr>\n",
       "    <tr>\n",
       "      <th>8</th>\n",
       "      <td>8</td>\n",
       "      <td>6</td>\n",
       "    </tr>\n",
       "  </tbody>\n",
       "</table>\n",
       "</div>"
      ],
      "text/plain": [
       "   quiz1  quiz2\n",
       "0      6      6\n",
       "1      7      5\n",
       "2      8      6\n",
       "3      8     10\n",
       "4      6      9\n",
       "5      7      5\n",
       "6      7      6\n",
       "7      6     10\n",
       "8      8      6"
      ]
     },
     "execution_count": 7,
     "metadata": {},
     "output_type": "execute_result"
    }
   ],
   "source": [
    "df_grades\n"
   ]
  },
  {
   "cell_type": "markdown",
   "id": "37feffeb",
   "metadata": {},
   "source": [
    "**Sample Mode** is the most common value in a dataset.\n",
    "\n",
    "Pandas has a mode function, but I think its more informative to call `Series.value_counts()` which yields a series of how often each value occurs in a series:\n"
   ]
  },
  {
   "cell_type": "code",
   "execution_count": 8,
   "id": "6962c5a8",
   "metadata": {},
   "outputs": [
    {
     "data": {
      "text/plain": [
       "6    3\n",
       "7    3\n",
       "8    3\n",
       "Name: quiz1, dtype: int64"
      ]
     },
     "execution_count": 8,
     "metadata": {},
     "output_type": "execute_result"
    }
   ],
   "source": [
    "# all three df_grades are equally likely - the mode is not unique\n",
    "df_grades['quiz1'].value_counts()\n"
   ]
  },
  {
   "cell_type": "code",
   "execution_count": 9,
   "id": "65cf4321",
   "metadata": {
    "scrolled": true
   },
   "outputs": [
    {
     "data": {
      "text/plain": [
       "6     4\n",
       "5     2\n",
       "10    2\n",
       "9     1\n",
       "Name: quiz2, dtype: int64"
      ]
     },
     "execution_count": 9,
     "metadata": {},
     "output_type": "execute_result"
    }
   ],
   "source": [
    "# mode is unique\n",
    "df_grades['quiz2'].value_counts()\n"
   ]
  },
  {
   "cell_type": "code",
   "execution_count": null,
   "id": "cfe585d4",
   "metadata": {},
   "outputs": [],
   "source": [
    "\n"
   ]
  },
  {
   "cell_type": "markdown",
   "id": "2e41e77c",
   "metadata": {},
   "source": [
    "### Mode is an attractive average when:\n",
    "- data is not numerical (e.g. categorical)\n",
    "- being \"close\" isn't helpful\n",
    "    - lottery example\n",
    "- data is nominal\n"
   ]
  },
  {
   "cell_type": "markdown",
   "id": "0c4ff280",
   "metadata": {
    "slideshow": {
     "slide_type": "slide"
    }
   },
   "source": [
    "### In Class Assignment A\n",
    "For each column in the dataset below:\n",
    "1. identify\n",
    "1. compute\n",
    "1. justify \n",
    "\n",
    "which of the \n",
    "\n",
    "- mean\n",
    "- median\n",
    "- mode \n",
    "\n",
    "is the best measure of the average of the data.\n"
   ]
  },
  {
   "cell_type": "code",
   "execution_count": 10,
   "id": "04f5457d",
   "metadata": {
    "scrolled": false,
    "slideshow": {
     "slide_type": "-"
    }
   },
   "outputs": [
    {
     "data": {
      "text/html": [
       "<div>\n",
       "<style scoped>\n",
       "    .dataframe tbody tr th:only-of-type {\n",
       "        vertical-align: middle;\n",
       "    }\n",
       "\n",
       "    .dataframe tbody tr th {\n",
       "        vertical-align: top;\n",
       "    }\n",
       "\n",
       "    .dataframe thead th {\n",
       "        text-align: right;\n",
       "    }\n",
       "</style>\n",
       "<table border=\"1\" class=\"dataframe\">\n",
       "  <thead>\n",
       "    <tr style=\"text-align: right;\">\n",
       "      <th></th>\n",
       "      <th>x</th>\n",
       "      <th>y</th>\n",
       "      <th>zip code</th>\n",
       "    </tr>\n",
       "  </thead>\n",
       "  <tbody>\n",
       "    <tr>\n",
       "      <th>0</th>\n",
       "      <td>-10</td>\n",
       "      <td>0.1</td>\n",
       "      <td>2215</td>\n",
       "    </tr>\n",
       "    <tr>\n",
       "      <th>1</th>\n",
       "      <td>10</td>\n",
       "      <td>1.0</td>\n",
       "      <td>2215</td>\n",
       "    </tr>\n",
       "    <tr>\n",
       "      <th>2</th>\n",
       "      <td>-10</td>\n",
       "      <td>10.0</td>\n",
       "      <td>2215</td>\n",
       "    </tr>\n",
       "    <tr>\n",
       "      <th>3</th>\n",
       "      <td>10</td>\n",
       "      <td>100.0</td>\n",
       "      <td>2215</td>\n",
       "    </tr>\n",
       "    <tr>\n",
       "      <th>4</th>\n",
       "      <td>-10</td>\n",
       "      <td>1000.0</td>\n",
       "      <td>2215</td>\n",
       "    </tr>\n",
       "    <tr>\n",
       "      <th>5</th>\n",
       "      <td>10</td>\n",
       "      <td>10000.0</td>\n",
       "      <td>90210</td>\n",
       "    </tr>\n",
       "  </tbody>\n",
       "</table>\n",
       "</div>"
      ],
      "text/plain": [
       "    x        y  zip code\n",
       "0 -10      0.1      2215\n",
       "1  10      1.0      2215\n",
       "2 -10     10.0      2215\n",
       "3  10    100.0      2215\n",
       "4 -10   1000.0      2215\n",
       "5  10  10000.0     90210"
      ]
     },
     "execution_count": 10,
     "metadata": {},
     "output_type": "execute_result"
    }
   ],
   "source": [
    "import pandas as pd\n",
    "\n",
    "df = pd.DataFrame({'x': [-10, 10, -10, 10, -10, 10],\n",
    "                   'y': [.1, 1, 10, 100, 1000, 10000],\n",
    "                   'zip code': [2215, 2215, 2215, 2215, 2215, 90210]})\n",
    "\n",
    "df\n",
    "\n"
   ]
  },
  {
   "cell_type": "code",
   "execution_count": 11,
   "id": "1901098a",
   "metadata": {
    "scrolled": true
   },
   "outputs": [
    {
     "data": {
      "text/plain": [
       "x              0.0\n",
       "y             55.0\n",
       "zip code    2215.0\n",
       "dtype: float64"
      ]
     },
     "execution_count": 11,
     "metadata": {},
     "output_type": "execute_result"
    }
   ],
   "source": [
    "df.median(axis=0)"
   ]
  },
  {
   "cell_type": "code",
   "execution_count": 12,
   "id": "11de5ed3",
   "metadata": {},
   "outputs": [
    {
     "data": {
      "text/plain": [
       "x               0.000000\n",
       "y            1851.850000\n",
       "zip code    16880.833333\n",
       "dtype: float64"
      ]
     },
     "execution_count": 12,
     "metadata": {},
     "output_type": "execute_result"
    }
   ],
   "source": [
    "df.mean(axis=0)"
   ]
  },
  {
   "cell_type": "code",
   "execution_count": 13,
   "id": "d9375ec8",
   "metadata": {},
   "outputs": [
    {
     "data": {
      "text/html": [
       "<div>\n",
       "<style scoped>\n",
       "    .dataframe tbody tr th:only-of-type {\n",
       "        vertical-align: middle;\n",
       "    }\n",
       "\n",
       "    .dataframe tbody tr th {\n",
       "        vertical-align: top;\n",
       "    }\n",
       "\n",
       "    .dataframe thead th {\n",
       "        text-align: right;\n",
       "    }\n",
       "</style>\n",
       "<table border=\"1\" class=\"dataframe\">\n",
       "  <thead>\n",
       "    <tr style=\"text-align: right;\">\n",
       "      <th></th>\n",
       "      <th>x</th>\n",
       "      <th>y</th>\n",
       "      <th>zip code</th>\n",
       "    </tr>\n",
       "  </thead>\n",
       "  <tbody>\n",
       "    <tr>\n",
       "      <th>0</th>\n",
       "      <td>-10.0</td>\n",
       "      <td>0.1</td>\n",
       "      <td>2215.0</td>\n",
       "    </tr>\n",
       "    <tr>\n",
       "      <th>1</th>\n",
       "      <td>10.0</td>\n",
       "      <td>1.0</td>\n",
       "      <td>NaN</td>\n",
       "    </tr>\n",
       "    <tr>\n",
       "      <th>2</th>\n",
       "      <td>NaN</td>\n",
       "      <td>10.0</td>\n",
       "      <td>NaN</td>\n",
       "    </tr>\n",
       "    <tr>\n",
       "      <th>3</th>\n",
       "      <td>NaN</td>\n",
       "      <td>100.0</td>\n",
       "      <td>NaN</td>\n",
       "    </tr>\n",
       "    <tr>\n",
       "      <th>4</th>\n",
       "      <td>NaN</td>\n",
       "      <td>1000.0</td>\n",
       "      <td>NaN</td>\n",
       "    </tr>\n",
       "    <tr>\n",
       "      <th>5</th>\n",
       "      <td>NaN</td>\n",
       "      <td>10000.0</td>\n",
       "      <td>NaN</td>\n",
       "    </tr>\n",
       "  </tbody>\n",
       "</table>\n",
       "</div>"
      ],
      "text/plain": [
       "      x        y  zip code\n",
       "0 -10.0      0.1    2215.0\n",
       "1  10.0      1.0       NaN\n",
       "2   NaN     10.0       NaN\n",
       "3   NaN    100.0       NaN\n",
       "4   NaN   1000.0       NaN\n",
       "5   NaN  10000.0       NaN"
      ]
     },
     "execution_count": 13,
     "metadata": {},
     "output_type": "execute_result"
    }
   ],
   "source": [
    "df.mode(axis=0)"
   ]
  },
  {
   "cell_type": "markdown",
   "id": "4ad4e744",
   "metadata": {},
   "source": [
    "\n",
    "## response\n",
    "Mode would be the best measure of the average of the x data and zipcode because there is one outlier (90210) in the nominal data, and it shows more information about x and the zipcode than using mean or medium. \n",
    "\n",
    "Median would be the best for y data and zipcode because there is a huge outlier (10000) in the data.\n"
   ]
  },
  {
   "cell_type": "code",
   "execution_count": null,
   "id": "ba64ca1c",
   "metadata": {},
   "outputs": [],
   "source": [
    "\n"
   ]
  },
  {
   "cell_type": "markdown",
   "id": "e36abf43",
   "metadata": {
    "slideshow": {
     "slide_type": "slide"
    }
   },
   "source": [
    "## How dispersed is the data?\n"
   ]
  },
  {
   "cell_type": "code",
   "execution_count": 14,
   "id": "ee7b32a2",
   "metadata": {},
   "outputs": [
    {
     "data": {
      "text/html": [
       "<div>\n",
       "<style scoped>\n",
       "    .dataframe tbody tr th:only-of-type {\n",
       "        vertical-align: middle;\n",
       "    }\n",
       "\n",
       "    .dataframe tbody tr th {\n",
       "        vertical-align: top;\n",
       "    }\n",
       "\n",
       "    .dataframe thead th {\n",
       "        text-align: right;\n",
       "    }\n",
       "</style>\n",
       "<table border=\"1\" class=\"dataframe\">\n",
       "  <thead>\n",
       "    <tr style=\"text-align: right;\">\n",
       "      <th></th>\n",
       "      <th>quiz1</th>\n",
       "      <th>quiz2</th>\n",
       "    </tr>\n",
       "  </thead>\n",
       "  <tbody>\n",
       "    <tr>\n",
       "      <th>0</th>\n",
       "      <td>6</td>\n",
       "      <td>6</td>\n",
       "    </tr>\n",
       "    <tr>\n",
       "      <th>1</th>\n",
       "      <td>7</td>\n",
       "      <td>5</td>\n",
       "    </tr>\n",
       "    <tr>\n",
       "      <th>2</th>\n",
       "      <td>8</td>\n",
       "      <td>6</td>\n",
       "    </tr>\n",
       "    <tr>\n",
       "      <th>3</th>\n",
       "      <td>8</td>\n",
       "      <td>10</td>\n",
       "    </tr>\n",
       "    <tr>\n",
       "      <th>4</th>\n",
       "      <td>6</td>\n",
       "      <td>9</td>\n",
       "    </tr>\n",
       "    <tr>\n",
       "      <th>5</th>\n",
       "      <td>7</td>\n",
       "      <td>5</td>\n",
       "    </tr>\n",
       "    <tr>\n",
       "      <th>6</th>\n",
       "      <td>7</td>\n",
       "      <td>6</td>\n",
       "    </tr>\n",
       "    <tr>\n",
       "      <th>7</th>\n",
       "      <td>6</td>\n",
       "      <td>10</td>\n",
       "    </tr>\n",
       "    <tr>\n",
       "      <th>8</th>\n",
       "      <td>8</td>\n",
       "      <td>6</td>\n",
       "    </tr>\n",
       "  </tbody>\n",
       "</table>\n",
       "</div>"
      ],
      "text/plain": [
       "   quiz1  quiz2\n",
       "0      6      6\n",
       "1      7      5\n",
       "2      8      6\n",
       "3      8     10\n",
       "4      6      9\n",
       "5      7      5\n",
       "6      7      6\n",
       "7      6     10\n",
       "8      8      6"
      ]
     },
     "execution_count": 14,
     "metadata": {},
     "output_type": "execute_result"
    }
   ],
   "source": [
    "df_grades\n"
   ]
  },
  {
   "cell_type": "markdown",
   "id": "303d5033",
   "metadata": {
    "slideshow": {
     "slide_type": "slide"
    }
   },
   "source": [
    "## Observations vs Ground Truth\n",
    "\n",
    "    Fishing in a new pond, you catch fish which are 3 lbs and another which is 5 lbs.  \n",
    "    What can (and can't) you say about the average fish weight in the pond?\n",
    "\n",
    "\n",
    "- **Observed** data points can be collected from an experiment.\n",
    "- The **Ground Truth** describes information which is absolutely true.  \n",
    "    - we rarely know ground truth information about distributions\n",
    "        - instead ... we estimate them\n",
    "        \n",
    "       \n",
    "### Language (and notation) to distinguish between observations and ground truth:\n",
    "\n",
    "| **Observed**                             | **Ground Truth**            |\n",
    "|------------------------------------------|-----------------------------|\n",
    "| Sample Mean $\\bar{x}$                    | Expected Value $E[x], \\mu$       |\n",
    "| Sample Standard Deviation $\\hat{\\sigma}$ | Standard Deviation $\\sigma$ |\n",
    "| Sample Variance $\\hat{\\sigma^2}$         | Variance $\\sigma^2$         |\n",
    "\n",
    "(In DS practice, because almost all our data is observed, we rarely say \"Sample Mean\" and usually just say \"Mean\", and usually when folks just say \"Standard Deviation\" or \"Variance\" they mean the \"Sample Standard Deviation\" and \"Sample Variance\")\n",
    "    \n"
   ]
  },
  {
   "cell_type": "markdown",
   "id": "2ec6b29c",
   "metadata": {
    "slideshow": {
     "slide_type": "slide"
    }
   },
   "source": [
    "### Variance\n",
    "**Variance** is the average squared distance from the mean. \n",
    "$$ \\sigma^2 = \\frac{1}{N} \\sum_i (x_i-\\mu)^2 $$\n",
    "where $\\mu$ is the expected value of the distribution that $x_i$ came from.\n",
    "\n",
    "Rarely do we know the distribution (or its mean $\\mu$).  The best we can do is estimate this value as the **Sample Variance**:\n",
    "$$ \\hat{\\sigma}^2 = \\frac{1}{N-1} \\sum_i (x_i-\\bar{x})^2 $$\n",
    "where $\\bar{x}$ is the sample mean.  \n",
    "\n",
    "**Note the $\\frac{1}{N-1}$ term in Sample Variance (Bessel's Correction) differs from the $\\frac{1}{N}$ term in Variance above.**\n"
   ]
  },
  {
   "cell_type": "code",
   "execution_count": 15,
   "id": "9e1afc8f",
   "metadata": {},
   "outputs": [
    {
     "data": {
      "image/png": "[encoded data removed]",
      "text/plain": [
       "<Figure size 864x432 with 1 Axes>"
      ]
     },
     "metadata": {},
     "output_type": "display_data"
    }
   ],
   "source": [
    "import matplotlib.pyplot as plt\n",
    "\n",
    "f, ax = plt.subplots()\n",
    "label='quiz1'\n",
    "ax.plot(df_grades[label], 'o', color='black')\n",
    "ax.set_title(label)\n",
    "ax.set_xlabel('student')\n",
    "ax.grid(True)\n",
    "ax.axhline(df_grades[label].mean(), color='tab:green', ls=':', lw=4)\n",
    "ax.annotate(xy = (df_grades.shape[0]-0.75, df_grades[label].mean()+.125), text='sample mean',\n",
    "           ha='right', fontsize=12, color='tab:green')\n",
    "ax.set_ylim([4.75, 10.25])\n",
    "\n",
    "for idx, el in enumerate(df_grades[label]):\n",
    "    ax.plot([idx, idx], [df_grades[label].mean(), el], lw=4, ls='--', color='tab:red')\n",
    "\n",
    "ax.set_ylabel('grade')\n",
    "f.set_size_inches(12, 6)\n"
   ]
  },
  {
   "cell_type": "markdown",
   "id": "b766c779",
   "metadata": {},
   "source": [
    "In Quiz 1 we see that the sample mean is 7.  So that:\n",
    "$$ \\hat{\\sigma}^2 =   = \\frac{1}{N-1} \\sum_i (x_i-\\bar{x})^2 = \\frac{1}{9-1} \\cdot((-1)^2 + 0^2 + 1^2 + 1^2 + (-1)^2 + 0^2 + 0^2 + (-1)^2 + 1^2) = \\frac{6}{8} = .75$$\n"
   ]
  },
  {
   "cell_type": "code",
   "execution_count": 16,
   "id": "54f9e08f",
   "metadata": {},
   "outputs": [
    {
     "data": {
      "text/plain": [
       "0.75"
      ]
     },
     "execution_count": 16,
     "metadata": {},
     "output_type": "execute_result"
    }
   ],
   "source": [
    "df_grades['quiz1'].var()\n"
   ]
  },
  {
   "cell_type": "code",
   "execution_count": 17,
   "id": "dc71cc35",
   "metadata": {},
   "outputs": [
    {
     "data": {
      "image/png": "[encoded data removed]",
      "text/plain": [
       "<Figure size 864x432 with 2 Axes>"
      ]
     },
     "metadata": {},
     "output_type": "display_data"
    }
   ],
   "source": [
    "import matplotlib.pyplot as plt\n",
    "\n",
    "f, axes = plt.subplots(1, 2, sharey=True)\n",
    "for ax, label in zip(axes, df_grades.columns):\n",
    "    ax.plot(df_grades[label], 'o', color='black')\n",
    "    ax.set_title(label)\n",
    "    ax.set_xlabel('student')\n",
    "    ax.grid(True)\n",
    "    ax.axhline(df_grades[label].mean(), color='tab:green', ls=':', lw=4)\n",
    "    ax.annotate(xy = (df_grades.shape[0]-0.75, df_grades[label].mean()+.125), text='sample mean',\n",
    "               ha='right', fontsize=12, color='tab:green')\n",
    "    ax.set_ylim([4.75, 10.25])\n",
    "\n",
    "    for idx, el in enumerate(df_grades[label]):\n",
    "        ax.plot([idx, idx], [df_grades[label].mean(), el], lw=4, ls='--', color='tab:red')\n",
    "\n",
    "axes[0].set_ylabel('grade')\n",
    "f.set_size_inches(12, 6)\n"
   ]
  },
  {
   "cell_type": "markdown",
   "id": "a36a5a54",
   "metadata": {},
   "source": [
    "In Quiz 2 we see that the sample mean is the same, but the distances from the mean are bigger:\n",
    "$$ \\hat{\\sigma}^2 = \\frac{1}{9-1} \\cdot(1^2 + 2^2 + 1^2 + 3^2 + 2^2 + 2^2 + 1^2 + 3^2 + 1^2) = \\frac{34}{8} = 4.25$$\n"
   ]
  },
  {
   "cell_type": "code",
   "execution_count": 18,
   "id": "1007b79a",
   "metadata": {},
   "outputs": [
    {
     "data": {
      "text/plain": [
       "quiz1    0.75\n",
       "quiz2    4.25\n",
       "dtype: float64"
      ]
     },
     "execution_count": 18,
     "metadata": {},
     "output_type": "execute_result"
    }
   ],
   "source": [
    "df_grades.var()\n"
   ]
  },
  {
   "cell_type": "markdown",
   "id": "692a386d",
   "metadata": {},
   "source": [
    "### Quick Question:\n",
    "\n",
    "What does the cell above tell us about quiz1 and quiz2?  (See if you can use language which is easily understood by folks without much math background)\n"
   ]
  },
  {
   "cell_type": "markdown",
   "id": "18807c9d",
   "metadata": {
    "slideshow": {
     "slide_type": "slide"
    }
   },
   "source": [
    "### Standard deviation\n",
    "Standard deviation is just the square root of the variance:\n",
    "\n",
    "$$ \\hat{\\sigma} = \\sqrt{\\hat{\\sigma}^2} = \\sqrt{\\frac{1}{N-1} \\sum_i (x_i-\\bar{x})^2} $$\n"
   ]
  },
  {
   "cell_type": "markdown",
   "id": "a07ca22b",
   "metadata": {
    "slideshow": {
     "slide_type": "slide"
    }
   },
   "source": [
    "## In Class Assignment B\n",
    "\n",
    "    set A: 4, 6, 8, 6, 2, 10\n",
    "\n",
    "    set B: -100, 100, -100, 100\n",
    "\n",
    "1. Using your intuition and the definitions of sample mean and sample variance, tell which set:\n",
    "- has the largest sample mean\n",
    "- has the largest sample variance\n",
    "\n",
    "2. Then, with pencil and paper, compute the sample mean and sample variance of each.\n",
    "\n",
    "3. Finally, use pandas to compute the sample mean and variance of each set to validate your solution\n"
   ]
  },
  {
   "cell_type": "markdown",
   "id": "1b97caac",
   "metadata": {},
   "source": [
    "Set A has the largest sample mean.\n",
    "\n",
    "Set B has the largest sample variance\n"
   ]
  },
  {
   "cell_type": "code",
   "execution_count": 23,
   "id": "e3f60c82",
   "metadata": {},
   "outputs": [
    {
     "data": {
      "text/plain": [
       "8.0"
      ]
     },
     "execution_count": 23,
     "metadata": {},
     "output_type": "execute_result"
    }
   ],
   "source": [
    "import pandas as pd\n",
    "\n",
    "setA = [4,6,8,6,2,10]\n",
    "pd.Series(setA).var() \n"
   ]
  },
  {
   "cell_type": "code",
   "execution_count": 25,
   "id": "c58c4f55",
   "metadata": {},
   "outputs": [
    {
     "data": {
      "text/plain": [
       "6.0"
      ]
     },
     "execution_count": 25,
     "metadata": {},
     "output_type": "execute_result"
    }
   ],
   "source": [
    "pd.Series(setA).mean()"
   ]
  },
  {
   "cell_type": "code",
   "execution_count": 24,
   "id": "f77ad2e0",
   "metadata": {},
   "outputs": [
    {
     "data": {
      "text/plain": [
       "13333.333333333334"
      ]
     },
     "execution_count": 24,
     "metadata": {},
     "output_type": "execute_result"
    }
   ],
   "source": [
    "setB = [-100,100,-100,100]\n",
    "pd.Series(setB).var()"
   ]
  },
  {
   "cell_type": "code",
   "execution_count": 26,
   "id": "866ded6c",
   "metadata": {},
   "outputs": [
    {
     "data": {
      "text/plain": [
       "0.0"
      ]
     },
     "execution_count": 26,
     "metadata": {},
     "output_type": "execute_result"
    }
   ],
   "source": [
    "pd.Series(setB).mean()"
   ]
  },
  {
   "cell_type": "markdown",
   "id": "34531961",
   "metadata": {
    "slideshow": {
     "slide_type": "slide"
    }
   },
   "source": [
    "### Are averages (mean, median, mode) and dispersion (standard deviation and variance) sufficient to describe data?\n",
    "\n",
    "There's one more common thing people want to measure ...\n",
    "\n",
    "### Quick Question:\n",
    "Whats the difference between the real (blue) and fake (orange) penguins below?\n",
    "\n",
    "- hint: for both `body_mass_g` and `flipper_length_mm`:\n",
    "    - variance among blue dots is about equivilent to orange dots\n"
   ]
  },
  {
   "cell_type": "markdown",
   "id": "35d0ee95",
   "metadata": {},
   "source": [
    "<img src=\"https://i.ibb.co/Hgnp2gb/real-fake-penguin.png\" alt=\"Drawing\" style=\"width: 800px;\"/>\n",
    "\n"
   ]
  },
  {
   "cell_type": "markdown",
   "id": "85abf7b7",
   "metadata": {
    "slideshow": {
     "slide_type": "-"
    }
   },
   "source": [
    "    \n",
    "<img src=\"https://i.ibb.co/y5zn21T/mass-flipper-scatter1.png\" alt=\"Drawing\" style=\"width: 800px;\"/>\n",
    "\n"
   ]
  },
  {
   "cell_type": "markdown",
   "id": "39ca1706",
   "metadata": {
    "slideshow": {
     "slide_type": "-"
    }
   },
   "source": [
    "### Heavier penguins have longer flippers\n",
    "\n",
    "... and yet mean and variance, by themselves, don't characterize this behavior.\n",
    "\n",
    "\n",
    "### Punchline: We need a way of encapsulating how `body_mass_g` and `flipper_length_mm` vary together.\n"
   ]
  },
  {
   "cell_type": "markdown",
   "id": "1bd7554c",
   "metadata": {
    "slideshow": {
     "slide_type": "slide"
    }
   },
   "source": [
    "### Co-variance & correlation: Qualitatively\n",
    "(How two values vary together)\n",
    "\n",
    "The behavior between any two values x and y can be summarized in one of the three ways:\n",
    "1. as x gets larger y typically gets larger too\n",
    "    - ex: \n",
    "        - `x=temp on some day`\n",
    "        - `y=number of people on the beach on the same day`\n",
    "    - covariance & correlation is positive\n",
    "2. as x gets larger y typically doesn't get larger or smaller\n",
    "    - ex: \n",
    "        - `x=individual's favorite number`\n",
    "        - `y=number of hot dogs that individual has eaten in their lifetime`\n",
    "    - covariance & correlation is zero\n",
    "3. as x gets larger, y typically gets smaller\n",
    "    - ex: \n",
    "        - `x=average speed of driver on 10 mile commute`\n",
    "        - `y=average commute time of driver on 10 mile commute`\n",
    "    - covariance & correlation are negative\n",
    "    \n",
    "#### Mea Culpa\n",
    "There is a difference between covariance and correlation ... for now let them share a definition.  We'll go back and distinguish once this definition is solidified.\n"
   ]
  },
  {
   "cell_type": "markdown",
   "id": "caa9fa1d",
   "metadata": {
    "slideshow": {
     "slide_type": "slide"
    }
   },
   "source": [
    "### Covariance & Correlation: Gotcha\n",
    "Covariance & Correlation are only defined between two values when the observations are somehow **linked**:\n",
    "1. on the same **day**, we observe temp & beach population\n",
    "1. on the same **individual**, we observe favortie number & hot dogs eaten\n",
    "1. on the same **driver**, we observe speed and commute time\n",
    "\n",
    "If we don't observe the data in pairs, correlation / covariance is not defined:\n",
    "- `x=an individual's favorite number`\n",
    "- `y=the temperature on a given day`\n",
    "\n",
    "`x` is observed per individual while `y` is observed per day ... there isn't a way to \"pair\" every x with a y!\n"
   ]
  },
  {
   "cell_type": "code",
   "execution_count": 27,
   "id": "3ab728f1",
   "metadata": {},
   "outputs": [
    {
     "data": {
      "text/html": [
       "<div>\n",
       "<style scoped>\n",
       "    .dataframe tbody tr th:only-of-type {\n",
       "        vertical-align: middle;\n",
       "    }\n",
       "\n",
       "    .dataframe tbody tr th {\n",
       "        vertical-align: top;\n",
       "    }\n",
       "\n",
       "    .dataframe thead th {\n",
       "        text-align: right;\n",
       "    }\n",
       "</style>\n",
       "<table border=\"1\" class=\"dataframe\">\n",
       "  <thead>\n",
       "    <tr style=\"text-align: right;\">\n",
       "      <th></th>\n",
       "      <th>bill_length_mm</th>\n",
       "      <th>bill_depth_mm</th>\n",
       "      <th>flipper_length_mm</th>\n",
       "      <th>body_mass_g</th>\n",
       "    </tr>\n",
       "  </thead>\n",
       "  <tbody>\n",
       "    <tr>\n",
       "      <th>bill_length_mm</th>\n",
       "      <td>29.807054</td>\n",
       "      <td>-2.534234</td>\n",
       "      <td>50.375765</td>\n",
       "      <td>2605.591912</td>\n",
       "    </tr>\n",
       "    <tr>\n",
       "      <th>bill_depth_mm</th>\n",
       "      <td>-2.534234</td>\n",
       "      <td>3.899808</td>\n",
       "      <td>-16.212950</td>\n",
       "      <td>-747.370093</td>\n",
       "    </tr>\n",
       "    <tr>\n",
       "      <th>flipper_length_mm</th>\n",
       "      <td>50.375765</td>\n",
       "      <td>-16.212950</td>\n",
       "      <td>197.731792</td>\n",
       "      <td>9824.416062</td>\n",
       "    </tr>\n",
       "    <tr>\n",
       "      <th>body_mass_g</th>\n",
       "      <td>2605.591912</td>\n",
       "      <td>-747.370093</td>\n",
       "      <td>9824.416062</td>\n",
       "      <td>643131.077327</td>\n",
       "    </tr>\n",
       "  </tbody>\n",
       "</table>\n",
       "</div>"
      ],
      "text/plain": [
       "                   bill_length_mm  bill_depth_mm  flipper_length_mm  \\\n",
       "bill_length_mm          29.807054      -2.534234          50.375765   \n",
       "bill_depth_mm           -2.534234       3.899808         -16.212950   \n",
       "flipper_length_mm       50.375765     -16.212950         197.731792   \n",
       "body_mass_g           2605.591912    -747.370093        9824.416062   \n",
       "\n",
       "                     body_mass_g  \n",
       "bill_length_mm       2605.591912  \n",
       "bill_depth_mm        -747.370093  \n",
       "flipper_length_mm    9824.416062  \n",
       "body_mass_g        643131.077327  "
      ]
     },
     "execution_count": 27,
     "metadata": {},
     "output_type": "execute_result"
    }
   ],
   "source": [
    "df_penguin = sns.load_dataset('penguins')\n",
    "df_penguin.cov()\n"
   ]
  },
  {
   "cell_type": "markdown",
   "id": "a9d20feb",
   "metadata": {
    "slideshow": {
     "slide_type": "slide"
    }
   },
   "source": [
    "## Computing Co-variance (\"by hand\")\n",
    "\n",
    "**Goal**: \n",
    "\n",
    "compute the covariance of x and y below:\n"
   ]
  },
  {
   "cell_type": "code",
   "execution_count": 28,
   "id": "a696e5f2",
   "metadata": {},
   "outputs": [
    {
     "data": {
      "text/html": [
       "<div>\n",
       "<style scoped>\n",
       "    .dataframe tbody tr th:only-of-type {\n",
       "        vertical-align: middle;\n",
       "    }\n",
       "\n",
       "    .dataframe tbody tr th {\n",
       "        vertical-align: top;\n",
       "    }\n",
       "\n",
       "    .dataframe thead th {\n",
       "        text-align: right;\n",
       "    }\n",
       "</style>\n",
       "<table border=\"1\" class=\"dataframe\">\n",
       "  <thead>\n",
       "    <tr style=\"text-align: right;\">\n",
       "      <th></th>\n",
       "      <th>car weight (x)</th>\n",
       "      <th>mpg (y)</th>\n",
       "    </tr>\n",
       "  </thead>\n",
       "  <tbody>\n",
       "    <tr>\n",
       "      <th>car0</th>\n",
       "      <td>-2</td>\n",
       "      <td>2</td>\n",
       "    </tr>\n",
       "    <tr>\n",
       "      <th>car1</th>\n",
       "      <td>-1</td>\n",
       "      <td>1</td>\n",
       "    </tr>\n",
       "    <tr>\n",
       "      <th>car2</th>\n",
       "      <td>0</td>\n",
       "      <td>0</td>\n",
       "    </tr>\n",
       "    <tr>\n",
       "      <th>car3</th>\n",
       "      <td>1</td>\n",
       "      <td>-1</td>\n",
       "    </tr>\n",
       "    <tr>\n",
       "      <th>car4</th>\n",
       "      <td>2</td>\n",
       "      <td>-2</td>\n",
       "    </tr>\n",
       "  </tbody>\n",
       "</table>\n",
       "</div>"
      ],
      "text/plain": [
       "      car weight (x)  mpg (y)\n",
       "car0              -2        2\n",
       "car1              -1        1\n",
       "car2               0        0\n",
       "car3               1       -1\n",
       "car4               2       -2"
      ]
     },
     "execution_count": 28,
     "metadata": {},
     "output_type": "execute_result"
    }
   ],
   "source": [
    "import pandas as pd\n",
    "\n",
    "df_car = pd.DataFrame({'car weight (x)': [-2, -1, 0, 1, 2],\n",
    "                       'mpg (y)': [2, 1, 0, -1, -2]},\n",
    "                      index=['car0', 'car1', 'car2', 'car3', 'car4'])\n",
    "df_car\n"
   ]
  },
  {
   "cell_type": "markdown",
   "id": "e0709d65",
   "metadata": {
    "slideshow": {
     "slide_type": "slide"
    }
   },
   "source": [
    "**Sample covariance:**\n",
    "$$ \\texttt{cov}(x, y) = \\frac{1}{N-1} \\sum_i (x_i - \\bar{x})(y_i - \\bar{y})$$\n",
    "\n",
    "\n",
    "**Compute:**\n",
    "\n",
    "|      | x | y | $$ x_i - \\bar{x}$$ | $$y - \\bar{y}$$ | $$ (x_i - \\bar{x})(y - \\bar{y})$$ |\n",
    "|-----:|---------------:|--------:|--------------------|-----------------|-----------------------------------|\n",
    "| car0 |              -2 |       2 | -2                 | 2               | -4                                |\n",
    "| car1 |              -1 |       1 | -1                 | 1               | -1                                |\n",
    "| car2 |              0 |       0 | 0                  | 0               | 0                                 |\n",
    "| car3 |              1 |       -1 | 1                  | -1              | -1                                |\n",
    "| car4 |              2 |       -2 | 2                  | -2              | -4                                |\n",
    "\n",
    "### Quick Question\n",
    "- Under what conditions is the last column positive? ... either:\n",
    "    - x is above its average and y is above its average\n",
    "    - x is below its average and y is below its average\n",
    "    \n",
    "#### punchline:\n",
    "The algebraic insight immediately above is closely aligned to definition of covariance / correlation given above.\n",
    "\n"
   ]
  },
  {
   "cell_type": "code",
   "execution_count": 29,
   "id": "a42841e8",
   "metadata": {},
   "outputs": [
    {
     "data": {
      "text/plain": [
       "-2.5"
      ]
     },
     "execution_count": 29,
     "metadata": {},
     "output_type": "execute_result"
    }
   ],
   "source": [
    "num_car = 5\n",
    "sample_cov = (-4 -1 +0 -1 -4) / (num_car - 1)\n",
    "sample_cov\n"
   ]
  },
  {
   "cell_type": "code",
   "execution_count": null,
   "id": "89519cab",
   "metadata": {},
   "outputs": [],
   "source": [
    "\n"
   ]
  },
  {
   "cell_type": "markdown",
   "id": "ff2037b7",
   "metadata": {
    "slideshow": {
     "slide_type": "slide"
    }
   },
   "source": [
    "## Anatomy of a Covariance Matrix (computing covariance via computer)\n"
   ]
  },
  {
   "cell_type": "code",
   "execution_count": 30,
   "id": "3a4aa69c",
   "metadata": {},
   "outputs": [
    {
     "data": {
      "text/html": [
       "<div>\n",
       "<style scoped>\n",
       "    .dataframe tbody tr th:only-of-type {\n",
       "        vertical-align: middle;\n",
       "    }\n",
       "\n",
       "    .dataframe tbody tr th {\n",
       "        vertical-align: top;\n",
       "    }\n",
       "\n",
       "    .dataframe thead th {\n",
       "        text-align: right;\n",
       "    }\n",
       "</style>\n",
       "<table border=\"1\" class=\"dataframe\">\n",
       "  <thead>\n",
       "    <tr style=\"text-align: right;\">\n",
       "      <th></th>\n",
       "      <th>car weight (x)</th>\n",
       "      <th>mpg (y)</th>\n",
       "    </tr>\n",
       "  </thead>\n",
       "  <tbody>\n",
       "    <tr>\n",
       "      <th>car0</th>\n",
       "      <td>-2</td>\n",
       "      <td>2</td>\n",
       "    </tr>\n",
       "    <tr>\n",
       "      <th>car1</th>\n",
       "      <td>-1</td>\n",
       "      <td>1</td>\n",
       "    </tr>\n",
       "    <tr>\n",
       "      <th>car2</th>\n",
       "      <td>0</td>\n",
       "      <td>0</td>\n",
       "    </tr>\n",
       "    <tr>\n",
       "      <th>car3</th>\n",
       "      <td>1</td>\n",
       "      <td>-1</td>\n",
       "    </tr>\n",
       "    <tr>\n",
       "      <th>car4</th>\n",
       "      <td>2</td>\n",
       "      <td>-2</td>\n",
       "    </tr>\n",
       "  </tbody>\n",
       "</table>\n",
       "</div>"
      ],
      "text/plain": [
       "      car weight (x)  mpg (y)\n",
       "car0              -2        2\n",
       "car1              -1        1\n",
       "car2               0        0\n",
       "car3               1       -1\n",
       "car4               2       -2"
      ]
     },
     "execution_count": 30,
     "metadata": {},
     "output_type": "execute_result"
    }
   ],
   "source": [
    "df_car\n"
   ]
  },
  {
   "cell_type": "code",
   "execution_count": 31,
   "id": "0d966bd8",
   "metadata": {},
   "outputs": [
    {
     "data": {
      "text/html": [
       "<div>\n",
       "<style scoped>\n",
       "    .dataframe tbody tr th:only-of-type {\n",
       "        vertical-align: middle;\n",
       "    }\n",
       "\n",
       "    .dataframe tbody tr th {\n",
       "        vertical-align: top;\n",
       "    }\n",
       "\n",
       "    .dataframe thead th {\n",
       "        text-align: right;\n",
       "    }\n",
       "</style>\n",
       "<table border=\"1\" class=\"dataframe\">\n",
       "  <thead>\n",
       "    <tr style=\"text-align: right;\">\n",
       "      <th></th>\n",
       "      <th>car weight (x)</th>\n",
       "      <th>mpg (y)</th>\n",
       "    </tr>\n",
       "  </thead>\n",
       "  <tbody>\n",
       "    <tr>\n",
       "      <th>car weight (x)</th>\n",
       "      <td>2.5</td>\n",
       "      <td>-2.5</td>\n",
       "    </tr>\n",
       "    <tr>\n",
       "      <th>mpg (y)</th>\n",
       "      <td>-2.5</td>\n",
       "      <td>2.5</td>\n",
       "    </tr>\n",
       "  </tbody>\n",
       "</table>\n",
       "</div>"
      ],
      "text/plain": [
       "                car weight (x)  mpg (y)\n",
       "car weight (x)             2.5     -2.5\n",
       "mpg (y)                   -2.5      2.5"
      ]
     },
     "execution_count": 31,
     "metadata": {},
     "output_type": "execute_result"
    }
   ],
   "source": [
    "# returns a full covariance matrix\n",
    "df_car.cov()\n"
   ]
  },
  {
   "cell_type": "markdown",
   "id": "3c8282bc",
   "metadata": {},
   "source": [
    "A covariance matrix contains the covariance of every pair of elements:\n",
    "    \n",
    "|   |         x |         y |\n",
    "|--:|----------:|----------:|\n",
    "| x | cov(x, x) | cov(x, y) |\n",
    "| y | cov(y, x) | cov(y, y) |\n",
    "\n",
    "- Note 1: cov(x, y) = cov(y, x) (always, not just in this example)\n",
    "    - $$ \\texttt{cov}(x, y) = \\frac{1}{N-1} \\sum_i (x_i - \\bar{x}) (y_i - \\bar{y}) =  \\frac{1}{N-1} \\sum_i  (y_i - \\bar{y})(x_i - \\bar{x}) = \\texttt{cov}(y, x)  $$\n",
    "- Note 2: cov(x, x) is the variance of x and itself:\n",
    "    - $$ \\texttt{cov}(x, x) = \\frac{1}{N-1} \\sum_i (x_i - \\bar{x}) (x_i - \\bar{x}) =  \\frac{1}{N-1} \\sum_i (x_i - \\bar{x})^2 = \\texttt{var}(x) $$\n"
   ]
  },
  {
   "cell_type": "code",
   "execution_count": 32,
   "id": "efcff037",
   "metadata": {},
   "outputs": [
    {
     "data": {
      "text/plain": [
       "car weight (x)    2.5\n",
       "mpg (y)           2.5\n",
       "dtype: float64"
      ]
     },
     "execution_count": 32,
     "metadata": {},
     "output_type": "execute_result"
    }
   ],
   "source": [
    "# variance diagonal of the covariance matrix\n",
    "df_car.var()\n"
   ]
  },
  {
   "cell_type": "markdown",
   "id": "16b740cf",
   "metadata": {
    "slideshow": {
     "slide_type": "slide"
    }
   },
   "source": [
    "## In Class Assignment C\n",
    "\n",
    "Each of the scatters below shows two features, each with a mean of 0.  Match the scatter above with the covariance matrices below (each scatter corresponds to a unique covariance matrix).\n",
    "\n",
    "<img src=\"https://i.ibb.co/kcN8TvM/cov-match.png\" alt=\"Drawing\" style=\"width: 800px;\"/>\n"
   ]
  },
  {
   "cell_type": "markdown",
   "id": "6a1d1966",
   "metadata": {},
   "source": [
    "graph a = matrix_3\n",
    "graph b = matrix_1\n",
    "graph c = matrix_5\n",
    "graph d = matrix_2\n",
    "graph e = matrix_0\n",
    "graph f = matrix_4\n"
   ]
  },
  {
   "cell_type": "code",
   "execution_count": null,
   "id": "ca8a703c",
   "metadata": {},
   "outputs": [],
   "source": [
    "\n"
   ]
  },
  {
   "cell_type": "code",
   "execution_count": null,
   "id": "ccf8f866",
   "metadata": {},
   "outputs": [],
   "source": [
    "\n"
   ]
  },
  {
   "cell_type": "markdown",
   "id": "81489ab6",
   "metadata": {
    "slideshow": {
     "slide_type": "slide"
    }
   },
   "source": [
    "## Correlation (motivation)\n",
    "\n",
    "Which has a more consistent relationship? (or maybe they're the same?)\n",
    "- height of a person in `inches`\n",
    "- height of a person in `cm`\n",
    "\n",
    "or\n",
    "- height of a person in `inches`\n",
    "- height of a person in `feet`\n"
   ]
  },
  {
   "cell_type": "markdown",
   "id": "12a83205",
   "metadata": {
    "slideshow": {
     "slide_type": "slide"
    }
   },
   "source": [
    "What if we try and measure the relationship using covariance?\n"
   ]
  },
  {
   "cell_type": "code",
   "execution_count": null,
   "id": "d2e41c16",
   "metadata": {
    "slideshow": {
     "slide_type": "-"
    }
   },
   "outputs": [],
   "source": [
    "inch_to_cm = 2.54\n",
    "inch_to_feet = 1/12\n",
    "\n",
    "df_height = pd.DataFrame({'height_inches': [68, 68, 70, 72, 55, 77]})\n",
    "df_height['height_cm'] = df_height['height_inches'] * inch_to_cm\n",
    "df_height['height_feet'] = df_height['height_inches'] * inch_to_feet\n",
    "\n",
    "df_height\n"
   ]
  },
  {
   "cell_type": "code",
   "execution_count": null,
   "id": "63657799",
   "metadata": {},
   "outputs": [],
   "source": [
    "df_height.cov()\n"
   ]
  },
  {
   "cell_type": "markdown",
   "id": "f7a1d3c3",
   "metadata": {},
   "source": [
    "- Covariance between `height_inches` and `height_cm` ~= 136\n",
    "- Covariance between `height_inches` and `height_feet` ~= 4\n",
    "\n",
    "So is there a stronger relationship between `height_inches` and `height_cm`? ...\n"
   ]
  },
  {
   "cell_type": "code",
   "execution_count": null,
   "id": "a4953138",
   "metadata": {},
   "outputs": [],
   "source": [
    "sns.scatterplot(data=df_height, x='height_inches', y='height_cm')\n"
   ]
  },
  {
   "cell_type": "code",
   "execution_count": null,
   "id": "a7ef8a2a",
   "metadata": {},
   "outputs": [],
   "source": [
    "sns.scatterplot(data=df_height, x='height_inches', y='height_feet')\n"
   ]
  },
  {
   "cell_type": "markdown",
   "id": "27cbfa77",
   "metadata": {},
   "source": [
    "So is there a stronger relationship between `height_inches` and `height_cm`? ...\n",
    "\n",
    "... not really.  Its just that covariance depends on the units we measure in.  Smaller units -> bigger values -> bigger covariance.\n",
    "\n",
    "## The 'strongest' relationship between two variables\n",
    "\n",
    "In some sense, this is the 'strongest' possible relationship.  When one variable increases, the other always does so too.  Lets build up some algebra to support this idea:\n"
   ]
  },
  {
   "cell_type": "markdown",
   "id": "6863ac64",
   "metadata": {
    "slideshow": {
     "slide_type": "slide"
    }
   },
   "source": [
    "## Helpful fact:\n",
    "The covariance is always smaller than the product of the standard deviations of both variables:\n",
    "\n",
    "$$|cov(x,y)| \\leq \\sigma_x \\sigma_y$$\n"
   ]
  },
  {
   "cell_type": "code",
   "execution_count": null,
   "id": "6bead9f1",
   "metadata": {},
   "outputs": [],
   "source": [
    "# reminder: cov(height_inches, height_feet) ~= 4.49\n",
    "# reminder: cov(height_inches, height_cm) ~= 136.82\n",
    "df_height.cov()\n"
   ]
  },
  {
   "cell_type": "code",
   "execution_count": null,
   "id": "ee859ddf",
   "metadata": {},
   "outputs": [],
   "source": [
    "# the largest cov(height_inches, height_feet) could possibly be\n",
    "df_height['height_inches'].std() * df_height['height_feet'].std()\n"
   ]
  },
  {
   "cell_type": "code",
   "execution_count": null,
   "id": "0be63723",
   "metadata": {},
   "outputs": [],
   "source": [
    "# the largest cov(height_inches, height_cm) could possibly be\n",
    "df_height['height_inches'].std() * df_height['height_cm'].std()\n"
   ]
  },
  {
   "cell_type": "markdown",
   "id": "a355293b",
   "metadata": {
    "slideshow": {
     "slide_type": "slide"
    }
   },
   "source": [
    "## Correlation (Compute)\n",
    "\n",
    "Remember, the biggest (and smallest) covariance we can possibly have is the product of the standard deviations:\n",
    "\n",
    "$$|cov(x,y)| \\leq \\sigma_x \\sigma_y$$\n",
    "\n",
    "Correlation: \"How big of a covariance do you have comapred to how big it could possibly be?\"\n",
    "\n",
    "$$corr(x,y) = \\frac{\\texttt{cov}(x, y)}{\\sigma_x \\sigma_y} $$\n",
    "\n",
    "In doing so, it removes any effect of the scale of the data might have (e.g. changing units).\n"
   ]
  },
  {
   "cell_type": "code",
   "execution_count": null,
   "id": "42f71fe8",
   "metadata": {},
   "outputs": [],
   "source": [
    "# compute the correlation matrix (each item is correlation of that row & column)\n",
    "df_height.corr()\n"
   ]
  },
  {
   "cell_type": "markdown",
   "id": "7e3d4c35",
   "metadata": {
    "slideshow": {
     "slide_type": "-"
    }
   },
   "source": [
    "Correlations are shown above each scatter (credit: wikipedia)\n",
    "<img src=\"https://upload.wikimedia.org/wikipedia/commons/thumb/d/d4/Correlation_examples2.svg/1920px-Correlation_examples2.svg.png\" alt=\"Drawing\" style=\"width: 800px;\"/>\n"
   ]
  },
  {
   "cell_type": "markdown",
   "id": "ac2cf52f",
   "metadata": {
    "slideshow": {
     "slide_type": "slide"
    }
   },
   "source": [
    "### Not-Really-In-Class Assignment D (no need to submit to gradescope)\n",
    "\n",
    "Order the following pairs of variables from the smallest to largest correlation.  Using your intuition, choose a range that $corr(x,y)$ falls into from the ones listed below\n",
    "    \n",
    "- -1\n",
    "- between -1 and 0 (not including either)\n",
    "- 0\n",
    "- between 0 and 1 (not including either)\n",
    "- 1\n",
    "\n",
    "|                      x                      |                     y                     |\n",
    "|:-------------------------------------------:|:-----------------------------------------:|\n",
    "|               Mass of penguin               |         Flipper length of penguin         |\n",
    "|          Height of person in inches         |           Height of person in cm          |\n",
    "|               Weight of a car               |       Fuel efficiency of a car (mpg)      |\n",
    "|  Republican *seats per congressional session |  Democrat seats per congressional session |\n",
    "| How many chocolates one has eaten in a year | The number of hairs on that person's head |\n",
    "\n",
    "*Assume that every seat goes to either a Republican or Democrat\n"
   ]
  }
 ],
 "metadata": {
  "celltoolbar": "Slideshow",
  "kernelspec": {
   "display_name": "Python 3 (ipykernel)",
   "language": "python",
   "name": "python3"
  },
  "language_info": {
   "codemirror_mode": {
    "name": "ipython",
    "version": 3
   },
   "file_extension": ".py",
   "mimetype": "text/x-python",
   "name": "python",
   "nbconvert_exporter": "python",
   "pygments_lexer": "ipython3",
   "version": "3.9.7"
  }
 },
 "nbformat": 4,
 "nbformat_minor": 5
}
