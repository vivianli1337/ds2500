{
 "cells": [
  {
   "cell_type": "markdown",
   "id": "a19e7d26",
   "metadata": {
    "slideshow": {
     "slide_type": "slide"
    }
   },
   "source": [
    "# DS2500 Lesson 1\n",
    "\n",
    "Jan 13, 2022\n",
    "\n",
    "## Content\n",
    "- Installing packages: pip\n",
    "- Python types \n",
    "    - simple:\n",
    "        - boolean\n",
    "        - ints \n",
    "        - floats \n",
    "        - strings\n",
    "    - ordered sequences:\n",
    "        - list\n",
    "        - tuple\n",
    "    - mapping:\n",
    "        - dictionary\n",
    "- Operators (Arithmetic & Logical)\n",
    "- Flow Control (If-statments)\n",
    "\n",
    "++ denotes a nuance not necessary for DS2500, but helpful to point out as we (re)welcome everyone to python!\n"
   ]
  },
  {
   "cell_type": "markdown",
   "id": "f0f0d689",
   "metadata": {
    "slideshow": {
     "slide_type": "slide"
    }
   },
   "source": [
    "# Installing python packages in Jupyter\n",
    "\n",
    "`pip` is the official python package installer.  It installs python packages from [pypi.org](https://pypi.org/) with the terminal command:\n",
    "\n",
    "    pip3 install <package-to-install>\n",
    "   \n",
    "(Note: use `pip3` on linux/mac and `pip` on windows immediately above)\n",
    "\n",
    "Jupyter notebooks allow you run type a terminal command by prefixing a code line with `!`:\n"
   ]
  },
  {
   "cell_type": "code",
   "execution_count": null,
   "id": "bcc34875",
   "metadata": {},
   "outputs": [],
   "source": [
    "# Taken together, you can install a python package right in jupyter!\n",
    "!pip3 install numpy\n"
   ]
  },
  {
   "cell_type": "markdown",
   "id": "0f19e119",
   "metadata": {},
   "source": [
    "### Not working for you?\n",
    "- try a more explicit way of calling pip:\n",
    "    - `python3 -m pip` instead of `pip3` on mac/linux\n",
    "    - `python -m pip` instead of `pip` on windows\n",
    "    \n",
    "still running into trouble?  Reach out on piazza please\n"
   ]
  },
  {
   "cell_type": "markdown",
   "id": "efeafb73",
   "metadata": {
    "slideshow": {
     "slide_type": "slide"
    }
   },
   "source": [
    "# Python variable names\n",
    "\n",
    "- can have letters, digits and underscores but may not begin with a digit\n",
    "- python is case sensitive \n",
    "    - example `a` and `A` are seperate variables\n",
    "    \n",
    "    ~ should not use capital\n",
    "\n",
    "\n",
    "\n",
    "- conventions:\n",
    "    - variables should be all lower case\n",
    "    - use underscores to seperate words\n",
    "\n"
   ]
  },
  {
   "cell_type": "code",
   "execution_count": null,
   "id": "37cf3918",
   "metadata": {},
   "outputs": [],
   "source": [
    "# string (convention: use single quotes, double quotes work too though)\n",
    "some_string = 'a'\n",
    "some_other_string = \"a\"\n",
    "\n",
    "# integer\n",
    "some_int = 3\n",
    "\n",
    "# float\n",
    "some_float = 1.2345\n",
    "\n",
    "# bool\n",
    "sunny_day = True\n"
   ]
  },
  {
   "cell_type": "markdown",
   "id": "c1773ad6",
   "metadata": {
    "slideshow": {
     "slide_type": "slide"
    }
   },
   "source": [
    "## Arithmetic Operators\n",
    "| Python operation | Arithmetic operator | Python expression\n",
    "| :-------- | :-------- | :-------- \n",
    "| Addition | `+`  | `f + 7` \n",
    "| Subtraction | `–` | `p - c` \n",
    "| Multiplication | `*` | `b * m` \n",
    "| Exponentiation | `**` |  `x ** y` \n",
    "| True division | `/` | `x / y` \n",
    "| Floor division | `//` | `x // y` \n",
    "| Remainder (modulo) | `%` | `r % s` \n",
    "\n",
    "* [All operators and their precedence](https://docs.python.org/3/reference/expressions.html#operator-precedence)\n"
   ]
  },
  {
   "cell_type": "code",
   "execution_count": null,
   "id": "4bd78ade",
   "metadata": {},
   "outputs": [],
   "source": [
    "3 + 11\n"
   ]
  },
  {
   "cell_type": "code",
   "execution_count": null,
   "id": "b06c2553",
   "metadata": {},
   "outputs": [],
   "source": [
    "2 ** 3\n"
   ]
  },
  {
   "cell_type": "code",
   "execution_count": null,
   "id": "3d0cabac",
   "metadata": {},
   "outputs": [],
   "source": [
    "# arithmetic operators are defined for some non-numbers too\n",
    "# like strings\n",
    "'a' + 'b'\n"
   ]
  },
  {
   "cell_type": "markdown",
   "id": "bdf9323e",
   "metadata": {
    "slideshow": {
     "slide_type": "slide"
    }
   },
   "source": [
    "# Floor division & Modulo Operator\n",
    "\n",
    "- floor division `a // b`:\n",
    "    - divide a by b, round down to the nearest integer\n",
    "- modulo operation `a % b`:\n",
    "    - the \"remainder\" after dividing a by b (using only integers)\n",
    "    - admittedly odd at first look, surpisingly useful!\n",
    "    \n",
    "    \n",
    "## notes #\n",
    "- // shows the answer without the remainder\n",
    "- % shows the answer with ONLY the remainder\n"
   ]
  },
  {
   "cell_type": "markdown",
   "id": "5b8ad6a1",
   "metadata": {},
   "source": [
    "### example0:\n",
    "\n",
    "- 9 divided by 4 = 2 remainder 1 (since 9 = 4 * 2 + 1)\n"
   ]
  },
  {
   "cell_type": "code",
   "execution_count": null,
   "id": "1ec9b399",
   "metadata": {},
   "outputs": [],
   "source": [
    "9 // 4\n"
   ]
  },
  {
   "cell_type": "code",
   "execution_count": null,
   "id": "de49780c",
   "metadata": {},
   "outputs": [],
   "source": [
    "9 % 2\n"
   ]
  },
  {
   "cell_type": "markdown",
   "id": "b0a369a8",
   "metadata": {},
   "source": [
    "### example1: \n",
    "10 divide by 2 = 5 remainder 0 (since 10 = 5 * 2 + 0)\n"
   ]
  },
  {
   "cell_type": "code",
   "execution_count": null,
   "id": "e96f0dfb",
   "metadata": {},
   "outputs": [],
   "source": [
    "10 // 2\n"
   ]
  },
  {
   "cell_type": "code",
   "execution_count": null,
   "id": "8f87faf0",
   "metadata": {},
   "outputs": [],
   "source": [
    "10 % 2\n"
   ]
  },
  {
   "cell_type": "markdown",
   "id": "e371e80c",
   "metadata": {
    "slideshow": {
     "slide_type": "slide"
    }
   },
   "source": [
    "## Logical Operators\n",
    "\n",
    "Logical operations operate on one (or more) inputs and return a boolean.  \n",
    "\n",
    "Think of them like a yes/no question you can ask of your variables:\n",
    "\n",
    "Algebraic operator | Python operator | Sample condition | Meaning \n",
    ":---- | :---- | :---- | :----\n",
    "&gt;  | `>` | `x > y` | `x` is greater than `y`\n",
    "&lt;  | `<` | `x < y` | `x` is less than `y`\n",
    "&ge; | `>=` | `x >= y` | `x` is greater than or equal to `y`\n",
    "&le; | `<=` | `x <= y` | `x` is less than or equal to `y`\n",
    "= | `==` | `x == y` | `x` is equal to `y`\n",
    "&ne; | `!=` | `x != y` | `x` is not equal to `y`\n",
    "\n",
    "\n",
    "\n",
    "### notes\n",
    "- \"is\" is used to check if they are equal\n",
    "- will only work for string & not float\n"
   ]
  },
  {
   "cell_type": "code",
   "execution_count": null,
   "id": "f073a57b",
   "metadata": {},
   "outputs": [],
   "source": [
    "a = 3\n",
    "b = 10\n",
    "\n",
    "a != b\n"
   ]
  },
  {
   "cell_type": "code",
   "execution_count": null,
   "id": "9a69f1de",
   "metadata": {},
   "outputs": [],
   "source": [
    "# python \"syntactic sugar\": evaluating if a number is in a range\n",
    "x = 0\n",
    "\n",
    "100 <= x < 200\n"
   ]
  },
  {
   "cell_type": "code",
   "execution_count": null,
   "id": "0fc5af70",
   "metadata": {},
   "outputs": [],
   "source": [
    "# # produces TypeError: objects must be compare-able\n",
    "#10 < 'a'\n"
   ]
  },
  {
   "cell_type": "code",
   "execution_count": null,
   "id": "8bb5e804",
   "metadata": {},
   "outputs": [],
   "source": [
    "# python bad habit, don't use \"is\" to compare objects \n",
    "# (it sometimes works, which makes it a subtle error to catch)\n",
    "\n",
    "# works for strings\n",
    "x = 'a'\n",
    "y = 'a'\n",
    "x is y\n"
   ]
  },
  {
   "cell_type": "code",
   "execution_count": null,
   "id": "3a259edb",
   "metadata": {},
   "outputs": [],
   "source": [
    "# doesn't work for floats\n",
    "x = 1.23\n",
    "y = 1.23\n",
    "x is y\n"
   ]
  },
  {
   "cell_type": "markdown",
   "id": "9ef6f303",
   "metadata": {},
   "source": [
    "`is` tests if the variables point to the same object (more on this during Object Orient Programming in a few weeks) \n",
    "\n",
    "++[Strings](https://en.wikipedia.org/wiki/String_literal) behave a bit differently.\n"
   ]
  },
  {
   "cell_type": "markdown",
   "id": "db6c8a88",
   "metadata": {
    "slideshow": {
     "slide_type": "slide"
    }
   },
   "source": [
    "## Type Casting (converting between variable types)\n"
   ]
  },
  {
   "cell_type": "code",
   "execution_count": null,
   "id": "11e76fa9",
   "metadata": {},
   "outputs": [],
   "source": [
    "# `type()` returns the object type\n",
    "a = 1\n",
    "type(a)\n"
   ]
  },
  {
   "cell_type": "code",
   "execution_count": null,
   "id": "aa774428",
   "metadata": {},
   "outputs": [],
   "source": [
    "# the line below ensures a = 1 and a is a float\n",
    "a = float(1)\n",
    "\n",
    "type(a)\n"
   ]
  },
  {
   "cell_type": "code",
   "execution_count": null,
   "id": "49453022",
   "metadata": {},
   "outputs": [],
   "source": [
    "a = float('3')\n",
    "type(a)\n"
   ]
  },
  {
   "cell_type": "code",
   "execution_count": null,
   "id": "9674f686",
   "metadata": {},
   "outputs": [],
   "source": [
    "# notice: implicit type casting between ints and floats\n",
    "some_int = 3 # integer\n",
    "some_float = 3.141 # float\n",
    "some_sum = some_int + some_float\n",
    "\n",
    "type(some_sum)\n",
    "# leave the variable types the same\n",
    "# type(some_int) = integer\n",
    "# type (some_float) = float\n"
   ]
  },
  {
   "cell_type": "markdown",
   "id": "83ea1189",
   "metadata": {
    "slideshow": {
     "slide_type": "slide"
    }
   },
   "source": [
    "# Type casting Booleans\n",
    "\n",
    "ints / floats which do not equal 0 are cast to True, otherwise False:\n"
   ]
  },
  {
   "cell_type": "code",
   "execution_count": null,
   "id": "36028575",
   "metadata": {},
   "outputs": [],
   "source": [
    "bool(123.123)\n"
   ]
  },
  {
   "cell_type": "code",
   "execution_count": null,
   "id": "a7714bd6",
   "metadata": {},
   "outputs": [],
   "source": [
    "# integer 0\n",
    "bool(0)\n"
   ]
  },
  {
   "cell_type": "code",
   "execution_count": null,
   "id": "749a1baa",
   "metadata": {},
   "outputs": [],
   "source": [
    "# float 0\n",
    "bool(0.0)\n"
   ]
  },
  {
   "cell_type": "markdown",
   "id": "f7302525",
   "metadata": {},
   "source": [
    "strings which are not empty are cast to True, otherwise False:\n"
   ]
  },
  {
   "cell_type": "code",
   "execution_count": null,
   "id": "04786499",
   "metadata": {},
   "outputs": [],
   "source": [
    "# non empty string\n",
    "bool('asdf')\n"
   ]
  },
  {
   "cell_type": "code",
   "execution_count": null,
   "id": "a82dba23",
   "metadata": {},
   "outputs": [],
   "source": [
    "# empty string (string of length 0)\n",
    "bool('')\n"
   ]
  },
  {
   "cell_type": "markdown",
   "id": "b816a7d2",
   "metadata": {},
   "source": [
    "though we haven't introduced them just yet, the \"non-empty -> True\" works elsewhere too\n",
    "\n",
    "dictionaries, tuples and sets which are not empty are cast to True, otherwise False:\n"
   ]
  },
  {
   "cell_type": "code",
   "execution_count": null,
   "id": "c9de2a35",
   "metadata": {},
   "outputs": [],
   "source": [
    "bool(['this', 'is', 'a', 'list', 'of', 'strings'])\n"
   ]
  },
  {
   "cell_type": "code",
   "execution_count": null,
   "id": "10f9bade",
   "metadata": {},
   "outputs": [],
   "source": [
    "# an empty list\n",
    "bool([])\n"
   ]
  },
  {
   "cell_type": "markdown",
   "id": "f536f16d",
   "metadata": {
    "slideshow": {
     "slide_type": "slide"
    }
   },
   "source": [
    "## Control Flow (if blocks)\n",
    "\n",
    "\n",
    "    if <statement>:\n",
    "        <if block>\n",
    "    elif <statement>:\n",
    "        <elif block>\n",
    "    else:\n",
    "        <else block>\n",
    "        \n",
    "        \n",
    "### notes        \n",
    "    block starts & ends:\n",
    "    - identation indicates when thed code block starts and end\n",
    "    - codes are sequencial \n",
    "        - block of code will continue run unless it is true\n",
    "\n"
   ]
  },
  {
   "cell_type": "code",
   "execution_count": null,
   "id": "89305a20",
   "metadata": {},
   "outputs": [],
   "source": [
    "grade = 80\n",
    "if grade >= 93:\n",
    "    print('youve earned an a')\n",
    "elif grade >= 90:\n",
    "    # elif -> \"else if\"\n",
    "    print('youve earned an a-')\n",
    "    print('here is another line of code in the elif block')\n",
    "else:\n",
    "    print('some other grade')\n"
   ]
  },
  {
   "cell_type": "markdown",
   "id": "1cc0dba2",
   "metadata": {
    "slideshow": {
     "slide_type": "slide"
    }
   },
   "source": [
    "## booleans operators (and, or, not)\n",
    "\n",
    "### notes\n",
    "- true and true will return true\n",
    "- true and false will return false\n",
    "- false and false will return false\n",
    "- true or false will return true\n",
    "- can use () to do more than 2 statements"
   ]
  },
  {
   "cell_type": "code",
   "execution_count": null,
   "id": "db1a2e23",
   "metadata": {},
   "outputs": [],
   "source": [
    "False and False"
   ]
  },
  {
   "cell_type": "code",
   "execution_count": null,
   "id": "c97512b7",
   "metadata": {},
   "outputs": [],
   "source": [
    "grade = 93\n",
    "name = 'matt'\n",
    "if grade < 93 and name == 'matt':\n",
    "    print('youd think the instructor could get an a in their own class ...')\n"
   ]
  },
  {
   "cell_type": "markdown",
   "id": "1e53d90d",
   "metadata": {
    "slideshow": {
     "slide_type": "slide"
    }
   },
   "source": [
    "# `input()`\n",
    "\n",
    "- `input()` asks for input and stores it as a string\n",
    "- input arguement to `input()` is a string which is displayed to user\n"
   ]
  },
  {
   "cell_type": "code",
   "execution_count": null,
   "id": "84e2efa6",
   "metadata": {},
   "outputs": [],
   "source": [
    "## Getting input from user\n",
    "favorite_number = input('please input your favorite number:')\n",
    "print(favorite_number)\n",
    "\n",
    "# write clear instructions or complex code\n",
    "# output is string\n",
    "\n",
    "type(favorite_number)\n",
    "# just checking to see if output is string\n",
    "# result: it is string\n",
    "\n"
   ]
  },
  {
   "cell_type": "markdown",
   "id": "02536274",
   "metadata": {
    "slideshow": {
     "slide_type": "slide"
    }
   },
   "source": [
    "# In Class Assignment A:\n",
    "- get users numerical grade (0 to 100)\n",
    "    - `input()`\n",
    "- print a message which tells the user their letter grade in the course (not the +/-)\n",
    "- (++) include the +/- on the grade, make an effort to avoid repetitive code\n",
    "    - hint0: there are a few different implementations, are sure yours is simplest?\n",
    "    - hint1: modulo operator\n"
   ]
  },
  {
   "cell_type": "code",
   "execution_count": null,
   "id": "d5102304",
   "metadata": {},
   "outputs": [],
   "source": [
    "# ask user to input name and numerical grade\n",
    "user = input(\"What is your name?\\n\")\n",
    "# convert string to int\n",
    "num_grade = int(input(\"What is your numerical grade from 0 to 100?\\n\"))\n",
    "\n",
    "# create control flow that tells (print) users their letter grade when given a numerical grade 0-100\n",
    "if num_grade >= 93:\n",
    "    print(\"Congrats!\", user + \", your letter grade is A.\")\n",
    "elif num_grade < 93 and num_grade >= 90:\n",
    "    print(\"Congrats!\", user + \", your letter grade is A-.\")\n",
    "elif num_grade < 90 and num_grade >= 83:\n",
    "    print(\"Your letter grade is B.\")\n",
    "elif num_grade < 83 and num_grade >= 80:\n",
    "    print(\"Your letter grade is B-.\")\n",
    "elif num_grade < 80 and num_grade >= 73:\n",
    "    print(\"Your letter grade is C.\")\n",
    "elif num_grade < 73 and num_grade >= 70:\n",
    "    print(\"Your letter grade is C-.\")\n",
    "elif num_grade < 70 and num_grade >= 63:\n",
    "    print(\"Your letter grade is D.\")\n",
    "elif num_grade < 63 and num_grade >= 60:\n",
    "    print(\"Your letter grade is D-.\")\n",
    "else:\n",
    "    print(\"Your letter grade is F.\")\n"
   ]
  },
  {
   "cell_type": "code",
   "execution_count": null,
   "id": "d120ba27",
   "metadata": {},
   "outputs": [],
   "source": [
    "\n"
   ]
  },
  {
   "cell_type": "markdown",
   "id": "7cfff974",
   "metadata": {
    "slideshow": {
     "slide_type": "slide"
    }
   },
   "source": [
    "## Lists\n",
    "A python **list** is:\n",
    "- an ordered sequence of objects\n",
    "- **mutable** (mutable objects can be modified, immutable objects may not)\n",
    "- ++ implemented as a [dynamic array](https://en.wikipedia.org/wiki/Linked_list#Linked_lists_vs._dynamic_arrays)\n",
    "\n",
    "see [python doc](https://docs.python.org/3/tutorial/datastructures.html) for more detail\n",
    "\n",
    "### Indexing a python list (more to come on this next lesson)\n",
    "\n",
    "![](https://i.ibb.co/JK1VHpy/list1.png)\n"
   ]
  },
  {
   "cell_type": "code",
   "execution_count": null,
   "id": "122aef9b",
   "metadata": {},
   "outputs": [],
   "source": [
    "# how to make a list\n",
    "some_list = [-45, 6, 0, 72, 1543]\n",
    "some_list\n"
   ]
  },
  {
   "cell_type": "code",
   "execution_count": null,
   "id": "671a4000",
   "metadata": {
    "scrolled": true
   },
   "outputs": [],
   "source": [
    "# addressing an element (note: we start indexing at 0)\n",
    "some_list[0]\n"
   ]
  },
  {
   "cell_type": "code",
   "execution_count": null,
   "id": "b03a3e07",
   "metadata": {},
   "outputs": [],
   "source": [
    "# finding index of items equal to 72\n",
    "some_list.index(72)\n"
   ]
  },
  {
   "cell_type": "code",
   "execution_count": null,
   "id": "29f5837d",
   "metadata": {},
   "outputs": [],
   "source": [
    "# what happens if the item isn't in the list?\n",
    "# some_list.index('are you in there?')\n"
   ]
  },
  {
   "cell_type": "code",
   "execution_count": null,
   "id": "f0b699fa",
   "metadata": {},
   "outputs": [],
   "source": [
    "# how should we check if an item is in a list?\n",
    "'are you in there?' in some_list\n",
    "# will return false if it is not in the list and true if in list\n"
   ]
  },
  {
   "cell_type": "code",
   "execution_count": null,
   "id": "cc89d63b",
   "metadata": {},
   "outputs": [],
   "source": [
    "# note that we find index of the first occurance\n",
    "# (there are two `c` entries, but we only get index of first one)\n",
    "some_other_list = ['a', 'b', 'c', 'c', 'd']\n",
    "some_other_list.index('c')\n"
   ]
  },
  {
   "cell_type": "markdown",
   "id": "d363f944",
   "metadata": {
    "slideshow": {
     "slide_type": "slide"
    }
   },
   "source": [
    "## Modifying a list\n",
    "\n",
    "Because a list is **mutable**, we may modify the list itself:\n",
    "- directly assign an item by its index\n",
    "    - (e.g. swap the item at index 2 for value 20: `some_list[2] = 20`)\n",
    "- `append()` items at the end of the list\n",
    "- `insert()` items into arbitrary locations in the list\n",
    "- `pop()` an index position's item out of a list, removing it from the list\n",
    "\n",
    "++ there are other useful ones too, [see the official documentation on lists](https://docs.python.org/3/tutorial/datastructures.html#more-on-lists)\n",
    "\n",
    "![](https://i.ibb.co/JK1VHpy/list1.png)\n"
   ]
  },
  {
   "cell_type": "code",
   "execution_count": null,
   "id": "7504648a",
   "metadata": {},
   "outputs": [],
   "source": [
    "# make the list in the example above\n",
    "some_list = [-45, 6, 0, 72, 1543]\n",
    "some_list\n"
   ]
  },
  {
   "cell_type": "code",
   "execution_count": null,
   "id": "5689c9e3",
   "metadata": {},
   "outputs": [],
   "source": [
    "# directly swapping out the item at a particular index position for another\n",
    "some_list[1] = 'a new item at position 1!'\n",
    "some_list\n"
   ]
  },
  {
   "cell_type": "code",
   "execution_count": null,
   "id": "bfa079d6",
   "metadata": {},
   "outputs": [],
   "source": [
    "# append a single item to the end of a list\n",
    "some_list.append('asdf')\n",
    "some_list\n"
   ]
  },
  {
   "cell_type": "code",
   "execution_count": null,
   "id": "a1f81e58",
   "metadata": {},
   "outputs": [],
   "source": [
    "# insert a single item to an arbitrary location of a list\n",
    "# note: we push list at, and including index, to the right to make room\n",
    "some_list.insert(0, 'a new beginning')\n",
    "some_list\n"
   ]
  },
  {
   "cell_type": "code",
   "execution_count": null,
   "id": "9b6c022a",
   "metadata": {},
   "outputs": [],
   "source": [
    "# insert a single item to an arbitrary location of a list\n",
    "# will shift over\n",
    "some_list.insert(3, 'a middle child')\n",
    "some_list\n"
   ]
  },
  {
   "cell_type": "code",
   "execution_count": null,
   "id": "bc591d3e",
   "metadata": {},
   "outputs": [],
   "source": [
    "# popping a single item out of the list\n",
    "third_item = some_list.pop(3)\n",
    "third_item\n"
   ]
  },
  {
   "cell_type": "code",
   "execution_count": null,
   "id": "c2af8806",
   "metadata": {},
   "outputs": [],
   "source": [
    "# notice that after popping, item at that index (3 above) is removed from the list\n",
    "some_list\n"
   ]
  },
  {
   "cell_type": "code",
   "execution_count": null,
   "id": "9dce5551",
   "metadata": {},
   "outputs": [],
   "source": [
    "\n"
   ]
  },
  {
   "cell_type": "markdown",
   "id": "9114c9c9",
   "metadata": {
    "slideshow": {
     "slide_type": "slide"
    }
   },
   "source": [
    "### \"Arithmetic\" on lists:\n",
    "- \"multiplication\" by int: repeat list some number of times\n",
    "- \"addition\" with another list: join two lists together\n"
   ]
  },
  {
   "cell_type": "code",
   "execution_count": null,
   "id": "812b08ce",
   "metadata": {},
   "outputs": [],
   "source": [
    "# cast a string to a list\n",
    "# divide string into individual letters\n",
    "my_list = list('echo ')\n",
    "my_list\n"
   ]
  },
  {
   "cell_type": "code",
   "execution_count": null,
   "id": "341cb0a5",
   "metadata": {},
   "outputs": [],
   "source": [
    "# multiplying a list by an integer\n",
    "my_list * 3\n"
   ]
  },
  {
   "cell_type": "code",
   "execution_count": null,
   "id": "aff1911e",
   "metadata": {},
   "outputs": [],
   "source": [
    "# adding two lists together (unlike typical addition, order matters!)\n",
    "another_list = list('abc')\n",
    "another_list\n",
    "my_list + another_list\n"
   ]
  },
  {
   "cell_type": "markdown",
   "id": "a0799afa",
   "metadata": {
    "slideshow": {
     "slide_type": "slide"
    }
   },
   "source": [
    "### Helpful list functions (min, max, len, sorted)\n"
   ]
  },
  {
   "cell_type": "code",
   "execution_count": null,
   "id": "d5a104fb",
   "metadata": {},
   "outputs": [],
   "source": [
    "list_of_ints = [2, 11, -10, 4, -100]\n"
   ]
  },
  {
   "cell_type": "code",
   "execution_count": null,
   "id": "5074c094",
   "metadata": {},
   "outputs": [],
   "source": [
    "min(list_of_ints)\n"
   ]
  },
  {
   "cell_type": "code",
   "execution_count": null,
   "id": "c3329947",
   "metadata": {},
   "outputs": [],
   "source": [
    "max(list_of_ints)\n"
   ]
  },
  {
   "cell_type": "code",
   "execution_count": null,
   "id": "a13d4529",
   "metadata": {},
   "outputs": [],
   "source": [
    "# number of elements in the list\n",
    "len(list_of_ints)\n"
   ]
  },
  {
   "cell_type": "code",
   "execution_count": null,
   "id": "3961b517",
   "metadata": {},
   "outputs": [],
   "source": [
    "# return a sorted copy of the list (increasing order)\n",
    "sorted_list_of_ints = sorted(list_of_ints)\n",
    "sorted_list_of_ints\n"
   ]
  },
  {
   "cell_type": "code",
   "execution_count": null,
   "id": "5353a517",
   "metadata": {},
   "outputs": [],
   "source": [
    "# sorted will compare all items in list to each other\n",
    "# (if items are strings, sorting is alpha ordering)\n",
    "sorted(['abe',  'abc', 'cat', 'bert'])\n"
   ]
  },
  {
   "cell_type": "code",
   "execution_count": null,
   "id": "f92a1f5d",
   "metadata": {},
   "outputs": [],
   "source": [
    "# all items in list must be able to be compared (this line raises error)\n",
    "# sorted(['a', 'c', 'b', 3, 1, 2])\n"
   ]
  },
  {
   "cell_type": "markdown",
   "id": "7f7ec8ff",
   "metadata": {},
   "source": [
    "You can also sort in [reverse](https://docs.python.org/3/library/functions.html#sorted) (decreasing order) by using the `reverse` parameter\n"
   ]
  },
  {
   "cell_type": "code",
   "execution_count": null,
   "id": "bfba9bee",
   "metadata": {},
   "outputs": [],
   "source": [
    "sorted_list_of_ints = sorted(list_of_ints, reverse=True)\n",
    "sorted_list_of_ints\n"
   ]
  },
  {
   "cell_type": "markdown",
   "id": "6d77b6dc",
   "metadata": {
    "slideshow": {
     "slide_type": "slide"
    }
   },
   "source": [
    "# In class activity B (Lists & Strings):\n",
    "1. Replace the `# work here` comment cell with code which asks the user to `input()` a lowercase name and then `.append()`s it to all the relevant lists:\n",
    "    - `list_short`\n",
    "        - length of name is less than 5 chars\n",
    "    - `list_alpha`\n",
    "        - characters of name are in alpha order\n",
    "            - e.g. `bert` since `b` comes before `e` comes before `r` comes before `t`\n",
    "        - test if a name is alpha sorted via `list(name) == sorted(name)`\n",
    "    - `list_all`\n",
    "        - every name\n",
    "        \n",
    "        lmnopqrstuvwxyz\n",
    "2. Once complete, run this cell many times to test the following set of names ('abc', 'abcdefg', 'zy', 'zyxwvut'), run the `# observe each list...` cell and observe its output to confirm your code works properly.\n",
    "    \n",
    "(++) Use a dictionary in place of the 3x list implementation.  Note that we'll cover dictionaries shortly, we haven't introduced them just yet.  Be sure to build the 3x list implementation above first, then copy paste your work and modify for this stretch goal.\n"
   ]
  },
  {
   "cell_type": "code",
   "execution_count": null,
   "id": "40fae897",
   "metadata": {},
   "outputs": [],
   "source": [
    "# initialize empty list\n",
    "list_short = list()\n",
    "list_alpha = list()\n",
    "list_all = list()\n"
   ]
  },
  {
   "cell_type": "code",
   "execution_count": 10,
   "id": "17500f7e",
   "metadata": {},
   "outputs": [
    {
     "name": "stdout",
     "output_type": "stream",
     "text": [
      "Please input one lowercase name.\n",
      "viv\n"
     ]
    }
   ],
   "source": [
    "# input name and append it to relevant lists\n",
    "\n",
    "# ask user to input name\n",
    "name = input(\"Please input one lowercase name.\\n\")\n",
    "list_name = list(name)\n",
    "\n",
    "# add to list_short if the name is less than 5 characters\n",
    "if len(name) < 5:\n",
    "    list_short.append(name)\n",
    "\n",
    "# add to list_alpha if alphabetically sorted\n",
    "if sorted(list_name) == list_name:\n",
    "    list_alpha.append(name)\n",
    "\n",
    "# add all names to list_all\n",
    "list_all.append(name)\n",
    "\n"
   ]
  },
  {
   "cell_type": "code",
   "execution_count": 11,
   "id": "085e271f",
   "metadata": {},
   "outputs": [
    {
     "name": "stdout",
     "output_type": "stream",
     "text": [
      "short names:\n",
      "['abc', 'zy', 'tom', 'name', 'viv']\n",
      "alpha names:\n",
      "['abc', 'abcdefg']\n",
      "all names:\n",
      "['abc', 'abcdefg', 'zy', 'zyxwvu', 'henry', 'tom', 'name', 'viv']\n"
     ]
    }
   ],
   "source": [
    "# observe each list (there are cleaner ways to do this ... we'll get there!)\n",
    "print('short names:')\n",
    "print(list_short)\n",
    "\n",
    "print('alpha names:')\n",
    "print(list_alpha)\n",
    "\n",
    "print('all names:')\n",
    "print(list_all)\n"
   ]
  },
  {
   "cell_type": "code",
   "execution_count": null,
   "id": "309c40d6",
   "metadata": {},
   "outputs": [],
   "source": [
    "\n"
   ]
  },
  {
   "cell_type": "code",
   "execution_count": null,
   "id": "d28730f3",
   "metadata": {},
   "outputs": [],
   "source": [
    "\n"
   ]
  },
  {
   "cell_type": "markdown",
   "id": "28c448e7",
   "metadata": {
    "slideshow": {
     "slide_type": "slide"
    }
   },
   "source": [
    "## Tuples\n",
    "A tuple is\n",
    "- an ordered, immutable sequence of objects\n",
    "\n",
    "(Remember, a list is an ordered, mutable sequence of objects)\n",
    "\n",
    "### Mutable\n",
    "- describes an object which can be changed\n",
    "\n",
    "### Immutable\n",
    "- describes an object which, one created, cannot be changed \n",
    "\n",
    "### notes\n",
    "- like a list but it cannot be changed - tuple is a fixed list\n",
    "- use list if you expect to change the objects\n",
    "    - if not sure, use list\n"
   ]
  },
  {
   "cell_type": "code",
   "execution_count": null,
   "id": "ec6c9642",
   "metadata": {},
   "outputs": [],
   "source": [
    "a_tuple = ('a', 1, 'asdf')\n",
    "a_tuple\n"
   ]
  },
  {
   "cell_type": "code",
   "execution_count": null,
   "id": "72e748e9",
   "metadata": {},
   "outputs": [],
   "source": [
    "# careful with the tuple constructor (it takes a single input which is a tuple)\n",
    "a_tuple = tuple(('a', 1, 'asdf'))\n",
    "a_tuple\n"
   ]
  },
  {
   "cell_type": "code",
   "execution_count": null,
   "id": "f2d2d826",
   "metadata": {},
   "outputs": [],
   "source": [
    "# you can make a tuple without including the parenthases (this is most common in the code I've seen)\n",
    "a_tuple = 'a', 1, 'asdf'\n",
    "a_tuple\n"
   ]
  },
  {
   "cell_type": "code",
   "execution_count": null,
   "id": "d055929c",
   "metadata": {},
   "outputs": [],
   "source": [
    "beatles_tuple = 'john', 'ringo', 'paul', 'george'\n"
   ]
  },
  {
   "cell_type": "code",
   "execution_count": null,
   "id": "0a0506dd",
   "metadata": {},
   "outputs": [],
   "source": [
    "# # tuples are immutable, you can't change which items are inside them \n",
    "# # (all methods from \"modifying a list\" above won't work)\n",
    "# beatles_tuple[0] = 'yoko ono'"
   ]
  },
  {
   "cell_type": "markdown",
   "id": "127271cd",
   "metadata": {
    "slideshow": {
     "slide_type": "slide"
    }
   },
   "source": [
    "## Dictionary\n",
    "python dictionary\n",
    "- unordered collection which stores key-value pairs \n",
    "- mutable\n",
    "\n",
    "#### A good first intuition of pyton dictionaries: a phone book\n",
    "\n",
    "<img src=\"https://recollect-images.global.ssl.fastly.net/api/image/500/material.default.phone_book.svg\" width=300>\n",
    "\n",
    "- you can lookup phone number if you know a name\n",
    "- matches name-phone number pairs (key=name, value=phone number)\n",
    "- metaphor breakdown: phone books are sorted by name ... python dictionaries are not ordered!\n",
    "\n",
    "### notes\n",
    "- one directional; no inverse\n",
    "- cannot do it backward\n",
    "- can only search for key\n"
   ]
  },
  {
   "cell_type": "code",
   "execution_count": null,
   "id": "8cc965c6",
   "metadata": {},
   "outputs": [],
   "source": [
    "favorite_number_dict = {'matt':  7, 'riva': 7, 'eli': 3}\n",
    "favorite_number_dict\n"
   ]
  },
  {
   "cell_type": "code",
   "execution_count": null,
   "id": "448996a8",
   "metadata": {},
   "outputs": [],
   "source": [
    "# use square brackets to \"lookup\" (below we get the value associated with key 'matt')\n",
    "favorite_number_dict['matt']\n"
   ]
  },
  {
   "cell_type": "code",
   "execution_count": null,
   "id": "676e3fba",
   "metadata": {},
   "outputs": [],
   "source": [
    "# dictionaries are mutable, we can add key value pairs\n",
    "favorite_number_dict['zeke'] = 9999\n",
    "favorite_number_dict\n"
   ]
  },
  {
   "cell_type": "code",
   "execution_count": null,
   "id": "5151121b",
   "metadata": {},
   "outputs": [],
   "source": [
    "# give a new value to matt\n",
    "favorite_number_dict['matt'] = 'asdfhasdufh'\n"
   ]
  },
  {
   "cell_type": "code",
   "execution_count": null,
   "id": "b956b39e",
   "metadata": {},
   "outputs": [],
   "source": [
    "favorite_number_dict\n"
   ]
  },
  {
   "cell_type": "code",
   "execution_count": null,
   "id": "0d4a4639",
   "metadata": {},
   "outputs": [],
   "source": [
    "favorite_number_dict = {'matt':  7, 'riva': 7, 'eli': 3}\n",
    "favorite_number_dict\n"
   ]
  },
  {
   "cell_type": "code",
   "execution_count": null,
   "id": "59fc1093",
   "metadata": {},
   "outputs": [],
   "source": [
    "# you can update one dict into another\n",
    "favorite_number_dict2 = {'matt': 42, 'fleck': 3.14159}\n",
    "\n",
    "# add (overwrite if need be) key, value pairs from favorite_number_dict2 to favorite_number_dict\n",
    "favorite_number_dict.update(favorite_number_dict2)\n",
    "\n",
    "# notice that value associated with key 'matt' was overwritten\n",
    "favorite_number_dict\n"
   ]
  },
  {
   "cell_type": "code",
   "execution_count": null,
   "id": "1bdd4bb8",
   "metadata": {},
   "outputs": [],
   "source": [
    "# removing a key, value from a dictionary (by key)\n",
    "del favorite_number_dict['matt']\n",
    "favorite_number_dict\n"
   ]
  },
  {
   "cell_type": "code",
   "execution_count": null,
   "id": "6aed2e38",
   "metadata": {},
   "outputs": [],
   "source": [
    "# keys() returns all the keys of the dict\n",
    "favorite_number_dict.keys()\n"
   ]
  },
  {
   "cell_type": "code",
   "execution_count": null,
   "id": "38a9c2ee",
   "metadata": {},
   "outputs": [],
   "source": [
    "# values() returns all the values of the dict\n",
    "favorite_number_dict.values()\n"
   ]
  },
  {
   "cell_type": "code",
   "execution_count": null,
   "id": "6c9c824e",
   "metadata": {
    "scrolled": true
   },
   "outputs": [],
   "source": [
    "# items() returns (key, value) tuples of all the pairs in the dict\n",
    "favorite_number_dict.items()\n"
   ]
  },
  {
   "cell_type": "code",
   "execution_count": null,
   "id": "8bd35768",
   "metadata": {},
   "outputs": [],
   "source": [
    "3 in favorite_number_dict.values()\n"
   ]
  },
  {
   "cell_type": "code",
   "execution_count": null,
   "id": "772f5c86",
   "metadata": {},
   "outputs": [],
   "source": [
    "# testing if key is in the dictionary\n",
    "'riva' in favorite_number_dict\n"
   ]
  },
  {
   "cell_type": "markdown",
   "id": "13d76f13",
   "metadata": {},
   "source": [
    "# In Class Activity C\n",
    "\n",
    "Repeat ICA B, but use a dictionary in place of 3x lists.  Your dictionary should have keys: \n",
    "- 'all'\n",
    "- 'short' \n",
    "- 'alpha'\n",
    "\n",
    "The values associated with each key are lists of all the names which meet the criteria.  For example, if you were to run the given test case names: `'abc', 'abcdefg', 'zy', 'zyxwvut'` your code should build:\n",
    "\n",
    "```python\n",
    "name_dict = {'all': ['abc', 'abcdefg', 'zy', 'zyxwvut'],\n",
    "             'short': ['abc', 'zy'],\n",
    "             'alpha': ['abc', 'abcdefg']}\n",
    "```\n",
    "\n",
    "Please be sure to copy your work from above intead of replacing it so you can submit ICA B.\n"
   ]
  },
  {
   "cell_type": "code",
   "execution_count": 12,
   "id": "8e62534a",
   "metadata": {},
   "outputs": [
    {
     "name": "stdout",
     "output_type": "stream",
     "text": [
      "{'short': ['abc', 'zy', 'tom', 'name', 'viv'], 'all': ['abc', 'abcdefg', 'zy', 'zyxwvu', 'henry', 'tom', 'name', 'viv'], 'alpha': ['abc', 'abcdefg']}\n"
     ]
    }
   ],
   "source": [
    "# method 1: continuing from ICA B\n",
    "# create an empty dictionary\n",
    "name_dic = {}\n",
    "\n",
    "# since list_short, list_all, list_alpha were completed in ICA B, append list into dictionary\n",
    "name_dic[\"short\"] = list_short\n",
    "name_dic[\"all\"] = list_all\n",
    "name_dic[\"alpha\"] = list_alpha\n",
    "print(name_dic)"
   ]
  },
  {
   "cell_type": "code",
   "execution_count": 1,
   "id": "be4ea60c",
   "metadata": {},
   "outputs": [],
   "source": [
    "# method 2: restarting new\n",
    "# create empty lists and dictionary\n",
    "list_short = []\n",
    "list_alpha = []\n",
    "list_all = []\n",
    "name_dict = {\"short\": list_short, \"alpha\": list_alpha, \"all\": list_all}"
   ]
  },
  {
   "cell_type": "code",
   "execution_count": 7,
   "id": "7432e655",
   "metadata": {},
   "outputs": [
    {
     "name": "stdout",
     "output_type": "stream",
     "text": [
      "Please input one lowercase name.\n",
      "tom\n"
     ]
    }
   ],
   "source": [
    "# allow user to insert name\n",
    "name = input(\"Please input one lowercase name.\\n\")\n",
    "list_name = list(name)\n",
    "\n",
    "# adding name with less than 5 characters into list_short\n",
    "if len(name) < 5:\n",
    "    list_short.append(name)\n",
    "\n",
    "# if it is alphabetically sorted, add to list_alpha\n",
    "if sorted(list_name) == list_name:\n",
    "    list_alpha.append(name)\n",
    "\n",
    "# add all names to list_all\n",
    "list_all.append(name)"
   ]
  },
  {
   "cell_type": "code",
   "execution_count": 8,
   "id": "0b0084ae",
   "metadata": {},
   "outputs": [
    {
     "name": "stdout",
     "output_type": "stream",
     "text": [
      "{'short': ['abc', 'zy', 'tom'], 'alpha': ['abc', 'abcdefg'], 'all': ['abc', 'abcdefg', 'zy', 'zyxwvu', 'henry', 'tom']}\n"
     ]
    }
   ],
   "source": [
    "print(name_dict)"
   ]
  }
 ],
 "metadata": {
  "celltoolbar": "Slideshow",
  "kernelspec": {
   "display_name": "Python 3 (ipykernel)",
   "language": "python",
   "name": "python3"
  },
  "language_info": {
   "codemirror_mode": {
    "name": "ipython",
    "version": 3
   },
   "file_extension": ".py",
   "mimetype": "text/x-python",
   "name": "python",
   "nbconvert_exporter": "python",
   "pygments_lexer": "ipython3",
   "version": "3.9.7"
  }
 },
 "nbformat": 4,
 "nbformat_minor": 5
}
