{
 "cells": [
  {
   "cell_type": "markdown",
   "id": "16c7c756",
   "metadata": {},
   "source": [
    "# DS2500 Lesson 3\n",
    "Jan 20, 2023\n",
    "\n",
    "Content:\n",
    "- Sets\n",
    "- Loops (zip, enumerate, itertools)\n",
    "- String Manipulation\n"
   ]
  },
  {
   "cell_type": "markdown",
   "id": "f3898f67",
   "metadata": {
    "slideshow": {
     "slide_type": "slide"
    }
   },
   "source": [
    "# Sets\n",
    "\n",
    "[official documentation on Sets](https://docs.python.org/3/library/stdtypes.html#set)\n",
    "\n",
    "A python set (like the math object) is an unordered collection of objects.\n",
    "\n",
    "They're mutable.\n"
   ]
  },
  {
   "cell_type": "code",
   "execution_count": null,
   "id": "8f79aa00",
   "metadata": {},
   "outputs": [],
   "source": [
    "# build a set\n",
    "some_set = {1, 'a', 'b'}\n"
   ]
  },
  {
   "cell_type": "code",
   "execution_count": null,
   "id": "1148fb92",
   "metadata": {
    "scrolled": true
   },
   "outputs": [],
   "source": [
    "# add item to existing set\n",
    "some_set.add('c')\n",
    "some_set\n"
   ]
  },
  {
   "cell_type": "code",
   "execution_count": null,
   "id": "beac1014",
   "metadata": {},
   "outputs": [],
   "source": [
    "# you may .add() an item which is already in the set ... but doesn't do much ...\n",
    "# (an item is either in the set or it isn't ... can't be in set \"twice\")\n",
    "# item is either in set or not \n",
    "# impossible to be in there twice\n",
    "some_set.add('c')\n",
    "some_set\n"
   ]
  },
  {
   "cell_type": "code",
   "execution_count": null,
   "id": "82dc9fb0",
   "metadata": {
    "scrolled": false
   },
   "outputs": [],
   "source": [
    "# similarly\n",
    "{'a', 'a', 'b'}\n"
   ]
  },
  {
   "cell_type": "code",
   "execution_count": null,
   "id": "6191d21c",
   "metadata": {},
   "outputs": [],
   "source": [
    "# you can remove items from a set\n",
    "some_set.remove(1) \n",
    "some_set\n"
   ]
  },
  {
   "cell_type": "code",
   "execution_count": null,
   "id": "021c10b6",
   "metadata": {},
   "outputs": [],
   "source": [
    "# testing if object is in a set (fast, this is what sets are designed to do)\n",
    "1 in some_set\n"
   ]
  },
  {
   "cell_type": "code",
   "execution_count": null,
   "id": "e261c3a7",
   "metadata": {},
   "outputs": [],
   "source": [
    "# sets aren't ordered\n",
    "{'a', 'b'} == {'b', 'a'}\n"
   ]
  },
  {
   "cell_type": "code",
   "execution_count": null,
   "id": "6679a990",
   "metadata": {},
   "outputs": [],
   "source": [
    "# set operation: union\n",
    "{1, 'a', 'b'} | {2, 'x', 'y', 'z'}\n"
   ]
  },
  {
   "cell_type": "code",
   "execution_count": null,
   "id": "af6d5401",
   "metadata": {},
   "outputs": [],
   "source": [
    "# ste operation: intersection\n",
    "{1, 'a' , 'b'} & {1, 'x', 'y', 'z'}\n"
   ]
  },
  {
   "cell_type": "code",
   "execution_count": null,
   "id": "9676990b",
   "metadata": {},
   "outputs": [],
   "source": [
    "# set operation: difference\n",
    "{1, 'a', 'b'} - {1, 'x', 'y', 'z'}\n"
   ]
  },
  {
   "cell_type": "markdown",
   "id": "3bdddfa0",
   "metadata": {
    "slideshow": {
     "slide_type": "slide"
    }
   },
   "source": [
    "# Iteration (loops), allow us to repeat code without copying and pasting\n",
    "- copying and pasting code makes it really challenging to modiyf code when needed\n",
    "- copying and pasting code makes it really challenging to modiyf code when needed\n",
    "- copying and pasting code makes it really challenging to modiyf code when needed\n",
    "- copying and pasting code makes it really challenging to modiyf code when needed\n",
    "- copying and pasting code makes it really challenging to modiyf code when needed\n"
   ]
  },
  {
   "cell_type": "markdown",
   "id": "c0904aa6",
   "metadata": {
    "slideshow": {
     "slide_type": "slide"
    }
   },
   "source": [
    "## `range()`\n",
    "`range()` is a python function which counts sequential values (0, 1, 2, 3, ...) \n",
    "\n",
    "[official range() documentation](https://docs.python.org/3/library/functions.html#func-range)\n"
   ]
  },
  {
   "cell_type": "code",
   "execution_count": null,
   "id": "4d7e495e",
   "metadata": {},
   "outputs": [],
   "source": [
    "# notice: calling range() provides us a range object\n",
    "range(10)\n"
   ]
  },
  {
   "cell_type": "code",
   "execution_count": null,
   "id": "a5cfb63b",
   "metadata": {},
   "outputs": [],
   "source": [
    "# to see whats inside that range, we may type-cast to a list:\n",
    "list(range(10))\n"
   ]
  },
  {
   "cell_type": "code",
   "execution_count": null,
   "id": "f27ac2ef",
   "metadata": {},
   "outputs": [],
   "source": [
    "# range(start_idx, stop_idx, step_size)\n",
    "# notice: range can use the same slicing index we previously covered\n",
    "list(range(1, 11, 2))\n"
   ]
  },
  {
   "cell_type": "markdown",
   "id": "0b17a24f",
   "metadata": {
    "slideshow": {
     "slide_type": "slide"
    }
   },
   "source": [
    "## Iteration: For Loops\n",
    "For loops run the same block of code multiple times, allowing us to avoid copy-pasting code.\n",
    "\n"
   ]
  },
  {
   "cell_type": "code",
   "execution_count": null,
   "id": "9f408f12",
   "metadata": {},
   "outputs": [],
   "source": [
    "# verbose code to print square of first n integers\n",
    "print(0**2)\n",
    "print(1**2)\n",
    "print(2**2)\n",
    "print(3**2)\n",
    "print(4**2)\n"
   ]
  },
  {
   "cell_type": "code",
   "execution_count": null,
   "id": "40bdd882",
   "metadata": {},
   "outputs": [],
   "source": [
    "list(range(3))\n"
   ]
  },
  {
   "cell_type": "code",
   "execution_count": 1,
   "id": "5b417e62",
   "metadata": {
    "scrolled": true
   },
   "outputs": [
    {
     "name": "stdout",
     "output_type": "stream",
     "text": [
      "0\n",
      "1\n",
      "2\n"
     ]
    }
   ],
   "source": [
    "# note to self: trace this with debugger in pycharm\n",
    "for idx in range(3):\n",
    "    print(idx)\n"
   ]
  },
  {
   "cell_type": "markdown",
   "id": "0cf8f1e4",
   "metadata": {
    "slideshow": {
     "slide_type": "slide"
    }
   },
   "source": [
    "# In Class Assignment A\n",
    "\n",
    "Given a list of strings `list_string`, produce the string containing all characters which appeared in any string (`str_all_char`).  `str_all_char` should be sorted.\n",
    "\n",
    "For example:\n",
    "- if `list_string = ['a', 'c', 'b']` then your `str_all_char = 'abc'`\n",
    "- if `list_string = ['abc', 'cd', 'zabe']` then your `str_all_char = 'abcdez'`\n",
    "\n",
    "hint: we have studied loops & sets today ...\n",
    "\n",
    "\n",
    "\n",
    "++ If you have time:\n",
    "- make it a function\n",
    "    - docstring & any comment necessary\n",
    "- use `assert` to validate your function with the two test cases\n",
    "\n"
   ]
  },
  {
   "cell_type": "code",
   "execution_count": null,
   "id": "b1e10e72",
   "metadata": {},
   "outputs": [],
   "source": [
    "# professor's code\n",
    "list_string = [\"abc\",\"cd\",\"zabe\"]\n",
    "set_chars = set()\n",
    "p_char = \"\"\n",
    "\n",
    "for item in list_string:\n",
    "    for char in item:\n",
    "        p_char = p_char + char\n",
    "    #print(p_char)\n",
    "        \n",
    "set_chars.add(p_char)\n",
    "print(set_chars)\n",
    "print(sorted(set_chars))\n",
    "\n",
    "\n",
    "#''.join(sort_set_chars)\n",
    "\n",
    "# how to join without \"join\"\n",
    "\n",
    "\n",
    "    "
   ]
  },
  {
   "cell_type": "code",
   "execution_count": null,
   "id": "8c836775",
   "metadata": {},
   "outputs": [],
   "source": [
    "# create a list of strings and a function that would set list to a set\n",
    "list_string = [\"abc\",\"cd\",\"zabe\"]\n",
    "set_chars = set()\n",
    "\n",
    "# create a empty string for variable str_all_letters\n",
    "str_all_letters = \"\"\n",
    "\n",
    "# create a for loop to add each letters in each string into the set \n",
    "for item in list_string:\n",
    "    for char in item:\n",
    "        set_chars.add(char)\n",
    "        \n",
    "#sort them alphabetically\n",
    "sort_chars = sorted(set_chars)\n",
    "\n",
    "#print to check\n",
    "print(sort_chars)\n",
    "\n",
    "# create a for loop to add each letter to the previous resulted letter\n",
    "for letters in sort_chars:\n",
    "    str_all_letters = str_all_letters + letters\n",
    "print(str_all_letters) \n",
    "\n",
    "\n",
    "# can also use join function\n",
    "#''.join(sort_set_chars)\n",
    "\n"
   ]
  },
  {
   "cell_type": "code",
   "execution_count": null,
   "id": "eb719086",
   "metadata": {},
   "outputs": [],
   "source": [
    "\n"
   ]
  },
  {
   "cell_type": "markdown",
   "id": "3f68a934",
   "metadata": {
    "slideshow": {
     "slide_type": "slide"
    }
   },
   "source": [
    "### Iterating through an ordered collection: (list, tuple & str)\n",
    "We could loop over the items via `range()` and index into the object:\n"
   ]
  },
  {
   "cell_type": "code",
   "execution_count": null,
   "id": "8c5ab915",
   "metadata": {},
   "outputs": [],
   "source": [
    "# a cumbersome way to iterate through a list\n",
    "some_list = ['a', 'b', 'c', 'd']\n",
    "num_items = len(some_list)\n",
    "\n",
    "for idx in range(num_items):\n",
    "    item = some_list[idx]\n",
    "    print(item)\n"
   ]
  },
  {
   "cell_type": "markdown",
   "id": "cca3781e",
   "metadata": {},
   "source": [
    "The index allows us to access each item, but our code looks a bit more cumbersome.\n",
    "\n",
    "Python allows you to iterate through all the items in the list itself, no indexing needed:\n"
   ]
  },
  {
   "cell_type": "code",
   "execution_count": null,
   "id": "91ac9847",
   "metadata": {},
   "outputs": [],
   "source": [
    "# iterate through the list, skip the complexity of indexing\n",
    "some_list  = ['a', 'b', 'c', 'd']\n",
    "for item in some_list:\n",
    "    print(item)\n"
   ]
  },
  {
   "cell_type": "code",
   "execution_count": null,
   "id": "4761ce74",
   "metadata": {
    "scrolled": true
   },
   "outputs": [],
   "source": [
    "# you can iterate on strings too\n",
    "for vowel in 'aeiou':\n",
    "    print(vowel)\n"
   ]
  },
  {
   "cell_type": "code",
   "execution_count": null,
   "id": "a3dd80e0",
   "metadata": {},
   "outputs": [],
   "source": [
    "# or tuples\n",
    "for item in ('hello', 'this', 'is', 'a', 'tuple', 'of', 'strings'):\n",
    "    print(item)\n"
   ]
  },
  {
   "cell_type": "markdown",
   "id": "c76cc69c",
   "metadata": {
    "slideshow": {
     "slide_type": "slide"
    }
   },
   "source": [
    "### Iterating through an un-ordered collection: sets\n",
    "We couldn't possibly iterate by index, there is no \"first\" item in a set or dictionary!\n"
   ]
  },
  {
   "cell_type": "code",
   "execution_count": null,
   "id": "c81b9478",
   "metadata": {},
   "outputs": [],
   "source": [
    "# iterating through a set\n",
    "some_set = {1, 'a', 'b'}\n",
    "for item in some_set:\n",
    "    print(item)\n"
   ]
  },
  {
   "cell_type": "markdown",
   "id": "05ccbb7c",
   "metadata": {},
   "source": [
    "# Warning:\n",
    "\n",
    "The order that python iterates through a set and *dictionary may not be consistent across runs!\n",
    "\n",
    "- If you need a consistent order for your set ... use a list / tuple\n",
    "- If you need a consistent order for your dict ... use an [OrderedDict](https://docs.python.org/3/library/collections.html#collections.OrderedDict)\n"
   ]
  },
  {
   "cell_type": "markdown",
   "id": "fcb052b9",
   "metadata": {
    "slideshow": {
     "slide_type": "slide"
    }
   },
   "source": [
    "### Iterating through an un-ordered collection: dict\n"
   ]
  },
  {
   "cell_type": "code",
   "execution_count": null,
   "id": "e012c106",
   "metadata": {},
   "outputs": [],
   "source": [
    "some_dict = {'matt': 7, 'riva': 7, 'eli':11}\n",
    "for key in some_dict.keys():\n",
    "    print(key)\n"
   ]
  },
  {
   "cell_type": "code",
   "execution_count": null,
   "id": "dc7768a4",
   "metadata": {},
   "outputs": [],
   "source": [
    "for val in some_dict.values():\n",
    "    print(val)\n"
   ]
  },
  {
   "cell_type": "code",
   "execution_count": null,
   "id": "6be153dc",
   "metadata": {
    "scrolled": false
   },
   "outputs": [],
   "source": [
    "for key, val in some_dict.items():\n",
    "    print(key, val)\n"
   ]
  },
  {
   "cell_type": "markdown",
   "id": "d699aabe",
   "metadata": {
    "slideshow": {
     "slide_type": "slide"
    }
   },
   "source": [
    "# Other Useful For Loops\n",
    "\n",
    "- `enumerate`\n",
    "    - allows us to iterate through index & item pairs\n",
    "    - (helpful if you have a situation where you need both)\n",
    "- `zip`\n",
    "    - allows us to iterate through two ordered variables together\n",
    "   \n",
    "- ++ [there are others in \"itertools\" too](https://docs.python.org/3/library/itertools.html)\n",
    "    - cartesian product\n",
    "    - combination / permutation / combination with replacement\n"
   ]
  },
  {
   "cell_type": "code",
   "execution_count": 2,
   "id": "649bf747",
   "metadata": {},
   "outputs": [
    {
     "name": "stdout",
     "output_type": "stream",
     "text": [
      "0 a\n",
      "1 b\n",
      "2 c\n",
      "3 d\n"
     ]
    }
   ],
   "source": [
    "# if you need an index too, use enumerate\n",
    "some_list = ['a', 'b', 'c', 'd']\n",
    "for idx, item in enumerate(some_list):\n",
    "    print(idx, item)\n",
    "    \n"
   ]
  },
  {
   "cell_type": "code",
   "execution_count": null,
   "id": "83281711",
   "metadata": {},
   "outputs": [],
   "source": [
    "# zip iterates through corresponding items in two ordered (e.g. lists/tuples/strings) types\n",
    "# the 1st time through the loop it gets the 1st items from each ...\n",
    "# the 2nd time through the loop it gets the 2nd items from each ...\n",
    "string0 = 'asdf'\n",
    "string1 = 'qwer'\n",
    "\n",
    "for c0, c1 in zip(string0, string1):\n",
    "    print(c0, c1)\n"
   ]
  },
  {
   "cell_type": "markdown",
   "id": "729b238e",
   "metadata": {
    "slideshow": {
     "slide_type": "slide"
    }
   },
   "source": [
    "# Iteration: While Loops\n",
    "\n",
    "Sometimes you don't know how many times you want the body of a loop to run ahead of time.\n",
    "\n",
    "In this case, use a while loop:\n"
   ]
  },
  {
   "cell_type": "code",
   "execution_count": null,
   "id": "b754fbca",
   "metadata": {},
   "outputs": [],
   "source": [
    "# doubles a value until it exceeds 1000\n",
    "# note to self: trace this in debugger\n",
    "x = 1\n",
    "while x < 1000:\n",
    "    x = x * 2\n",
    "    print(x)\n",
    "print(x)\n"
   ]
  },
  {
   "cell_type": "markdown",
   "id": "8a774a2d",
   "metadata": {
    "slideshow": {
     "slide_type": "slide"
    }
   },
   "source": [
    "# `break`ing out of a loop\n",
    "\n",
    "`break` will exit the loop at the current position, not running any remaining code in the loop body\n",
    "\n",
    "Useful if you want to run some of the loop body before testing if you should stop looping:\n",
    "\n",
    "```python\n",
    "while True:\n",
    "    # some of loop body\n",
    "    \n",
    "    if condition:\n",
    "        # if condition is True, stops while loop\n",
    "        break\n",
    "        \n",
    "    # rest of loop body\n",
    "```\n"
   ]
  },
  {
   "cell_type": "code",
   "execution_count": null,
   "id": "859b4e98",
   "metadata": {},
   "outputs": [],
   "source": [
    "# gets string from user with 5 characters\n",
    "while True:\n",
    "    x = input('input a 5 character string:')\n",
    "    \n",
    "    if len(x) == 5:\n",
    "        # proper user input given\n",
    "        break\n",
    "        \n",
    "    print('invalid input, doesnt have 5 characters')\n",
    "    \n",
    "x\n"
   ]
  },
  {
   "cell_type": "code",
   "execution_count": null,
   "id": "c71ea00b",
   "metadata": {},
   "outputs": [],
   "source": [
    "# break works in for loops too\n",
    "# this version is same as above but \"gives up\" if 4 inputs are invalid\n",
    "input_valid = False\n",
    "for idx in range(4):\n",
    "    x = input('input a 5 character string:')\n",
    "    \n",
    "    if len(x) == 5:\n",
    "        # proper user input given\n",
    "        input_valid = True\n",
    "        break\n",
    "        \n",
    "    print('invalid input, doesnt have 5 characters')\n",
    "    \n",
    "x, input_valid\n"
   ]
  },
  {
   "cell_type": "markdown",
   "id": "6612acc7",
   "metadata": {
    "slideshow": {
     "slide_type": "slide"
    }
   },
   "source": [
    "## In Class Assignment B: \n",
    "\n",
    "For every vowel, get a word from the user which contains that vowel, store in a dictionary.  Re-query the user if their input doesn't contain the vowel.  \n",
    "\n",
    "Example output dictionary:\n",
    "\n",
    "```python\n",
    "vowel_dict = {'a': 'apple',\n",
    "              'e': 'elephant',\n",
    "              'i': 'iowa',\n",
    "              'o': 'obtuse',\n",
    "              'u': 'umbrella'}\n",
    "```\n",
    "\n",
    "++ If you have time:\n",
    "- make it a function\n",
    "    - docstring!\n",
    "- by default, you function should ask for a word for each vowel ... but allow the user of your function to specify their own list of required characters (not necessarily `'aeiou'`)\n"
   ]
  },
  {
   "cell_type": "code",
   "execution_count": null,
   "id": "069b053c",
   "metadata": {},
   "outputs": [],
   "source": [
    "# create an empty dictionary\n",
    "vowel_dict = {}\n",
    "\n",
    "# ask the input for a word and check to see if the first letter will contain a vowel\n",
    "for vowel in \"aeiou\":\n",
    "    while True:\n",
    "        input_str = input('Please input a word which contains '+ vowel + \"\\n\")\n",
    "        \n",
    "        # if the first letter of the word contain the vowels, input the word to the dictionary\n",
    "        if input_str[0] in vowel:\n",
    "            vowel_dict[vowel] = input_str\n",
    "            break\n",
    "        #if the first letter of word does not contain a vowel, ask user to input another word\n",
    "        print('invalid input, doesnt contain ' + vowel)\n",
    "\n",
    "print(vowel_dict)"
   ]
  },
  {
   "cell_type": "code",
   "execution_count": null,
   "id": "b1ee33e0",
   "metadata": {},
   "outputs": [],
   "source": [
    "# ask user to input a word\n",
    "\n",
    "x = input('input a word that begins with \"a\", \"e\", \"i\", \"o\", \"u\":')\n",
    "    \n",
    "While x[0] in [\"a\", \"e\", \"i\", \"o\", \"u\"]:\n",
    "    if x[0] == \"a\":\n",
    "        vowel_dict[\"a\"] = x\n",
    "\n",
    "print(vowel_dict)"
   ]
  },
  {
   "cell_type": "code",
   "execution_count": null,
   "id": "1b796f41",
   "metadata": {},
   "outputs": [],
   "source": [
    "\n"
   ]
  },
  {
   "cell_type": "code",
   "execution_count": null,
   "id": "daaac914",
   "metadata": {},
   "outputs": [],
   "source": [
    "\n"
   ]
  },
  {
   "cell_type": "code",
   "execution_count": null,
   "id": "a8a21a99",
   "metadata": {},
   "outputs": [],
   "source": [
    "\n"
   ]
  },
  {
   "cell_type": "code",
   "execution_count": null,
   "id": "eacd8d5e",
   "metadata": {},
   "outputs": [],
   "source": [
    "\n"
   ]
  },
  {
   "cell_type": "markdown",
   "id": "f140b550",
   "metadata": {
    "slideshow": {
     "slide_type": "slide"
    }
   },
   "source": [
    "## String Formatting\n",
    "\n",
    "Python is really great and managing strings.\n",
    "- lots of great [string methods](https://docs.python.org/3/library/stdtypes.html#string-methods)\n",
    "    - tip: it's better to borrow some code than re-build it ... you don't know what you can borrow until you look\n"
   ]
  },
  {
   "cell_type": "code",
   "execution_count": null,
   "id": "b45feacf",
   "metadata": {},
   "outputs": [],
   "source": [
    "'asdf'.upper()\n"
   ]
  },
  {
   "cell_type": "code",
   "execution_count": null,
   "id": "e2c894d7",
   "metadata": {},
   "outputs": [],
   "source": [
    "'ASDF'.lower()\n"
   ]
  },
  {
   "cell_type": "code",
   "execution_count": null,
   "id": "05683734",
   "metadata": {},
   "outputs": [],
   "source": [
    "'proper noun'.capitalize()\n"
   ]
  },
  {
   "cell_type": "code",
   "execution_count": null,
   "id": "bc66442d",
   "metadata": {},
   "outputs": [],
   "source": [
    "# one of the 'hi' occurances is hiding in \"this\"\n",
    "'hi!  how many times does this string say hi?'.count('hi')\n"
   ]
  },
  {
   "cell_type": "code",
   "execution_count": null,
   "id": "cca47562",
   "metadata": {},
   "outputs": [],
   "source": [
    "'some_file.pdf'.endswith('.pdf')\n"
   ]
  },
  {
   "cell_type": "code",
   "execution_count": null,
   "id": "9fad4f18",
   "metadata": {},
   "outputs": [],
   "source": [
    "'some_file.pdf'.startswith('asdf')\n"
   ]
  },
  {
   "cell_type": "code",
   "execution_count": null,
   "id": "9e710d42",
   "metadata": {},
   "outputs": [],
   "source": [
    "'123'.isnumeric()\n"
   ]
  },
  {
   "cell_type": "code",
   "execution_count": null,
   "id": "6263272f",
   "metadata": {},
   "outputs": [],
   "source": [
    "'    this string had quite a few spaces at the beggining and end before we .strip()-ed it      '.strip()\n"
   ]
  },
  {
   "cell_type": "markdown",
   "id": "378c9497",
   "metadata": {
    "slideshow": {
     "slide_type": "slide"
    }
   },
   "source": [
    "# `Str.replace()`\n",
    "\n",
    "This one is so useful it gets its own slide \n"
   ]
  },
  {
   "cell_type": "code",
   "execution_count": null,
   "id": "0463aa9b",
   "metadata": {},
   "outputs": [],
   "source": [
    "'mississippi'.replace('s', '!')\n"
   ]
  },
  {
   "cell_type": "code",
   "execution_count": null,
   "id": "486dfb06",
   "metadata": {},
   "outputs": [],
   "source": [
    "'matt was here'.replace('was', 'was not')\n"
   ]
  },
  {
   "cell_type": "code",
   "execution_count": null,
   "id": "a0c5f31b",
   "metadata": {},
   "outputs": [],
   "source": [
    "'some_file.pdf'.replace('.pdf', '.ipynb')\n"
   ]
  },
  {
   "cell_type": "markdown",
   "id": "23235990",
   "metadata": {},
   "source": [
    "# `Str.split()` & `Str.join()`\n"
   ]
  },
  {
   "cell_type": "code",
   "execution_count": null,
   "id": "fc9f8e95",
   "metadata": {},
   "outputs": [],
   "source": [
    "# splits a string wherever the input string is found (space in this example)\n",
    "'I wonder how many words are in this sentence?'.split(' ')\n"
   ]
  },
  {
   "cell_type": "code",
   "execution_count": null,
   "id": "79c85cf8",
   "metadata": {},
   "outputs": [],
   "source": [
    "# useful, right?\n",
    "x = 'I wonder how many words are in this sentence?'.split(' ')\n",
    "len(x)\n"
   ]
  },
  {
   "cell_type": "code",
   "execution_count": null,
   "id": "c3d79333",
   "metadata": {},
   "outputs": [],
   "source": [
    "# you can .split() on any string, needn't just be one character like the example above\n",
    "'mississippi'.split('ss')\n"
   ]
  },
  {
   "cell_type": "code",
   "execution_count": null,
   "id": "958fcef7",
   "metadata": {},
   "outputs": [],
   "source": [
    "# join will glue together a list of strings with some other string\n",
    "# (its the inverse of str.split() shown above)\n",
    "'!!'.join(['a', 'b', 'c'])\n"
   ]
  },
  {
   "cell_type": "markdown",
   "id": "6d262bfe",
   "metadata": {},
   "source": [
    "# String Formatting\n",
    "\n",
    "Allows you to build a string by inputting variables\n"
   ]
  },
  {
   "cell_type": "code",
   "execution_count": null,
   "id": "7b5a9cb1",
   "metadata": {},
   "outputs": [],
   "source": [
    "name = 'Eli'\n",
    "f'hello {name}, how are you today?'\n"
   ]
  },
  {
   "cell_type": "code",
   "execution_count": null,
   "id": "3803b642",
   "metadata": {},
   "outputs": [],
   "source": [
    "# you can control the number or \n",
    "name = 'sally'\n",
    "fav_num = 1.3456789\n",
    "f'hello, my name is: {name} and my favorite number is {fav_num:.3f}'\n"
   ]
  },
  {
   "cell_type": "markdown",
   "id": "67da7cda",
   "metadata": {},
   "source": [
    "[see this table (scroll down slightly)](https://docs.python.org/3/library/stdtypes.html#printf-style-string-formatting) for other ways of formatting output, like `'.3f'`\n"
   ]
  },
  {
   "cell_type": "code",
   "execution_count": null,
   "id": "93a5f78d",
   "metadata": {},
   "outputs": [],
   "source": [
    "\n"
   ]
  },
  {
   "cell_type": "markdown",
   "id": "a618b1a3",
   "metadata": {
    "slideshow": {
     "slide_type": "slide"
    }
   },
   "source": [
    "### In Class Acitivity C:\n",
    "\n",
    "My son's favorite song is \"Wheels on the Bus\" ([here's a version done by the legend himself](https://www.youtube.com/watch?v=8d8Vo72Kbrk)).  He can't get enough of it, the rest of us certainly can.  (Full disclosure, he's a bit older now and into a cartoon which is driving us mad ... but allow me some pedagogical license as \"wheels on the bus\" is a better ICA...)\n",
    "\n",
    "\n",
    "Here's how it goes:\n",
    "\n",
    "```\n",
    "The wheels on the bus goes round and round, round and round, round and round\n",
    "the wheels on the bus goes round and round ... All through the town.\n",
    "```\n",
    "\n",
    "There is a structure to each verse of the song, if:\n",
    "\n",
    "``` python\n",
    "noun = 'wheels on the bus'\n",
    "move = 'go round and round'\n",
    "```\n",
    "\n",
    "a verse can be written as:\n",
    "\n",
    "    The <noun> on the bus goes <noise>, <noise>, <noise>\n",
    "    the <noun> on the bus go <noise> ... All through the town\n",
    "\n",
    "\n",
    "\n",
    "Using the following table of noun-noise pairs, write a loop which prints all verses according to the pattern above:\n",
    "\n",
    "| Noun            | Noise                                    |\n",
    "|-----------------|------------------------------------------|\n",
    "| Wheels          | round and round                          |\n",
    "| Babies          | wah, wah, wah                            |\n",
    "| DS2500 students | we <3 python |\n",
    "\n",
    "Together:\n",
    " - how can we store the noun noise together, as pairs?\n",
    " \n",
    "(++) rewrite your program to so it takes some input for the number of repetitions of `<noun>`.  Previously we had assumed it was always 3:\n",
    "\n",
    "    The <noun> on the bus goes <noise>, <noise>, <noise>\n",
    "    \n",
    "but if your program assigns `num_reps=4` then it will write:\n",
    "\n",
    "    The <noun> on the bus goes <noise>, <noise>, <noise>, <noise>\n",
    "    \n",
    "(++) allow `num_reps` to change per individual noun-noise pair\n"
   ]
  },
  {
   "cell_type": "code",
   "execution_count": null,
   "id": "35053164",
   "metadata": {},
   "outputs": [],
   "source": [
    "\n"
   ]
  },
  {
   "cell_type": "code",
   "execution_count": null,
   "id": "4e2ce886",
   "metadata": {},
   "outputs": [],
   "source": [
    "\n"
   ]
  }
 ],
 "metadata": {
  "celltoolbar": "Slideshow",
  "kernelspec": {
   "display_name": "Python 3 (ipykernel)",
   "language": "python",
   "name": "python3"
  },
  "language_info": {
   "codemirror_mode": {
    "name": "ipython",
    "version": 3
   },
   "file_extension": ".py",
   "mimetype": "text/x-python",
   "name": "python",
   "nbconvert_exporter": "python",
   "pygments_lexer": "ipython3",
   "version": "3.9.7"
  }
 },
 "nbformat": 4,
 "nbformat_minor": 5
}
