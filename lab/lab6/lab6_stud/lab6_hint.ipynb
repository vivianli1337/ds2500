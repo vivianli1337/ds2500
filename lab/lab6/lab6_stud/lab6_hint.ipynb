{
 "cells": [
  {
   "cell_type": "markdown",
   "id": "9bf4eecc",
   "metadata": {},
   "source": [
    "# Here's three little snippets from my solution\n",
    "\n",
    "You're welcome to steal (without citation)."
   ]
  },
  {
   "cell_type": "markdown",
   "id": "478fce4b",
   "metadata": {},
   "source": [
    "# Alternating player turns with modulus operator"
   ]
  },
  {
   "cell_type": "code",
   "execution_count": 6,
   "id": "104e0007",
   "metadata": {},
   "outputs": [],
   "source": [
    "player_idx = 1"
   ]
  },
  {
   "cell_type": "code",
   "execution_count": 7,
   "id": "e99a7d04",
   "metadata": {},
   "outputs": [
    {
     "data": {
      "text/plain": [
       "2"
      ]
     },
     "execution_count": 7,
     "metadata": {},
     "output_type": "execute_result"
    }
   ],
   "source": [
    "# next player's turn\n",
    "player_idx = (player_idx % 2) + 1\n",
    "player_idx"
   ]
  },
  {
   "cell_type": "code",
   "execution_count": 8,
   "id": "36eedfb1",
   "metadata": {},
   "outputs": [
    {
     "data": {
      "text/plain": [
       "1"
      ]
     },
     "execution_count": 8,
     "metadata": {},
     "output_type": "execute_result"
    }
   ],
   "source": [
    "# next player's turn\n",
    "player_idx = (player_idx % 2) + 1\n",
    "player_idx"
   ]
  },
  {
   "cell_type": "markdown",
   "id": "a1a0036e",
   "metadata": {},
   "source": [
    "# Removing an item from a set\n",
    "\n",
    "... remember, we can't index into a set (its unordered!).  we can, however `Set.pop()` an item out of the set.  Know that if the set has multiple items, any item may be returned!"
   ]
  },
  {
   "cell_type": "code",
   "execution_count": 13,
   "id": "4624fd72",
   "metadata": {},
   "outputs": [
    {
     "data": {
      "text/plain": [
       "0"
      ]
     },
     "execution_count": 13,
     "metadata": {},
     "output_type": "execute_result"
    }
   ],
   "source": [
    "# find winner \n",
    "win_set = {1, 0}\n",
    "player_win = win_set.pop()\n",
    "player_win"
   ]
  },
  {
   "cell_type": "markdown",
   "id": "b5dfae7a",
   "metadata": {},
   "source": [
    "# Coloring text\n",
    "\n",
    "Helpful to build an interface which simultaneously shows color and size."
   ]
  },
  {
   "cell_type": "code",
   "execution_count": 1,
   "id": "36fb172f",
   "metadata": {},
   "outputs": [
    {
     "name": "stdout",
     "output_type": "stream",
     "text": [
      "Biking to work sure is\u001b[32m green\u001b[0m, it reduces one's carbon footprint!\n"
     ]
    }
   ],
   "source": [
    "from colorama import Fore, Style\n",
    "\n",
    "print(f\"Biking to work sure is{Fore.GREEN} green{Style.RESET_ALL}, it reduces one's carbon footprint!\")"
   ]
  }
 ],
 "metadata": {
  "kernelspec": {
   "display_name": "Python 3 (ipykernel)",
   "language": "python",
   "name": "python3"
  },
  "language_info": {
   "codemirror_mode": {
    "name": "ipython",
    "version": 3
   },
   "file_extension": ".py",
   "mimetype": "text/x-python",
   "name": "python",
   "nbconvert_exporter": "python",
   "pygments_lexer": "ipython3",
   "version": "3.9.7"
  }
 },
 "nbformat": 4,
 "nbformat_minor": 5
}
