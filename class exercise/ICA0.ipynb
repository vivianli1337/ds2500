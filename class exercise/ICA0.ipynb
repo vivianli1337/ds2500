{
 "cells": [
  {
   "cell_type": "markdown",
   "id": "a08d54d6",
   "metadata": {},
   "source": [
    "# ICA1: Introduction #\n",
    "Hi! My name is Vivian & I am a combined major in Data Science and Business Admin with concentrations in Marketing and Corporate Innovation and Venture (yes...it's long).\n",
    "\n",
    "I have recently returned from my study abroad at University of Hong Kong. \n",
    "While I was there, I traveled to:\n",
    "- Thailand\n",
    "    - Bangkok\n",
    "- South Korea\n",
    "    - Seoul\n",
    "        - some places to go: [click here](https://www.planetware.com/south-korea/top-rated-tourist-attractions-in-seoul-kor-1-3.htm)\n",
    "\n",
    "#### Here is my ratings: #\n",
    "| countries:  | rating:  | comments:                                                                                                                                                          |   |   |\n",
    "|-------------|----------|--------------------------------------------------------------------------------------------------------------------------------------------------------------------|---|---|\n",
    "| Hong Kong   | 10/10    | 1) made lots of new friends  2) know the language, which means no language barrier                                                                                   |   |   |\n",
    "| Thailand    | 8/10     | 1) my friend (who is Thai) was there to show me around  2) basically travelled alone  3) spent Christmas there... it did not feel like Christmas at all  4) very cheap |   |   |\n",
    "| South Korea | 9/10     | 1) had to use google translate but it was very fun  2) visited Korea with a group of friends (9)  3) went on a shopping spree  4) clothes & skincare are so cheap      |   |   |\n",
    "\n",
    "\n",
    "<img src=\"https://i.ibb.co/Y3sn96K/korea.jpg\" width=500>"
   ]
  },
  {
   "cell_type": "markdown",
   "id": "d4a4a128",
   "metadata": {
    "slideshow": {
     "slide_type": "slide"
    }
   },
   "source": [
    "# Lets get these ICAs on Gradescope before we forget ...\n",
    "\n",
    "- Please submit a seperate jupyter notebook with only the ICA questions and your solutions\n",
    "\n",
    "- (note to self: demo gradescope submission w/ @gmail account)\n",
    "    - gspwd\n"
   ]
  }
 ],
 "metadata": {
  "celltoolbar": "Slideshow",
  "kernelspec": {
   "display_name": "Python 3 (ipykernel)",
   "language": "python",
   "name": "python3"
  },
  "language_info": {
   "codemirror_mode": {
    "name": "ipython",
    "version": 3
   },
   "file_extension": ".py",
   "mimetype": "text/x-python",
   "name": "python",
   "nbconvert_exporter": "python",
   "pygments_lexer": "ipython3",
   "version": "3.9.7"
  }
 },
 "nbformat": 4,
 "nbformat_minor": 5
}
