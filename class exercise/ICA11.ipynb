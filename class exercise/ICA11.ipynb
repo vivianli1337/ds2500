{
 "cells": [
  {
   "cell_type": "markdown",
   "id": "0c4ff280",
   "metadata": {
    "slideshow": {
     "slide_type": "slide"
    }
   },
   "source": [
    "### In Class Assignment A\n",
    "For each column in the dataset below:\n",
    "1. identify\n",
    "1. compute\n",
    "1. justify \n",
    "\n",
    "which of the \n",
    "\n",
    "- mean\n",
    "- median\n",
    "- mode \n",
    "\n",
    "is the best measure of the average of the data.\n"
   ]
  },
  {
   "cell_type": "code",
   "execution_count": 1,
   "id": "04f5457d",
   "metadata": {
    "scrolled": false,
    "slideshow": {
     "slide_type": "-"
    }
   },
   "outputs": [
    {
     "data": {
      "text/html": [
       "<div>\n",
       "<style scoped>\n",
       "    .dataframe tbody tr th:only-of-type {\n",
       "        vertical-align: middle;\n",
       "    }\n",
       "\n",
       "    .dataframe tbody tr th {\n",
       "        vertical-align: top;\n",
       "    }\n",
       "\n",
       "    .dataframe thead th {\n",
       "        text-align: right;\n",
       "    }\n",
       "</style>\n",
       "<table border=\"1\" class=\"dataframe\">\n",
       "  <thead>\n",
       "    <tr style=\"text-align: right;\">\n",
       "      <th></th>\n",
       "      <th>x</th>\n",
       "      <th>y</th>\n",
       "      <th>zip code</th>\n",
       "    </tr>\n",
       "  </thead>\n",
       "  <tbody>\n",
       "    <tr>\n",
       "      <th>0</th>\n",
       "      <td>-10</td>\n",
       "      <td>0.1</td>\n",
       "      <td>2215</td>\n",
       "    </tr>\n",
       "    <tr>\n",
       "      <th>1</th>\n",
       "      <td>10</td>\n",
       "      <td>1.0</td>\n",
       "      <td>2215</td>\n",
       "    </tr>\n",
       "    <tr>\n",
       "      <th>2</th>\n",
       "      <td>-10</td>\n",
       "      <td>10.0</td>\n",
       "      <td>2215</td>\n",
       "    </tr>\n",
       "    <tr>\n",
       "      <th>3</th>\n",
       "      <td>10</td>\n",
       "      <td>100.0</td>\n",
       "      <td>2215</td>\n",
       "    </tr>\n",
       "    <tr>\n",
       "      <th>4</th>\n",
       "      <td>-10</td>\n",
       "      <td>1000.0</td>\n",
       "      <td>2215</td>\n",
       "    </tr>\n",
       "    <tr>\n",
       "      <th>5</th>\n",
       "      <td>10</td>\n",
       "      <td>10000.0</td>\n",
       "      <td>90210</td>\n",
       "    </tr>\n",
       "  </tbody>\n",
       "</table>\n",
       "</div>"
      ],
      "text/plain": [
       "    x        y  zip code\n",
       "0 -10      0.1      2215\n",
       "1  10      1.0      2215\n",
       "2 -10     10.0      2215\n",
       "3  10    100.0      2215\n",
       "4 -10   1000.0      2215\n",
       "5  10  10000.0     90210"
      ]
     },
     "execution_count": 1,
     "metadata": {},
     "output_type": "execute_result"
    }
   ],
   "source": [
    "import pandas as pd\n",
    "\n",
    "df = pd.DataFrame({'x': [-10, 10, -10, 10, -10, 10],\n",
    "                   'y': [.1, 1, 10, 100, 1000, 10000],\n",
    "                   'zip code': [2215, 2215, 2215, 2215, 2215, 90210]})\n",
    "\n",
    "df\n",
    "\n"
   ]
  },
  {
   "cell_type": "code",
   "execution_count": 2,
   "id": "1901098a",
   "metadata": {
    "scrolled": true
   },
   "outputs": [
    {
     "data": {
      "text/plain": [
       "x              0.0\n",
       "y             55.0\n",
       "zip code    2215.0\n",
       "dtype: float64"
      ]
     },
     "execution_count": 2,
     "metadata": {},
     "output_type": "execute_result"
    }
   ],
   "source": [
    "df.median(axis=0)"
   ]
  },
  {
   "cell_type": "code",
   "execution_count": 3,
   "id": "11de5ed3",
   "metadata": {},
   "outputs": [
    {
     "data": {
      "text/plain": [
       "x               0.000000\n",
       "y            1851.850000\n",
       "zip code    16880.833333\n",
       "dtype: float64"
      ]
     },
     "execution_count": 3,
     "metadata": {},
     "output_type": "execute_result"
    }
   ],
   "source": [
    "df.mean(axis=0)"
   ]
  },
  {
   "cell_type": "code",
   "execution_count": 4,
   "id": "d9375ec8",
   "metadata": {},
   "outputs": [
    {
     "data": {
      "text/html": [
       "<div>\n",
       "<style scoped>\n",
       "    .dataframe tbody tr th:only-of-type {\n",
       "        vertical-align: middle;\n",
       "    }\n",
       "\n",
       "    .dataframe tbody tr th {\n",
       "        vertical-align: top;\n",
       "    }\n",
       "\n",
       "    .dataframe thead th {\n",
       "        text-align: right;\n",
       "    }\n",
       "</style>\n",
       "<table border=\"1\" class=\"dataframe\">\n",
       "  <thead>\n",
       "    <tr style=\"text-align: right;\">\n",
       "      <th></th>\n",
       "      <th>x</th>\n",
       "      <th>y</th>\n",
       "      <th>zip code</th>\n",
       "    </tr>\n",
       "  </thead>\n",
       "  <tbody>\n",
       "    <tr>\n",
       "      <th>0</th>\n",
       "      <td>-10.0</td>\n",
       "      <td>0.1</td>\n",
       "      <td>2215.0</td>\n",
       "    </tr>\n",
       "    <tr>\n",
       "      <th>1</th>\n",
       "      <td>10.0</td>\n",
       "      <td>1.0</td>\n",
       "      <td>NaN</td>\n",
       "    </tr>\n",
       "    <tr>\n",
       "      <th>2</th>\n",
       "      <td>NaN</td>\n",
       "      <td>10.0</td>\n",
       "      <td>NaN</td>\n",
       "    </tr>\n",
       "    <tr>\n",
       "      <th>3</th>\n",
       "      <td>NaN</td>\n",
       "      <td>100.0</td>\n",
       "      <td>NaN</td>\n",
       "    </tr>\n",
       "    <tr>\n",
       "      <th>4</th>\n",
       "      <td>NaN</td>\n",
       "      <td>1000.0</td>\n",
       "      <td>NaN</td>\n",
       "    </tr>\n",
       "    <tr>\n",
       "      <th>5</th>\n",
       "      <td>NaN</td>\n",
       "      <td>10000.0</td>\n",
       "      <td>NaN</td>\n",
       "    </tr>\n",
       "  </tbody>\n",
       "</table>\n",
       "</div>"
      ],
      "text/plain": [
       "      x        y  zip code\n",
       "0 -10.0      0.1    2215.0\n",
       "1  10.0      1.0       NaN\n",
       "2   NaN     10.0       NaN\n",
       "3   NaN    100.0       NaN\n",
       "4   NaN   1000.0       NaN\n",
       "5   NaN  10000.0       NaN"
      ]
     },
     "execution_count": 4,
     "metadata": {},
     "output_type": "execute_result"
    }
   ],
   "source": [
    "df.mode(axis=0)"
   ]
  },
  {
   "cell_type": "markdown",
   "id": "4ad4e744",
   "metadata": {},
   "source": [
    "\n",
    "## response\n",
    "Mode would be the best measure of the average of the x data and zipcode because there is one outlier (90210) in the nominal data, and it shows more information about x and the zipcode than using mean or medium. \n",
    "\n",
    "Median would be the best for y data and zipcode because there is a huge outlier (10000) in the data.\n"
   ]
  },
  {
   "cell_type": "markdown",
   "id": "a07ca22b",
   "metadata": {
    "slideshow": {
     "slide_type": "slide"
    }
   },
   "source": [
    "## In Class Assignment B\n",
    "\n",
    "    set A: 4, 6, 8, 6, 2, 10\n",
    "\n",
    "    set B: -100, 100, -100, 100\n",
    "\n",
    "1. Using your intuition and the definitions of sample mean and sample variance, tell which set:\n",
    "- has the largest sample mean\n",
    "- has the largest sample variance\n",
    "\n",
    "2. Then, with pencil and paper, compute the sample mean and sample variance of each.\n",
    "\n",
    "3. Finally, use pandas to compute the sample mean and variance of each set to validate your solution\n"
   ]
  },
  {
   "cell_type": "markdown",
   "id": "1b97caac",
   "metadata": {},
   "source": [
    "Set A has the largest sample mean.\n",
    "\n",
    "Set B has the largest sample variance\n"
   ]
  },
  {
   "cell_type": "code",
   "execution_count": 5,
   "id": "e3f60c82",
   "metadata": {},
   "outputs": [
    {
     "data": {
      "text/plain": [
       "8.0"
      ]
     },
     "execution_count": 5,
     "metadata": {},
     "output_type": "execute_result"
    }
   ],
   "source": [
    "import pandas as pd\n",
    "\n",
    "setA = [4,6,8,6,2,10]\n",
    "pd.Series(setA).var() \n"
   ]
  },
  {
   "cell_type": "code",
   "execution_count": 6,
   "id": "c58c4f55",
   "metadata": {},
   "outputs": [
    {
     "data": {
      "text/plain": [
       "6.0"
      ]
     },
     "execution_count": 6,
     "metadata": {},
     "output_type": "execute_result"
    }
   ],
   "source": [
    "pd.Series(setA).mean()"
   ]
  },
  {
   "cell_type": "code",
   "execution_count": 7,
   "id": "f77ad2e0",
   "metadata": {},
   "outputs": [
    {
     "data": {
      "text/plain": [
       "13333.333333333334"
      ]
     },
     "execution_count": 7,
     "metadata": {},
     "output_type": "execute_result"
    }
   ],
   "source": [
    "setB = [-100,100,-100,100]\n",
    "pd.Series(setB).var()"
   ]
  },
  {
   "cell_type": "code",
   "execution_count": 8,
   "id": "866ded6c",
   "metadata": {},
   "outputs": [
    {
     "data": {
      "text/plain": [
       "0.0"
      ]
     },
     "execution_count": 8,
     "metadata": {},
     "output_type": "execute_result"
    }
   ],
   "source": [
    "pd.Series(setB).mean()"
   ]
  },
  {
   "cell_type": "markdown",
   "id": "16b740cf",
   "metadata": {
    "slideshow": {
     "slide_type": "slide"
    }
   },
   "source": [
    "## In Class Assignment C\n",
    "\n",
    "Each of the scatters below shows two features, each with a mean of 0.  Match the scatter above with the covariance matrices below (each scatter corresponds to a unique covariance matrix).\n",
    "\n",
    "<img src=\"https://i.ibb.co/kcN8TvM/cov-match.png\" alt=\"Drawing\" style=\"width: 800px;\"/>\n"
   ]
  },
  {
   "cell_type": "markdown",
   "id": "6a1d1966",
   "metadata": {},
   "source": [
    "graph a = matrix_3\n",
    "\n",
    "graph b = matrix_1\n",
    "\n",
    "graph c = matrix_5\n",
    "\n",
    "graph d = matrix_2\n",
    "\n",
    "graph e = matrix_0\n",
    "\n",
    "graph f = matrix_4\n"
   ]
  }
 ],
 "metadata": {
  "celltoolbar": "Slideshow",
  "kernelspec": {
   "display_name": "Python 3 (ipykernel)",
   "language": "python",
   "name": "python3"
  },
  "language_info": {
   "codemirror_mode": {
    "name": "ipython",
    "version": 3
   },
   "file_extension": ".py",
   "mimetype": "text/x-python",
   "name": "python",
   "nbconvert_exporter": "python",
   "pygments_lexer": "ipython3",
   "version": "3.9.7"
  }
 },
 "nbformat": 4,
 "nbformat_minor": 5
}
