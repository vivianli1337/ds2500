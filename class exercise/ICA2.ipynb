{
 "cells": [
  {
   "cell_type": "markdown",
   "id": "079c3ab7",
   "metadata": {
    "slideshow": {
     "slide_type": "slide"
    }
   },
   "source": [
    "# In Class Assignment A\n",
    " \n",
    "Slice the string `ascii_letters` below to:\n",
    "- produce the 10th through the 15th letters of the alphabet (lowercase).  please include the 15th letter of hte alphabet in your output\n",
    "- produce all \"odd\" indexed characters ('bdfh...')\n",
    "- produce the first 3 letters\n",
    "- produce the last 10 letters\n",
    "- reverse the order of the string\n"
   ]
  },
  {
   "cell_type": "code",
   "execution_count": 1,
   "id": "e4c7f106",
   "metadata": {},
   "outputs": [
    {
     "data": {
      "text/plain": [
       "'abcdefghijklmnopqrstuvwxyzABCDEFGHIJKLMNOPQRSTUVWXYZ'"
      ]
     },
     "execution_count": 1,
     "metadata": {},
     "output_type": "execute_result"
    }
   ],
   "source": [
    "# import ascii_letters from string\n",
    "from string import ascii_letters\n",
    "\n",
    "# assign ascii_letters to a variable\n",
    "s = ascii_letters\n",
    "s"
   ]
  },
  {
   "cell_type": "code",
   "execution_count": 2,
   "id": "a864f81c",
   "metadata": {},
   "outputs": [
    {
     "data": {
      "text/plain": [
       "'jklmno'"
      ]
     },
     "execution_count": 2,
     "metadata": {},
     "output_type": "execute_result"
    }
   ],
   "source": [
    "# produce 10th to 15th letters (lowercase) including the 15th letter\n",
    "s[9:15]"
   ]
  },
  {
   "cell_type": "code",
   "execution_count": 3,
   "id": "b4755a8c",
   "metadata": {},
   "outputs": [
    {
     "data": {
      "text/plain": [
       "'bdfhjlnprtvxzBDFHJLNPRTVXZ'"
      ]
     },
     "execution_count": 3,
     "metadata": {},
     "output_type": "execute_result"
    }
   ],
   "source": [
    "# produce all the \"odd\" indexed characters ('bdfh')\n",
    "s[1::2]"
   ]
  },
  {
   "cell_type": "code",
   "execution_count": 4,
   "id": "739d53c8",
   "metadata": {
    "scrolled": true
   },
   "outputs": [
    {
     "data": {
      "text/plain": [
       "'abc'"
      ]
     },
     "execution_count": 4,
     "metadata": {},
     "output_type": "execute_result"
    }
   ],
   "source": [
    "# produce the first 3 letters in ascii_letters\n",
    "s[:3]"
   ]
  },
  {
   "cell_type": "code",
   "execution_count": 5,
   "id": "b80055e4",
   "metadata": {},
   "outputs": [
    {
     "data": {
      "text/plain": [
       "'QRSTUVWXYZ'"
      ]
     },
     "execution_count": 5,
     "metadata": {},
     "output_type": "execute_result"
    }
   ],
   "source": [
    "# produce the last 10 letters\n",
    "s[-10:]"
   ]
  },
  {
   "cell_type": "code",
   "execution_count": 6,
   "id": "058e9df8",
   "metadata": {},
   "outputs": [
    {
     "data": {
      "text/plain": [
       "'ZYXWVUTSRQPONMLKJIHGFEDCBAzyxwvutsrqponmlkjihgfedcba'"
      ]
     },
     "execution_count": 6,
     "metadata": {},
     "output_type": "execute_result"
    }
   ],
   "source": [
    "# reverse order of the string using -1 skip step\n",
    "s[::-1]"
   ]
  },
  {
   "cell_type": "markdown",
   "id": "1d7ef492",
   "metadata": {},
   "source": [
    "# In Class Activity B\n",
    "\n",
    "Not only do test cases validate that your function works, they specify its behavior!  By studying the given test cases, you can fully understand what the function should be doing.\n",
    "\n",
    "For example, after studying the test cases, you can complete the `evaluate_rps()` function below, which evaluates a round of [rock, paper, scissors](https://en.wikipedia.org/wiki/Rock_paper_scissors).  Be sure to [document your code:\n",
    "](https://course.ccs.neu.edu/ds2500/python_style.html):\n",
    "- function docstring\n",
    "- comments\n",
    "- \"chunks\" of code which do similar things\n",
    "- variable names which are short and descriptive\n",
    "\n",
    "++ If you're done early, see if you can simplify your implementation as much as possible.  I found an early return statement (a return in some if block where the function continues afterwards) to be helpful here.\n"
   ]
  },
  {
   "cell_type": "code",
   "execution_count": 15,
   "id": "f26a7acb",
   "metadata": {},
   "outputs": [],
   "source": [
    "def evaluate_rps(user0_rps, user1_rps):\n",
    "    # your docstring goes here!\n",
    "    ''' evaluate players' rock, paper, scissors game\n",
    "    \n",
    "    Args: \n",
    "        user0_rps (string): input \"rock\", \"paper\", or \"scissors\" \n",
    "        user1_rps (string): input \"rock\", \"paper\", or \"scissors\" \n",
    "    \n",
    "    Returns\n",
    "        points (int):\n",
    "        0 if user0 wins\n",
    "        1 if user1 wins\n",
    "        -1 if tied\n",
    "    \n",
    "    '''\n",
    "    # validate proper inputs given\n",
    "    rps_tuple = 'rock', 'paper', 'scissors'\n",
    "    assert user0_rps in rps_tuple, 'invalid user0 input'    \n",
    "    assert user1_rps in rps_tuple, 'invalid user1 input'\n",
    "    \n",
    "    # your function \"guts\" go here!\n",
    "    \n",
    "    # set variables for input variables\n",
    "    u0 = user0_rps\n",
    "    u1 = user1_rps\n",
    "    \n",
    "    # create conditional statements for points/winners\n",
    "    if u0 == \"rock\":\n",
    "        if u1 == \"paper\":\n",
    "            return 1\n",
    "        elif u1 == \"scissors\":\n",
    "            return 0\n",
    "        elif u1 == \"rock\":\n",
    "            return -1\n",
    "    elif u0 == \"scissors\":\n",
    "        if u1 == \"paper\":\n",
    "            return 0\n",
    "        elif u1 == \"scissors\":\n",
    "            return -1\n",
    "        elif u1 == \"rock\":\n",
    "            return 1\n",
    "    elif u0 == \"paper\":\n",
    "        if u1 == \"paper\":\n",
    "            return -1\n",
    "        elif u1 == \"scissors\":\n",
    "            return 1\n",
    "        elif u1 == \"rock\":\n",
    "            return 0\n",
    "    "
   ]
  },
  {
   "cell_type": "code",
   "execution_count": 16,
   "id": "f9ed76cb",
   "metadata": {},
   "outputs": [],
   "source": [
    "# paper beats rock\n",
    "assert evaluate_rps('paper', 'rock') == 0\n",
    "assert evaluate_rps('rock', 'paper') == 1\n",
    "\n",
    "# scissors beats paper\n",
    "assert evaluate_rps('scissors', 'paper') == 0\n",
    "assert evaluate_rps('paper', 'scissors') == 1\n",
    "\n",
    "# rock beats scissors\n",
    "assert evaluate_rps('rock', 'scissors') == 0\n",
    "assert evaluate_rps('scissors', 'rock') == 1\n",
    "\n",
    "# ties\n",
    "assert evaluate_rps('scissors', 'scissors') == -1\n",
    "assert evaluate_rps('rock', 'rock') == -1\n",
    "assert evaluate_rps('paper', 'paper') == -1\n"
   ]
  }
 ],
 "metadata": {
  "celltoolbar": "Slideshow",
  "kernelspec": {
   "display_name": "Python 3 (ipykernel)",
   "language": "python",
   "name": "python3"
  },
  "language_info": {
   "codemirror_mode": {
    "name": "ipython",
    "version": 3
   },
   "file_extension": ".py",
   "mimetype": "text/x-python",
   "name": "python",
   "nbconvert_exporter": "python",
   "pygments_lexer": "ipython3",
   "version": "3.9.7"
  }
 },
 "nbformat": 4,
 "nbformat_minor": 5
}
