{
 "cells": [
  {
   "cell_type": "markdown",
   "id": "0cf8f1e4",
   "metadata": {
    "slideshow": {
     "slide_type": "slide"
    }
   },
   "source": [
    "# In Class Assignment A\n",
    "\n",
    "Given a list of strings `list_string`, produce the string containing all characters which appeared in any string (`str_all_char`).  `str_all_char` should be sorted.\n",
    "\n",
    "For example:\n",
    "- if `list_string = ['a', 'c', 'b']` then your `str_all_char = 'abc'`\n",
    "- if `list_string = ['abc', 'cd', 'zabe']` then your `str_all_char = 'abcdez'`\n",
    "\n",
    "hint: we have studied loops & sets today ...\n",
    "\n",
    "\n",
    "\n",
    "++ If you have time:\n",
    "- make it a function\n",
    "    - docstring & any comment necessary\n",
    "- use `assert` to validate your function with the two test cases\n",
    "\n"
   ]
  },
  {
   "cell_type": "code",
   "execution_count": 1,
   "id": "dc38be70",
   "metadata": {},
   "outputs": [],
   "source": [
    "# create a list of strings and a function that would set list to a set\n",
    "list_string = [\"abc\",\"cd\",\"zabe\"]\n",
    "set_chars = set()\n"
   ]
  },
  {
   "cell_type": "code",
   "execution_count": 2,
   "id": "91dcc30c",
   "metadata": {},
   "outputs": [],
   "source": [
    "# create a empty string for variable str_all_letters\n",
    "str_all_letters = \"\""
   ]
  },
  {
   "cell_type": "code",
   "execution_count": 3,
   "id": "bcddefef",
   "metadata": {},
   "outputs": [],
   "source": [
    "# create a for loop to add each letters in each string into the set \n",
    "for item in list_string:\n",
    "    for char in item:\n",
    "        set_chars.add(char)"
   ]
  },
  {
   "cell_type": "code",
   "execution_count": 4,
   "id": "04983f42",
   "metadata": {},
   "outputs": [
    {
     "name": "stdout",
     "output_type": "stream",
     "text": [
      "['a', 'b', 'c', 'd', 'e', 'z']\n"
     ]
    }
   ],
   "source": [
    "#sort them alphabetically\n",
    "sort_chars = sorted(set_chars)\n",
    "\n",
    "#print to check\n",
    "print(sort_chars)"
   ]
  },
  {
   "cell_type": "code",
   "execution_count": 5,
   "id": "c3b14ef5",
   "metadata": {},
   "outputs": [
    {
     "name": "stdout",
     "output_type": "stream",
     "text": [
      "abcdez\n"
     ]
    }
   ],
   "source": [
    "# create a for loop to add each letter to the previous resulted letter\n",
    "for letters in sort_chars:\n",
    "    str_all_letters = str_all_letters + letters\n",
    "print(str_all_letters) \n",
    "\n",
    "\n",
    "# can also use join function\n",
    "#''.join(sort_chars)\n"
   ]
  },
  {
   "cell_type": "markdown",
   "id": "6612acc7",
   "metadata": {
    "slideshow": {
     "slide_type": "slide"
    }
   },
   "source": [
    "## In Class Assignment B: \n",
    "\n",
    "For every vowel, get a word from the user which contains that vowel, store in a dictionary.  Re-query the user if their input doesn't contain the vowel.  \n",
    "\n",
    "Example output dictionary:\n",
    "\n",
    "```python\n",
    "vowel_dict = {'a': 'apple',\n",
    "              'e': 'elephant',\n",
    "              'i': 'iowa',\n",
    "              'o': 'obtuse',\n",
    "              'u': 'umbrella'}\n",
    "```\n",
    "\n",
    "++ If you have time:\n",
    "- make it a function\n",
    "    - docstring!\n",
    "- by default, you function should ask for a word for each vowel ... but allow the user of your function to specify their own list of required characters (not necessarily `'aeiou'`)\n"
   ]
  },
  {
   "cell_type": "code",
   "execution_count": 6,
   "id": "4e16d0d6",
   "metadata": {},
   "outputs": [],
   "source": [
    "# create an empty dictionary\n",
    "vowel_dict = {}"
   ]
  },
  {
   "cell_type": "code",
   "execution_count": 7,
   "id": "e15a92fc",
   "metadata": {},
   "outputs": [
    {
     "name": "stdout",
     "output_type": "stream",
     "text": [
      "Please input a word which contains a\n",
      "al\n",
      "Please input a word which contains e\n",
      "ego\n",
      "Please input a word which contains i\n",
      "ice\n",
      "Please input a word which contains o\n",
      "oops\n",
      "Please input a word which contains u\n",
      "uh\n"
     ]
    }
   ],
   "source": [
    "# ask the input for a word and check to see if the first letter will contain a vowel\n",
    "for vowel in \"aeiou\":\n",
    "    while True:\n",
    "        input_str = input('Please input a word which contains '+ vowel + \"\\n\")\n",
    "        \n",
    "        # if the first letter of the word contain the vowels, input the word to the dictionary\n",
    "        if input_str[0] in vowel:\n",
    "            vowel_dict[vowel] = input_str\n",
    "            break\n",
    "        #if the first letter of word does not contain a vowel, ask user to input another word\n",
    "        print('invalid input, doesnt contain ' + vowel)"
   ]
  },
  {
   "cell_type": "code",
   "execution_count": 9,
   "id": "ff349bce",
   "metadata": {},
   "outputs": [
    {
     "name": "stdout",
     "output_type": "stream",
     "text": [
      "{'a': 'al', 'e': 'ego', 'i': 'ice', 'o': 'oops', 'u': 'uh'}\n"
     ]
    }
   ],
   "source": [
    "# print the dictionary\n",
    "print(vowel_dict)"
   ]
  }
 ],
 "metadata": {
  "celltoolbar": "Slideshow",
  "kernelspec": {
   "display_name": "Python 3 (ipykernel)",
   "language": "python",
   "name": "python3"
  },
  "language_info": {
   "codemirror_mode": {
    "name": "ipython",
    "version": 3
   },
   "file_extension": ".py",
   "mimetype": "text/x-python",
   "name": "python",
   "nbconvert_exporter": "python",
   "pygments_lexer": "ipython3",
   "version": "3.9.7"
  }
 },
 "nbformat": 4,
 "nbformat_minor": 5
}
