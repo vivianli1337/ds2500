{
 "cells": [
  {
   "cell_type": "markdown",
   "metadata": {
    "slideshow": {
     "slide_type": "slide"
    }
   },
   "source": [
    "## In Class Activity A\n",
    "A horrible autograder assigns students arbitrary grades for the quizzes they take.\n",
    "Let's assume that:\n",
    "- `n_student=5` students take each quiz\n",
    "- `n_quiz=3` quizzes are taken\n",
    "\n",
    "1. Record all student grades in a two dimensional `np.array`\n",
    "    - **together:** should a student be a row or a column?\n",
    "    - make up all the grades, use simple values to allow for easy testing (e.g. 0, 1, 2, 3, ...)\n",
    "1. Use the functions we just learned to answer:\n",
    "    1. what's the mean score among all the students and quizzes?\n",
    "    1. what's the mean score of the student who was had the highest average?\n",
    "    1. which quiz had the lowest mean score?\n",
    "        - we don't want the score, we want to know which quiz it was, 0, 1 or 2\n"
   ]
  },
  {
   "cell_type": "code",
   "execution_count": 1,
   "metadata": {},
   "outputs": [
    {
     "data": {
      "text/plain": [
       "array([[ 0,  1,  2],\n",
       "       [ 3,  4,  5],\n",
       "       [ 6,  7,  8],\n",
       "       [ 9, 10, 11],\n",
       "       [12, 13, 14]])"
      ]
     },
     "execution_count": 1,
     "metadata": {},
     "output_type": "execute_result"
    }
   ],
   "source": [
    "import numpy as np\n",
    "n_student = 5 # students took quiz \n",
    "n_quiuz = 3 # quizzes taken - samples\n",
    "\n",
    "# 1. record all student grades in 2d np.array\n",
    "\n",
    "x = np.arange(0,15).reshape((5, 3))\n",
    "x"
   ]
  },
  {
   "cell_type": "code",
   "execution_count": 2,
   "metadata": {},
   "outputs": [
    {
     "data": {
      "text/plain": [
       "7.0"
      ]
     },
     "execution_count": 2,
     "metadata": {},
     "output_type": "execute_result"
    }
   ],
   "source": [
    "# 2. A - what is the mean\n",
    "x.mean()"
   ]
  },
  {
   "cell_type": "code",
   "execution_count": 3,
   "metadata": {},
   "outputs": [
    {
     "data": {
      "text/plain": [
       "13.0"
      ]
     },
     "execution_count": 3,
     "metadata": {},
     "output_type": "execute_result"
    }
   ],
   "source": [
    "# 2. B - what is the mean score of student who had thehighest average\n",
    "# find the average of each student's score and then the highest average\n",
    "x1 = x.mean(axis=1)\n",
    "x1.max()"
   ]
  },
  {
   "cell_type": "code",
   "execution_count": 4,
   "metadata": {},
   "outputs": [
    {
     "data": {
      "text/plain": [
       "0"
      ]
     },
     "execution_count": 4,
     "metadata": {},
     "output_type": "execute_result"
    }
   ],
   "source": [
    "# 2. C - which quiz has the lowest mean score\n",
    "x1 = x.mean(axis=1)\n",
    "x1.argmin()"
   ]
  },
  {
   "cell_type": "markdown",
   "metadata": {
    "slideshow": {
     "slide_type": "slide"
    }
   },
   "source": [
    "# In Class Activity B\n",
    "\n",
    "Complete steps 1 and 2 of the process above to build [tic-tac-toe](https://en.wikipedia.org/wiki/Tic-tac-toe), playable via user `input()`s in jupyter.\n",
    "\n",
    "- know there isn't one \"right\" answer here, though some designs are certainly more complex than others\n",
    "- as a guide, it may help to know my function includes 3 functions but you're welcome to build differently\n",
    "- test cases for user interfaces are tough to write, feel free to describe with a bit of text or show example output (as lab0: part 1 does)\n"
   ]
  },
  {
   "cell_type": "markdown",
   "metadata": {},
   "source": [
    "# Step 1. Thoughtfully design your program\n",
    "\n",
    "User interface:\n",
    "\n",
    "play:\n",
    "- create a array; 3 x 3\n",
    "- for loop --- until row, column, or diagonal is filled\n",
    "- 2 users\n",
    "    - one will be X and other will be O - or any other 2 symbols\n",
    "    - ask user 1 to start first \n",
    "        - string & where to place\n",
    "            - use replace\n",
    "    - ask user 2 to follow after\n",
    "        - string & where to replace\n",
    "            - use replace\n",
    "- re-query if placed in the filled spot\n",
    "    - show result of the board\n",
    "    \n",
    "\n",
    "evaluate_winner:\n",
    "- evaluate the board\n",
    "    - if row, column, or diagonal is filled\n",
    "- win, lose, or tie\n",
    "    - if user1 win: announce the winner\n",
    "    - if user2 win: announce the winner\n",
    "    - if tied, announce the result = no winner\n",
    "\n",
    "\n"
   ]
  },
  {
   "cell_type": "code",
   "execution_count": 5,
   "metadata": {},
   "outputs": [],
   "source": [
    "# Step 2A: Write your function headers & docstrings\n",
    "\n",
    "\n",
    "def play(board, user1, user2):\n",
    "    \"\"\" show the result of each player's turn\n",
    "\n",
    "    Args:\n",
    "        user1 (str): 'X'\n",
    "        user2 (str): 'O'\n",
    "\n",
    "    Returns:\n",
    "        board (array 3x3) - a new board showing each player's play\n",
    "    \"\"\"   \n",
    "    \n",
    "    # create an array 3x3 with \"-\" as placeholders\n",
    "    \n",
    "    # use a for loop \n",
    "        # ask user1 to input \"X\" on a specific spot in the array\n",
    "        # re-query if the spot is filled\n",
    "        \n",
    "        # ask user2 to input \"O\" on a specific spot in the array\n",
    "        # re-query if the spot is filled\n",
    "        \n",
    "    # return a new board\n"
   ]
  },
  {
   "cell_type": "code",
   "execution_count": 6,
   "metadata": {},
   "outputs": [],
   "source": [
    "def evaluate_winner(play):\n",
    "    \"\"\" show the result of each player's turn\n",
    "\n",
    "    Args:\n",
    "        board (array) with each player's moves\n",
    "\n",
    "    Returns:\n",
    "        points:\n",
    "            - if user1 win: print(\"user1 wins\") str\n",
    "            - if user2 win: print(\"user2 wins\") str\n",
    "            - if users tied: print(\"Tied\") str\n",
    "    \"\"\"   \n",
    "    \n",
    "    # conditional statement:\n",
    "    # if row, column, diagonal on board = X, user1 wins \n",
    "    \n",
    "    # if row, column, diagonal on board = O, user2 wins \n",
    "    \n",
    "    # if row, column, diagonal on board != X and != O, it is a tie\n",
    "    \n",
    "    \n",
    "    # return the winner\n",
    "    "
   ]
  },
  {
   "cell_type": "code",
   "execution_count": 7,
   "metadata": {},
   "outputs": [
    {
     "ename": "NameError",
     "evalue": "name 'winner' is not defined",
     "output_type": "error",
     "traceback": [
      "\u001b[0;31m---------------------------------------------------------------------------\u001b[0m",
      "\u001b[0;31mNameError\u001b[0m                                 Traceback (most recent call last)",
      "\u001b[0;32m/var/folders/9m/1hg1hctj5s94qtlnx8n6561h0000gn/T/ipykernel_14954/2750118214.py\u001b[0m in \u001b[0;36m<module>\u001b[0;34m\u001b[0m\n\u001b[1;32m      2\u001b[0m \u001b[0;34m\u001b[0m\u001b[0m\n\u001b[1;32m      3\u001b[0m \u001b[0;31m# user 1 win\u001b[0m\u001b[0;34m\u001b[0m\u001b[0;34m\u001b[0m\u001b[0m\n\u001b[0;32m----> 4\u001b[0;31m \u001b[0;32massert\u001b[0m \u001b[0mwinner\u001b[0m \u001b[0;34m==\u001b[0m \u001b[0;34m\"User1 wins!\"\u001b[0m\u001b[0;34m\u001b[0m\u001b[0;34m\u001b[0m\u001b[0m\n\u001b[0m\u001b[1;32m      5\u001b[0m \u001b[0;31m# user 2 win\u001b[0m\u001b[0;34m\u001b[0m\u001b[0;34m\u001b[0m\u001b[0m\n\u001b[1;32m      6\u001b[0m \u001b[0;32massert\u001b[0m \u001b[0mwinner\u001b[0m \u001b[0;34m==\u001b[0m \u001b[0;34m\"User2 wins!\"\u001b[0m\u001b[0;34m\u001b[0m\u001b[0;34m\u001b[0m\u001b[0m\n",
      "\u001b[0;31mNameError\u001b[0m: name 'winner' is not defined"
     ]
    }
   ],
   "source": [
    "#Step 2B: Write your test cases¶\n",
    "\n",
    "# user 1 win\n",
    "assert winner == \"User1 wins!\"\n",
    "# user 2 win\n",
    "assert winner == \"User2 wins!\"\n",
    "# users 1 & 2 tie\n",
    "assert winner == \"Tied!\""
   ]
  }
 ],
 "metadata": {
  "celltoolbar": "Slideshow",
  "kernelspec": {
   "display_name": "Python 3 (ipykernel)",
   "language": "python",
   "name": "python3"
  },
  "language_info": {
   "codemirror_mode": {
    "name": "ipython",
    "version": 3
   },
   "file_extension": ".py",
   "mimetype": "text/x-python",
   "name": "python",
   "nbconvert_exporter": "python",
   "pygments_lexer": "ipython3",
   "version": "3.9.7"
  }
 },
 "nbformat": 4,
 "nbformat_minor": 4
}
