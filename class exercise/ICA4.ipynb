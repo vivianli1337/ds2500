{
 "cells": [
  {
   "cell_type": "markdown",
   "metadata": {
    "slideshow": {
     "slide_type": "slide"
    }
   },
   "source": [
    "# In Class Activity A\n",
    "\n",
    "In a particular game a die is rolled such that:\n",
    "- a player earns 10 points 1/2 of the time\n",
    "- a player earns 20 points 1/3 of the time\n",
    "- a player earns 30 points 1/6 of the time\n",
    "\n",
    "Create a single call to `random.choices` which simulates 4 players being assigned points as above.  (Your output should be a list of 4 items)\n"
   ]
  },
  {
   "cell_type": "code",
   "execution_count": 1,
   "metadata": {},
   "outputs": [
    {
     "data": {
      "text/plain": [
       "['10', '10', '20', '10']"
      ]
     },
     "execution_count": 1,
     "metadata": {},
     "output_type": "execute_result"
    }
   ],
   "source": [
    "# import choices from random\n",
    "from random import choices\n",
    "\n",
    "# choosing your population\n",
    "population = [\"10\", \"20\", \"30\"]\n",
    "\n",
    "# call choices with 4 random samples and its respective probability\n",
    "choices(population, k = 4, weights = [1/2, 1/3, 1/6])\n",
    "\n",
    "\n"
   ]
  },
  {
   "cell_type": "code",
   "execution_count": 2,
   "metadata": {},
   "outputs": [
    {
     "data": {
      "text/plain": [
       "[30, 20, 10, 10]"
      ]
     },
     "execution_count": 2,
     "metadata": {},
     "output_type": "execute_result"
    }
   ],
   "source": [
    "# import random\n",
    "import random\n",
    "\n",
    "random.choices([10, 20, 30], weights=[1/2, 1/3, 1/6], k = 4)\n"
   ]
  },
  {
   "cell_type": "markdown",
   "metadata": {
    "slideshow": {
     "slide_type": "slide"
    }
   },
   "source": [
    "## In Class Activity B\n",
    "1. Build an array by:\n",
    "- getting 100 equally spaced values from 11 to 42\n",
    "- reshaping it into an array with 5 columns\n",
    "2. How much memory does the computer use to store the array above if ...\n",
    "    - ... each item in array is a `float`\n",
    "    - ... each item in array is an 8 bit unsigned integer `np.uint8`\n",
    "        - is anything lost in this representation? (explain in comment please)\n",
    "3. (++) Build an `11x11` checkerboard matrix.  A `3x3` checkerboard is shown below for reference:\n",
    "$$ \\begin{bmatrix} 0 & 1 & 0 \\\\ 1 & 0 & 1 \\\\ 0 & 1 & 0 \\end{bmatrix} $$\n",
    "- hint: try `[0, 1] * 3`, how could you use this?\n",
    "- hint: you can slice matrices just like tuples / lists\n",
    "    - `x[1:3]` gets the second and third items in an array\n"
   ]
  },
  {
   "cell_type": "code",
   "execution_count": 3,
   "metadata": {
    "scrolled": true
   },
   "outputs": [
    {
     "data": {
      "text/plain": [
       "array([[11.        , 11.31313131, 11.62626263, 11.93939394, 12.25252525],\n",
       "       [12.56565657, 12.87878788, 13.19191919, 13.50505051, 13.81818182],\n",
       "       [14.13131313, 14.44444444, 14.75757576, 15.07070707, 15.38383838],\n",
       "       [15.6969697 , 16.01010101, 16.32323232, 16.63636364, 16.94949495],\n",
       "       [17.26262626, 17.57575758, 17.88888889, 18.2020202 , 18.51515152],\n",
       "       [18.82828283, 19.14141414, 19.45454545, 19.76767677, 20.08080808],\n",
       "       [20.39393939, 20.70707071, 21.02020202, 21.33333333, 21.64646465],\n",
       "       [21.95959596, 22.27272727, 22.58585859, 22.8989899 , 23.21212121],\n",
       "       [23.52525253, 23.83838384, 24.15151515, 24.46464646, 24.77777778],\n",
       "       [25.09090909, 25.4040404 , 25.71717172, 26.03030303, 26.34343434],\n",
       "       [26.65656566, 26.96969697, 27.28282828, 27.5959596 , 27.90909091],\n",
       "       [28.22222222, 28.53535354, 28.84848485, 29.16161616, 29.47474747],\n",
       "       [29.78787879, 30.1010101 , 30.41414141, 30.72727273, 31.04040404],\n",
       "       [31.35353535, 31.66666667, 31.97979798, 32.29292929, 32.60606061],\n",
       "       [32.91919192, 33.23232323, 33.54545455, 33.85858586, 34.17171717],\n",
       "       [34.48484848, 34.7979798 , 35.11111111, 35.42424242, 35.73737374],\n",
       "       [36.05050505, 36.36363636, 36.67676768, 36.98989899, 37.3030303 ],\n",
       "       [37.61616162, 37.92929293, 38.24242424, 38.55555556, 38.86868687],\n",
       "       [39.18181818, 39.49494949, 39.80808081, 40.12121212, 40.43434343],\n",
       "       [40.74747475, 41.06060606, 41.37373737, 41.68686869, 42.        ]])"
      ]
     },
     "execution_count": 3,
     "metadata": {},
     "output_type": "execute_result"
    }
   ],
   "source": [
    "# import numpy\n",
    "import numpy as np\n",
    "\n",
    "# part 1\n",
    "# use linspace: start w/ 11, stop at 42, size = 100\n",
    "array = np.linspace(11, 42, 100)\n",
    "\n",
    "# reshape to 5 columns; starting from their own choices\n",
    "array.reshape((-1,5))"
   ]
  },
  {
   "cell_type": "code",
   "execution_count": 4,
   "metadata": {},
   "outputs": [
    {
     "data": {
      "text/plain": [
       "800"
      ]
     },
     "execution_count": 4,
     "metadata": {},
     "output_type": "execute_result"
    }
   ],
   "source": [
    "# part 2 - item is an float\n",
    "array = np.linspace(11, 42, num = 100, dtype = float)\n",
    "array.nbytes"
   ]
  },
  {
   "cell_type": "code",
   "execution_count": 5,
   "metadata": {},
   "outputs": [
    {
     "data": {
      "text/plain": [
       "100"
      ]
     },
     "execution_count": 5,
     "metadata": {},
     "output_type": "execute_result"
    }
   ],
   "source": [
    "# part 2 - array is an 8 bit unsigned integer\n",
    "array = np.linspace(11, 42, num = 100, dtype = np.uint8)\n",
    "array.nbytes\n",
    "\n",
    "# all numbers in the array are now integers/whole numbers - not floats\n",
    "# the array is randomly arrange - doesnt have a specific arrangement\n"
   ]
  },
  {
   "cell_type": "markdown",
   "metadata": {
    "slideshow": {
     "slide_type": "slide"
    }
   },
   "source": [
    "## In Class Activity C\n",
    "\n",
    "Using a single array slice, extract all values which match each value below in the matrix `x`\n",
    "- 1\n",
    "- 2\n",
    "- 3\n",
    "- 4\n",
    "- 5\n",
    "\n",
    "- extract the last column of x\n",
    "- extract the last row of x\n",
    "- extract the first three elements of the last column of x\n"
   ]
  },
  {
   "cell_type": "code",
   "execution_count": 6,
   "metadata": {},
   "outputs": [],
   "source": [
    "x = np.array([[0., 1., 3., 0., 5., 5.],\n",
    "              [0., 0., 3., 0., 0., 0.],\n",
    "              [0., 2., 3., 0., 0., 0.],\n",
    "              [0., 0., 3., 4., 4., 4.],\n",
    "              [0., 0., 3., 4., 4., 4.],\n",
    "              [0., 0., 3., 4., 4., 4.]])\n"
   ]
  },
  {
   "cell_type": "code",
   "execution_count": 7,
   "metadata": {},
   "outputs": [
    {
     "data": {
      "text/plain": [
       "1.0"
      ]
     },
     "execution_count": 7,
     "metadata": {},
     "output_type": "execute_result"
    }
   ],
   "source": [
    "# extract 1\n",
    "x[0,1]"
   ]
  },
  {
   "cell_type": "code",
   "execution_count": 8,
   "metadata": {},
   "outputs": [
    {
     "data": {
      "text/plain": [
       "2.0"
      ]
     },
     "execution_count": 8,
     "metadata": {},
     "output_type": "execute_result"
    }
   ],
   "source": [
    "# extract 2\n",
    "x[2,1]"
   ]
  },
  {
   "cell_type": "code",
   "execution_count": 9,
   "metadata": {},
   "outputs": [
    {
     "data": {
      "text/plain": [
       "array([3., 3., 3., 3., 3., 3.])"
      ]
     },
     "execution_count": 9,
     "metadata": {},
     "output_type": "execute_result"
    }
   ],
   "source": [
    "# extract 3\n",
    "x[:,2]"
   ]
  },
  {
   "cell_type": "code",
   "execution_count": 10,
   "metadata": {},
   "outputs": [
    {
     "data": {
      "text/plain": [
       "array([[4., 4., 4.],\n",
       "       [4., 4., 4.],\n",
       "       [4., 4., 4.]])"
      ]
     },
     "execution_count": 10,
     "metadata": {},
     "output_type": "execute_result"
    }
   ],
   "source": [
    "# extract 4\n",
    "x[3:,3:]"
   ]
  },
  {
   "cell_type": "code",
   "execution_count": 11,
   "metadata": {},
   "outputs": [
    {
     "data": {
      "text/plain": [
       "array([5., 5.])"
      ]
     },
     "execution_count": 11,
     "metadata": {},
     "output_type": "execute_result"
    }
   ],
   "source": [
    "# extract 5\n",
    "x[0,4:]"
   ]
  },
  {
   "cell_type": "code",
   "execution_count": 12,
   "metadata": {},
   "outputs": [
    {
     "data": {
      "text/plain": [
       "array([5., 0., 0., 4., 4., 4.])"
      ]
     },
     "execution_count": 12,
     "metadata": {},
     "output_type": "execute_result"
    }
   ],
   "source": [
    "# extract last column\n",
    "x[:,-1]"
   ]
  },
  {
   "cell_type": "code",
   "execution_count": 13,
   "metadata": {},
   "outputs": [
    {
     "data": {
      "text/plain": [
       "array([0., 0., 3., 4., 4., 4.])"
      ]
     },
     "execution_count": 13,
     "metadata": {},
     "output_type": "execute_result"
    }
   ],
   "source": [
    "# extract the last row\n",
    "x[-1,:]"
   ]
  },
  {
   "cell_type": "code",
   "execution_count": 14,
   "metadata": {},
   "outputs": [
    {
     "data": {
      "text/plain": [
       "array([5., 0., 0.])"
      ]
     },
     "execution_count": 14,
     "metadata": {},
     "output_type": "execute_result"
    }
   ],
   "source": [
    "# extract first 3 element of last column\n",
    "x[:3,-1]"
   ]
  }
 ],
 "metadata": {
  "celltoolbar": "Slideshow",
  "kernelspec": {
   "display_name": "Python 3 (ipykernel)",
   "language": "python",
   "name": "python3"
  },
  "language_info": {
   "codemirror_mode": {
    "name": "ipython",
    "version": 3
   },
   "file_extension": ".py",
   "mimetype": "text/x-python",
   "name": "python",
   "nbconvert_exporter": "python",
   "pygments_lexer": "ipython3",
   "version": "3.9.7"
  }
 },
 "nbformat": 4,
 "nbformat_minor": 4
}
