{
 "cells": [
  {
   "cell_type": "markdown",
   "metadata": {},
   "source": [
    "# WE DID NOT DO B IN CLASS"
   ]
  },
  {
   "cell_type": "markdown",
   "metadata": {
    "slideshow": {
     "slide_type": "slide"
    }
   },
   "source": [
    "# In Class Assignment 1\n",
    "\n",
    "Use the given 1-nearest neighbor classifier which estimates a penguins `species` by observing its `bill_depth_mm` and `bill_length_mm` to:\n",
    "- Plot a confusion matrix which shows the performance of your classifier\n",
    "- In a few sentences, explain whether this confusion matrix accurately represents the performance of the classifier on **new** penguins (those the classifier hasn't trained on).  Why or why not?  How might you fix this issue?"
   ]
  },
  {
   "cell_type": "code",
   "execution_count": 1,
   "metadata": {},
   "outputs": [],
   "source": [
    "import pandas as pd\n",
    "import seaborn as sns\n",
    "from sklearn.neighbors import KNeighborsClassifier\n",
    "from sklearn.metrics import confusion_matrix, ConfusionMatrixDisplay\n",
    "import numpy as np\n",
    "import matplotlib.pyplot as plt\n",
    "\n",
    "df_penguin = sns.load_dataset('penguins')\n",
    "df_penguin.dropna(how='any', inplace=True)"
   ]
  },
  {
   "cell_type": "code",
   "execution_count": 2,
   "metadata": {},
   "outputs": [],
   "source": [
    "k = 1\n",
    "x_feat_list = ['bill_depth_mm', 'bill_length_mm']\n",
    "y_feat = 'species'\n",
    "\n",
    "x = df_penguin.loc[:, x_feat_list].values\n",
    "y_true = df_penguin.loc[:, y_feat].values\n",
    "\n",
    "# initialize a knn_classifier\n",
    "knn_classifier = KNeighborsClassifier(n_neighbors=k)\n",
    "\n",
    "# fit happens \"inplace\", we modify the internal state of knn_classifier to remember all the training samples\n",
    "knn_classifier.fit(x, y_true)\n",
    "\n",
    "# estimate each penguin's species\n",
    "y_pred = knn_classifier.predict(x)"
   ]
  },
  {
   "cell_type": "code",
   "execution_count": 3,
   "metadata": {
    "scrolled": true
   },
   "outputs": [
    {
     "data": {
      "image/png": "[encoded data removed]",
      "text/plain": [
       "<Figure size 360x360 with 2 Axes>"
      ]
     },
     "metadata": {},
     "output_type": "display_data"
    }
   ],
   "source": [
    "conf_mat = confusion_matrix(y_true=y_true, y_pred=y_pred)\n",
    "\n",
    "conf_mat_disp = ConfusionMatrixDisplay(conf_mat, display_labels=np.unique(y_true))\n",
    "\n",
    "sns.set(font_scale=1)\n",
    "conf_mat_disp.plot()\n",
    "plt.suptitle(\"K=1 NN Classifier\\nIt looks too accurate...\")\n",
    "\n",
    "plt.gcf().set_size_inches(5, 5)\n",
    "\n",
    "# seaborn turns on grid by default\n",
    "plt.grid(False)"
   ]
  },
  {
   "cell_type": "markdown",
   "metadata": {},
   "source": [
    "## Response:\n",
    "The above confusion matrix is too accurate because they are predicting the already trained set.\n",
    "\n",
    "You can use cross validation and measure the performance on new sample rather than the trained set.\n"
   ]
  },
  {
   "cell_type": "code",
   "execution_count": 4,
   "metadata": {},
   "outputs": [],
   "source": [
    "from sklearn.metrics import confusion_matrix\n",
    "\n",
    "def get_acc_sens_spec(y_true, y_pred, verbose=True):\n",
    "    \"\"\" computes sensitivity & specificity (assumed binary inputs)\n",
    "\n",
    "    Args:\n",
    "        y_true (np.array): binary ground truth per trial\n",
    "        y_pred (np.array): binary prediction per trial\n",
    "\n",
    "    Returns:\n",
    "        acc (float): accuracy\n",
    "        sens (float): sensitivity\n",
    "        spec (float): specificity\n",
    "    \"\"\"\n",
    "    # line below stolen from sklearn confusion_matrix documentation\n",
    "    tn, fp, fn, tp = confusion_matrix(y_true.astype(bool),\n",
    "                                      y_pred.astype(bool),\n",
    "                                      labels=(0, 1)).ravel()\n",
    "\n",
    "    # compute sensitivity\n",
    "    if tp + fn:\n",
    "        sens = tp / (tp + fn)\n",
    "    else:\n",
    "        sens = np.nan\n",
    "\n",
    "    # compute specificity\n",
    "    if tn + fp:\n",
    "        spec = tn / (tn + fp)\n",
    "    else:\n",
    "        spec = np.nan\n",
    "        \n",
    "    # compute acc\n",
    "    acc = (tp + tn) / (tn + fp + fn + tp)\n",
    "\n",
    "    return acc, sens, spec"
   ]
  },
  {
   "cell_type": "code",
   "execution_count": null,
   "metadata": {
    "slideshow": {
     "slide_type": "slide"
    }
   },
   "outputs": [],
   "source": [
    "# 'secret' slide: generate icbm data from ground truth\n",
    "import pandas as pd\n",
    "import numpy as np\n",
    "\n",
    "# total samples\n",
    "n = int(1e6)\n",
    "\n",
    "# prior prob of icbm event\n",
    "prior = .01\n",
    "\n",
    "# false alarm and detection (sensitivity) rates\n",
    "fa_detect = [(.1, .99), \n",
    "             (.5, .95), \n",
    "             (.8, 1), \n",
    "             (.07, .95)]\n",
    "\n",
    "# sample n icbm events\n",
    "rng = np.random.default_rng(seed=0)\n",
    "icbm = rng.random(n) < prior\n",
    "\n",
    "# init dataframe\n",
    "df_icbm = pd.DataFrame({'icbm': icbm})\n",
    "\n",
    "for test_idx, (fa, detect) in enumerate(fa_detect):\n",
    "    pred = np.empty_like(icbm)\n",
    "    \n",
    "    # get predictions (depend on icbm state)\n",
    "    pred[icbm] = np.random.rand(icbm.sum()) < detect\n",
    "    pred[~icbm] = np.random.rand((~icbm).sum()) < fa\n",
    "    \n",
    "    # store predictions\n",
    "    df_icbm[f'alarm{test_idx}'] = pred\n",
    "    \n",
    "df_icbm.to_csv('icbm.csv', index=False)"
   ]
  },
  {
   "cell_type": "markdown",
   "metadata": {
    "slideshow": {
     "slide_type": "slide"
    }
   },
   "source": [
    "## Intercontinental Ballistic Missile (ICBM)"
   ]
  },
  {
   "cell_type": "code",
   "execution_count": null,
   "metadata": {
    "scrolled": true
   },
   "outputs": [],
   "source": [
    "df_icbm = pd.read_csv('icbm.csv')\n",
    "df_icbm.head()"
   ]
  },
  {
   "cell_type": "code",
   "execution_count": null,
   "metadata": {
    "scrolled": true,
    "slideshow": {
     "slide_type": "-"
    }
   },
   "outputs": [],
   "source": [
    "df_performance = pd.DataFrame()\n",
    "for idx in range(4):\n",
    "    alarm = f'alarm{idx}'\n",
    "    \n",
    "    # get truth / predict for alarm\n",
    "    truth = df_icbm.loc[:, 'icbm']\n",
    "    pred = df_icbm.loc[:, alarm]\n",
    "    \n",
    "    # build dataframe of accuracy, sensitivity and specificity\n",
    "    acc, sens, spec = get_acc_sens_spec(y_true=truth, y_pred=pred)\n",
    "    df_performance.loc[alarm, 'accuracy'] = acc\n",
    "    df_performance.loc[alarm, 'sensitivity'] = sens\n",
    "    df_performance.loc[alarm, 'specificity'] = spec\n",
    "    \n",
    "df_performance"
   ]
  },
  {
   "cell_type": "markdown",
   "metadata": {},
   "source": [
    "## In Class Exercise 3\n",
    "\n",
    "Using the values above (and maybe other operations on the dataframe too) select which of the four alarm systems is most appropriate to detect ICBMs.  Provide an explanation which is easily understood by a non-technical reader.\n",
    "\n",
    "Is there any other information you'd need to make this decision?"
   ]
  },
  {
   "cell_type": "markdown",
   "metadata": {},
   "source": [
    "## Response:\n",
    "The most appropriate alarm clock to detect ICBMs is alarm3 because it has the highest accuracy rate of 0.93 with high sensitivity (0.95) and specificity (0.93) rates. \n",
    "\n",
    "Other information that I would need is the type of system that the alarm will be connected to and the frquency of missile events in that location."
   ]
  }
 ],
 "metadata": {
  "celltoolbar": "Slideshow",
  "kernelspec": {
   "display_name": "Python 3 (ipykernel)",
   "language": "python",
   "name": "python3"
  },
  "language_info": {
   "codemirror_mode": {
    "name": "ipython",
    "version": 3
   },
   "file_extension": ".py",
   "mimetype": "text/x-python",
   "name": "python",
   "nbconvert_exporter": "python",
   "pygments_lexer": "ipython3",
   "version": "3.9.7"
  }
 },
 "nbformat": 4,
 "nbformat_minor": 4
}
