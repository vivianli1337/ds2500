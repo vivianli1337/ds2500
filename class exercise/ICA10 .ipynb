{
 "cells": [
  {
   "cell_type": "markdown",
   "id": "e94193e5",
   "metadata": {
    "slideshow": {
     "slide_type": "slide"
    }
   },
   "source": [
    "## In Class Activity A\n",
    "\n",
    "1. Add an `Employee.input_time()` method which adds income for time worked by an employee.  \n",
    "2. Complete the `Employee.compute_tax()` method below.  Specifications are given in the docstring below.  For **every** `Employee`:\n",
    "    - income_tax_threshold = 100\n",
    "    - income_tax_rate = .1\n",
    "    \n",
    "You are given test cases for the completed `Employee` class just below.  Be sure to study these test cases to ensure you understand the expected behavior before implementing the methods.\n"
   ]
  },
  {
   "cell_type": "code",
   "execution_count": 1,
   "id": "4e9ce3a7",
   "metadata": {},
   "outputs": [],
   "source": [
    "class Employee: \n",
    "    \"\"\" stores accounting information for a single employee\n",
    "    \n",
    "    Attributes:\n",
    "        name (str): employee name\n",
    "        rate_day (float): how much money an employee makes in a day\n",
    "        income (float): total amount owed to the employee\n",
    "    \"\"\"\n",
    "    # initialize value; use compute_tax() method\n",
    "    # variable has these values for all objects\n",
    "    income_tax_threshold = 100\n",
    "    income_tax_rate = .1\n",
    "    \n",
    "    def __init__(self, name, rate_day, income=0):\n",
    "        self.name = name\n",
    "        self.rate_day = rate_day\n",
    "        self.income = 0\n",
    "        \n",
    "    def __repr__(self):\n",
    "        return f'Employee(name={self.name}, rate_day={self.rate_day}, income={self.income})'\n",
    "    \n",
    "    def input_time(self, day):\n",
    "        \"\"\" adds income for time worked by an employee\n",
    "        \n",
    "        Args:\n",
    "            day (int): number of days worked by an employee\n",
    "            \n",
    "        Return: \n",
    "            income (float): total earned by employee\n",
    "            \n",
    "        \"\"\"\n",
    "        self.income = day * self.rate_day + self.income\n",
    "        \n",
    "            \n",
    "    def compute_tax(self):\n",
    "        \"\"\" computes taxes the employee owes\n",
    "        \n",
    "        - no taxes are paid on the first Employee.income_tax_threshold \n",
    "            dollars an employee makes.\n",
    "        - any more income is taxed at a rate of Employee.income_tax_rate\n",
    "        \n",
    "        For example, when income_tax_threshold =100 and income_tax_rate=.1:\n",
    "        - an employee whose income is 40 has a tax of 0\n",
    "        - an employee whose income is 101 has a tax of .1\n",
    "            - (1 dollar above threshold taxed at a rate of .1)\n",
    "        \n",
    "        Returns:\n",
    "            tax (float): how much tax should be paid by employee\n",
    "        \n",
    "        \"\"\"\n",
    "        # max( -, 0) make sure that its not negative\n",
    "        # max between two intgers\n",
    "        # e.g. max(31, 42): 42\n",
    "        first_taxable_income = max(self.income - Employee.income_tax_threshold, 0)\n",
    "        taxable_income = first_taxable_income * Employee.income_tax_rate\n",
    "        \n",
    "        return taxable_income\n",
    "                \n",
    "        \n"
   ]
  },
  {
   "cell_type": "markdown",
   "id": "33c01210",
   "metadata": {},
   "source": [
    "# Test Cases: `Employee`\n",
    "\n",
    "These test cases travel with a herd of giraffes:\n",
    "\n",
    "🦒🦒🦒🦒🦒🦒🦒🦒🦒🦒🦒🦒🦒🦒🦒🦒🦒🦒🦒🦒🦒\n"
   ]
  },
  {
   "cell_type": "code",
   "execution_count": 2,
   "id": "f5c64f9b",
   "metadata": {},
   "outputs": [],
   "source": [
    "# tests: __init__() and __repr__()\n",
    "bob_employee = Employee(name='Bob Lastname', rate_day=3)\n",
    "assert str(bob_employee) == 'Employee(name=Bob Lastname, rate_day=3, income=0)'\n",
    "\n",
    "# test: input_time()\n",
    "bob_employee.input_time(day=100)\n",
    "assert str(bob_employee) == 'Employee(name=Bob Lastname, rate_day=3, income=300)'\n",
    "\n",
    "# test: compute_tax()\n",
    "assert bob_employee.compute_tax() == 20\n",
    "\n",
    "# test: compute_tax where income is less than taxable threshold\n",
    "mo_employee = Employee(name='Mo Lastname', rate_day=10) \n",
    "assert mo_employee.compute_tax() == 0\n",
    "\n",
    "# test: input_time with a different rate\n",
    "mo_employee.input_time(day=18)\n",
    "assert str(mo_employee) == 'Employee(name=Mo Lastname, rate_day=10, income=180)'\n"
   ]
  },
  {
   "cell_type": "markdown",
   "id": "dd93e6e3",
   "metadata": {
    "slideshow": {
     "slide_type": "slide"
    }
   },
   "source": [
    "# In Class Activity B\n",
    "\n",
    "1. Complete the `EmployeeWithActive` class definition below by:\n",
    "    - adding a `activate()` method which sets attribute `active=True`\n",
    "    - adding a `deactivate()` method which sets attribute `active=False`\n",
    "    - adding a `EmployeeWithActive.input_time()` method which `assert()`s `active=True` before inputting time\n",
    "        - we shouldn't repeat the code in `Employee.input_time()` ...\n",
    "        - ... is there a way we can specify a method from a particular class?\n",
    "    \n",
    "2. Ensure your code works by writing a few quick test cases which validate the behavior\n",
    "    \n",
    "3. Check-your-understanding questions:\n",
    "    - After defining `EmployeeWithActive`, does `Employee` now have attribute `active`?  Why or why not?\n",
    "    - From your implementation of `EmployeeWithActive`:\n",
    "```python\n",
    "employee_with_active = EmployeeWithActive(name='asdf', rate_day=1)\n",
    "employee_with_active.input_time(day=10)\n",
    "```\n",
    "        - how/when is `EmployeeWithActive.input_time()` called immediately above?\n",
    "        - how/when is `Employee.input_time()` called immediately above?\n"
   ]
  },
  {
   "cell_type": "code",
   "execution_count": 3,
   "id": "2e4e3b23",
   "metadata": {},
   "outputs": [],
   "source": [
    "class EmployeeWithActive(Employee):\n",
    "    \"\"\" subclass of Employee, also includes active state\n",
    "    \n",
    "    checks to ensure only active employees `input_time()`, otherwise\n",
    "    throws an error\n",
    "    \n",
    "    Attributes:\n",
    "        active_bool (bool): True if employee is active\n",
    "    \"\"\"\n",
    "    def __init__(self, name, rate_day, active=True, income=0): \n",
    "        # notice: to call __init__ with this syntax, we pass self\n",
    "        Employee.__init__(self=self, name=name, rate_day=rate_day, income=income)\n",
    "        \n",
    "        self.active = active\n",
    "        \n",
    "    def __repr__(self):\n",
    "        return f'EmployeeWithActive(name={self.name}, rate_day={self.rate_day}, active={self.active}, income={self.income})'\n",
    "    \n",
    "    def activate(self):\n",
    "        \"\"\" opens account, no more deposit \"\"\"\n",
    "        self.active = True\n",
    "        \n",
    "    def deactivate(self):\n",
    "        \"\"\" closes account, no more deposit \"\"\"\n",
    "        self.active = False\n",
    "    \n",
    "    def input_time(self, day):\n",
    "        \"\"\" input time to Active Employees\"\"\"\n",
    "        assert self.active == True, \"The employee is not active\"\n",
    "        # can also be Employee.input_time(self, day)\n",
    "        # overwriting\n",
    "        return Employee.input_time(self=self, day=day)\n",
    "        \n",
    "    \n"
   ]
  },
  {
   "cell_type": "markdown",
   "id": "a75f1530",
   "metadata": {},
   "source": [
    "# TEST CASE: ICA B"
   ]
  },
  {
   "cell_type": "code",
   "execution_count": 4,
   "id": "647ac9fe",
   "metadata": {},
   "outputs": [],
   "source": [
    "# tests: __init__() and __repr__()\n",
    "rob_employee = EmployeeWithActive(name='Rob Lastname', rate_day=3)\n",
    "assert str(rob_employee) == 'EmployeeWithActive(name=Rob Lastname, rate_day=3, active=True, income=0)'\n",
    "\n",
    "# test: input_time()\n",
    "rob_employee.input_time(day=100)\n",
    "assert str(rob_employee) == 'EmployeeWithActive(name=Rob Lastname, rate_day=3, active=True, income=300)'\n",
    "\n",
    "# test: deactivate()\n",
    "rob_employee.deactivate()\n",
    "assert str(rob_employee) == 'EmployeeWithActive(name=Rob Lastname, rate_day=3, active=False, income=300)'\n",
    "\n",
    "# test: activate()\n",
    "rob_employee.activate()\n",
    "assert str(rob_employee) == 'EmployeeWithActive(name=Rob Lastname, rate_day=3, active=True, income=300)'\n",
    "\n",
    "# test: input_time with a different rate\n",
    "rob_employee.input_time(day=18)\n",
    "assert str(rob_employee) == 'EmployeeWithActive(name=Rob Lastname, rate_day=3, active=True, income=354)'\n"
   ]
  }
 ],
 "metadata": {
  "celltoolbar": "Slideshow",
  "kernelspec": {
   "display_name": "Python 3 (ipykernel)",
   "language": "python",
   "name": "python3"
  },
  "language_info": {
   "codemirror_mode": {
    "name": "ipython",
    "version": 3
   },
   "file_extension": ".py",
   "mimetype": "text/x-python",
   "name": "python",
   "nbconvert_exporter": "python",
   "pygments_lexer": "ipython3",
   "version": "3.9.7"
  }
 },
 "nbformat": 4,
 "nbformat_minor": 5
}
