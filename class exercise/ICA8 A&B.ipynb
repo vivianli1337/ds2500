{
 "cells": [
  {
   "cell_type": "code",
   "execution_count": 1,
   "id": "03b5808f",
   "metadata": {},
   "outputs": [],
   "source": [
    "class Account:\n",
    "    \"\"\" a bank account\n",
    "    \n",
    "    Attributes:\n",
    "        owner (str): owner of account\n",
    "        balance (float): how much money is in it\n",
    "        active (bool): true if account is open, false if account is closed.  \n",
    "            deposit() and withdraw() only work on active accounts\n",
    "    \"\"\"\n",
    "    \n",
    "    def __init__(self, owner, balance=0, active=True):\n",
    "        self.owner = owner\n",
    "        self.balance = balance\n",
    "        self.active = active\n",
    "        \n",
    "    def __repr__(self):\n",
    "        return f'Account(owner={self.owner}, balance={self.balance}, active={self.active})'\n",
    "        \n",
    "    def deposit(self, value):\n",
    "        \"\"\" add input value to account balance \n",
    "        \n",
    "        Args:\n",
    "            value (float): input value\n",
    "        \"\"\"\n",
    "        assert self.active, 'account is inactive'\n",
    "        self.balance = self.balance + value\n",
    "        \n",
    "    def withdraw(self, value):\n",
    "        \"\"\" withdraw value from account balance\n",
    "        \n",
    "        Args:\n",
    "            value (float): input value\n",
    "        \"\"\"\n",
    "        assert self.active, 'account is inactive'\n",
    "        \n",
    "        self.balance = self.balance - value\n",
    "        \n",
    "    def deactivate(self):\n",
    "        \"\"\" closes account, no more deposit / withdraws possible \"\"\"\n",
    "        self.active = False\n",
    "        \n",
    "    def activate(self):\n",
    "        \"\"\" activates account, deposit / withdraws possible \"\"\"\n",
    "        self.active = True    \n"
   ]
  },
  {
   "cell_type": "markdown",
   "id": "5a7c0c2d",
   "metadata": {
    "slideshow": {
     "slide_type": "slide"
    }
   },
   "source": [
    "# In Class Activity A\n",
    "\n",
    "- Build a new bank account with your own name and a starting balance of your choosing\n",
    "- Build another bank account with another name and balance\n",
    "    - any choice is fine\n",
    "- deposit 100 into your account\n",
    "- deactivate (and then reactivate) your account\n",
    "- withdraw half the balance of your account\n",
    "    - (++) can you do this programmatically ... having the computer compute half the balance of the account?\n"
   ]
  },
  {
   "cell_type": "code",
   "execution_count": 2,
   "id": "d97eaa2c",
   "metadata": {},
   "outputs": [
    {
     "data": {
      "text/plain": [
       "Account(owner=vivian, balance=2023, active=True)"
      ]
     },
     "execution_count": 2,
     "metadata": {},
     "output_type": "execute_result"
    }
   ],
   "source": [
    "# new bank account\n",
    "vivi_bank = Account(owner='vivian', balance=2023)\n",
    "vivi_bank"
   ]
  },
  {
   "cell_type": "code",
   "execution_count": 3,
   "id": "b0692e23",
   "metadata": {},
   "outputs": [
    {
     "data": {
      "text/plain": [
       "Account(owner=zach, balance=6222, active=True)"
      ]
     },
     "execution_count": 3,
     "metadata": {},
     "output_type": "execute_result"
    }
   ],
   "source": [
    "# another bank\n",
    "zach_bank = Account(owner=\"zach\", balance=6222)\n",
    "zach_bank\n"
   ]
  },
  {
   "cell_type": "code",
   "execution_count": 4,
   "id": "984e9d9c",
   "metadata": {},
   "outputs": [
    {
     "data": {
      "text/plain": [
       "Account(owner=vivian, balance=2123, active=True)"
      ]
     },
     "execution_count": 4,
     "metadata": {},
     "output_type": "execute_result"
    }
   ],
   "source": [
    "# deposit 100\n",
    "vivi_bank.deposit(100)\n",
    "vivi_bank"
   ]
  },
  {
   "cell_type": "code",
   "execution_count": 5,
   "id": "5ea47e80",
   "metadata": {},
   "outputs": [
    {
     "data": {
      "text/plain": [
       "Account(owner=vivian, balance=2123, active=False)"
      ]
     },
     "execution_count": 5,
     "metadata": {},
     "output_type": "execute_result"
    }
   ],
   "source": [
    "# deactivate\n",
    "vivi_bank.deactivate()\n",
    "vivi_bank"
   ]
  },
  {
   "cell_type": "code",
   "execution_count": 6,
   "id": "138f791e",
   "metadata": {},
   "outputs": [
    {
     "data": {
      "text/plain": [
       "Account(owner=vivian, balance=2123, active=True)"
      ]
     },
     "execution_count": 6,
     "metadata": {},
     "output_type": "execute_result"
    }
   ],
   "source": [
    "# activate\n",
    "vivi_bank.activate()\n",
    "vivi_bank"
   ]
  },
  {
   "cell_type": "code",
   "execution_count": 7,
   "id": "0ff5df06",
   "metadata": {},
   "outputs": [
    {
     "data": {
      "text/plain": [
       "Account(owner=vivian, balance=1061.5, active=True)"
      ]
     },
     "execution_count": 7,
     "metadata": {},
     "output_type": "execute_result"
    }
   ],
   "source": [
    "acct_balance = vivi_bank.balance\n",
    "vivi_bank.withdraw(acct_balance/2)\n",
    "vivi_bank"
   ]
  },
  {
   "cell_type": "markdown",
   "id": "34500c47",
   "metadata": {
    "slideshow": {
     "slide_type": "slide"
    }
   },
   "source": [
    "# In Class Activity B:\n",
    "By copy-pasting and modifying the `Account` class above, create a new class `AccountTaxable` which has the following upgrades:\n",
    "- includes a new attribute `kind` which stores a string \n",
    "    - e.g. 'checking', 'savings', 'brokerage', 'creepy-secret-offshore-unethical-kind-of-thing'\n",
    "        - you needn't ensure the input is one of these particular strings\n",
    "- the method `AccountTaxable.withdraw()` now checks to ensure there is a sufficient balance in the account before operating.  If requested withdraw amount is greater than the balance, throw an error (i.e. `assert`)\n",
    "- add a new method `AccountTaxable.tax()` which accepts a single variable `rate` which is a float betweeen 0 and 1.  \n",
    "    - The `taxed_amount` is computed as `AccountTaxable.balance * rate`.  \n",
    "    - Reduce the balance by `taxed_amount`\n",
    "    - return `taxed_amount` \n",
    "        - so the user of our object can see how much tax was assessed\n",
    "    - throw an error if account type is 'creepy-secret-offshore-unethical-kind-of-thing'\n",
    "        - how silly of our user ... we couldn't tax these kinds of accounts!\n",
    "        \n",
    "While modifying the Class `AccountTaxable`, create a few objects (i.e. `bob_checking = AccountTaxable(...)`) and call the methods modified to ensure that the behavior you're after is implemented correctly.     \n"
   ]
  },
  {
   "cell_type": "code",
   "execution_count": 8,
   "id": "3b98d8e6",
   "metadata": {},
   "outputs": [],
   "source": [
    "class AccountTaxable:\n",
    "    \"\"\" a bank account\n",
    "    \n",
    "    Attributes:\n",
    "        owner (str): owner of account\n",
    "        balance (float): how much money is in it\n",
    "        active (bool): true if account is open, false if account is closed.  \n",
    "            deposit() and withdraw() only work on active accounts\n",
    "        kind (str): describes kind of account\n",
    "    \"\"\"\n",
    "    \n",
    "    def __init__(self, owner, balance=0, active=True, kind='checking'):\n",
    "        self.owner = owner\n",
    "        self.balance = balance\n",
    "        self.active = active\n",
    "        self.kind = kind\n",
    "        \n",
    "    def __repr__(self):\n",
    "        return f'Account(owner={self.owner}, balance={self.balance}, active={self.active}, kind={self.kind})'\n",
    "        \n",
    "    def withdraw(self, value):\n",
    "        \"\"\" withdraw value from account balance\n",
    "        \n",
    "        Args:\n",
    "            value (float): input value\n",
    "        \"\"\"\n",
    "        assert self.active, 'account is inactive'\n",
    "        assert self.balance > value, 'account balance is low'\n",
    "        \n",
    "        self.balance = self.balance - value \n",
    "        \n",
    "    def kind(self):\n",
    "        '''string'''\n",
    "        print(\"checking\")\n",
    "        \n",
    "    def tax(self, rate):\n",
    "        \"\"\"return assessed tax\"\"\"\n",
    "        taxed_amount = self.balance * rate\n",
    "        self.balance = self.balance - taxed_amount\n",
    "        return self.balance\n",
    "        assert self.kind != 'creepy-secret-offshore-unethical-kind-of-thingself.active', 'Error'"
   ]
  },
  {
   "cell_type": "code",
   "execution_count": 9,
   "id": "c01f3fd3",
   "metadata": {},
   "outputs": [
    {
     "data": {
      "text/plain": [
       "Account(owner=kai, balance=100, active=True, kind=checking)"
      ]
     },
     "execution_count": 9,
     "metadata": {},
     "output_type": "execute_result"
    }
   ],
   "source": [
    "kai_bank = AccountTaxable(owner=\"kai\", balance = 100)\n",
    "kai_bank\n"
   ]
  },
  {
   "cell_type": "code",
   "execution_count": 10,
   "id": "aee388de",
   "metadata": {},
   "outputs": [
    {
     "data": {
      "text/plain": [
       "Account(owner=kai, balance=95, active=True, kind=checking)"
      ]
     },
     "execution_count": 10,
     "metadata": {},
     "output_type": "execute_result"
    }
   ],
   "source": [
    "kai_bank.withdraw(5)\n",
    "kai_bank"
   ]
  },
  {
   "cell_type": "code",
   "execution_count": 11,
   "id": "50141828",
   "metadata": {},
   "outputs": [
    {
     "data": {
      "text/plain": [
       "Account(owner=kai, balance=85.5, active=True, kind=checking)"
      ]
     },
     "execution_count": 11,
     "metadata": {},
     "output_type": "execute_result"
    }
   ],
   "source": [
    "kai_bank.tax(.10)\n",
    "kai_bank"
   ]
  },
  {
   "cell_type": "code",
   "execution_count": 12,
   "id": "2d1c012c",
   "metadata": {},
   "outputs": [
    {
     "data": {
      "text/plain": [
       "Account(owner=kai, balance=85.5, active=True, kind=checking)"
      ]
     },
     "execution_count": 12,
     "metadata": {},
     "output_type": "execute_result"
    }
   ],
   "source": [
    "kai_bank"
   ]
  },
  {
   "cell_type": "markdown",
   "id": "2c76ba6b",
   "metadata": {},
   "source": [
    "## no time for ICA C"
   ]
  }
 ],
 "metadata": {
  "celltoolbar": "Slideshow",
  "kernelspec": {
   "display_name": "Python 3 (ipykernel)",
   "language": "python",
   "name": "python3"
  },
  "language_info": {
   "codemirror_mode": {
    "name": "ipython",
    "version": 3
   },
   "file_extension": ".py",
   "mimetype": "text/x-python",
   "name": "python",
   "nbconvert_exporter": "python",
   "pygments_lexer": "ipython3",
   "version": "3.9.7"
  }
 },
 "nbformat": 4,
 "nbformat_minor": 5
}
