{
 "cells": [
  {
   "cell_type": "markdown",
   "id": "02536274",
   "metadata": {
    "slideshow": {
     "slide_type": "slide"
    }
   },
   "source": [
    "# In Class Assignment A:\n",
    "- get users numerical grade (0 to 100)\n",
    "    - `input()`\n",
    "- print a message which tells the user their letter grade in the course (not the +/-)\n",
    "- (++) include the +/- on the grade, make an effort to avoid repetitive code\n",
    "    - hint0: there are a few different implementations, are sure yours is simplest?\n",
    "    - hint1: modulo operator\n"
   ]
  },
  {
   "cell_type": "code",
   "execution_count": 1,
   "id": "d5102304",
   "metadata": {},
   "outputs": [
    {
     "name": "stdout",
     "output_type": "stream",
     "text": [
      "What is your name?\n",
      "grace\n",
      "What is your numerical grade from 0 to 100?\n",
      "98\n",
      "Congrats! grace, your letter grade is A.\n"
     ]
    }
   ],
   "source": [
    "# ask user to input name and numerical grade\n",
    "user = input(\"What is your name?\\n\")\n",
    "# convert string to int\n",
    "num_grade = int(input(\"What is your numerical grade from 0 to 100?\\n\"))\n",
    "\n",
    "# create control flow that tells (print) users their letter grade when given a numerical grade 0-100\n",
    "if num_grade >= 93:\n",
    "    print(\"Congrats!\", user + \", your letter grade is A.\")\n",
    "elif num_grade < 93 and num_grade >= 90:\n",
    "    print(\"Congrats!\", user + \", your letter grade is A-.\")\n",
    "elif num_grade < 90 and num_grade >= 83:\n",
    "    print(\"Your letter grade is B.\")\n",
    "elif num_grade < 83 and num_grade >= 80:\n",
    "    print(\"Your letter grade is B-.\")\n",
    "elif num_grade < 80 and num_grade >= 73:\n",
    "    print(\"Your letter grade is C.\")\n",
    "elif num_grade < 73 and num_grade >= 70:\n",
    "    print(\"Your letter grade is C-.\")\n",
    "elif num_grade < 70 and num_grade >= 63:\n",
    "    print(\"Your letter grade is D.\")\n",
    "elif num_grade < 63 and num_grade >= 60:\n",
    "    print(\"Your letter grade is D-.\")\n",
    "else:\n",
    "    print(\"Your letter grade is F.\")\n"
   ]
  },
  {
   "cell_type": "markdown",
   "id": "6d77b6dc",
   "metadata": {
    "slideshow": {
     "slide_type": "slide"
    }
   },
   "source": [
    "# In class activity B (Lists & Strings):\n",
    "1. Replace the `# work here` comment cell with code which asks the user to `input()` a lowercase name and then `.append()`s it to all the relevant lists:\n",
    "    - `list_short`\n",
    "        - length of name is less than 5 chars\n",
    "    - `list_alpha`\n",
    "        - characters of name are in alpha order\n",
    "            - e.g. `bert` since `b` comes before `e` comes before `r` comes before `t`\n",
    "        - test if a name is alpha sorted via `list(name) == sorted(name)`\n",
    "    - `list_all`\n",
    "        - every name\n",
    "        \n",
    "        lmnopqrstuvwxyz\n",
    "2. Once complete, run this cell many times to test the following set of names ('abc', 'abcdefg', 'zy', 'zyxwvut'), run the `# observe each list...` cell and observe its output to confirm your code works properly.\n",
    "    \n",
    "(++) Use a dictionary in place of the 3x list implementation.  Note that we'll cover dictionaries shortly, we haven't introduced them just yet.  Be sure to build the 3x list implementation above first, then copy paste your work and modify for this stretch goal.\n"
   ]
  },
  {
   "cell_type": "code",
   "execution_count": 2,
   "id": "40fae897",
   "metadata": {},
   "outputs": [],
   "source": [
    "# initialize empty list\n",
    "list_short = list()\n",
    "list_alpha = list()\n",
    "list_all = list()\n"
   ]
  },
  {
   "cell_type": "code",
   "execution_count": 8,
   "id": "17500f7e",
   "metadata": {},
   "outputs": [
    {
     "name": "stdout",
     "output_type": "stream",
     "text": [
      "Please input one lowercase name.\n",
      "hijk\n"
     ]
    }
   ],
   "source": [
    "# input name and append it to relevant lists\n",
    "\n",
    "# ask user to input name\n",
    "name = input(\"Please input one lowercase name.\\n\")\n",
    "list_name = list(name)\n",
    "\n",
    "# add to list_short if the name is less than 5 characters\n",
    "if len(name) < 5:\n",
    "    list_short.append(name)\n",
    "\n",
    "# add to list_alpha if alphabetically sorted\n",
    "if sorted(list_name) == list_name:\n",
    "    list_alpha.append(name)\n",
    "\n",
    "# add all names to list_all\n",
    "list_all.append(name)\n",
    "\n"
   ]
  },
  {
   "cell_type": "code",
   "execution_count": 9,
   "id": "085e271f",
   "metadata": {},
   "outputs": [
    {
     "name": "stdout",
     "output_type": "stream",
     "text": [
      "short names:\n",
      "['abcd', 'tom', 'hijk']\n",
      "alpha names:\n",
      "['abcd', 'hijk']\n",
      "all names:\n",
      "['abcd', 'gdhyekj', 'grace', 'henry', 'tom', 'hijk']\n"
     ]
    }
   ],
   "source": [
    "# observe each list (there are cleaner ways to do this ... we'll get there!)\n",
    "print('short names:')\n",
    "print(list_short)\n",
    "\n",
    "print('alpha names:')\n",
    "print(list_alpha)\n",
    "\n",
    "print('all names:')\n",
    "print(list_all)\n"
   ]
  },
  {
   "cell_type": "markdown",
   "id": "13d76f13",
   "metadata": {},
   "source": [
    "# In Class Activity C\n",
    "\n",
    "Repeat ICA B, but use a dictionary in place of 3x lists.  Your dictionary should have keys: \n",
    "- 'all'\n",
    "- 'short' \n",
    "- 'alpha'\n",
    "\n",
    "The values associated with each key are lists of all the names which meet the criteria.  For example, if you were to run the given test case names: `'abc', 'abcdefg', 'zy', 'zyxwvut'` your code should build:\n",
    "\n",
    "```python\n",
    "name_dict = {'all': ['abc', 'abcdefg', 'zy', 'zyxwvut'],\n",
    "             'short': ['abc', 'zy'],\n",
    "             'alpha': ['abc', 'abcdefg']}\n",
    "```\n",
    "\n",
    "Please be sure to copy your work from above intead of replacing it so you can submit ICA B.\n"
   ]
  },
  {
   "cell_type": "code",
   "execution_count": 10,
   "id": "901f5153",
   "metadata": {},
   "outputs": [
    {
     "name": "stdout",
     "output_type": "stream",
     "text": [
      "{'short': ['abcd', 'tom', 'hijk'], 'all': ['abcd', 'gdhyekj', 'grace', 'henry', 'tom', 'hijk'], 'alpha': ['abcd', 'hijk']}\n"
     ]
    }
   ],
   "source": [
    "# method 1: continuing from ICA B\n",
    "# create an empty dictionary\n",
    "name_dic = {}\n",
    "\n",
    "# since list_short, list_all, list_alpha were completed in ICA B, append list into dictionary\n",
    "name_dic[\"short\"] = list_short\n",
    "name_dic[\"all\"] = list_all\n",
    "name_dic[\"alpha\"] = list_alpha\n",
    "print(name_dic)"
   ]
  },
  {
   "cell_type": "code",
   "execution_count": 11,
   "id": "43c69f07",
   "metadata": {},
   "outputs": [],
   "source": [
    "# method 2: restarting new\n",
    "# create empty lists and dictionary\n",
    "list_short = []\n",
    "list_alpha = []\n",
    "list_all = []\n",
    "name_dict = {\"short\": list_short, \"alpha\": list_alpha, \"all\": list_all}"
   ]
  },
  {
   "cell_type": "code",
   "execution_count": 19,
   "id": "97a3c511",
   "metadata": {},
   "outputs": [
    {
     "name": "stdout",
     "output_type": "stream",
     "text": [
      "Please input one lowercase name.\n",
      "mnop\n"
     ]
    }
   ],
   "source": [
    "# allow user to insert name\n",
    "name = input(\"Please input one lowercase name.\\n\")\n",
    "list_name = list(name)\n",
    "\n",
    "# adding name with less than 5 characters into list_short\n",
    "if len(name) < 5:\n",
    "    list_short.append(name)\n",
    "\n",
    "# if it is alphabetically sorted, add to list_alpha\n",
    "if sorted(list_name) == list_name:\n",
    "    list_alpha.append(name)\n",
    "\n",
    "# add all names to list_all\n",
    "list_all.append(name)"
   ]
  },
  {
   "cell_type": "code",
   "execution_count": 20,
   "id": "3153c7b0",
   "metadata": {},
   "outputs": [
    {
     "name": "stdout",
     "output_type": "stream",
     "text": [
      "{'short': ['abc', 'abcd', 'tom', 'lee', 'mark', 'mnop'], 'alpha': ['abc', 'abcd', 'mnop'], 'all': ['abc', 'abcd', 'tom', 'henry', 'sarah', 'lee', 'mark', 'mnop']}\n"
     ]
    }
   ],
   "source": [
    "# print the name dictionary\n",
    "print(name_dict)"
   ]
  }
 ],
 "metadata": {
  "celltoolbar": "Slideshow",
  "kernelspec": {
   "display_name": "Python 3 (ipykernel)",
   "language": "python",
   "name": "python3"
  },
  "language_info": {
   "codemirror_mode": {
    "name": "ipython",
    "version": 3
   },
   "file_extension": ".py",
   "mimetype": "text/x-python",
   "name": "python",
   "nbconvert_exporter": "python",
   "pygments_lexer": "ipython3",
   "version": "3.9.7"
  }
 },
 "nbformat": 4,
 "nbformat_minor": 5
}
