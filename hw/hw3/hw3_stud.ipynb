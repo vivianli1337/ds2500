{
 "cells": [
  {
   "cell_type": "markdown",
   "metadata": {},
   "source": [
    "# DS 2500 HW 3\n",
    "\n",
    "Due: Fri Feb 24 @ 11:59PM\n",
    "\n",
    "### Submission Instructions\n",
    "Please submit both of the following to the corresponding [gradescope](https://www.gradescope.com/courses/478298) assignment:\n",
    "- this `.ipynb` file \n",
    "    - give a fresh `Kernel > Restart & Run All` just before uploading\n",
    "- a `.py` file consistent with your `.ipynb`\n",
    "    - `File > Download as ...`\n",
    "    \n",
    "Gradescope may run your `.py` submission to determine part of your score for this assignment.  See the [autograder instructions](https://github.com/matthigger/gradescope_auto_py/blob/main/stud_instruct.md) for details.\n",
    "\n",
    "\n",
    "### Tips for success\n",
    "- Start early\n",
    "- Make use of [Piazza](https://course.ccs.neu.edu/ds2500/admin_piazza.html)\n",
    "- Make use of [Office Hours](https://course.ccs.neu.edu/ds2500/office_hours.html)\n",
    "- Remember that [Documentation / style counts for credit](https://course.ccs.neu.edu/ds2500/python_style.html)\n",
    "- [No student may view or share their ungraded homework with another](https://course.ccs.neu.edu/ds2500/syllabus.html#academic-integrity-and-conduct)"
   ]
  },
  {
   "cell_type": "markdown",
   "metadata": {},
   "source": [
    "# Part 1: Plotting `Shape` objects `Rectangle` and `Circle`"
   ]
  },
  {
   "cell_type": "markdown",
   "metadata": {},
   "source": [
    "### Brief background: Plotting Patches in Matplotlib\n",
    "\n",
    "The syntax below shows how to plot \"patch\" objects in matplotlib.  \n",
    "\n",
    "Please modify inputs to `patches.Circle` and `patches.Rectangle` to ensure you understanding the meaning of each before proceeding."
   ]
  },
  {
   "cell_type": "code",
   "execution_count": 2,
   "metadata": {
    "scrolled": false
   },
   "outputs": [
    {
     "ename": "ModuleNotFoundError",
     "evalue": "No module named 'hw3_helper'",
     "output_type": "error",
     "traceback": [
      "\u001b[0;31m---------------------------------------------------------------------------\u001b[0m",
      "\u001b[0;31mModuleNotFoundError\u001b[0m                       Traceback (most recent call last)",
      "\u001b[0;32m/var/folders/9m/1hg1hctj5s94qtlnx8n6561h0000gn/T/ipykernel_33977/1013563822.py\u001b[0m in \u001b[0;36m<module>\u001b[0;34m\u001b[0m\n\u001b[0;32m----> 1\u001b[0;31m \u001b[0;32mfrom\u001b[0m \u001b[0mhw3_helper\u001b[0m \u001b[0;32mimport\u001b[0m \u001b[0mget_new_figure\u001b[0m\u001b[0;34m\u001b[0m\u001b[0;34m\u001b[0m\u001b[0m\n\u001b[0m\u001b[1;32m      2\u001b[0m \u001b[0;32mfrom\u001b[0m \u001b[0mmatplotlib\u001b[0m \u001b[0;32mimport\u001b[0m \u001b[0mpatches\u001b[0m\u001b[0;34m\u001b[0m\u001b[0;34m\u001b[0m\u001b[0m\n\u001b[1;32m      3\u001b[0m \u001b[0;34m\u001b[0m\u001b[0m\n\u001b[1;32m      4\u001b[0m \u001b[0;31m# build a new figure\u001b[0m\u001b[0;34m\u001b[0m\u001b[0;34m\u001b[0m\u001b[0m\n\u001b[1;32m      5\u001b[0m \u001b[0mfig\u001b[0m\u001b[0;34m,\u001b[0m \u001b[0max\u001b[0m \u001b[0;34m=\u001b[0m \u001b[0mget_new_figure\u001b[0m\u001b[0;34m(\u001b[0m\u001b[0;34m)\u001b[0m\u001b[0;34m\u001b[0m\u001b[0;34m\u001b[0m\u001b[0m\n",
      "\u001b[0;31mModuleNotFoundError\u001b[0m: No module named 'hw3_helper'"
     ]
    }
   ],
   "source": [
    "from hw3_helper import get_new_figure\n",
    "from matplotlib import patches\n",
    "\n",
    "# build a new figure\n",
    "fig, ax = get_new_figure()\n",
    "\n",
    "# add a circle to this figure\n",
    "patch_circle = patches.Circle((-3, 0), radius=3, alpha=.3, color='g')\n",
    "ax.add_patch(patch_circle)\n",
    "\n",
    "# add a rectangle to same figure\n",
    "patch_rect = patches.Rectangle((2, 3), height=4, width=3, angle=-20)\n",
    "ax.add_patch(patch_rect)"
   ]
  },
  {
   "cell_type": "code",
   "execution_count": null,
   "metadata": {},
   "outputs": [],
   "source": []
  },
  {
   "cell_type": "markdown",
   "metadata": {},
   "source": [
    "## Your work here"
   ]
  },
  {
   "cell_type": "code",
   "execution_count": null,
   "metadata": {},
   "outputs": [],
   "source": [
    "# when complete, the code in this cell is all thats required to answer all subparts\n",
    "# (no need to modify any of the test cases in subparts below)\n",
    "\n",
    "# starter code:\n",
    "class Shape:\n",
    "    \"\"\" a plot of a shape whose position, color, and alpha can be adjusted\n",
    "    \n",
    "    Attributes:\n",
    "        position (tuple): x-position, y-position of the shape\n",
    "        color (string): color of the shape\n",
    "        alpha (float): transparency of the shape\n",
    "    \"\"\"\n",
    "    def __init__(self, pos_tuple=(0,0), color = \"b\", alpha=1):\n",
    "        self.pos_tuple = pos_tuple\n",
    "        self.color = color\n",
    "        self.alpha = alpha\n",
    "    \n",
    "    def offset(self, x_diff = 0, y_diff = 0):\n",
    "        \"\"\" changes the position of x and y of the shape\n",
    "        \n",
    "        Args:\n",
    "            x_diff (int) = 0: default\n",
    "            y_diff (int) = 0: default\n",
    "        \n",
    "        \"\"\"\n",
    "        # find new x and y\n",
    "        x = self.pos_tuple[0] + x_diff\n",
    "        y = self.pos_tuple[1] + y_diff\n",
    "        \n",
    "        # set x and y as the new pos_tuple\n",
    "        new_pos_tuple = (x,y)\n",
    "        self.pos_tuple = new_pos_tuple\n",
    "        \n",
    "        \n",
    "    \n",
    "class Circle(Shape):\n",
    "    \"\"\" plot of Circl\n",
    "    \n",
    "    Attributes:\n",
    "        radius (int): radius of the circle\n",
    "    \"\"\"\n",
    "    def __init__(self, radius, pos_tuple=(0,0), color = 'k', alpha=1):\n",
    "        # transfer attributes from Shape\n",
    "        Shape.__init__(self, pos_tuple=pos_tuple, color = color, alpha = alpha)\n",
    "        # add new attribute\n",
    "        self.radius = radius\n",
    "    \n",
    "    def plot(self, ax):\n",
    "        \"\"\" plot the shape\n",
    "        \"\"\"\n",
    "        # add a circle to a figure\n",
    "        patch_circle = patches.Circle(self.pos_tuple, radius=self.radius, \n",
    "                                      alpha=self.alpha, color=self.color)\n",
    "        ax.add_patch(patch_circle)\n",
    "    \n",
    "    def scale(self, x):\n",
    "        \"\"\" scale a shape by a constant\n",
    "        \"\"\"\n",
    "        # scale the old radius by a constant\n",
    "        self.radius = self.radius * x\n",
    "        \n",
    "    \n",
    "class Rectangle(Shape):\n",
    "    \"\"\" plot of Rectangle\n",
    "    \n",
    "    Attributes:\n",
    "        height (int) = height of rectangle\n",
    "        width (int) = width of rectangle\n",
    "        angle (int) = angel of plotting the shape\n",
    "    \"\"\"\n",
    "    def __init__(self, pos_tuple=(0,0), height=0, width=0, \n",
    "                 color=\"g\", alpha=1, angle=0):\n",
    "        # transfer attributes from Shape\n",
    "        Shape.__init__(self, pos_tuple=pos_tuple, \n",
    "                       color = color, alpha = alpha)\n",
    "        # add new attributes\n",
    "        self.height = height\n",
    "        self.width = width\n",
    "        self.angle = angle\n",
    "    \n",
    "    def plot(self, ax):\n",
    "        \"\"\" plot the shape\n",
    "        \"\"\"\n",
    "        # add a rectangle to a figure\n",
    "        patch_rect = patches.Rectangle(self.pos_tuple, height=self.height, \n",
    "                                       width=self.width, alpha = self.alpha, \n",
    "                                       angle=self.angle, color=self.color)\n",
    "        ax.add_patch(patch_rect)\n",
    "        \n",
    "    def scale(self, x):\n",
    "        \"\"\" scale a shape by a constant\n",
    "        \"\"\"\n",
    "        # scale the old height & weight by a constant\n",
    "        self.height = self.height * x\n",
    "        self.width = self.width * x"
   ]
  },
  {
   "cell_type": "markdown",
   "metadata": {},
   "source": [
    "# Part 1.1 (18 points)\n",
    "\n",
    "Complete:\n",
    "- `__init__()` methods for all classes above\n",
    "- `plot()` methods for `Circle` and `Rectangle`\n",
    "\n",
    "Which attributes belong in which class?\n",
    "- `pos_tuple` should be a `Shape` attribute\n",
    "    - `Circle` and `Rectangle` will inherit this attribute automatically\n",
    "    - \"Don't-Repeat-Yourself\"\n",
    "- `radius` should be a `Circle` attribute\n",
    "    - only `Circle` objects need such a thing\n",
    "- note: `angle` could be included or excluded from `Circle` for full credit \n",
    "    - why include it: `patches.Circle()` accepts an `angle` argument\n",
    "    - why exclude it: it doesn't really change how a circle is plotted and simple is better\n",
    "\n",
    "When complete, the code below should produce this image:\n",
    "\n",
    "<img src=\"https://i.ibb.co/J2t5jpW/shapes0.png\" width=300>\n"
   ]
  },
  {
   "cell_type": "code",
   "execution_count": null,
   "metadata": {},
   "outputs": [],
   "source": [
    "# define shapes\n",
    "circ0 = Circle(radius=3)\n",
    "circ1 = Circle(pos_tuple=(4, 4), radius=2, color='b', alpha=.4)\n",
    "rect0 = Rectangle(pos_tuple=(-5, -1), height=8, width=2, color='g', alpha=.4)\n",
    "rect1 = Rectangle(pos_tuple=(-6, -5), height=11, width=9, color='r', alpha=.2, angle=20)\n",
    "\n",
    "# collect them in a tuple \n",
    "shape_tup = circ0, circ1, rect0, rect1\n",
    "\n",
    "# build new figure and plot each shape\n",
    "fig, ax = get_new_figure()\n",
    "for shape in shape_tup:\n",
    "    shape.plot(ax)\n",
    "    "
   ]
  },
  {
   "cell_type": "markdown",
   "metadata": {},
   "source": [
    "# Part 1.2 (8 points)\n",
    "\n",
    "Implement the `offset()` behavior below.\n",
    "\n",
    "Do we need multiple `offset()` methods with the same inputs / outputs?  Or is there somewhere we can put a single `offset()` method which gets the job done.  (Where possible: Don't-Repeat-Yourself)\n",
    "\n",
    "When complete, the code below should produce this image:\n",
    "\n",
    "<img src=\"https://i.ibb.co/VqzWNJr/shapes1.png\" width=300>\n"
   ]
  },
  {
   "cell_type": "code",
   "execution_count": null,
   "metadata": {},
   "outputs": [],
   "source": [
    "# (re)define shapes\n",
    "circ0 = Circle(radius=3)\n",
    "circ1 = Circle(pos_tuple=(4, 4), radius=2, color='b', alpha=.4)\n",
    "rect0 = Rectangle(pos_tuple=(-5, -1), height=8, width=2, color='g', alpha=.4)\n",
    "rect1 = Rectangle(pos_tuple=(-6, -5), height=11, width=9, color='r', alpha=.2, angle=20)\n",
    "\n",
    "# collect them in a tuple \n",
    "shape_tup = circ0, circ1, rect0, rect1\n",
    "\n",
    "# apply offset to the second item in shape_tup (circ1, the blue circle)\n",
    "shape_tup[1].offset(x_diff=-5)\n",
    "\n",
    "# apply offset to the last item in shape_tup (rect1, the red rectangle)\n",
    "shape_tup[-1].offset(y_diff=-4)\n",
    "\n",
    "# build new figure and plot each shape\n",
    "fig, ax = get_new_figure()\n",
    "for shape in shape_tup:\n",
    "    shape.plot(ax)\n",
    "    "
   ]
  },
  {
   "cell_type": "markdown",
   "metadata": {},
   "source": [
    "# Part 1.3 (8 points)\n",
    "\n",
    "Implement the `scale()` behavior below.\n",
    "\n",
    "Do we need multiple `scale()` methods with the same inputs / outputs?  Or is there somewhere we can put a single `scale()` method which gets the job done.  (Where possible: Don't-Repeat-Yourself)\n",
    "\n",
    "When complete, the code below should produce this image:\n",
    "\n",
    "<img src=\"https://i.ibb.co/5xJypCp/shapes2.png\" width=300>\n"
   ]
  },
  {
   "cell_type": "code",
   "execution_count": null,
   "metadata": {},
   "outputs": [],
   "source": [
    "# (re)define shapes\n",
    "circ0 = Circle(radius=3)\n",
    "circ1 = Circle(pos_tuple=(4, 4), radius=2, color='b', alpha=.4)\n",
    "rect0 = Rectangle(pos_tuple=(-5, -1), height=8, width=2, color='g', alpha=.4)\n",
    "rect1 = Rectangle(pos_tuple=(-6, -5), height=11, width=9, color='r', alpha=.2, angle=20)\n",
    "\n",
    "# collect them in a tuple \n",
    "shape_tup = circ0, circ1, rect0, rect1\n",
    "\n",
    "# build new figure and plot each shape\n",
    "fig, ax = get_new_figure()\n",
    "for shape in shape_tup:\n",
    "    # shrink object\n",
    "    shape.scale(.5)\n",
    "    \n",
    "    # plot\n",
    "    shape.plot(ax)\n",
    "    "
   ]
  },
  {
   "cell_type": "markdown",
   "metadata": {},
   "source": [
    "# Part 2: `IntFraction`\n",
    "\n",
    "We build an `IntFraction` class, a fraction whose numerator and denominator are both integers.\n",
    "\n",
    "A few suggestions / notes:\n",
    "- complete the parts in the order given\n",
    "    - some may depend on others and could be helpful\n",
    "- be sure to study and fully digest the test cases before starting to build\n",
    "- do not modify the test cases\n",
    "    - you need not modify anything below \"part 2.0\" below"
   ]
  },
  {
   "cell_type": "code",
   "execution_count": null,
   "metadata": {},
   "outputs": [],
   "source": [
    "import math\n",
    "# starter code:\n",
    "class IntFraction:\n",
    "    \"\"\" fraction whose numerator & denominator are both integers\n",
    "    \n",
    "    Attributes:\n",
    "        num (int): a integer in numerator\n",
    "        den (int): a integer in denominator\n",
    "    \"\"\"\n",
    "    def __init__(self, num, den):\n",
    "        \n",
    "        # modify fraction so den is not negative\n",
    "        # if num and den is negative, change to positive\n",
    "        if num < 0 and den < 0:\n",
    "            self.num = abs(num)\n",
    "            self.den = abs(den)\n",
    "        \n",
    "        # if den is negative, change den to positive & num to negative\n",
    "        elif num > 0 and den < 0:\n",
    "            self.num = -(num)\n",
    "            self.den = -(den)\n",
    "        \n",
    "        # otherwise, keep the numbers the same as input\n",
    "        elif num < 0 and den > 0:\n",
    "            self.num = int(num)\n",
    "            self.den = int(den)\n",
    "        else:\n",
    "            self.num = int(num)\n",
    "            self.den = int(den)\n",
    "        \n",
    "        # make sure denominator is positive\n",
    "        assert self.den > 0; \"Denominator is negative\"\n",
    "        \n",
    "        # simplify num & den if possible\n",
    "        self.simplify()\n",
    "    \n",
    "    def __repr__(self):\n",
    "        return f'IntFraction(num={self.num}, den={self.den})'\n",
    "    \n",
    "    def from_int(x):\n",
    "        # change whole number into fraction\n",
    "        num = int(x)\n",
    "        return IntFraction(num=num, den=1)\n",
    "    \n",
    "    def simplify(self):\n",
    "        \"\"\" simplify the fraction\n",
    "        \"\"\"\n",
    "        # find the greatest common factor/divisor\n",
    "        s = math.gcd(self.num, self.den)\n",
    "        \n",
    "        # divide num and den by gcd to simplify the fraction\n",
    "        self.num = int(self.num/s)\n",
    "        self.den = int(self.den/s)\n",
    "        \n",
    "    def __eq__(self, other):\n",
    "        \"\"\" checking to see if self and other have the same number/fraction\n",
    "        \"\"\"\n",
    "        # check the type of number for other (intFraction or int)\n",
    "        if isinstance(other, IntFraction):\n",
    "            \n",
    "            # if intFraction, check if num and den are the same as other's\n",
    "            if int(self.num) == int(other.num) and int(self.den) == int(other.den):\n",
    "                return True\n",
    "            \n",
    "            else:\n",
    "                # conditions are not satisfied = not the same number\n",
    "                return False\n",
    "            \n",
    "        if isinstance(other, int):\n",
    "            \n",
    "            # if int, divide self's intFraction to see if it is the same as other's\n",
    "            if int((self.num)/(self.den)) == other:\n",
    "                return True\n",
    "            \n",
    "            else:\n",
    "                # conditions are not satisfied = not the same number\n",
    "                return False\n",
    "    \n",
    "    def __add__(self, other):\n",
    "        \"\"\" add two numbers\n",
    "        \"\"\"\n",
    "        # check the type of number for other (intFraction or int)\n",
    "        if isinstance(other, IntFraction):\n",
    "            \n",
    "            # if other is IntFraction, find the least common multiple\n",
    "            # aka the new den\n",
    "            lcm = int(math.lcm(self.den, other.den))\n",
    "            \n",
    "            # find the factor needed to multiple num & den\n",
    "            self_nom = lcm/self.den\n",
    "            other_nom = lcm/other.den\n",
    "            \n",
    "            # find the new nom\n",
    "            num = int(self.num*self_nom) + int(other.num*other_nom)\n",
    "            \n",
    "            return IntFraction(num=num, den=lcm)\n",
    "            \n",
    "        elif isinstance(other, int):\n",
    "            \n",
    "            # if other is int, convert other into fraction with the same den \n",
    "            # add the nums together\n",
    "            num = self.num + other*self.den\n",
    "            return IntFraction(num=num, den=self.den)\n",
    "        \n",
    "    def __mul__(self, other):\n",
    "        \"\"\" multiple two numbers\n",
    "        \"\"\"\n",
    "        \n",
    "        # check the type of number for other (intFraction or int)\n",
    "        if isinstance(other, IntFraction):\n",
    "            # other is IntFraction, just multiply as usual\n",
    "            num = int(self.num * other.num)\n",
    "            den = int(self.den * other.den)\n",
    "            return IntFraction(num=num, den=den)\n",
    "        \n",
    "        elif isinstance(other, int):\n",
    "            # other is int, just multiple it with the num\n",
    "            num = int(self.num * other)\n",
    "            den = int(self.den)\n",
    "            return IntFraction(num=num, den=den)\n",
    "        \n",
    "    \n",
    "    # extra credit & see __init__\n",
    "    \n",
    "    def __sub__(self, other):\n",
    "        \"\"\" subtract one number from another (similar to add but subtract)\n",
    "        \"\"\"\n",
    "        # check the type of number for other (intFraction or int)\n",
    "        if isinstance(other, IntFraction):\n",
    "            \n",
    "            # if other is IntFraction, find the least common multiple\n",
    "            # aka the new den\n",
    "            lcm = int(math.lcm(self.den, other.den))\n",
    "            \n",
    "            # find the factor needed to multiple num & den\n",
    "            self_nom = lcm/self.den\n",
    "            other_nom = lcm/other.den\n",
    "            \n",
    "            # find the new nom\n",
    "            num = int(self.num*self_nom) - int(other.num*other_nom)\n",
    "            \n",
    "            return IntFraction(num=num, den=lcm)\n",
    "            \n",
    "        elif isinstance(other, int):\n",
    "            \n",
    "            # if other is int, convert other into fraction with the same den \n",
    "            # add the nums together\n",
    "            num = int(self.num - other*self.den)\n",
    "            return IntFraction(num=num, den=self.den)\n",
    "    \n",
    "    def __truediv__(self, other):\n",
    "        \"\"\" divide one number from another\n",
    "        \"\"\"\n",
    "        # check the type of number for other (intFraction or int)\n",
    "        if isinstance(other, IntFraction):\n",
    "            # other is IntFraction, just multiple self by reciprocal of other IntFraction\n",
    "            num = int(self.num * other.den)\n",
    "            den = int(self.den * other.num)\n",
    "            return IntFraction(num=num, den=den)\n",
    "        \n",
    "        elif isinstance(other, int):\n",
    "            # other is int, just multiple self by reciprocal of the other int\n",
    "            num = int(self.num)\n",
    "            den = int(self.den * other)\n",
    "            return IntFraction(num=num, den=den)"
   ]
  },
  {
   "cell_type": "code",
   "execution_count": null,
   "metadata": {},
   "outputs": [],
   "source": []
  },
  {
   "cell_type": "markdown",
   "metadata": {},
   "source": [
    "## Part 2.0: Documentation of `IntFraction` in all subparts (16 pts)"
   ]
  },
  {
   "cell_type": "markdown",
   "metadata": {},
   "source": [
    "## Part 2.1 `IntFraction.__init__()` & `IntFraction.__repr__()` (10 auto pts)"
   ]
  },
  {
   "cell_type": "code",
   "execution_count": null,
   "metadata": {},
   "outputs": [],
   "source": [
    "one_half = IntFraction(num=1, den=2)\n",
    "\n",
    "assert one_half.__dict__ == {'num': 1, 'den': 2}, 'attributes set properly (2 pts)'\n",
    "assert str(one_half) == 'IntFraction(num=1, den=2)', '__repr__() (3 pts)'\n",
    "\n",
    "one_half_from_float = IntFraction(num=1.0, den=2.0)\n",
    "assert str(one_half_from_float) == 'IntFraction(num=1, den=2)', '(3 pts)'\n",
    "\n",
    "assert isinstance(one_half_from_float.num, int), 'num cast to int (1 pts)'\n",
    "assert isinstance(one_half_from_float.den, int), 'den cast to int (1 pts)'"
   ]
  },
  {
   "cell_type": "markdown",
   "metadata": {},
   "source": [
    "## Part 2.2 `IntFraction.from_int()` (3 auto + 3 pts)"
   ]
  },
  {
   "cell_type": "code",
   "execution_count": null,
   "metadata": {},
   "outputs": [],
   "source": [
    "assert str(IntFraction.from_int(4)) == 'IntFraction(num=4, den=1)', '3 pts'"
   ]
  },
  {
   "cell_type": "markdown",
   "metadata": {},
   "source": [
    "## Part 2.3 `IntFraction.simplify()` (5 auto + 5 pts)\n",
    "\n",
    "This can be challenging to build unless you borrow the right function ([gcd()](https://docs.python.org/3/library/math.html#math.gcd) is looking promising here ...).  Don't build what you can borrow :)"
   ]
  },
  {
   "cell_type": "code",
   "execution_count": null,
   "metadata": {},
   "outputs": [],
   "source": [
    "assert str(IntFraction(num=100, den=200)) == 'IntFraction(num=1, den=2)', '2.5 pts'\n",
    "assert str(IntFraction(num=2, den=8)) == 'IntFraction(num=1, den=4)', '2.5 pts'"
   ]
  },
  {
   "cell_type": "markdown",
   "metadata": {},
   "source": [
    "## Part 2.4 `IntFraction.__eq__()` (6 auto pts)"
   ]
  },
  {
   "cell_type": "code",
   "execution_count": null,
   "metadata": {},
   "outputs": [],
   "source": [
    "assert IntFraction(num=1, den=2) == IntFraction(num=1, den=2), '2 pts'\n",
    "assert IntFraction(num=10, den=2) == 5, '2 pts'\n",
    "assert IntFraction(num=1, den=2) != 'this isnt even an IntFraction!', '2 pts'"
   ]
  },
  {
   "cell_type": "markdown",
   "metadata": {},
   "source": [
    "## Part 2.5 `IntFraction.__add__()` (6 auto pts)"
   ]
  },
  {
   "cell_type": "code",
   "execution_count": null,
   "metadata": {},
   "outputs": [],
   "source": [
    "half_plus_third = IntFraction(num=1, den=2) + IntFraction(num=1, den=3)\n",
    "assert half_plus_third == IntFraction(num=5, den=6), '3 pts'\n",
    "\n",
    "half_plus_int = IntFraction(num=1, den=2) + 1\n",
    "assert half_plus_int == IntFraction(num=3, den=2), '3 pts'"
   ]
  },
  {
   "cell_type": "markdown",
   "metadata": {},
   "source": [
    "## Part 2.6 `IntFraction.__mul__()` (6 auto + 6 pts)\n",
    "Remember, you promised not to repeat yourself when you write software (some of you did so twice! ... thanks for indulging my silly joke).  If you see some behavior here which gives a sense of deja vu, maybe we should define and use a new function."
   ]
  },
  {
   "cell_type": "code",
   "execution_count": null,
   "metadata": {},
   "outputs": [],
   "source": [
    "half_times_third = IntFraction(num=1, den=2) * IntFraction(num=1, den=3)\n",
    "assert half_times_third == IntFraction(num=1, den=6), '3 pts'\n",
    "\n",
    "half_times_ten = IntFraction(num=1, den=2) * 10\n",
    "assert half_times_ten == IntFraction(num=5, den=1), '3 pts'"
   ]
  },
  {
   "cell_type": "markdown",
   "metadata": {},
   "source": [
    "## Part 2.7 (3 auto-extra-credit pts)\n",
    "\n",
    "- (+1) Extend support for `IntFracion` to negative numbers\n",
    "- (+1) `IntFraction.__sub__()`\n",
    "- (+1) `IntFraction.__truediv__()`\n",
    "\n",
    "Remember, don't repeat yourself in `__sub__()` or `__truediv__()`"
   ]
  },
  {
   "cell_type": "code",
   "execution_count": null,
   "metadata": {},
   "outputs": [],
   "source": [
    "# extra credit asserts:\n",
    "# __init__ finds a consistent representation of positive & negative fractions (den never negative)\n",
    "assert str(IntFraction(num=-1, den=-2)) == 'IntFraction(num=1, den=2)', '.334 pts'\n",
    "assert str(IntFraction(num=-1, den=2)) == 'IntFraction(num=-1, den=2)', '.334 pts'\n",
    "assert str(IntFraction(num=1, den=-2)) == 'IntFraction(num=-1, den=2)', '.334 pts'\n",
    "\n",
    "# __sub__\n",
    "assert str(IntFraction(num=1, den=2) - IntFraction(num=1, den=3)) == 'IntFraction(num=1, den=6)', '.5 pts'\n",
    "assert str(IntFraction(num=1, den=2) - 3) == 'IntFraction(num=-5, den=2)', '.5 pts'\n",
    "\n",
    "\n",
    "# __truediv__ \n",
    "assert str(IntFraction(num=1, den=2) / 3) == 'IntFraction(num=1, den=6)', '.5 pts'\n",
    "assert str(IntFraction(num=1, den=2) / IntFraction(num=1, den=4)) == 'IntFraction(num=2, den=1)', '.5 pts'"
   ]
  }
 ],
 "metadata": {
  "kernelspec": {
   "display_name": "Python 3 (ipykernel)",
   "language": "python",
   "name": "python3"
  },
  "language_info": {
   "codemirror_mode": {
    "name": "ipython",
    "version": 3
   },
   "file_extension": ".py",
   "mimetype": "text/x-python",
   "name": "python",
   "nbconvert_exporter": "python",
   "pygments_lexer": "ipython3",
   "version": "3.9.7"
  }
 },
 "nbformat": 4,
 "nbformat_minor": 4
}
