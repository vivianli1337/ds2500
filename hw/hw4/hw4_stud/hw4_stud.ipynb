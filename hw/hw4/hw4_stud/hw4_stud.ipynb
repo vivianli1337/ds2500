{
 "cells": [
  {
   "cell_type": "markdown",
   "metadata": {},
   "source": [
    "# DS 2500 HW 4\n",
    "\n",
    "Due: Fri Mar 3 @ 11:59PM\n",
    "\n",
    "### Submission Instructions\n",
    "Please submit both of the following to the corresponding [gradescope](https://www.gradescope.com/courses/478298) assignment:\n",
    "- this `.ipynb` file \n",
    "    - give a fresh `Kernel > Restart & Run All` just before uploading\n",
    "- a `.py` file consistent with your `.ipynb`\n",
    "    - `File > Download as ...`\n",
    "    \n",
    "Gradescope may run your `.py` submission to determine part of your score for this assignment.  See the [autograder instructions](https://github.com/matthigger/gradescope_auto_py/blob/main/stud_instruct.md) for details.\n",
    "\n",
    "\n",
    "### Tips for success\n",
    "- Start early\n",
    "- Make use of [Piazza](https://course.ccs.neu.edu/ds2500/admin_piazza.html)\n",
    "- Make use of [Office Hours](https://course.ccs.neu.edu/ds2500/office_hours.html)\n",
    "- Remember that [Documentation / style counts for credit](https://course.ccs.neu.edu/ds2500/python_style.html)\n",
    "- [No student may view or share their ungraded homework with another](https://course.ccs.neu.edu/ds2500/syllabus.html#academic-integrity-and-conduct)\n",
    "\n",
    "### This HW has 83 points"
   ]
  },
  {
   "cell_type": "markdown",
   "metadata": {},
   "source": [
    "## Part 1: Covariance Matching (18 auto points)\n",
    "\n",
    "Match each of the covariance matrices to the dataset which is most consistent.  Note that all scatterplots below have equal scales in the x and y axes (moving an inch to the right increases $x_0$ as much as moving an inch up increases $x_1$).  \n",
    "\n",
    "Please express your response as dictionary named `part1_dict` whose keys are uppercase letters and values are numbers from 0 to 8.  For example:\n",
    "\n",
    "```python\n",
    "part1_dict = {'A': 0, 'B': 2, 'C': 1}\n",
    "```\n",
    "\n",
    "indicates that data set A is associated with $\\Sigma_0$.  This dictionary allows us to automatically grade your responses here.  Note that your scores on this question will only be visible after the late submission deadline.\n",
    "\n",
    "### Please submit a file named `hw4_stud.py` to gradescope to grade this question\n",
    "\n",
    "<img src=\"https://i.ibb.co/K7DY3mx/cov3by3.png\" alt=\"Drawing\" style=\"width: 600px;\"/>\n",
    "\n",
    "\n",
    "$$\\Sigma_0 =\\begin{bmatrix} \n",
    "5 & 1\\\\ \n",
    "1 & 2\n",
    "\\end{bmatrix}, \n",
    "\\Sigma_1 =\\begin{bmatrix} \n",
    "4 & 0\\\\ \n",
    "0 & 0\n",
    "\\end{bmatrix}, \n",
    "\\Sigma_2 =\\begin{bmatrix} \n",
    "1 & -1\\\\ \n",
    "-1 & 7\n",
    "\\end{bmatrix}, \n",
    "\\Sigma_3 =\\begin{bmatrix} \n",
    "7 & 4\\\\ \n",
    "4 & 5\n",
    "\\end{bmatrix}, \n",
    "\\Sigma_4 =\\begin{bmatrix} \n",
    "5 & 3\\\\ \n",
    "3 & 2\n",
    "\\end{bmatrix}$$\n",
    "\n",
    "$$\\Sigma_5 =\\begin{bmatrix} \n",
    "6 & 2\\\\ \n",
    "2 & 6\n",
    "\\end{bmatrix}, \n",
    "\\Sigma_6 =\\begin{bmatrix} \n",
    "4 & -2\\\\ \n",
    "-2 & 5\n",
    "\\end{bmatrix}, \n",
    "\\Sigma_7 =\\begin{bmatrix} \n",
    "1 & -2\\\\ \n",
    "-2 & 5\n",
    "\\end{bmatrix}, \n",
    "\\Sigma_8 =\\begin{bmatrix} \n",
    "2 & 0\\\\ \n",
    "0 & 2\n",
    "\\end{bmatrix}$$"
   ]
  },
  {
   "cell_type": "code",
   "execution_count": 1,
   "metadata": {},
   "outputs": [],
   "source": [
    "part1_dic = {'A': 4, 'B': 7, 'C': 5, 'D': 8, \"E\": 3, \"F\": 6, \"G\": 1, \"H\": 0 , \"I\": 2}"
   ]
  },
  {
   "cell_type": "markdown",
   "metadata": {},
   "source": [
    "# Part 2: Scale in Covariance & Correlation (15 points + 1)\n",
    "\n",
    "This problem uses `covid_data.csv` which measures the total new daily COVID cases each day in Massachusetts, California and NEU.  \n",
    "\n",
    "For example, if feature `MA` is 1 on 3/16/2021 then there was 1 reported new COVID case on 3/16/2021."
   ]
  },
  {
   "cell_type": "code",
   "execution_count": 2,
   "metadata": {},
   "outputs": [],
   "source": [
    "import pandas as pd\n",
    "\n",
    "df_covid = pd.read_csv('covid_data.csv', index_col='date')"
   ]
  },
  {
   "cell_type": "code",
   "execution_count": 3,
   "metadata": {},
   "outputs": [
    {
     "data": {
      "text/html": [
       "<div>\n",
       "<style scoped>\n",
       "    .dataframe tbody tr th:only-of-type {\n",
       "        vertical-align: middle;\n",
       "    }\n",
       "\n",
       "    .dataframe tbody tr th {\n",
       "        vertical-align: top;\n",
       "    }\n",
       "\n",
       "    .dataframe thead th {\n",
       "        text-align: right;\n",
       "    }\n",
       "</style>\n",
       "<table border=\"1\" class=\"dataframe\">\n",
       "  <thead>\n",
       "    <tr style=\"text-align: right;\">\n",
       "      <th></th>\n",
       "      <th>MA</th>\n",
       "      <th>CA</th>\n",
       "      <th>NEU</th>\n",
       "    </tr>\n",
       "  </thead>\n",
       "  <tbody>\n",
       "    <tr>\n",
       "      <th>MA</th>\n",
       "      <td>4.217750e+06</td>\n",
       "      <td>2.351385e+07</td>\n",
       "      <td>6864.562272</td>\n",
       "    </tr>\n",
       "    <tr>\n",
       "      <th>CA</th>\n",
       "      <td>2.351385e+07</td>\n",
       "      <td>1.980773e+08</td>\n",
       "      <td>40762.364969</td>\n",
       "    </tr>\n",
       "    <tr>\n",
       "      <th>NEU</th>\n",
       "      <td>6.864562e+03</td>\n",
       "      <td>4.076236e+04</td>\n",
       "      <td>30.653335</td>\n",
       "    </tr>\n",
       "  </tbody>\n",
       "</table>\n",
       "</div>"
      ],
      "text/plain": [
       "               MA            CA           NEU\n",
       "MA   4.217750e+06  2.351385e+07   6864.562272\n",
       "CA   2.351385e+07  1.980773e+08  40762.364969\n",
       "NEU  6.864562e+03  4.076236e+04     30.653335"
      ]
     },
     "execution_count": 3,
     "metadata": {},
     "output_type": "execute_result"
    }
   ],
   "source": [
    "df_covid.cov()"
   ]
  },
  {
   "cell_type": "markdown",
   "metadata": {},
   "source": [
    "One might (incorrectly) reason:\n",
    "\n",
    "    \"The covariance between MA and CA is about 23 million, which is much larger than the covariance between CA and NEU (about 4 thousand).  Therefore, I conclude that infections in MA and CA must change more consistently together than CA and NEU.\"\n",
    "\n",
    "Identify and correct this interpretation by writing three or four sentences which:\n",
    "- correctly identify the thinking error:\n",
    "    - why is cov(MA, CA) > cov(CA, NEU)?\n",
    "    - what should we use to measure the consistency with which values change?\n",
    "- clearly explain / teach the difference so that a non-technical audience may understand\n",
    "- utilize a few python commands to illustrate your language with numerical examples\n",
    "\n",
    "Bonus (+1 point): Hypothesize why NU's relationship to the other states is different than between MA and CA."
   ]
  },
  {
   "cell_type": "code",
   "execution_count": 4,
   "metadata": {},
   "outputs": [
    {
     "data": {
      "text/html": [
       "<div>\n",
       "<style scoped>\n",
       "    .dataframe tbody tr th:only-of-type {\n",
       "        vertical-align: middle;\n",
       "    }\n",
       "\n",
       "    .dataframe tbody tr th {\n",
       "        vertical-align: top;\n",
       "    }\n",
       "\n",
       "    .dataframe thead th {\n",
       "        text-align: right;\n",
       "    }\n",
       "</style>\n",
       "<table border=\"1\" class=\"dataframe\">\n",
       "  <thead>\n",
       "    <tr style=\"text-align: right;\">\n",
       "      <th></th>\n",
       "      <th>MA</th>\n",
       "      <th>CA</th>\n",
       "      <th>NEU</th>\n",
       "    </tr>\n",
       "  </thead>\n",
       "  <tbody>\n",
       "    <tr>\n",
       "      <th>MA</th>\n",
       "      <td>1.000000</td>\n",
       "      <td>0.813516</td>\n",
       "      <td>0.603717</td>\n",
       "    </tr>\n",
       "    <tr>\n",
       "      <th>CA</th>\n",
       "      <td>0.813516</td>\n",
       "      <td>1.000000</td>\n",
       "      <td>0.523122</td>\n",
       "    </tr>\n",
       "    <tr>\n",
       "      <th>NEU</th>\n",
       "      <td>0.603717</td>\n",
       "      <td>0.523122</td>\n",
       "      <td>1.000000</td>\n",
       "    </tr>\n",
       "  </tbody>\n",
       "</table>\n",
       "</div>"
      ],
      "text/plain": [
       "           MA        CA       NEU\n",
       "MA   1.000000  0.813516  0.603717\n",
       "CA   0.813516  1.000000  0.523122\n",
       "NEU  0.603717  0.523122  1.000000"
      ]
     },
     "execution_count": 4,
     "metadata": {},
     "output_type": "execute_result"
    }
   ],
   "source": [
    "df_covid.corr()"
   ]
  },
  {
   "cell_type": "markdown",
   "metadata": {},
   "source": [
    "## Response:\n",
    "Covariance is an indicator of dependency between two variables. The covariance between MA and CA is greater than the covariance of CA and NEU because MA and CA are both states with large population and smaller variance. In the other hand, NEU only has a population of a few thousands compared to CA's population of millions. Therefore, there is a smaller relationship between NEU and CA and a larger variance. In addition, there is a different of scale/range. To solve this change in scale, we can use correlation to maintain the consistency with the weight of each value. Based on the corr() code, we see that CA and MA (corr = 0.81) have a strong correlation than CA and NEU (0.52).\n",
    "\n",
    "Bonus: NU's relationship with other states is different from MA and CA because of the difference in population and demographics, leading to greater variance (aka bigger spread between numbers in the data set). MA and CA are states with all types of people while NEU is a university of students. People, who often go out, will have a higher chance of getting infected. In additional, age plays a role since older age people are more likely to get covid than younger people. Thus, a difference in demographics (age) caused a inconsistent between NEU's relationship with other states.\n"
   ]
  },
  {
   "cell_type": "markdown",
   "metadata": {},
   "source": [
    "# Part 3: Beans!\n",
    "\n",
    "In this problem we'll use the k-Nearest Neighbor classifier to classify the species of plant that a bean comes from [a very large collection of bean image data](https://archive.ics.uci.edu/ml/datasets/Dry+Bean+Dataset).\n",
    "- use the csv loaded below\n",
    "- each subpart requires the completion of all previous sub-parts\n",
    "- **you are intended to make scale normalization / cross validation errors in earlier parts**\n",
    "    - these will be addressed in later parts"
   ]
  },
  {
   "cell_type": "code",
   "execution_count": 5,
   "metadata": {},
   "outputs": [
    {
     "data": {
      "text/html": [
       "<div>\n",
       "<style scoped>\n",
       "    .dataframe tbody tr th:only-of-type {\n",
       "        vertical-align: middle;\n",
       "    }\n",
       "\n",
       "    .dataframe tbody tr th {\n",
       "        vertical-align: top;\n",
       "    }\n",
       "\n",
       "    .dataframe thead th {\n",
       "        text-align: right;\n",
       "    }\n",
       "</style>\n",
       "<table border=\"1\" class=\"dataframe\">\n",
       "  <thead>\n",
       "    <tr style=\"text-align: right;\">\n",
       "      <th></th>\n",
       "      <th>Area</th>\n",
       "      <th>Perimeter</th>\n",
       "      <th>MajorAxisLength</th>\n",
       "      <th>MinorAxisLength</th>\n",
       "      <th>AspectRation</th>\n",
       "      <th>Eccentricity</th>\n",
       "      <th>ConvexArea</th>\n",
       "      <th>EquivDiameter</th>\n",
       "      <th>Extent</th>\n",
       "      <th>Solidity</th>\n",
       "      <th>roundness</th>\n",
       "      <th>Compactness</th>\n",
       "      <th>ShapeFactor1</th>\n",
       "      <th>ShapeFactor2</th>\n",
       "      <th>ShapeFactor3</th>\n",
       "      <th>ShapeFactor4</th>\n",
       "      <th>Class</th>\n",
       "    </tr>\n",
       "  </thead>\n",
       "  <tbody>\n",
       "    <tr>\n",
       "      <th>0</th>\n",
       "      <td>28395</td>\n",
       "      <td>610.291</td>\n",
       "      <td>208.178117</td>\n",
       "      <td>173.888747</td>\n",
       "      <td>1.197191</td>\n",
       "      <td>0.549812</td>\n",
       "      <td>28715</td>\n",
       "      <td>190.141097</td>\n",
       "      <td>0.763923</td>\n",
       "      <td>0.988856</td>\n",
       "      <td>0.958027</td>\n",
       "      <td>0.913358</td>\n",
       "      <td>0.007332</td>\n",
       "      <td>0.003147</td>\n",
       "      <td>0.834222</td>\n",
       "      <td>0.998724</td>\n",
       "      <td>SEKER</td>\n",
       "    </tr>\n",
       "    <tr>\n",
       "      <th>1</th>\n",
       "      <td>28734</td>\n",
       "      <td>638.018</td>\n",
       "      <td>200.524796</td>\n",
       "      <td>182.734419</td>\n",
       "      <td>1.097356</td>\n",
       "      <td>0.411785</td>\n",
       "      <td>29172</td>\n",
       "      <td>191.272750</td>\n",
       "      <td>0.783968</td>\n",
       "      <td>0.984986</td>\n",
       "      <td>0.887034</td>\n",
       "      <td>0.953861</td>\n",
       "      <td>0.006979</td>\n",
       "      <td>0.003564</td>\n",
       "      <td>0.909851</td>\n",
       "      <td>0.998430</td>\n",
       "      <td>SEKER</td>\n",
       "    </tr>\n",
       "    <tr>\n",
       "      <th>2</th>\n",
       "      <td>29380</td>\n",
       "      <td>624.110</td>\n",
       "      <td>212.826130</td>\n",
       "      <td>175.931143</td>\n",
       "      <td>1.209713</td>\n",
       "      <td>0.562727</td>\n",
       "      <td>29690</td>\n",
       "      <td>193.410904</td>\n",
       "      <td>0.778113</td>\n",
       "      <td>0.989559</td>\n",
       "      <td>0.947849</td>\n",
       "      <td>0.908774</td>\n",
       "      <td>0.007244</td>\n",
       "      <td>0.003048</td>\n",
       "      <td>0.825871</td>\n",
       "      <td>0.999066</td>\n",
       "      <td>SEKER</td>\n",
       "    </tr>\n",
       "    <tr>\n",
       "      <th>3</th>\n",
       "      <td>30008</td>\n",
       "      <td>645.884</td>\n",
       "      <td>210.557999</td>\n",
       "      <td>182.516516</td>\n",
       "      <td>1.153638</td>\n",
       "      <td>0.498616</td>\n",
       "      <td>30724</td>\n",
       "      <td>195.467062</td>\n",
       "      <td>0.782681</td>\n",
       "      <td>0.976696</td>\n",
       "      <td>0.903936</td>\n",
       "      <td>0.928329</td>\n",
       "      <td>0.007017</td>\n",
       "      <td>0.003215</td>\n",
       "      <td>0.861794</td>\n",
       "      <td>0.994199</td>\n",
       "      <td>SEKER</td>\n",
       "    </tr>\n",
       "    <tr>\n",
       "      <th>4</th>\n",
       "      <td>30140</td>\n",
       "      <td>620.134</td>\n",
       "      <td>201.847882</td>\n",
       "      <td>190.279279</td>\n",
       "      <td>1.060798</td>\n",
       "      <td>0.333680</td>\n",
       "      <td>30417</td>\n",
       "      <td>195.896503</td>\n",
       "      <td>0.773098</td>\n",
       "      <td>0.990893</td>\n",
       "      <td>0.984877</td>\n",
       "      <td>0.970516</td>\n",
       "      <td>0.006697</td>\n",
       "      <td>0.003665</td>\n",
       "      <td>0.941900</td>\n",
       "      <td>0.999166</td>\n",
       "      <td>SEKER</td>\n",
       "    </tr>\n",
       "  </tbody>\n",
       "</table>\n",
       "</div>"
      ],
      "text/plain": [
       "    Area  Perimeter  MajorAxisLength  MinorAxisLength  AspectRation  \\\n",
       "0  28395    610.291       208.178117       173.888747      1.197191   \n",
       "1  28734    638.018       200.524796       182.734419      1.097356   \n",
       "2  29380    624.110       212.826130       175.931143      1.209713   \n",
       "3  30008    645.884       210.557999       182.516516      1.153638   \n",
       "4  30140    620.134       201.847882       190.279279      1.060798   \n",
       "\n",
       "   Eccentricity  ConvexArea  EquivDiameter    Extent  Solidity  roundness  \\\n",
       "0      0.549812       28715     190.141097  0.763923  0.988856   0.958027   \n",
       "1      0.411785       29172     191.272750  0.783968  0.984986   0.887034   \n",
       "2      0.562727       29690     193.410904  0.778113  0.989559   0.947849   \n",
       "3      0.498616       30724     195.467062  0.782681  0.976696   0.903936   \n",
       "4      0.333680       30417     195.896503  0.773098  0.990893   0.984877   \n",
       "\n",
       "   Compactness  ShapeFactor1  ShapeFactor2  ShapeFactor3  ShapeFactor4  Class  \n",
       "0     0.913358      0.007332      0.003147      0.834222      0.998724  SEKER  \n",
       "1     0.953861      0.006979      0.003564      0.909851      0.998430  SEKER  \n",
       "2     0.908774      0.007244      0.003048      0.825871      0.999066  SEKER  \n",
       "3     0.928329      0.007017      0.003215      0.861794      0.994199  SEKER  \n",
       "4     0.970516      0.006697      0.003665      0.941900      0.999166  SEKER  "
      ]
     },
     "execution_count": 5,
     "metadata": {},
     "output_type": "execute_result"
    }
   ],
   "source": [
    "import pandas as pd\n",
    "\n",
    "df_bean = pd.read_csv('dry_bean.csv')\n",
    "\n",
    "df_bean.head()"
   ]
  },
  {
   "cell_type": "markdown",
   "metadata": {},
   "source": [
    "## Part 3.1: a not-quite-right K-NN classifier  (12 points)\n",
    "Build a 21-Nearest Neighbor classifier which is `fit` and `predict`s on the whole, raw dataset."
   ]
  },
  {
   "cell_type": "code",
   "execution_count": 6,
   "metadata": {},
   "outputs": [],
   "source": [
    "from sklearn.neighbors import KNeighborsClassifier"
   ]
  },
  {
   "cell_type": "code",
   "execution_count": 7,
   "metadata": {},
   "outputs": [],
   "source": [
    "k = 21\n",
    "x_feat_list = df_bean.columns[:-1]\n",
    "y_feat = 'Class'\n",
    "\n",
    "x = df_bean.loc[:, x_feat_list].values\n",
    "y_true = df_bean.loc[:, y_feat].values\n",
    "\n",
    "# initalize a knn_classifer\n",
    "knn_classifier = KNeighborsClassifier(n_neighbors=k)\n",
    "\n",
    "# fits happens inplace\n",
    "knn_classifier.fit(x, y_true)\n",
    "\n",
    "# predict the class\n",
    "y_pred = knn_classifier.predict(x)"
   ]
  },
  {
   "cell_type": "markdown",
   "metadata": {},
   "source": [
    "## Part 3.2: Confusion Matrix (12 points)\n",
    "Plot the confusion matrix which results part 3.1.\n",
    "\n",
    "Using the confusion matrix, identify the bean with lowest accuracy (% of these beans classified correctly)\n",
    "- explicitly compute accuracy for this particular bean\n",
    "    - you may manually copy and paste values from the confusion matrix into a new cell\n",
    "        - e.g. `387 / (387 + 3 + 10)` or similar\n",
    "- telling which other bean it is most commonly mistaken for\n",
    "\n",
    "Your response should be one or two sentences."
   ]
  },
  {
   "cell_type": "code",
   "execution_count": 8,
   "metadata": {
    "scrolled": false
   },
   "outputs": [
    {
     "data": {
      "image/png": "[encoded data removed]",
      "text/plain": [
       "<Figure size 720x720 with 2 Axes>"
      ]
     },
     "metadata": {
      "needs_background": "light"
     },
     "output_type": "display_data"
    }
   ],
   "source": [
    "from sklearn.metrics import confusion_matrix, ConfusionMatrixDisplay\n",
    "import numpy as np\n",
    "import matplotlib.pyplot as plt\n",
    "import seaborn as sns\n",
    "\n",
    "conf_mat = confusion_matrix(y_true=y_true, y_pred=y_pred)\n",
    "# plot the confusion matrix\n",
    "conf_mat_disp = ConfusionMatrixDisplay(conf_mat, display_labels = np.unique(y_true))\n",
    "conf_mat_disp.plot()\n",
    "\n",
    "# adjust size\n",
    "plt.gcf().set_size_inches(10,10)\n",
    "sns.set(font_scale = 1.2)\n",
    "plt.grid(False)"
   ]
  },
  {
   "cell_type": "code",
   "execution_count": 9,
   "metadata": {},
   "outputs": [
    {
     "name": "stdout",
     "output_type": "stream",
     "text": [
      "barbunya: 0.47806354009077157 bombay: 0.9961685823754789 cali: 0.7159509202453987 dermason: 0.9049633389734912 horoz: 0.6716804979253111 seker: 0.5426739023186976 sire: 0.7826251896813353\n"
     ]
    }
   ],
   "source": [
    "# compute all the beans\n",
    "\n",
    "barbunya = 632/(632+430+225+35)\n",
    "bombay = 520/(520+2)\n",
    "cali = 1167/(1167+334+122+1+6)\n",
    "dermason = 3209/(3209+1+197+139)\n",
    "horoz = 1295/(101+67+56+1295+4+405)\n",
    "seker = 1100/(1100+431+35+461)\n",
    "sire = 2063/ (2063+1+268+218+86)\n",
    "\n",
    "print('barbunya:', barbunya, 'bombay:', bombay, 'cali:', cali, \n",
    "      'dermason:', dermason, 'horoz:', horoz, 'seker:', seker, 'sire:', sire)"
   ]
  },
  {
   "cell_type": "markdown",
   "metadata": {},
   "source": [
    "### Response:\n",
    "Barbunya bean has the lowest accuracy of 47.8%."
   ]
  },
  {
   "cell_type": "markdown",
   "metadata": {},
   "source": [
    "## Part 3.3: Scale Normalization (10 points)\n",
    "- In a few sentences, describe how the scale of the data may be causing issues in the classifier's performance. \n",
    "    - Explicitly compute the variance of the raw `df_bean` dataset and refer to it in your explanation.\n",
    "- Build a new dataframe which resolves this issue\n",
    "    - don't retrain and assess the classifier just yet ... we have another problem to fix too (see part 3.4)"
   ]
  },
  {
   "cell_type": "markdown",
   "metadata": {},
   "source": [
    "### Response:\n",
    "In part 3.2, the scale of the data are different for each species because the scale was not normalize. This caused data with different units in different range to have a big variance. As shown below in df_bean.var, the variance for each column is different. It indicates that each variable has a different weight and can steer the model to one direction because of bigger number. However, after normalizing the scale, the variance of each column is 1, showing equivalent weight for each variable.\n"
   ]
  },
  {
   "cell_type": "code",
   "execution_count": 10,
   "metadata": {},
   "outputs": [
    {
     "name": "stderr",
     "output_type": "stream",
     "text": [
      "/var/folders/9m/1hg1hctj5s94qtlnx8n6561h0000gn/T/ipykernel_11804/1461227889.py:1: FutureWarning: Dropping of nuisance columns in DataFrame reductions (with 'numeric_only=None') is deprecated; in a future version this will raise TypeError.  Select only valid columns before calling the reduction.\n",
      "  df_bean.var()\n"
     ]
    },
    {
     "data": {
      "text/plain": [
       "Area               8.599026e+08\n",
       "Perimeter          4.592007e+04\n",
       "MajorAxisLength    7.343494e+03\n",
       "MinorAxisLength    2.022309e+03\n",
       "AspectRation       6.085026e-02\n",
       "Eccentricity       8.464324e-03\n",
       "ConvexArea         8.865456e+08\n",
       "EquivDiameter      3.501932e+03\n",
       "Extent             2.409471e-03\n",
       "Solidity           2.171913e-05\n",
       "roundness          3.542617e-03\n",
       "Compactness        3.808552e-03\n",
       "ShapeFactor1       1.272380e-06\n",
       "ShapeFactor2       3.550668e-07\n",
       "ShapeFactor3       9.800238e-03\n",
       "ShapeFactor4       1.906595e-05\n",
       "dtype: float64"
      ]
     },
     "execution_count": 10,
     "metadata": {},
     "output_type": "execute_result"
    }
   ],
   "source": [
    "# variance before normalization\n",
    "df_bean.var()"
   ]
  },
  {
   "cell_type": "code",
   "execution_count": 11,
   "metadata": {},
   "outputs": [],
   "source": [
    "# normalize scale\n",
    "for feat in x_feat_list:\n",
    "    df_bean[feat] = df_bean[feat] / df_bean[feat].std()"
   ]
  },
  {
   "cell_type": "code",
   "execution_count": 12,
   "metadata": {},
   "outputs": [
    {
     "data": {
      "text/plain": [
       "array([[  0.9683163 ,   2.84797175,   2.42931436, ...,   5.28179555,\n",
       "          8.42681644, 228.72633757],\n",
       "       [  0.97987676,   2.97736201,   2.34000467, ...,   5.98049015,\n",
       "          9.19076653, 228.65910743],\n",
       "       [  1.00190643,   2.91245922,   2.4835539 , ...,   5.11472029,\n",
       "          8.34245183, 228.8047188 ],\n",
       "       ...,\n",
       "       [  1.43700936,   3.54343216,   3.28540291, ...,   3.16890471,\n",
       "          6.83747965, 228.27823415],\n",
       "       [  1.43728217,   3.56423577,   3.30690622, ...,   3.10807792,\n",
       "          6.75012797, 227.92443601],\n",
       "       [  1.43769139,   3.60370571,   3.44413962, ...,   2.75193975,\n",
       "          6.22469247, 228.6016906 ]])"
      ]
     },
     "execution_count": 12,
     "metadata": {},
     "output_type": "execute_result"
    }
   ],
   "source": [
    "# see result\n",
    "df_bean.loc[:, x_feat_list].values"
   ]
  },
  {
   "cell_type": "code",
   "execution_count": 13,
   "metadata": {},
   "outputs": [
    {
     "name": "stderr",
     "output_type": "stream",
     "text": [
      "/var/folders/9m/1hg1hctj5s94qtlnx8n6561h0000gn/T/ipykernel_11804/1461227889.py:1: FutureWarning: Dropping of nuisance columns in DataFrame reductions (with 'numeric_only=None') is deprecated; in a future version this will raise TypeError.  Select only valid columns before calling the reduction.\n",
      "  df_bean.var()\n"
     ]
    },
    {
     "data": {
      "text/plain": [
       "Area               1.0\n",
       "Perimeter          1.0\n",
       "MajorAxisLength    1.0\n",
       "MinorAxisLength    1.0\n",
       "AspectRation       1.0\n",
       "Eccentricity       1.0\n",
       "ConvexArea         1.0\n",
       "EquivDiameter      1.0\n",
       "Extent             1.0\n",
       "Solidity           1.0\n",
       "roundness          1.0\n",
       "Compactness        1.0\n",
       "ShapeFactor1       1.0\n",
       "ShapeFactor2       1.0\n",
       "ShapeFactor3       1.0\n",
       "ShapeFactor4       1.0\n",
       "dtype: float64"
      ]
     },
     "execution_count": 13,
     "metadata": {},
     "output_type": "execute_result"
    }
   ],
   "source": [
    "# variance after normalization\n",
    "df_bean.var()"
   ]
  },
  {
   "cell_type": "markdown",
   "metadata": {},
   "source": [
    "## Part 3.4: Cross Validation (16 points)\n",
    "In a few sentences, describe how the confusion matrix shown in part 3.2 may overstate how accurate the classifier would be in predicting the species of some new bean.\n",
    "\n",
    "Copy and paste the code from parts 3.1 & 3.2 (don't worry about DRY here) to resolve the issues raised in parts 3.3 and 3.4."
   ]
  },
  {
   "cell_type": "markdown",
   "metadata": {},
   "source": [
    "Confusion matrix shown in part 3.2 may overstate the accuracy in predicting the species of some new beans because only 1/3 of beans has can accuracy of above 90%. Since the values were not normalized, all variables have different weights associated with the values. "
   ]
  },
  {
   "cell_type": "code",
   "execution_count": 14,
   "metadata": {},
   "outputs": [],
   "source": [
    "from sklearn.model_selection import StratifiedKFold\n",
    "from sklearn.model_selection import KFold\n",
    "from sklearn.metrics import confusion_matrix, ConfusionMatrixDisplay\n",
    "import numpy as np\n",
    "import matplotlib.pyplot as plt\n",
    "import seaborn as sns\n",
    "from sklearn.neighbors import KNeighborsClassifier\n",
    "from copy import copy"
   ]
  },
  {
   "cell_type": "code",
   "execution_count": 15,
   "metadata": {},
   "outputs": [],
   "source": [
    "k = 21\n",
    "x_feat_list = df_bean.columns[:-1]\n",
    "y_feat = 'Class'\n",
    "\n",
    "# normalize scale\n",
    "for feat in x_feat_list:\n",
    "    df_bean[feat] = df_bean[feat] / df_bean[feat].std()\n",
    "    \n",
    "# extract data\n",
    "x = df_bean.loc[:, x_feat_list].values\n",
    "y = df_bean.loc[:, y_feat].values\n",
    "\n",
    "# initalize a knn_classifer\n",
    "knn_classifier = KNeighborsClassifier(n_neighbors=k)\n",
    "\n",
    "# construction of kfold object\n",
    "kfold = StratifiedKFold(n_splits=10, shuffle=True)\n",
    "\n",
    "# initialize an array of same shape and type as y\n",
    "y_pred = np.copy(y)\n",
    "\n",
    "for train_idx, test_idx in kfold.split(x, y):\n",
    "    # split into train and test sets\n",
    "    x_train = x[train_idx, :]\n",
    "    y_train = y[train_idx]\n",
    "    x_test = x[test_idx, :]\n",
    "    \n",
    "    # fit classifier (on training set)\n",
    "    knn_classifier.fit(x_train, y_train)\n",
    "    \n",
    "    # predict (on testing set)\n",
    "    y_pred[test_idx] = knn_classifier.predict(x_test)"
   ]
  },
  {
   "cell_type": "code",
   "execution_count": 16,
   "metadata": {},
   "outputs": [],
   "source": [
    "# test\n",
    "k = 21\n",
    "x_feat_list = df_bean.columns[:-1]\n",
    "y_feat = 'Class'\n",
    "\n",
    "# extract data\n",
    "x = df_bean.loc[:, x_feat_list].values\n",
    "y_true = df_bean.loc[:, y_feat].values\n",
    "\n",
    "# initalize a knn_classifer\n",
    "knn_classifier = KNeighborsClassifier(n_neighbors=k)\n",
    "\n",
    "# construction of kfold object\n",
    "kfold = StratifiedKFold(n_splits=10, shuffle=True)\n",
    "\n",
    "# initialize an array of same shape and type as y\n",
    "y_pred = copy(y_true)\n",
    "\n",
    "for train_idx, test_idx in kfold.split(x, y_true):\n",
    "    # build arrays which correspond to x, y train /test\n",
    "    x_test = x[test_idx, :]\n",
    "    x_train = x[train_idx, :]\n",
    "    y_true_train = y_true[train_idx]\n",
    "    \n",
    "    # fit happens \"inplace\"\n",
    "    knn_classifier.fit(x_train, y_true_train)\n",
    "\n",
    "    # estimate each plant's species\n",
    "    y_pred[test_idx] = knn_classifier.predict(x_test)"
   ]
  },
  {
   "cell_type": "code",
   "execution_count": 17,
   "metadata": {},
   "outputs": [
    {
     "data": {
      "image/png": "[encoded data removed]",
      "text/plain": [
       "<Figure size 720x720 with 2 Axes>"
      ]
     },
     "metadata": {},
     "output_type": "display_data"
    }
   ],
   "source": [
    "conf_mat = confusion_matrix(y_true=y_true, y_pred=y_pred)\n",
    "# plot the confusion matrix\n",
    "conf_mat_disp = ConfusionMatrixDisplay(conf_mat, display_labels = np.unique(y_true))\n",
    "conf_mat_disp.plot()\n",
    "\n",
    "# adjust size\n",
    "plt.gcf().set_size_inches(10,10)\n",
    "sns.set(font_scale = 1.1)\n",
    "plt.grid(False)"
   ]
  },
  {
   "cell_type": "markdown",
   "metadata": {},
   "source": [
    "# Part 4: OOP K-NN Classifier (+6 points extra credit)\n",
    "\n",
    "Build an object oriented implementation of a K-NN classifier.  In the spirit of lab5's programming sequence:\n",
    "\n",
    "- (+2 points) design an interface for all the behavior needed for a K-NN classifier\n",
    "    - write pseudocode, docstrings and a few comments first\n",
    "    - you're welcome to \"steal\" from sklearn's above\n",
    "- (+2 points) write a set of `assert` test cases which validate and specify your design\n",
    "- (+2 points) implement from the skeleton you've made above\n",
    "\n",
    "In practice, using `sklearn`'s implementation is a almost always a better choice, though we're practicing our python skills here.  In this spirit, do not use anything from `sklearn` in your implementation."
   ]
  },
  {
   "cell_type": "code",
   "execution_count": null,
   "metadata": {},
   "outputs": [],
   "source": []
  }
 ],
 "metadata": {
  "kernelspec": {
   "display_name": "Python 3 (ipykernel)",
   "language": "python",
   "name": "python3"
  },
  "language_info": {
   "codemirror_mode": {
    "name": "ipython",
    "version": 3
   },
   "file_extension": ".py",
   "mimetype": "text/x-python",
   "name": "python",
   "nbconvert_exporter": "python",
   "pygments_lexer": "ipython3",
   "version": "3.9.7"
  }
 },
 "nbformat": 4,
 "nbformat_minor": 4
}
