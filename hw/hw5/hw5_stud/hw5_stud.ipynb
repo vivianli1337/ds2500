{
 "cells": [
  {
   "cell_type": "markdown",
   "metadata": {},
   "source": [
    "# DS 2500 HW 5\n",
    "\n",
    "Due: Fri Mar 17 @ 11:59PM\n",
    "\n",
    "### Submission Instructions\n",
    "Please submit both of the following to the corresponding [gradescope](https://www.gradescope.com/courses/478298) assignment:\n",
    "- this `.ipynb` file \n",
    "    - give a fresh `Kernel > Restart & Run All` just before uploading\n",
    "- a `.py` file consistent with your `.ipynb`\n",
    "    - `File > Download as ...`\n",
    "    \n",
    "Gradescope may run your `.py` submission to determine part of your score for this assignment.  See the [autograder instructions](https://github.com/matthigger/gradescope_auto_py/blob/main/stud_instruct.md) for details.\n",
    "\n",
    "\n",
    "### Tips for success\n",
    "- Start early\n",
    "- Make use of [Piazza](https://course.ccs.neu.edu/ds2500/admin_piazza.html)\n",
    "- Make use of [Office Hours](https://course.ccs.neu.edu/ds2500/office_hours.html)\n",
    "- Remember that [Documentation / style counts for credit](https://course.ccs.neu.edu/ds2500/python_style.html)\n",
    "- [No student may view or share their ungraded homework with another](https://course.ccs.neu.edu/ds2500/syllabus.html#academic-integrity-and-conduct)"
   ]
  },
  {
   "cell_type": "markdown",
   "metadata": {},
   "source": [
    "# Overview: What contributes to property prices in the Boston area?\n",
    "\n",
    "We're going to analyze a dataset that contains nearly 1000 different condos and houses available for sale circa 2021 in the Boston area. Based on the features of a place and it's location we will try to predict its price."
   ]
  },
  {
   "cell_type": "code",
   "execution_count": 1,
   "metadata": {},
   "outputs": [
    {
     "data": {
      "text/html": [
       "<div>\n",
       "<style scoped>\n",
       "    .dataframe tbody tr th:only-of-type {\n",
       "        vertical-align: middle;\n",
       "    }\n",
       "\n",
       "    .dataframe tbody tr th {\n",
       "        vertical-align: top;\n",
       "    }\n",
       "\n",
       "    .dataframe thead th {\n",
       "        text-align: right;\n",
       "    }\n",
       "</style>\n",
       "<table border=\"1\" class=\"dataframe\">\n",
       "  <thead>\n",
       "    <tr style=\"text-align: right;\">\n",
       "      <th></th>\n",
       "      <th>beds</th>\n",
       "      <th>baths</th>\n",
       "      <th>area</th>\n",
       "      <th>distance</th>\n",
       "      <th>price</th>\n",
       "      <th>price_bucket</th>\n",
       "    </tr>\n",
       "  </thead>\n",
       "  <tbody>\n",
       "    <tr>\n",
       "      <th>0</th>\n",
       "      <td>3.0</td>\n",
       "      <td>2.0</td>\n",
       "      <td>2584.0</td>\n",
       "      <td>18.726140</td>\n",
       "      <td>1100000.0</td>\n",
       "      <td>price &gt;= 900k</td>\n",
       "    </tr>\n",
       "    <tr>\n",
       "      <th>1</th>\n",
       "      <td>1.0</td>\n",
       "      <td>1.0</td>\n",
       "      <td>650.0</td>\n",
       "      <td>1.053808</td>\n",
       "      <td>699000.0</td>\n",
       "      <td>600k &lt;= price &lt; 900k</td>\n",
       "    </tr>\n",
       "    <tr>\n",
       "      <th>2</th>\n",
       "      <td>2.0</td>\n",
       "      <td>3.0</td>\n",
       "      <td>1794.0</td>\n",
       "      <td>0.471038</td>\n",
       "      <td>1750000.0</td>\n",
       "      <td>price &gt;= 900k</td>\n",
       "    </tr>\n",
       "    <tr>\n",
       "      <th>3</th>\n",
       "      <td>4.0</td>\n",
       "      <td>3.0</td>\n",
       "      <td>1831.0</td>\n",
       "      <td>3.611435</td>\n",
       "      <td>979000.0</td>\n",
       "      <td>price &gt;= 900k</td>\n",
       "    </tr>\n",
       "    <tr>\n",
       "      <th>4</th>\n",
       "      <td>3.0</td>\n",
       "      <td>3.0</td>\n",
       "      <td>1875.0</td>\n",
       "      <td>2.200608</td>\n",
       "      <td>1875000.0</td>\n",
       "      <td>price &gt;= 900k</td>\n",
       "    </tr>\n",
       "  </tbody>\n",
       "</table>\n",
       "</div>"
      ],
      "text/plain": [
       "   beds  baths    area   distance      price          price_bucket\n",
       "0   3.0    2.0  2584.0  18.726140  1100000.0         price >= 900k\n",
       "1   1.0    1.0   650.0   1.053808   699000.0  600k <= price < 900k\n",
       "2   2.0    3.0  1794.0   0.471038  1750000.0         price >= 900k\n",
       "3   4.0    3.0  1831.0   3.611435   979000.0         price >= 900k\n",
       "4   3.0    3.0  1875.0   2.200608  1875000.0         price >= 900k"
      ]
     },
     "execution_count": 1,
     "metadata": {},
     "output_type": "execute_result"
    }
   ],
   "source": [
    "import pandas as pd\n",
    "\n",
    "df_boston = pd.read_csv('boston_houses.csv', index_col=None)\n",
    "\n",
    "df_boston.head()"
   ]
  },
  {
   "cell_type": "markdown",
   "metadata": {},
   "source": [
    "# Part 1: Decision Tree Classifier (21 points)\n",
    "Our desired target variable is continuous (`price`), though our classifiers require a categorical target (e.g. `species`).  To remedy this, we have first \"binned\" `price` into three buckets:"
   ]
  },
  {
   "cell_type": "code",
   "execution_count": 2,
   "metadata": {},
   "outputs": [
    {
     "data": {
      "text/plain": [
       "price < 600k            321\n",
       "price >= 900k           320\n",
       "600k <= price < 900k    313\n",
       "Name: price_bucket, dtype: int64"
      ]
     },
     "execution_count": 2,
     "metadata": {},
     "output_type": "execute_result"
    }
   ],
   "source": [
    "df_boston['price_bucket'].value_counts()"
   ]
  },
  {
   "cell_type": "markdown",
   "metadata": {},
   "source": [
    "1. Build a Decision Tree with `max_depth=2` which estimates the `price_bucket` of housing using \n",
    "    - beds\n",
    "    - baths\n",
    "    - area\n",
    "    - distance\n",
    "1. Plot the tree using [plot_tree()](https://scikit-learn.org/stable/modules/generated/sklearn.tree.plot_tree.html).  To ensure the visualization is easily understood:\n",
    "    - increase the size of the figure so text is easily read\n",
    "    - utlize the `class_names` keyword input to `plot_tree()` which shows the most common class among the `values` shown\n",
    "1. Validate your tree by identifying one intuitive behavior which it replicates (e.g. larger houses tend to be more expensive)\n",
    "    - Remember the convention for reading the tree:\n",
    "        - yes -> left\n",
    "        - no -> right\n",
    "        - after training, `dec_tree_clf.classes_` contains the order of classes shown in the `values` lists shown in the tree\n",
    "    - Please summarize the intuition identified in the tree in a markdown cell just below the tree itself\n"
   ]
  },
  {
   "cell_type": "code",
   "execution_count": 3,
   "metadata": {},
   "outputs": [
    {
     "data": {
      "text/html": [
       "<div>\n",
       "<style scoped>\n",
       "    .dataframe tbody tr th:only-of-type {\n",
       "        vertical-align: middle;\n",
       "    }\n",
       "\n",
       "    .dataframe tbody tr th {\n",
       "        vertical-align: top;\n",
       "    }\n",
       "\n",
       "    .dataframe thead th {\n",
       "        text-align: right;\n",
       "    }\n",
       "</style>\n",
       "<table border=\"1\" class=\"dataframe\">\n",
       "  <thead>\n",
       "    <tr style=\"text-align: right;\">\n",
       "      <th></th>\n",
       "      <th>beds</th>\n",
       "      <th>baths</th>\n",
       "      <th>area</th>\n",
       "      <th>distance</th>\n",
       "      <th>price</th>\n",
       "      <th>price_bucket</th>\n",
       "    </tr>\n",
       "  </thead>\n",
       "  <tbody>\n",
       "    <tr>\n",
       "      <th>0</th>\n",
       "      <td>3.0</td>\n",
       "      <td>2.0</td>\n",
       "      <td>2584.0</td>\n",
       "      <td>18.726140</td>\n",
       "      <td>1100000.0</td>\n",
       "      <td>price &gt;= 900k</td>\n",
       "    </tr>\n",
       "    <tr>\n",
       "      <th>1</th>\n",
       "      <td>1.0</td>\n",
       "      <td>1.0</td>\n",
       "      <td>650.0</td>\n",
       "      <td>1.053808</td>\n",
       "      <td>699000.0</td>\n",
       "      <td>600k &lt;= price &lt; 900k</td>\n",
       "    </tr>\n",
       "    <tr>\n",
       "      <th>2</th>\n",
       "      <td>2.0</td>\n",
       "      <td>3.0</td>\n",
       "      <td>1794.0</td>\n",
       "      <td>0.471038</td>\n",
       "      <td>1750000.0</td>\n",
       "      <td>price &gt;= 900k</td>\n",
       "    </tr>\n",
       "    <tr>\n",
       "      <th>3</th>\n",
       "      <td>4.0</td>\n",
       "      <td>3.0</td>\n",
       "      <td>1831.0</td>\n",
       "      <td>3.611435</td>\n",
       "      <td>979000.0</td>\n",
       "      <td>price &gt;= 900k</td>\n",
       "    </tr>\n",
       "    <tr>\n",
       "      <th>4</th>\n",
       "      <td>3.0</td>\n",
       "      <td>3.0</td>\n",
       "      <td>1875.0</td>\n",
       "      <td>2.200608</td>\n",
       "      <td>1875000.0</td>\n",
       "      <td>price &gt;= 900k</td>\n",
       "    </tr>\n",
       "    <tr>\n",
       "      <th>...</th>\n",
       "      <td>...</td>\n",
       "      <td>...</td>\n",
       "      <td>...</td>\n",
       "      <td>...</td>\n",
       "      <td>...</td>\n",
       "      <td>...</td>\n",
       "    </tr>\n",
       "    <tr>\n",
       "      <th>949</th>\n",
       "      <td>3.0</td>\n",
       "      <td>3.0</td>\n",
       "      <td>1859.0</td>\n",
       "      <td>1.962427</td>\n",
       "      <td>3849000.0</td>\n",
       "      <td>price &gt;= 900k</td>\n",
       "    </tr>\n",
       "    <tr>\n",
       "      <th>950</th>\n",
       "      <td>2.0</td>\n",
       "      <td>2.0</td>\n",
       "      <td>1010.0</td>\n",
       "      <td>4.443581</td>\n",
       "      <td>609999.0</td>\n",
       "      <td>600k &lt;= price &lt; 900k</td>\n",
       "    </tr>\n",
       "    <tr>\n",
       "      <th>951</th>\n",
       "      <td>2.0</td>\n",
       "      <td>2.0</td>\n",
       "      <td>1088.0</td>\n",
       "      <td>3.924278</td>\n",
       "      <td>785000.0</td>\n",
       "      <td>600k &lt;= price &lt; 900k</td>\n",
       "    </tr>\n",
       "    <tr>\n",
       "      <th>952</th>\n",
       "      <td>2.0</td>\n",
       "      <td>2.0</td>\n",
       "      <td>1212.0</td>\n",
       "      <td>4.046062</td>\n",
       "      <td>799000.0</td>\n",
       "      <td>600k &lt;= price &lt; 900k</td>\n",
       "    </tr>\n",
       "    <tr>\n",
       "      <th>953</th>\n",
       "      <td>3.0</td>\n",
       "      <td>2.0</td>\n",
       "      <td>1933.0</td>\n",
       "      <td>10.168277</td>\n",
       "      <td>749999.0</td>\n",
       "      <td>600k &lt;= price &lt; 900k</td>\n",
       "    </tr>\n",
       "  </tbody>\n",
       "</table>\n",
       "<p>954 rows × 6 columns</p>\n",
       "</div>"
      ],
      "text/plain": [
       "     beds  baths    area   distance      price          price_bucket\n",
       "0     3.0    2.0  2584.0  18.726140  1100000.0         price >= 900k\n",
       "1     1.0    1.0   650.0   1.053808   699000.0  600k <= price < 900k\n",
       "2     2.0    3.0  1794.0   0.471038  1750000.0         price >= 900k\n",
       "3     4.0    3.0  1831.0   3.611435   979000.0         price >= 900k\n",
       "4     3.0    3.0  1875.0   2.200608  1875000.0         price >= 900k\n",
       "..    ...    ...     ...        ...        ...                   ...\n",
       "949   3.0    3.0  1859.0   1.962427  3849000.0         price >= 900k\n",
       "950   2.0    2.0  1010.0   4.443581   609999.0  600k <= price < 900k\n",
       "951   2.0    2.0  1088.0   3.924278   785000.0  600k <= price < 900k\n",
       "952   2.0    2.0  1212.0   4.046062   799000.0  600k <= price < 900k\n",
       "953   3.0    2.0  1933.0  10.168277   749999.0  600k <= price < 900k\n",
       "\n",
       "[954 rows x 6 columns]"
      ]
     },
     "execution_count": 3,
     "metadata": {},
     "output_type": "execute_result"
    }
   ],
   "source": [
    "df_boston"
   ]
  },
  {
   "cell_type": "code",
   "execution_count": 4,
   "metadata": {},
   "outputs": [],
   "source": [
    "import seaborn as sns\n",
    "from sklearn import tree\n",
    "import matplotlib.pyplot as plt"
   ]
  },
  {
   "cell_type": "code",
   "execution_count": 5,
   "metadata": {},
   "outputs": [],
   "source": [
    "def train_dec_tree(df_boston, max_depth=2, x_feat_list=None):\n",
    "    \"\"\" trains a decision tree classifier, prints graph\n",
    "    \n",
    "    Args:\n",
    "        df_boston (pd.DataFrame): boston apartments \n",
    "        max_depth (int): max depth of decision tree\n",
    "        x_feat_list (list): list of input features\n",
    "        plot (bool): toggles graph output (default: True)\n",
    "        \n",
    "    Returns:\n",
    "        dec_tree_clf (DecisionTreeClassifier): trained\n",
    "            decicision tree\n",
    "    \"\"\"\n",
    "    \n",
    "    if x_feat_list is None:\n",
    "        # default x_feat_list\n",
    "        x_feat_list = ['beds', 'baths', 'area', 'distance']\n",
    "\n",
    "    # extract data from dataframe\n",
    "    x = df_boston.loc[:, x_feat_list].values\n",
    "    y = df_boston.loc[:, 'price_bucket'].values\n",
    "    \n",
    "    # build decision tree classifier\n",
    "    dec_tree_clf = tree.DecisionTreeClassifier(max_depth=max_depth)\n",
    "\n",
    "    # fit data\n",
    "    dec_tree_clf = dec_tree_clf.fit(x, y)\n",
    "    \n",
    "    return dec_tree_clf"
   ]
  },
  {
   "cell_type": "code",
   "execution_count": 6,
   "metadata": {},
   "outputs": [],
   "source": [
    "def plot_tree(train_dec_tree):\n",
    "    \"\"\" plot decision tree \"\"\"\n",
    "    \n",
    "    x_feat_list = ['beds', 'baths', 'area', 'distance']\n",
    "    \n",
    "    plt.figure()\n",
    "    plt.gcf().set_size_inches(15, 10)\n",
    "    sns.set(font_scale=1.5)\n",
    "    \n",
    "    # 'plot' decision tree\n",
    "    tree.plot_tree(train_dec_tree, \n",
    "                       feature_names=x_feat_list, class_names=train_dec_tree.classes_);"
   ]
  },
  {
   "cell_type": "code",
   "execution_count": 7,
   "metadata": {},
   "outputs": [],
   "source": [
    "# plot\n",
    "decision_tree = train_dec_tree(df_boston, max_depth=2)"
   ]
  },
  {
   "cell_type": "code",
   "execution_count": 8,
   "metadata": {
    "scrolled": true
   },
   "outputs": [
    {
     "data": {
      "image/png": "[encoded data removed]",
      "text/plain": [
       "<Figure size 1080x720 with 1 Axes>"
      ]
     },
     "metadata": {
      "needs_background": "light"
     },
     "output_type": "display_data"
    }
   ],
   "source": [
    "plot_tree(decision_tree)"
   ]
  },
  {
   "cell_type": "markdown",
   "metadata": {},
   "source": [
    "### <font color=royalblue>Validation:</font>\n",
    "\n",
    "intuitive behavior: larger house tends to be more expensive\n",
    "- bath <= 2.5 go right for more bath rooms\n",
    "- area <= 2712.0 go right for larger area\n",
    "- result: class = price >= 900k\n",
    "\n",
    "This class price is higher than other results in other branches when comparing."
   ]
  },
  {
   "cell_type": "markdown",
   "metadata": {},
   "source": [
    "# Part 2: Random Forest Classification (23 points)\n",
    "We'd like to quantify how significant each feature (i.e. 'beds', 'baths', 'area', 'distance') is in predicting the `price_bucket` of a property via a Random Forest Analysis.  Of course:\n",
    "\n",
    "# Nobody cares which features are important to a classifier which doesn't work!\n",
    "\n",
    "so, before we look at feature importance we must check that our classifier is able to predict `price_bucket` with reasonable accuracy (hint: the solution shows 70% accuracy, which is sufficient for our purposes here).\n",
    "\n",
    "Using 10 fold cross validation with a Random Forest (max_depth=3) and the same x, y definitions as above:\n",
    "- construct a confusion matrix which shows performance\n",
    "- compute accuracy via [accuracy_score()](https://scikit-learn.org/stable/modules/generated/sklearn.metrics.accuracy_score.html)"
   ]
  },
  {
   "cell_type": "code",
   "execution_count": 9,
   "metadata": {},
   "outputs": [],
   "source": [
    "import seaborn as sns\n",
    "from sklearn.ensemble import RandomForestClassifier\n",
    "from sklearn.model_selection import StratifiedKFold\n",
    "from sklearn.metrics import confusion_matrix, ConfusionMatrixDisplay\n",
    "from sklearn import tree\n",
    "import numpy as np"
   ]
  },
  {
   "cell_type": "code",
   "execution_count": 10,
   "metadata": {},
   "outputs": [],
   "source": [
    "x_feat_list = ['beds', 'baths', 'area', 'distance']\n",
    "\n",
    "# extract data from dataframe\n",
    "x = df_boston.loc[:, x_feat_list].values\n",
    "y = df_boston.loc[:, 'price_bucket'].values"
   ]
  },
  {
   "cell_type": "code",
   "execution_count": 11,
   "metadata": {
    "scrolled": true
   },
   "outputs": [
    {
     "data": {
      "text/plain": [
       "Text(0.5, 0.98, 'max_depth=3 decision tree')"
      ]
     },
     "execution_count": 11,
     "metadata": {},
     "output_type": "execute_result"
    },
    {
     "data": {
      "image/png": "[encoded data removed]",
      "text/plain": [
       "<Figure size 720x720 with 2 Axes>"
      ]
     },
     "metadata": {},
     "output_type": "display_data"
    }
   ],
   "source": [
    "# confusion matrix\n",
    "# initalized kfold\n",
    "skfold = StratifiedKFold(n_splits=10)\n",
    "\n",
    "# initalized random decision tree\n",
    "dec_tree_clf = RandomForestClassifier(max_depth=3)\n",
    "\n",
    "\n",
    "# initalized y_pred\n",
    "y_pred = np.empty_like(y)\n",
    "\n",
    "for train_idx, test_idx in skfold.split(x,y):\n",
    "    # training data\n",
    "    x_train = x[train_idx,:]\n",
    "    y_train = y[train_idx]\n",
    "    \n",
    "    # testing data\n",
    "    x_test = x[test_idx]\n",
    "    \n",
    "    # fit data\n",
    "    dec_tree_clf = dec_tree_clf.fit(x_train, y_train)\n",
    "    \n",
    "    # estiamte on test data\n",
    "    y_pred[test_idx] = dec_tree_clf.predict(x_test)\n",
    "\n",
    "# build & plot\n",
    "conf_mat = confusion_matrix(y_true=y, y_pred=y_pred)\n",
    "conf_mat_display = ConfusionMatrixDisplay(conf_mat, display_labels=np.unique(y))\n",
    "\n",
    "sns.set(font_scale=1.5)\n",
    "conf_mat_display.plot()\n",
    "plt.gcf().set_size_inches(10,10)\n",
    "plt.grid(False)\n",
    "plt.suptitle('max_depth=3 decision tree')"
   ]
  },
  {
   "cell_type": "code",
   "execution_count": 12,
   "metadata": {},
   "outputs": [
    {
     "data": {
      "text/plain": [
       "0.69916142557652"
      ]
     },
     "execution_count": 12,
     "metadata": {},
     "output_type": "execute_result"
    }
   ],
   "source": [
    "from sklearn.metrics import accuracy_score\n",
    "accuracy_score(y, y_pred, normalize=True, sample_weight=None)"
   ]
  },
  {
   "cell_type": "markdown",
   "metadata": {},
   "source": [
    "# Part 3 Feature Importance in Random Forest (16 points)\n",
    "1. Fit a Random Forest Classifier on the *entire dataset.  \n",
    "    - *without k-fold Cross Validation ...\n",
    "1. Plot the Feature Importances, mean reduction in Gini scores, via `plot_feat_import()`\n",
    "    - copy this function from class notes as is (no need to cite here)\n",
    "1. In a markdown cell just below your feature importance plot:\n",
    "    - synthesize the key takeaway message of the plot\n",
    "        - write 1 or 2 complete sentences here\n",
    "    - From the feature importance plot alone can we determine whether housing prices go up as the `area` increases?\n",
    "        - write 1 complete sentence here    "
   ]
  },
  {
   "cell_type": "code",
   "execution_count": 13,
   "metadata": {},
   "outputs": [
    {
     "data": {
      "text/plain": [
       "RandomForestClassifier()"
      ]
     },
     "execution_count": 13,
     "metadata": {},
     "output_type": "execute_result"
    }
   ],
   "source": [
    "rf_clf = RandomForestClassifier(n_estimators=100)\n",
    "\n",
    "rf_clf.fit(x, y)"
   ]
  },
  {
   "cell_type": "code",
   "execution_count": 14,
   "metadata": {},
   "outputs": [],
   "source": [
    "def plot_feat_import(feat_list, feat_import, sort=True, limit=None):\n",
    "    \"\"\" plots feature importances in a horizontal bar chart\n",
    "    \n",
    "    Args:\n",
    "        feat_list (list): str names of features\n",
    "        feat_import (np.array): feature importances (mean gini reduce)\n",
    "        sort (bool): if True, sorts features in decreasing importance\n",
    "            from top to bottom of plot\n",
    "        limit (int): if passed, limits the number of features shown\n",
    "            to this value    \n",
    "    \"\"\"\n",
    "    \n",
    "    if sort:\n",
    "        # sort features in decreasing importance\n",
    "        idx = np.argsort(feat_import).astype(int)\n",
    "        feat_list = [feat_list[_idx] for _idx in idx]\n",
    "        feat_import = feat_import[idx] \n",
    "        \n",
    "    if limit is not None:\n",
    "        # limit to the first limit feature\n",
    "        feat_list = feat_list[:limit]\n",
    "        feat_import = feat_import[:limit]\n",
    "    \n",
    "    # plot and label feature importance\n",
    "    plt.barh(feat_list, feat_import)\n",
    "    plt.gcf().set_size_inches(5, len(feat_list) / 2)\n",
    "    plt.xlabel('Feature importance\\n (Mean % decreases across all Gini due to different features)')"
   ]
  },
  {
   "cell_type": "code",
   "execution_count": 15,
   "metadata": {
    "scrolled": true
   },
   "outputs": [
    {
     "data": {
      "image/png": "[encoded data removed]",
      "text/plain": [
       "<Figure size 360x144 with 1 Axes>"
      ]
     },
     "metadata": {},
     "output_type": "display_data"
    }
   ],
   "source": [
    "import numpy as np\n",
    "import seaborn as sns\n",
    "\n",
    "sns.set()\n",
    "\n",
    "plot_feat_import(x_feat_list, rf_clf.feature_importances_)"
   ]
  },
  {
   "cell_type": "markdown",
   "metadata": {},
   "source": [
    "### <font color=royalblue>Response:</font>\n",
    "\n",
    "In this feature importance plot, we can see that the most important features that affect the price are area and distance. The number of beds has the least impact on the price. \n",
    "\n",
    "Based on the feature importance plot, we can determine the housing prices would increase when the area increases because \"area\" feature is the most important cause of price change. "
   ]
  },
  {
   "cell_type": "markdown",
   "metadata": {},
   "source": [
    "# Part 4: `RandomForestRegressor` and housing prices\n",
    "In earlier parts of this HW, we used a `DecisionTree` and `RandomForestClassifier` to predict `price_bucket`.  Here we use a `RandomForestRegressor` to predict the housing `price` (not just the `price_bucket`).\n",
    "\n",
    "See [this video](https://youtu.be/SiovCeiKuSY) (same as for lab5) for an \"introduction\" to `RandomForestRegressor`."
   ]
  },
  {
   "cell_type": "markdown",
   "metadata": {},
   "source": [
    "## Part 4.1: Compute a cross validated $R^2$ for a `RandomForestRegressor` (9 points)\n",
    "    ... nobody cares which features are important in a regression model which can't predict accurately"
   ]
  },
  {
   "cell_type": "code",
   "execution_count": 16,
   "metadata": {
    "slideshow": {
     "slide_type": "subslide"
    }
   },
   "outputs": [
    {
     "data": {
      "text/html": [
       "<div>\n",
       "<style scoped>\n",
       "    .dataframe tbody tr th:only-of-type {\n",
       "        vertical-align: middle;\n",
       "    }\n",
       "\n",
       "    .dataframe tbody tr th {\n",
       "        vertical-align: top;\n",
       "    }\n",
       "\n",
       "    .dataframe thead th {\n",
       "        text-align: right;\n",
       "    }\n",
       "</style>\n",
       "<table border=\"1\" class=\"dataframe\">\n",
       "  <thead>\n",
       "    <tr style=\"text-align: right;\">\n",
       "      <th></th>\n",
       "      <th>beds</th>\n",
       "      <th>baths</th>\n",
       "      <th>area</th>\n",
       "      <th>distance</th>\n",
       "      <th>price</th>\n",
       "      <th>price_bucket</th>\n",
       "    </tr>\n",
       "  </thead>\n",
       "  <tbody>\n",
       "    <tr>\n",
       "      <th>0</th>\n",
       "      <td>3.0</td>\n",
       "      <td>2.0</td>\n",
       "      <td>2584.0</td>\n",
       "      <td>18.726140</td>\n",
       "      <td>1100000.0</td>\n",
       "      <td>price &gt;= 900k</td>\n",
       "    </tr>\n",
       "    <tr>\n",
       "      <th>1</th>\n",
       "      <td>1.0</td>\n",
       "      <td>1.0</td>\n",
       "      <td>650.0</td>\n",
       "      <td>1.053808</td>\n",
       "      <td>699000.0</td>\n",
       "      <td>600k &lt;= price &lt; 900k</td>\n",
       "    </tr>\n",
       "    <tr>\n",
       "      <th>2</th>\n",
       "      <td>2.0</td>\n",
       "      <td>3.0</td>\n",
       "      <td>1794.0</td>\n",
       "      <td>0.471038</td>\n",
       "      <td>1750000.0</td>\n",
       "      <td>price &gt;= 900k</td>\n",
       "    </tr>\n",
       "    <tr>\n",
       "      <th>3</th>\n",
       "      <td>4.0</td>\n",
       "      <td>3.0</td>\n",
       "      <td>1831.0</td>\n",
       "      <td>3.611435</td>\n",
       "      <td>979000.0</td>\n",
       "      <td>price &gt;= 900k</td>\n",
       "    </tr>\n",
       "    <tr>\n",
       "      <th>4</th>\n",
       "      <td>3.0</td>\n",
       "      <td>3.0</td>\n",
       "      <td>1875.0</td>\n",
       "      <td>2.200608</td>\n",
       "      <td>1875000.0</td>\n",
       "      <td>price &gt;= 900k</td>\n",
       "    </tr>\n",
       "  </tbody>\n",
       "</table>\n",
       "</div>"
      ],
      "text/plain": [
       "   beds  baths    area   distance      price          price_bucket\n",
       "0   3.0    2.0  2584.0  18.726140  1100000.0         price >= 900k\n",
       "1   1.0    1.0   650.0   1.053808   699000.0  600k <= price < 900k\n",
       "2   2.0    3.0  1794.0   0.471038  1750000.0         price >= 900k\n",
       "3   4.0    3.0  1831.0   3.611435   979000.0         price >= 900k\n",
       "4   3.0    3.0  1875.0   2.200608  1875000.0         price >= 900k"
      ]
     },
     "execution_count": 16,
     "metadata": {},
     "output_type": "execute_result"
    }
   ],
   "source": [
    "import pandas as pd\n",
    "\n",
    "df_house = pd.read_csv('boston_houses.csv', index_col=None)\n",
    "\n",
    "df_house.head()"
   ]
  },
  {
   "cell_type": "code",
   "execution_count": 17,
   "metadata": {},
   "outputs": [],
   "source": [
    "from sklearn.ensemble import RandomForestRegressor\n",
    "from sklearn.metrics import r2_score\n",
    "from sklearn.model_selection import KFold\n",
    "from copy import copy"
   ]
  },
  {
   "cell_type": "code",
   "execution_count": 18,
   "metadata": {},
   "outputs": [],
   "source": [
    "x_feat_list = ['beds', 'baths', 'area', 'distance']\n",
    "x = df_house.loc[:, x_feat_list].values\n",
    "y = df_house.loc[:, 'price'].values\n"
   ]
  },
  {
   "cell_type": "code",
   "execution_count": 19,
   "metadata": {
    "scrolled": true
   },
   "outputs": [
    {
     "data": {
      "text/plain": [
       "0.7394346340156159"
      ]
     },
     "execution_count": 19,
     "metadata": {},
     "output_type": "execute_result"
    }
   ],
   "source": [
    "# initalized kfold\n",
    "kfold = KFold(n_splits=10, shuffle=True)\n",
    "\n",
    "# regressor\n",
    "regressor = RandomForestRegressor()\n",
    "\n",
    "# initalized y_pred\n",
    "y_pred = copy(y)\n",
    "\n",
    "for train_idx, test_idx in kfold.split(x, y):\n",
    "    # training data\n",
    "    x_train = x[train_idx,:]\n",
    "    y_train = y[train_idx]\n",
    "    \n",
    "    # testing data\n",
    "    x_test = x[test_idx]\n",
    "    \n",
    "    # fit \n",
    "    regressor.fit(x_train, y_train)\n",
    "\n",
    "    # predict\n",
    "    y_pred[test_idx] = regressor.predict(x_test)\n",
    "    \n",
    "r2 = r2_score(y_true=y, y_pred=y_pred)\n",
    "r2"
   ]
  },
  {
   "cell_type": "markdown",
   "metadata": {},
   "source": [
    "## Part 4.2. Plot the feature importances of your `RandomForestRegressor` (8 points)\n",
    "\n",
    "You should update `plot_feat_import()` to properly label the x axis.  (`RandomForestClassifier`s minimize Gini, what do `RandomForestRegressor`s minimize?)"
   ]
  },
  {
   "cell_type": "code",
   "execution_count": 20,
   "metadata": {},
   "outputs": [],
   "source": [
    "def plot_feat_import(feat_list, feat_import, sort=True, limit=None):\n",
    "    \"\"\" plots feature importances in a horizontal bar chart\n",
    "    \n",
    "    Args:\n",
    "        feat_list (list): str names of features\n",
    "        feat_import (np.array): feature importances (mean gini reduce)\n",
    "        sort (bool): if True, sorts features in decreasing importance\n",
    "            from top to bottom of plot\n",
    "        limit (int): if passed, limits the number of features shown\n",
    "            to this value    \n",
    "    \"\"\"\n",
    "    \n",
    "    if sort:\n",
    "        # sort features in decreasing importance\n",
    "        idx = np.argsort(feat_import).astype(int)\n",
    "        feat_list = [feat_list[_idx] for _idx in idx]\n",
    "        feat_import = feat_import[idx] \n",
    "        \n",
    "    if limit is not None:\n",
    "        # limit to the first limit feature\n",
    "        feat_list = feat_list[:limit]\n",
    "        feat_import = feat_import[:limit]\n",
    "    \n",
    "    # plot and label feature importance\n",
    "    plt.barh(feat_list, feat_import)\n",
    "    plt.gcf().set_size_inches(5, len(feat_list) / 2)\n",
    "    plt.xlabel('Feature importance\\n (Mean % decreases in R^2 due to different features)')"
   ]
  },
  {
   "cell_type": "code",
   "execution_count": 21,
   "metadata": {},
   "outputs": [
    {
     "data": {
      "image/png": "[encoded data removed]",
      "text/plain": [
       "<Figure size 360x144 with 1 Axes>"
      ]
     },
     "metadata": {},
     "output_type": "display_data"
    }
   ],
   "source": [
    "import numpy as np\n",
    "import seaborn as sns\n",
    "x_feat_list = ['beds', 'baths', 'area', 'distance']\n",
    "\n",
    "# extract data from dataframe\n",
    "x = df_house.loc[:, x_feat_list].values\n",
    "y = df_house.loc[:, 'price'].values\n",
    "\n",
    "rfreg = RandomForestRegressor()\n",
    "rfreg.fit(x, y)\n",
    "\n",
    "sns.set()\n",
    "\n",
    "plot_feat_import(x_feat_list, rfreg.feature_importances_)\n"
   ]
  },
  {
   "cell_type": "markdown",
   "metadata": {},
   "source": [
    "## Part 4.3 Regressor vs Classifier? (7 points) \n",
    "Between the `RandomForestRegressor` and `RandomForestClassifier`, explain which feature importance graph you trust more.\n",
    "\n",
    "### hints: \n",
    "- does the `RandomForestClassifier` distinguish between different house prices within a single bucket?\n",
    "- wasn't our choice of 3 buckets somewhat arbitrary?  What if we used 10 price buckets instead, this can change the feature importances ... "
   ]
  },
  {
   "cell_type": "markdown",
   "metadata": {},
   "source": [
    "### <font color=royalblue>Response:</font>\n",
    "Between `RandomForestRegressor` and `RandomForestClassifer`, I would trust the `RandomForestRegressor` more because it shows a plot of all the houses and provides specific information about each plot. In the `RandomForestClassifer`, I would not be able to tell the exact price of the house because they are groups into certain range groups. On the other hand, I can use `RandomForestRegressor` and find the price related that specific house."
   ]
  },
  {
   "cell_type": "markdown",
   "metadata": {},
   "source": [
    "# Part 5: Ethics of Housing Pricing (16 points)\n",
    "\n",
    "Using any housing model built and trained as above could (and likely would) do real harm to people if used without careful thought.  **Remember, these models only mimic and recreate the relationships between housing features and price in input data.  Given this, the predictions should be understood as a reflection of the flawed world from which they come and not some necessarily truthful, objective insight.** (I worry the mathematical complexity and \"high-tech-factor\" of many Machine Learning models gives them some credibility they haven't earned!)\n",
    "\n",
    "In the case of predicting housing prices in Boston, we should be mindful of Redlining.  Naively used, this model can propogate and promote racist real estate processes via their influence in future housing prices.\n",
    "\n",
    "Using the resources listed below, identify two distinct ways in which a biased model (one which overvalues the houses of white people while undervaluing the houses of people of color) might propogate [racism](http://msan.wceruw.org/conferences/2015-studentConf/Defining%20Racism%20by%20Beverly%20Daniel%20Tatum.pdf) if used to predict housing values (e.g. [Zillow](https://www.zillow.com/) or similar).  Please give each of the two impacts its own markdown heading (`###`) and write one to three sentences which characterize it.\n",
    "\n",
    "- [Wikipedia on Redlining](https://en.wikipedia.org/wiki/Redlining)\n",
    "    - good background\n",
    "- [NPR Video (start here)](https://youtu.be/O5FBJyqfoLM?t=14) \n",
    "    - great summary\n",
    "    - hint: they do mention 4 specific impacts of redlining ... any two would be sufficient here\n",
    "    - be mindful of some spicy language and dark humor from Chris Rock which opens the video\n",
    "- [NYTimes article](https://www.nytimes.com/2021/03/20/opinion/home-value-race-taxes.html) \n",
    "    - strong, specific stats\n",
    "- [NyTimes article](https://www.nytimes.com/2022/08/18/realestate/housing-discrimination-maryland.html)\n",
    "    - compelling single example\n",
    "    \n",
    "Note that the negative impact of the model does not require the model's builder have malicious intentions.  It is entirely possible that one can build and utilize models without considering the real world harm they could have when deployed.  (Its unsurprising even, when you consider how much thought we put into our more easily quantifiable objectives: $R^2$, accuracy, confusion matrix scores ... there's so much technical detail to get lost in we may not take our hands off the keyboard for long enough to appreciate the very real impact of the work we do!).  My own belief is that much of the harm ML models have done, in practice, is not the result of bad people intentionally building harmful models but everyday people, like you and I, not being thoughtful enough in how the ML models will be used in the real world."
   ]
  },
  {
   "cell_type": "markdown",
   "metadata": {},
   "source": [
    "### <font color=royalblue>Biased Model 1- overvalues the houses of white people & undervalues the houses of POC</font>\n",
    "One way in which a biased model might propogate racism if used to predict housing value is driving down home values of a POC, which was one of the impact caused by redlining. Since redlining defined districts based on race, occupation, and money, many POC homeowners have houses in undesirable locations near industrial plants or far away from grocery stores."
   ]
  },
  {
   "cell_type": "markdown",
   "metadata": {},
   "source": [
    "### <font color=royalblue>Biased Model 2- overvalues the houses of white people & undervalues the houses of POC</font>\n",
    "\n",
    "Another way in which a biased model might propogate racism if used to predict housing value is overevaluating home values of white people based on school districts. Because the school has large fundings, it can provide more resources to the students. Families are attracted to such locations because they want their kids to gain a good education. Thus with a huge demand and low quantities, the prices for the nearby homes increase beyond its expected value.\n"
   ]
  }
 ],
 "metadata": {
  "kernelspec": {
   "display_name": "Python 3 (ipykernel)",
   "language": "python",
   "name": "python3"
  },
  "language_info": {
   "codemirror_mode": {
    "name": "ipython",
    "version": 3
   },
   "file_extension": ".py",
   "mimetype": "text/x-python",
   "name": "python",
   "nbconvert_exporter": "python",
   "pygments_lexer": "ipython3",
   "version": "3.9.7"
  }
 },
 "nbformat": 4,
 "nbformat_minor": 4
}
