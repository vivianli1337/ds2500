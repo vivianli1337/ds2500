{
 "cells": [
  {
   "cell_type": "markdown",
   "metadata": {},
   "source": [
    "# DS 2500 HW 0\n",
    "\n",
    "Due: Fri Feb 3 @ 11:59PM\n",
    "\n",
    "### Submission Instructions\n",
    "Please submit both of the following to the corresponding [gradescope](https://www.gradescope.com/courses/478298) assignment:\n",
    "- this `.ipynb` file \n",
    "    - give a fresh `Kernel > Restart & Run All` just before uploading\n",
    "- a `.py` file consistent with your `.ipynb`\n",
    "    - `File > Download as ...`\n",
    "    \n",
    "Gradescope may run your `.py` submission to determine part of your score for this assignment.  See the [autograder instructions](https://github.com/matthigger/gradescope_auto_py/blob/main/stud_instruct.md) for details.\n",
    "\n",
    "\n",
    "### Tips for success\n",
    "- Start early\n",
    "- Make use of [Piazza](https://course.ccs.neu.edu/ds2500/admin_piazza.html)\n",
    "- Make use of [Office Hours](https://course.ccs.neu.edu/ds2500/office_hours.html)\n",
    "- Remember that [Documentation / style counts for credit](https://course.ccs.neu.edu/ds2500/python_style.html)\n",
    "- [No student may view or share their ungraded homework with another](https://course.ccs.neu.edu/ds2500/syllabus.html#academic-integrity-and-conduct)\n",
    "\n",
    "| question   |   points(+ex credit) |\n",
    "|:-----------|---------:|\n",
    "| part 1.1   |       17 |\n",
    "| part 1.2.1 |       10 |\n",
    "| part 1.2.2 |       13 |\n",
    "| part 1.2.3 |       15 |\n",
    "| part 1.2.4 |       10 |\n",
    "| part 1.3   |       35+2 |\n",
    "|extra credit| 0+4 |\n",
    "| total      |      100 |\n"
   ]
  },
  {
   "cell_type": "markdown",
   "metadata": {},
   "source": [
    "# Markdown\n",
    "\n",
    "## Part 1.1 (17 points): \n",
    "Use [markdown](https://www.markdownguide.org/cheat-sheet/) to create your own brief wikipedia-esque description of any subject of interest. \n",
    "\n",
    "Your mini-wiki page must include:\n",
    "- three headers: a title, subtitle and subsubtitle (the #, ##, ### syntax)\n",
    "- an embedded image from a web address (use an [image hosting site](https://makeawebsitehub.com/free-photo-hosting/) if you'd like to upload your own)\n",
    "    - note gradescope may not render the image, if it shows on jupyter locally we'll award credit\n",
    "- a table of size at least 3 rows x 3 columns (needn't be correct, but must make sense)\n",
    "- a list\n",
    "- a link to another website\n",
    "\n",
    "Please be brief in your text.  Aim for roughly 3 sentences total of text.  We won't grade based on content, but keep it appropriate for class.  If you make the grader smile, no extra credit will be awarded beyond the satisfaction of having made somebody's day better :)\n"
   ]
  },
  {
   "cell_type": "markdown",
   "metadata": {},
   "source": [
    "# KOREA #\n",
    "Seoul is the capital of South Korea. It is where the pop culture, modern skyscrapers, and high tech transportations meet the historical palaces and street markets. \n",
    "\n",
    "## Places to visit #\n",
    "1. Hongdae\n",
    "    - busking: dances & othe performances\n",
    "    - food:\n",
    "        - street food: fried chicken, tanghulu, takoyaki, skewers, etc.\n",
    "    - diy shops:\n",
    "        - make your own jewlery\n",
    "        - make your own phone case\n",
    "    - animal cafe:\n",
    "        - lots of dog, cats, and racoons cafes, where visitors can enjoy their food while interacting with cute animals\n",
    "    - shops:\n",
    "        - lots of shops selling cheap and good quality clothes and accessories\n",
    "2. N Seoul Tower\n",
    "    - get to see the entire view of South Korea\n",
    "    - recommend to take the cable car up for full experience\n",
    "3. Palaces\n",
    "    - Gyeongbokgung palace\n",
    "    - Cheonggyecheon palace\n",
    "    - rent a hanbok and visit these palaces & stroll around bukchon hanok village\n",
    "4. myeongdong\n",
    "    - lots of street food & shops\n",
    "    - good skin care stores\n",
    "5. lotte world\n",
    "    - similar to disneyland\n",
    "    - lots of rides indoor & outdoor\n",
    "    - recommend to go during warmer temperature and buy fast lane pass\n",
    "    \n",
    "Here is the link for some things do to while in seoul: [click here for recommendations](https://www.planetware.com/south-korea/top-rated-tourist-attractions-in-seoul-kor-1-3.htm)\n",
    "\n",
    "### Ratings & Comments #\n",
    "\n",
    "| Places:       | rating:  | comments:                                                                                                                         |\n",
    "|---------------|----------|-----------------------------------------------------------------------------------------------------------------------------------|\n",
    "| Hongdae       | 10/10    | - so many places to go; one day is definitely not enough - the performances are so entertaining & fun to watch                    |\n",
    "| N Seoul Tower | 8/10     | - the view was amazing at night - however, I wasn't able to go in the tower since it was closed                                   |\n",
    "| Palaces       | 7/10     | - fun experience wearing hanbok in the palace - feel like I am back in the old period - very cold since I was there during winter |\n",
    "| Myeongdong    | 8/10     | - enjoy shopping a lot - wish I bought more things (clothes & skincare) - some skincare salespeople are very persistent           |\n",
    "| Lotte World   | 9/10     | - had so much fun - lines are so long and it was very cold (winter) - did not have enough time to go on every ride                |\n",
    "\n",
    "\n",
    "#### Here is a picture of lotte world: #\n",
    "\n",
    "<img src= \"https://i.ibb.co/SrWQ30v/lotte.jpg\" width = 500>\n",
    "\n"
   ]
  },
  {
   "cell_type": "markdown",
   "metadata": {},
   "source": [
    "# Part 1.2\n",
    "\n",
    "In [blackjack](https://en.wikipedia.org/wiki/Blackjack), players are given two cards from a [standard deck](https://en.wikipedia.org/wiki/Standard_52-card_deck#Composition) of cards and add their values together.  Values are assigned to cards as:\n",
    "- number cards use their own value\n",
    "- Jack, Queen, King cards all have a value of 10\n",
    "- **aces, in this problem will always have a value of 1**\n",
    "\n",
    "Players may then choose to take as many cards as they'd like, one at a time, to increase their hand's sum.  The goal is to produce a value as high as possible without exceeding 21.  When a player's hand sum increases beyond 21 they are said to 'bust' and they lose the game.\n",
    "\n",
    "The key to playing well is knowing when to stop taking cards.  We'll explore this issue by writing a program to have the computer simulate many hands of blackjack and count how often they bust.\n"
   ]
  },
  {
   "cell_type": "markdown",
   "metadata": {},
   "source": [
    "## Part 1.2.1 (10 points)\n",
    "Build a `draw_value()` function which accepts no inputs and returns the value (an integer from 1 to 10) of some card drawn from a standard deck of cards.  `random.choices()`, and its `weights` parameter may be helpful here.  Assume that you draw cards with replacement, so that its possible to draw the same card many times.  \n",
    "\n",
    "(In practice, this isn't far from the truth as real casinos often draw from a pile of cards containing multiple, shuffled decks to mitigate the effectiveness of [card counting](https://en.wikipedia.org/wiki/Card_counting)).\n"
   ]
  },
  {
   "cell_type": "markdown",
   "metadata": {},
   "source": [
    "We won't typically publish the rubrics to students.  However, we make an exception here so you can see how important [documentation, variable naming and style](https://course.ccs.neu.edu/ds2500/python_style.html) is in your grade.\n",
    "\n",
    "rubric:\n",
    "- 2 pt any function created\n",
    "- 2 pt function created which returns a card value\n",
    "- 2 pt function created which returns a card value with proper `weights` param\n",
    "    - scaling `weights` by any reasonable constant acceptable for full credit\n",
    "- 2 pt docstring given in proper format\n",
    "- 2 pt variable names are informative and in proper style\n",
    "\n",
    "TAs are encouraged to give other minor point penalties for other style issues which crop up to nudge students in the proper direction (otherwise students may repeat these bad habits!)\n"
   ]
  },
  {
   "cell_type": "code",
   "execution_count": 1,
   "metadata": {},
   "outputs": [],
   "source": [
    "def draw_value():\n",
    "    \"\"\" show the values of card drawn\n",
    "    \n",
    "    Returns:\n",
    "        value (int) of card drawn\n",
    "        \n",
    "    \"\"\" \n",
    "    # import random library\n",
    "    import random\n",
    "    \n",
    "    # initialize values for A, J, Q, K\n",
    "    J = 10\n",
    "    Q = 10\n",
    "    K = 10\n",
    "    A = 1\n",
    "    \n",
    "    # make a list of the card deck values \n",
    "    # no need for 52 cards because of card replacements\n",
    "    cards = [A, 1, 2, 3, 4, 5, 6, 7, 8, 9, 10, J, Q, K]\n",
    "    \n",
    "    # select a random card\n",
    "    card_value = random.choices(cards, weights = None, k=1)\n",
    "    \n",
    "    # convert item from list to int\n",
    "    for value in card_value:\n",
    "        # return the card value in integer\n",
    "        return int(value)"
   ]
  },
  {
   "cell_type": "code",
   "execution_count": 2,
   "metadata": {},
   "outputs": [
    {
     "data": {
      "text/plain": [
       "5"
      ]
     },
     "execution_count": 2,
     "metadata": {},
     "output_type": "execute_result"
    }
   ],
   "source": [
    "# test case\n",
    "draw_value()"
   ]
  },
  {
   "cell_type": "markdown",
   "metadata": {},
   "source": [
    "## Part 1.2.2 (13 points)\n",
    "Its challenging to test a function which returns a random value, it gives different values by design!  However, the more samples we get from `draw_value()` the closer the fraction of values equal to 10 should be to our expected number of 10s output: 4/13 of the total cards (see also \"Law of Large Numbers\").\n",
    "\n",
    "- Sample 13000 values from `draw_value()`\n",
    "- record how many times you observe each card in a `defaultdict` named `card_count`\n",
    "- print `card_count` and write one sentence in a markdown cell which explains why your results validate that `draw_value()` works\n"
   ]
  },
  {
   "cell_type": "code",
   "execution_count": 3,
   "metadata": {},
   "outputs": [
    {
     "name": "stdout",
     "output_type": "stream",
     "text": [
      "{1: 1812, 2: 961, 3: 963, 4: 889, 5: 942, 6: 902, 7: 960, 8: 933, 9: 915, 10: 3723}\n"
     ]
    }
   ],
   "source": [
    "# import defaultdict\n",
    "from collections import defaultdict\n",
    "\n",
    "# specify the type of dictionary and set to a variable\n",
    "card_count = defaultdict(int)\n",
    "\n",
    "# draw a random card for 13000 times\n",
    "for i in range(13000):\n",
    "    value = draw_value()\n",
    "    \n",
    "    # counting each type of card value in total \n",
    "    # add to dictionary by its respective key\n",
    "    card_count[value] = card_count[value] + 1\n",
    "\n",
    "# sort dictionaries by key\n",
    "sort_card_count = dict(sorted(card_count.items()))\n",
    "\n",
    "# print the dictionary\n",
    "print(sort_card_count)\n"
   ]
  },
  {
   "cell_type": "markdown",
   "metadata": {},
   "source": [
    "### Response: #\n",
    "Draw_value() worked because \"10\" has 4 times more counts than other numbers (from 2 to 9), and the counts for \"1\" has double the number of counts than other numbers (from 2 to 9)."
   ]
  },
  {
   "cell_type": "markdown",
   "metadata": {},
   "source": [
    "## Part 1.2.3 (15 points)\n",
    "\n",
    "One of the big questions facing blackjack players is, \"Given that my hand already has a value of X, what's the probability that the next card will bust my hand?\".  For every starting hand sum from 10 to 21, we'll estimate this probability by simulating how often a hand goes bust among many randomly drawn hands.\n",
    "\n",
    "- initialize `num_bust_per_start` as a defaultdict\n",
    "    - keys are the starting hands from 10 to 21 (including both 10 and 21)\n",
    "    - values (initially) count how many hands went bust (defaults to 0)\n",
    "    - e.g. `num_bust_per_start = {19: 100, 15: 42}` indicates that, among all the simulations:\n",
    "        - 100 hands starting at 19 went bust\n",
    "        - 42 hands starting at 15 went bust\n",
    "- for every `start_hand` from 10 to 21:\n",
    "    - draw a single card via `draw_value()`\n",
    "    - record the hand as a bust if the `start_hand` + `card_val` exceeds 21\n",
    "    - repeat the above two steps so that you simulate 10,000 draws\n",
    "        - 10,000 draws starting from 10\n",
    "        - 10,000 draws starting from 11 \n",
    "        - ... \n"
   ]
  },
  {
   "cell_type": "code",
   "execution_count": 4,
   "metadata": {},
   "outputs": [],
   "source": [
    "def probability_bust():\n",
    "    \"\"\" show the probabilty of bust for each type of starting value\n",
    "\n",
    "    Returns:\n",
    "        num_bust_per_start (dictionary):\n",
    "            probabilities to their respective keys\n",
    "            \n",
    "    \"\"\"\n",
    "    # import defaultdict\n",
    "    from collections import defaultdict\n",
    "    \n",
    "    # initialize num_bust_per_start as defaultdict\n",
    "    num_bust_per_start = defaultdict(int)\n",
    "    \n",
    "    # for loop\n",
    "    for start_hand in range(10,22):\n",
    "        \n",
    "        # initialize bust count as 0\n",
    "        bust_count = 0\n",
    "        \n",
    "        # draw cards for 10000 times\n",
    "        for turn in range(10000):\n",
    "            card_val = draw_value()\n",
    "            \n",
    "            # if value exceeds 21, add times it bust to previous amount\n",
    "            # add it to the dictionary with their respective keys\n",
    "            if start_hand + card_val > 21:\n",
    "                bust_count = bust_count + 1\n",
    "                num_bust_per_start[start_hand] = bust_count\n",
    "            \n",
    "            # if value is less than or equal to 21 \n",
    "            # bust_count will remain as original (0) and add to dictionary\n",
    "            elif start_hand + card_val <= 21:\n",
    "                bust_count = bust_count\n",
    "                num_bust_per_start[start_hand] = bust_count\n",
    "    \n",
    "    # return the dictionary\n",
    "    return num_bust_per_start            "
   ]
  },
  {
   "cell_type": "code",
   "execution_count": 5,
   "metadata": {},
   "outputs": [
    {
     "data": {
      "text/plain": [
       "defaultdict(int,\n",
       "            {10: 0,\n",
       "             11: 0,\n",
       "             12: 2910,\n",
       "             13: 3629,\n",
       "             14: 4245,\n",
       "             15: 5020,\n",
       "             16: 5702,\n",
       "             17: 6463,\n",
       "             18: 7248,\n",
       "             19: 7844,\n",
       "             20: 8581,\n",
       "             21: 10000})"
      ]
     },
     "execution_count": 5,
     "metadata": {},
     "output_type": "execute_result"
    }
   ],
   "source": [
    "# test case\n",
    "probability_bust()"
   ]
  },
  {
   "cell_type": "markdown",
   "metadata": {},
   "source": [
    "## Part 1.2.4 (10 points)\n",
    "\n",
    "Let's synthesize the results of part 1.2.3 immediately above by estimating the probability of going bust choosing to take 1 more card from every starting hand from 10 to 21\n",
    "\n",
    "- make a new dictionary `prob_bust_given_start` whose keys are values 10 to 21 and values are probability estimates of going bust which correspond to `num_bust_per_start`\n",
    "    - for example, if 7000 of the 10,000 draws starting from 15 went bust, the prob estimate of busting from 15 is .7\n",
    "    \n",
    "- print `prob_bust_given_start` so it may be observed\n",
    "    - (optional: try using [\"pretty print\"](https://docs.python.org/3/library/pprint.html) to sort the output dictionary.  `from pprint import pprint` and then `pprint(prob_bust_given_tart)` on another line)\n",
    "\n",
    "- A player wants to continue to add cards to their hand as long as the chance of going bust is no more than 50%.  What would you analysis suggest they do?  Write a one or two sentence response which is easily understood by everyone.\n"
   ]
  },
  {
   "cell_type": "code",
   "execution_count": 6,
   "metadata": {},
   "outputs": [
    {
     "name": "stdout",
     "output_type": "stream",
     "text": [
      "{10: 0.0,\n",
      " 11: 0.0,\n",
      " 12: 0.27,\n",
      " 13: 0.36,\n",
      " 14: 0.43,\n",
      " 15: 0.5,\n",
      " 16: 0.57,\n",
      " 17: 0.64,\n",
      " 18: 0.71,\n",
      " 19: 0.79,\n",
      " 20: 0.85,\n",
      " 21: 1.0}\n"
     ]
    }
   ],
   "source": [
    "# import pprint\n",
    "from pprint import pprint\n",
    "\n",
    "# create a new dictionary & initalize the num of draws\n",
    "prob_bust_given_start = {}\n",
    "draws = 10000\n",
    "\n",
    "# set proobability_bust() to a variable\n",
    "bust_deck = probability_bust()\n",
    "\n",
    "# find the probability (round to 2) of bust for each item in dictionary\n",
    "for key, val in bust_deck.items():\n",
    "    probability = val/draws\n",
    "    prob_bust_given_start[key] = (round(probability, 2))\n",
    "\n",
    "# print the dictionary\n",
    "pprint(prob_bust_given_start)"
   ]
  },
  {
   "cell_type": "markdown",
   "metadata": {},
   "source": [
    "### Response: #\n",
    "Although the probability of busting is less than 50%, there is a 50% (at most) chance that the next chosen card will bust. Every time a player draw an additional card, there is an increase of 7%-8% probability that the deck would bust. "
   ]
  },
  {
   "cell_type": "markdown",
   "metadata": {},
   "source": [
    "# Triple-or-nothing\n",
    "Triple-or-nothing is a game where a `jar` is initially set up with 1 coin and placed between two opposing players.  In each round:\n",
    "- both players bet some fraction, `frac`\n",
    "    - neither player knows the other's `frac` before choosing their own\n",
    "    - fractions must be between 0 and 1 (including 0 and 1)\n",
    "- coins are distributed to the players as:\n",
    "    1. the player with the smaller $^1$ `frac` takes that fraction$^2$ of coins from the jar and places them in their `purse`\n",
    "    1. the player with the larger$^1$ `frac` takes that fraction$^2$ of coins from the **remaining** jar and places them in their `purse`\n",
    "    1. the \"bank\" (an infinite supply of coins) triples the value of the jar (fractional coins allowed)\n",
    "    1. If the jar has no coins in it or the players have already played 10 rounds, the game ends\n",
    "    \n",
    "Each player seeks to earn as many coins as possible.\n",
    "\n",
    "Footnote 1: You may assume the players do not write the same value down.  (see also: extra credit below)\n",
    "\n",
    "Footnote 2: In the event the jar is emptied, the game ends\n"
   ]
  },
  {
   "cell_type": "markdown",
   "metadata": {},
   "source": [
    "# Part 1.3 (16+2 pts autograder, 19 pts)\n",
    "\n",
    "Complete the `update_round()` function below, which updates a round of triple-or-nothing as described above.  Your function should pass all the given assert statements below.\n",
    "\n",
    "For (+2 pts) extra credit, revise your `update_round()` to support the case when players give the same `frac`.  In this event, the total number of coins taken out of the jar if the players went (in any order) is: \n",
    "\n",
    "    frac * jar + frac * (1 - frac) * jar = (2 - frac) * frac * jar\n",
    "\n",
    "and it is split evenly between the players.\n",
    "\n",
    "#### Hints:\n",
    "- Study the docstring and testcases of `update_round()` before building it, make sure you understand why the test cases use the values they do\n",
    "- Notice that `update_round()` does not know anything baout round indices, game stopping conditions etc\n"
   ]
  },
  {
   "cell_type": "code",
   "execution_count": 7,
   "metadata": {},
   "outputs": [],
   "source": [
    "def update_round(jar, frac0, frac1):\n",
    "    \"\"\" runs a round of Triple-or-nothing\n",
    "    \n",
    "    Args:\n",
    "        jar (float): number of coins in the jar at round start\n",
    "        frac0 (float): player0's fraction bet\n",
    "        frac1 (float): player1's fraction bet\n",
    "            \n",
    "    Returns:\n",
    "        jar (float): number of coins in the jar at end of round\n",
    "        new_coin0 (float): number of coins player0 has earned\n",
    "            in this round\n",
    "        new_coin1 (float): number of coins player1 has earned\n",
    "            in this round\n",
    "    \"\"\"\n",
    "    # player w/ the smallest frac his fraction of the coin from \n",
    "    # the jar first and other player will take his fraction of \n",
    "    # the remaining coin\n",
    "    if frac0 > frac1:\n",
    "        new_coin1 = (frac1 * jar)\n",
    "        \n",
    "        # calculate remaining coin\n",
    "        jar = jar - new_coin1\n",
    "        new_coin0 = (frac0 * jar)\n",
    "        \n",
    "        # calculate remaining coin\n",
    "        jar = jar - new_coin0\n",
    "    \n",
    "    elif frac0 < frac1:\n",
    "        new_coin0 = (frac0 * jar)\n",
    "        \n",
    "        # calculate remaining coin\n",
    "        jar = jar - new_coin0\n",
    "        new_coin1 = (frac1 * jar)\n",
    "        \n",
    "        # calculate remaining coin\n",
    "        jar = jar - new_coin1\n",
    "    \n",
    "    # after each turn, jar triples\n",
    "    jar = jar*3\n",
    "     \n",
    "    \n",
    "    # check to ensure frac0 and frac1 are distinct\n",
    "    # (discard this line if you begin work on extra credit)\n",
    "    assert frac0 != frac1, 'invalid input, frac0 == frac1'\n",
    "    \n",
    "    # check that both fraction inputs are valid\n",
    "    assert 0 <= frac0 <= 1, 'invalid input: frac0'\n",
    "    assert 0 <= frac1 <= 1, 'invalid input: frac1'\n",
    "    \n",
    "    # return the result\n",
    "    return jar, new_coin0, new_coin1\n",
    "        \n",
    "    \n",
    "   "
   ]
  },
  {
   "cell_type": "code",
   "execution_count": 8,
   "metadata": {},
   "outputs": [],
   "source": [
    "assert update_round(jar=10, frac0=.1, frac1=0) == (27, 1, 0), '(2 pts)'\n",
    "assert update_round(jar=10, frac0=.5, frac1=.2) == (12, 4, 2), '(2 pts)'\n",
    "assert update_round(jar=10, frac0=1, frac1=.5) == (0, 5, 5), '(2 pts)'\n",
    "assert update_round(jar=10, frac1=.9, frac0=1) == (0, 1, 9), '(2 pts)'\n",
    "\n",
    "# swap frac0 / frac1 and new_coin0 / new_coin1 from previous 4 test cases\n",
    "assert update_round(jar=10, frac1=.1, frac0=0) == (27, 0, 1), '(2 pts)'\n",
    "assert update_round(jar=10, frac1=.5, frac0=.2) == (12, 2, 4), '(2 pts)'\n",
    "assert update_round(jar=10, frac1=1, frac0=.5) == (0, 5, 5), '(2 pts)'\n",
    "assert update_round(jar=10, frac1=1, frac0=.9) == (0, 9, 1), '(2 pts)'\n",
    "\n",
    "# # extra credit test cases\n",
    "# assert update_round(jar=10, frac0=1, frac1=1) == (0, 5, 5), '(1 pt)'\n",
    "# assert update_round(jar=20, frac0=.5, frac1=.5) == (15, 7.5, 7.5), , '(1 pt)'\n"
   ]
  },
  {
   "cell_type": "markdown",
   "metadata": {},
   "source": [
    "## Extra Credit (up to +4 points)\n",
    "\n",
    "Program your own triple-or-nothing player.  Your new function must use the same inputs, outputs and name (`triple_nothing_player()`) as the function below for credit to be awarded.\n",
    "\n",
    "- You needn't use all inputs provided, they're provided to help you build a player which is \"smarter\" or more fun\n",
    "- You may, if you choose, call a working version of `update_round()` as defined above\n",
    "- Do not `import` any other packages in building your `triple_nothing_player()` \n",
    "\n",
    "All student submissions will play one game against every other student submission.  The winner is the function with the largest coin total at the end of all games.\n",
    "\n",
    "While technically, this is a competition, you're welcome to submit strategies which behave in funny ways without the intention of winning.  I'm hopeful that the data of all these games will be interesting to look at, if so we'll be seeing it again in DS2500.  To help identify which strategy is yours in the dataset, please output a unique (within the class) `name` to your strategy.  \n",
    "\n",
    "All Extra Credit will be awarded based on the creativity, implementation and documentation of the submission. \n"
   ]
  },
  {
   "cell_type": "code",
   "execution_count": 9,
   "metadata": {},
   "outputs": [],
   "source": [
    "# set below to True if you wish to submit your extra credit\n",
    "extra_credit_attempted = False\n"
   ]
  },
  {
   "cell_type": "code",
   "execution_count": 10,
   "metadata": {},
   "outputs": [],
   "source": [
    "def triple_nothing_player(jar, round_idx, frac_hist_opp, frac_hist_self):\n",
    "    \"\"\" produces a fraction in a game of triple or nothing\n",
    "    \n",
    "    frac_hist objects are lists of previous fraction history in\n",
    "    the game.  For example, frac_hist = [0, .01, .2] indicates\n",
    "    a player had fraction 0 in the first round, .01 in the second\n",
    "    and .2 in the third\n",
    "    \n",
    "    Args:\n",
    "        jar (float): value of the jar in current round\n",
    "        round_idx (int): current round index (0 for\n",
    "            first round, 9 for final round)\n",
    "        frac_hist_opp (list): a history of all fractions input\n",
    "            by opposing player\n",
    "        frac_hist_self (list): a history of all fractions input \n",
    "            by self\n",
    "            \n",
    "    Returns:\n",
    "        frac (float): fraction for current round\n",
    "        name (str): a unique name given to your strategy\n",
    "    \"\"\"\n"
   ]
  }
 ],
 "metadata": {
  "kernelspec": {
   "display_name": "Python 3 (ipykernel)",
   "language": "python",
   "name": "python3"
  },
  "language_info": {
   "codemirror_mode": {
    "name": "ipython",
    "version": 3
   },
   "file_extension": ".py",
   "mimetype": "text/x-python",
   "name": "python",
   "nbconvert_exporter": "python",
   "pygments_lexer": "ipython3",
   "version": "3.9.7"
  }
 },
 "nbformat": 4,
 "nbformat_minor": 4
}
