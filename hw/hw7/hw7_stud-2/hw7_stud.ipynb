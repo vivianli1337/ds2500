{
 "cells": [
  {
   "cell_type": "markdown",
   "metadata": {},
   "source": [
    "# DS 2500 HW 7\n",
    "\n",
    "Due: Mon Apr 03 @ 11:59PM\n",
    "\n",
    "### Submission Instructions\n",
    "Please submit both of the following to the corresponding [gradescope](https://www.gradescope.com/courses/478298) assignment:\n",
    "- this `.ipynb` file\n",
    "     -  <span style=\"color:red\">give a fresh Kernel > Restart & Run All just before uploading</span>\n",
    "         - there is no autograder for hw7, so this step is extra important here!\n",
    "\n",
    "- a `.py` file consistent with your `.ipynb`\n",
    "    - `File > Download as ...`\n",
    "\n",
    "### Tips for success\n",
    "- Start early\n",
    "- Make use of [Piazza](https://course.ccs.neu.edu/ds2500/admin_piazza.html)\n",
    "- Make use of [Office Hours](https://course.ccs.neu.edu/ds2500/office_hours.html)\n",
    "- Remember that [Documentation / style counts for credit](https://course.ccs.neu.edu/ds2500/python_style.html)\n",
    "- [No student may view or share their ungraded homework with another](https://course.ccs.neu.edu/ds2500/syllabus.html#academic-integrity-and-conduct)\n",
    "\n",
    "| part                                        |       | ex cred   |   part total |\n",
    "|:--------------------------------------------|:------|:----------|-------------:|\n",
    "| Part 1: `BayesNetwork.add_prior_node`       | 20.0  |           |           20 |\n",
    "| Part 2: `BayesNetwork.add_conditional_node` | 25.0  |           |           25 |\n",
    "| Part 3: `BayesNet.get_prob`                 | 20.0  |           |           20 |\n",
    "| Part 4: `BayesNet.get_conditional_prob`     | 15.0  |           |           15 |\n",
    "| Part 5: Gardening                           | 15.0  |           |           15 |\n",
    "| Part 6: Memory Analysis                     | 5.0   |           |            5 |\n",
    "| Part 7: Build-your-own                      |       | 4.0       |            4 |\n",
    "| total                                       | 100.0 | 4.0       |          104 |"
   ]
  },
  {
   "cell_type": "markdown",
   "metadata": {},
   "source": [
    "# Suggestions:\n",
    "\n",
    "- only modify the code in the cell immediately below\n",
    "    - modifying the tests can alter the intended behavior of the test\n",
    "- test your code by giving a fresh restart & run for each run\n",
    "    - the tests are built to be run in the given sequence, running a code cell twice \n",
    "    \n",
    "# Hints:\n",
    "\n",
    "- this `BayesNetwork` class operates just like the \"manual spreadsheet\" computation shown in class.  Before diving into the syntax and programming challenge of building it be sure you're comfortable with the mathematics and \"manual\" computation method shown in class first.\n",
    "- [hw7_hint](hw7_hint.ipynb) has a few constructions which could be useful   \n"
   ]
  },
  {
   "cell_type": "code",
   "execution_count": 1,
   "metadata": {},
   "outputs": [],
   "source": [
    "from copy import copy\n",
    "\n",
    "import pandas as pd\n",
    "\n",
    "\n",
    "class BayesNetwork:\n",
    "    \"\"\" Bayes Net, computes full joint table\n",
    "\n",
    "    Attributes:\n",
    "        df_joint (pd.DataFrame): a column per random variable plus another col\n",
    "            for probability.  each row contains the outcomes of the\n",
    "            corresponding random variable or the joint prob of entire row\n",
    "    \"\"\"\n",
    "\n",
    "    def __init__(self):\n",
    "        # note: we specify type of prob as float with 1.0 below\n",
    "        self.df_joint = pd.DataFrame({'prob': [1.0]})\n",
    "\n",
    "    def add_prior_node(self, rv_name, prob_dist):\n",
    "        \"\"\" adds a nodes to joint distribution table\n",
    "\n",
    "        Args:\n",
    "            rv_name (str): name of random variable (must be unique in df_joint)\n",
    "            prob_dist (dict): keys are outcomes of random variable, values are\n",
    "                probability of each\n",
    "        \"\"\"\n",
    "        assert rv_name not in self.df_joint.columns, \\\n",
    "            f'non-unique node: {rv_name}'\n",
    "        \n",
    "        \n",
    "        # make a list of dictionaries (each will be a new col)\n",
    "        col_list = []\n",
    "        \n",
    "        # iterate over each row\n",
    "        for idx, row in self.df_joint.iterrows():\n",
    "            \n",
    "            # copy the original row\n",
    "            copy_row = copy(row)\n",
    "            \n",
    "            # find the specific row\n",
    "            old_prob = copy_row['prob']\n",
    "            \n",
    "            # for each variable, update the prob\n",
    "            for key, val in prob_dist.items():\n",
    "                new_col = {'prob': old_prob * val,\n",
    "                        rv_name: key}\n",
    "                # add it to the list\n",
    "                col_list.append(new_col)\n",
    "        \n",
    "        # create the table with the additional new col\n",
    "        self.df_joint = pd.DataFrame(col_list)\n",
    "        \n",
    "    def add_conditional_node(self, cond_dist):\n",
    "        \"\"\" adds a nodes to joint distribution table\n",
    "\n",
    "        Args:\n",
    "            cond_dist (ConditionalProb): a conditional probability of some new\n",
    "                random variable.  (conditioned on random variables already in\n",
    "                df_joint)\n",
    "        \"\"\"\n",
    "        # check that all conditioned variables are in joint already\n",
    "        assert set(cond_dist.condition_list).issubset(self.df_joint.columns), \\\n",
    "            f'condition rvs not in joint table: {cond_dist.condition_list}'\n",
    "        \n",
    "        # check that target variable is not in joint already\n",
    "        assert cond_dist.target not in self.df_joint.columns, \\\n",
    "            f'random variable already in network: {cond_dist.target}'\n",
    "    \n",
    "        # create a new list \n",
    "        row_list = []\n",
    "        \n",
    "        # iterate through each row\n",
    "        for _, row in self.df_joint.iterrows():\n",
    "            \n",
    "            # find the variables through a for-loop\n",
    "            for col_name in cond_dist.condition_list:\n",
    "                # find the key (variables) in con_prob_dict using cond_dist.condition_list\n",
    "                # matching the element in condition_list and find the associated value & store it in a tuple  \n",
    "                c_key = [row[col_name] for col_name in cond_dist.condition_list]\n",
    "                c_key = tuple(c_key)\n",
    "                \n",
    "                # find the other variables aka values of the c_key in con_prob_dict\n",
    "                val_dict = cond_dist.cond_prob_dict[c_key]\n",
    "            \n",
    "            # for each variable, update the prob \n",
    "            for key, val in val_dict.items():\n",
    "                # copy and modify the new copied row\n",
    "                new_row = copy(row)\n",
    "                # calculate prob\n",
    "                new_row['prob'] = new_row['prob'] * val\n",
    "                new_row[cond_dist.target] = key\n",
    "                # add it to the list\n",
    "                row_list.append(new_row)\n",
    "                \n",
    "        # create the table with the additional new col\n",
    "        self.df_joint = pd.DataFrame(row_list)\n",
    "        \n",
    "        \n",
    "\n",
    "    def get_prob(self, state):\n",
    "        \"\"\" sums all rows which satisfy state (marginalization)\n",
    "\n",
    "        Args:\n",
    "            state (dict): keys are random variable, values are corresponding\n",
    "                outcomes\n",
    "                \n",
    "        Returns:\n",
    "            prob (float): probability of the given state\n",
    "        \"\"\"\n",
    "        \n",
    "        # initialize prob\n",
    "        s_prob = 0\n",
    "        \n",
    "        # iterate through each row\n",
    "        for _, row in self.df_joint.iterrows():\n",
    "            # check to see if state is in each row\n",
    "            if set(state.items()).issubset(row.items()):\n",
    "                    # add prob if state is in each row\n",
    "                    s_prob += row['prob']\n",
    "\n",
    "        return s_prob   \n",
    "        \n",
    "    def get_conditional_prob(self, state, condition):\n",
    "        \"\"\" computes conditional probability of state given condition:\n",
    "\n",
    "        P(ABC|XYZ) = P(ABCXYZ) / P(XYZ)\n",
    "\n",
    "        above ABC are state variables while XYZ are conditional variables\n",
    "\n",
    "        Args:\n",
    "            state (dict): keys are random variable, values are corresponding\n",
    "                outcomes\n",
    "            condition (dict): keys are random variable, values are\n",
    "                corresponding outcomes\n",
    "                \n",
    "        Returns:\n",
    "            prob (float): probability of the given state given condition\n",
    "        \"\"\"\n",
    "        # check that no variable is in state & conditional\n",
    "        rv_double = set(state.keys()).intersection(condition.keys())\n",
    "        assert not rv_double, \\\n",
    "            f'same random variable before & after conditional: {rv_double}'\n",
    "        \n",
    "        # create a new dict of both state and condition & update\n",
    "        state_condition = dict(state)\n",
    "        state_condition.update(condition)\n",
    "        \n",
    "        # get numerator\n",
    "        num = self.get_prob(state_condition)\n",
    "        # get denominator\n",
    "        den = self.get_prob(condition)\n",
    "        \n",
    "        # calculate the conditional prob\n",
    "        prob = num/den\n",
    "\n",
    "        return prob   "
   ]
  },
  {
   "cell_type": "markdown",
   "metadata": {},
   "source": [
    "# Part 1: `BayesNetwork.add_prior_node` (20 points)\n",
    "\n",
    "We validate whether the nodes have been added properly by constructing a known example: \n",
    "\n",
    "<img src=\"https://miro.medium.com/max/640/1*9OsQV0PqM2juaOtGqoRISw.jpeg\" width=500>\n",
    "\n",
    "and comparing output `bayes_net.df_joint` to expected dataframes, which are stored in the [expected_csv](expected_csv) folder."
   ]
  },
  {
   "cell_type": "code",
   "execution_count": 2,
   "metadata": {
    "scrolled": true
   },
   "outputs": [
    {
     "data": {
      "text/html": [
       "<div>\n",
       "<style scoped>\n",
       "    .dataframe tbody tr th:only-of-type {\n",
       "        vertical-align: middle;\n",
       "    }\n",
       "\n",
       "    .dataframe tbody tr th {\n",
       "        vertical-align: top;\n",
       "    }\n",
       "\n",
       "    .dataframe thead th {\n",
       "        text-align: right;\n",
       "    }\n",
       "</style>\n",
       "<table border=\"1\" class=\"dataframe\">\n",
       "  <thead>\n",
       "    <tr style=\"text-align: right;\">\n",
       "      <th></th>\n",
       "      <th>prob</th>\n",
       "      <th>Cloudy</th>\n",
       "    </tr>\n",
       "  </thead>\n",
       "  <tbody>\n",
       "    <tr>\n",
       "      <th>0</th>\n",
       "      <td>0.5</td>\n",
       "      <td>c0</td>\n",
       "    </tr>\n",
       "    <tr>\n",
       "      <th>1</th>\n",
       "      <td>0.5</td>\n",
       "      <td>c1</td>\n",
       "    </tr>\n",
       "  </tbody>\n",
       "</table>\n",
       "</div>"
      ],
      "text/plain": [
       "   prob Cloudy\n",
       "0   0.5     c0\n",
       "1   0.5     c1"
      ]
     },
     "execution_count": 2,
     "metadata": {},
     "output_type": "execute_result"
    }
   ],
   "source": [
    "# write the prob into the clouds & compute them\n",
    "\n",
    "# for example, after adding the cloudy node to the network, bayes_net.df_joint should look as below:\n",
    "df_expected = pd.read_csv('expected_csv/prob_cloudy.csv', index_col=False)\n",
    "df_expected"
   ]
  },
  {
   "cell_type": "code",
   "execution_count": 3,
   "metadata": {
    "scrolled": true
   },
   "outputs": [
    {
     "data": {
      "text/html": [
       "<div>\n",
       "<style scoped>\n",
       "    .dataframe tbody tr th:only-of-type {\n",
       "        vertical-align: middle;\n",
       "    }\n",
       "\n",
       "    .dataframe tbody tr th {\n",
       "        vertical-align: top;\n",
       "    }\n",
       "\n",
       "    .dataframe thead th {\n",
       "        text-align: right;\n",
       "    }\n",
       "</style>\n",
       "<table border=\"1\" class=\"dataframe\">\n",
       "  <thead>\n",
       "    <tr style=\"text-align: right;\">\n",
       "      <th></th>\n",
       "      <th>prob</th>\n",
       "      <th>Cloudy</th>\n",
       "    </tr>\n",
       "  </thead>\n",
       "  <tbody>\n",
       "    <tr>\n",
       "      <th>0</th>\n",
       "      <td>0.5</td>\n",
       "      <td>c0</td>\n",
       "    </tr>\n",
       "    <tr>\n",
       "      <th>1</th>\n",
       "      <td>0.5</td>\n",
       "      <td>c1</td>\n",
       "    </tr>\n",
       "  </tbody>\n",
       "</table>\n",
       "</div>"
      ],
      "text/plain": [
       "   prob Cloudy\n",
       "0   0.5     c0\n",
       "1   0.5     c1"
      ]
     },
     "execution_count": 3,
     "metadata": {},
     "output_type": "execute_result"
    }
   ],
   "source": [
    "# build bayes net with cloudy node\n",
    "bayes_net = BayesNetwork()\n",
    "bayes_net.add_prior_node('Cloudy', prob_dist={'c0': .5, 'c1': .5})\n",
    "\n",
    "# manually check output dataframe (just this first time, to see how to debug below)\n",
    "bayes_net.df_joint"
   ]
  },
  {
   "cell_type": "code",
   "execution_count": 4,
   "metadata": {},
   "outputs": [],
   "source": [
    "from df_compare import assert_df_equal_no_idx\n",
    "\n",
    "# automatically compare expected to actual dataframe\n",
    "# (it ends up being somewhat challenging to do given that we \n",
    "# can shuffle order of cols or rows while the two are still\n",
    "# equivilent, for our purposes ... see df_compare.py for details,\n",
    "# but it isn't necessary to complete the assignment)\n",
    "assert_df_equal_no_idx(bayes_net.df_joint, df_expected)"
   ]
  },
  {
   "cell_type": "markdown",
   "metadata": {},
   "source": [
    "# Part 2: `BayesNetwork.add_conditional_node` (25 points)\n",
    "\n",
    "Hint:\n",
    "- Inspect and study the given output DataFrames via their [expected_csv](expected_csv) before implementing!"
   ]
  },
  {
   "cell_type": "code",
   "execution_count": 5,
   "metadata": {
    "scrolled": true
   },
   "outputs": [],
   "source": [
    "from conditional import ConditionalProb\n",
    "\n",
    "# add rain conditional prob\n",
    "cond_prob_rain = \\\n",
    "    ConditionalProb(target='Rain',\n",
    "                    condition_list=['Cloudy'],\n",
    "                    cond_prob_dict={('c1',): {'r1': .8, 'r0': .2},\n",
    "                                    ('c0',): {'r1': .2, 'r0': .8}})\n",
    "bayes_net.add_conditional_node(cond_prob_rain)\n",
    "\n",
    "# check that rain conditional prob was added properly\n",
    "df_joint_expected = pd.read_csv('expected_csv/prob_cloudy_rain.csv', index_col=False)\n",
    "assert_df_equal_no_idx(df_joint_expected, bayes_net.df_joint)"
   ]
  },
  {
   "cell_type": "code",
   "execution_count": 6,
   "metadata": {},
   "outputs": [
    {
     "data": {
      "text/html": [
       "<div>\n",
       "<style scoped>\n",
       "    .dataframe tbody tr th:only-of-type {\n",
       "        vertical-align: middle;\n",
       "    }\n",
       "\n",
       "    .dataframe tbody tr th {\n",
       "        vertical-align: top;\n",
       "    }\n",
       "\n",
       "    .dataframe thead th {\n",
       "        text-align: right;\n",
       "    }\n",
       "</style>\n",
       "<table border=\"1\" class=\"dataframe\">\n",
       "  <thead>\n",
       "    <tr style=\"text-align: right;\">\n",
       "      <th></th>\n",
       "      <th>prob</th>\n",
       "      <th>Cloudy</th>\n",
       "      <th>Rain</th>\n",
       "    </tr>\n",
       "  </thead>\n",
       "  <tbody>\n",
       "    <tr>\n",
       "      <th>0</th>\n",
       "      <td>0.1</td>\n",
       "      <td>c0</td>\n",
       "      <td>r1</td>\n",
       "    </tr>\n",
       "    <tr>\n",
       "      <th>1</th>\n",
       "      <td>0.4</td>\n",
       "      <td>c0</td>\n",
       "      <td>r0</td>\n",
       "    </tr>\n",
       "    <tr>\n",
       "      <th>2</th>\n",
       "      <td>0.4</td>\n",
       "      <td>c1</td>\n",
       "      <td>r1</td>\n",
       "    </tr>\n",
       "    <tr>\n",
       "      <th>3</th>\n",
       "      <td>0.1</td>\n",
       "      <td>c1</td>\n",
       "      <td>r0</td>\n",
       "    </tr>\n",
       "  </tbody>\n",
       "</table>\n",
       "</div>"
      ],
      "text/plain": [
       "   prob Cloudy Rain\n",
       "0   0.1     c0   r1\n",
       "1   0.4     c0   r0\n",
       "2   0.4     c1   r1\n",
       "3   0.1     c1   r0"
      ]
     },
     "execution_count": 6,
     "metadata": {},
     "output_type": "execute_result"
    }
   ],
   "source": [
    "df_joint_expected"
   ]
  },
  {
   "cell_type": "code",
   "execution_count": 7,
   "metadata": {},
   "outputs": [],
   "source": [
    "# add sprinkler conditional prob\n",
    "cond_prob_sprinkler = \\\n",
    "    ConditionalProb(target='Sprinkler',\n",
    "                    condition_list=['Cloudy'],\n",
    "           \n",
    "                    cond_prob_dict={('c1',): {'s1': .1, 's0': .9},\n",
    "                                    ('c0',): {'s1': .5, 's0': .5}})\n",
    "bayes_net.add_conditional_node(cond_prob_sprinkler)\n",
    "\n",
    "# check that sprinkler conditional prob was added properly\n",
    "df_joint_expected = pd.read_csv('expected_csv/prob_cloudy_rain_sprinkler.csv', index_col=False)\n",
    "assert_df_equal_no_idx(df_joint_expected, bayes_net.df_joint)"
   ]
  },
  {
   "cell_type": "code",
   "execution_count": 8,
   "metadata": {},
   "outputs": [
    {
     "data": {
      "text/html": [
       "<div>\n",
       "<style scoped>\n",
       "    .dataframe tbody tr th:only-of-type {\n",
       "        vertical-align: middle;\n",
       "    }\n",
       "\n",
       "    .dataframe tbody tr th {\n",
       "        vertical-align: top;\n",
       "    }\n",
       "\n",
       "    .dataframe thead th {\n",
       "        text-align: right;\n",
       "    }\n",
       "</style>\n",
       "<table border=\"1\" class=\"dataframe\">\n",
       "  <thead>\n",
       "    <tr style=\"text-align: right;\">\n",
       "      <th></th>\n",
       "      <th>prob</th>\n",
       "      <th>Cloudy</th>\n",
       "      <th>Rain</th>\n",
       "      <th>Sprinkler</th>\n",
       "    </tr>\n",
       "  </thead>\n",
       "  <tbody>\n",
       "    <tr>\n",
       "      <th>0</th>\n",
       "      <td>0.05</td>\n",
       "      <td>c0</td>\n",
       "      <td>r1</td>\n",
       "      <td>s1</td>\n",
       "    </tr>\n",
       "    <tr>\n",
       "      <th>1</th>\n",
       "      <td>0.05</td>\n",
       "      <td>c0</td>\n",
       "      <td>r1</td>\n",
       "      <td>s0</td>\n",
       "    </tr>\n",
       "    <tr>\n",
       "      <th>2</th>\n",
       "      <td>0.20</td>\n",
       "      <td>c0</td>\n",
       "      <td>r0</td>\n",
       "      <td>s1</td>\n",
       "    </tr>\n",
       "    <tr>\n",
       "      <th>3</th>\n",
       "      <td>0.20</td>\n",
       "      <td>c0</td>\n",
       "      <td>r0</td>\n",
       "      <td>s0</td>\n",
       "    </tr>\n",
       "    <tr>\n",
       "      <th>4</th>\n",
       "      <td>0.04</td>\n",
       "      <td>c1</td>\n",
       "      <td>r1</td>\n",
       "      <td>s1</td>\n",
       "    </tr>\n",
       "    <tr>\n",
       "      <th>5</th>\n",
       "      <td>0.36</td>\n",
       "      <td>c1</td>\n",
       "      <td>r1</td>\n",
       "      <td>s0</td>\n",
       "    </tr>\n",
       "    <tr>\n",
       "      <th>6</th>\n",
       "      <td>0.01</td>\n",
       "      <td>c1</td>\n",
       "      <td>r0</td>\n",
       "      <td>s1</td>\n",
       "    </tr>\n",
       "    <tr>\n",
       "      <th>7</th>\n",
       "      <td>0.09</td>\n",
       "      <td>c1</td>\n",
       "      <td>r0</td>\n",
       "      <td>s0</td>\n",
       "    </tr>\n",
       "  </tbody>\n",
       "</table>\n",
       "</div>"
      ],
      "text/plain": [
       "   prob Cloudy Rain Sprinkler\n",
       "0  0.05     c0   r1        s1\n",
       "1  0.05     c0   r1        s0\n",
       "2  0.20     c0   r0        s1\n",
       "3  0.20     c0   r0        s0\n",
       "4  0.04     c1   r1        s1\n",
       "5  0.36     c1   r1        s0\n",
       "6  0.01     c1   r0        s1\n",
       "7  0.09     c1   r0        s0"
      ]
     },
     "execution_count": 8,
     "metadata": {},
     "output_type": "execute_result"
    }
   ],
   "source": [
    "df_joint_expected"
   ]
  },
  {
   "cell_type": "code",
   "execution_count": 9,
   "metadata": {},
   "outputs": [],
   "source": [
    "# add wet grass conditional prob\n",
    "cond_prob_grass_wet = \\\n",
    "    ConditionalProb(target='WetGrass',\n",
    "                    condition_list=['Rain', 'Sprinkler'],\n",
    "                    cond_prob_dict={('r1', 's1'): {'w1': .99, 'w0': .01},\n",
    "                                    ('r0', 's1'): {'w1': 0.9, 'w0': .1},\n",
    "                                    ('r1', 's0'): {'w1': 0.9, 'w0': .1},\n",
    "                                    ('r0', 's0'): {'w1': 0.0, 'w0': 1}})\n",
    "bayes_net.add_conditional_node(cond_prob_grass_wet)\n",
    "\n",
    "# check that wet grass conditional prob was added properly\n",
    "df_joint_expected = pd.read_csv('expected_csv/prob_cloudy_rain_sprinkler_grass.csv', index_col=False)\n",
    "assert_df_equal_no_idx(df_joint_expected, bayes_net.df_joint)"
   ]
  },
  {
   "cell_type": "code",
   "execution_count": 10,
   "metadata": {},
   "outputs": [
    {
     "data": {
      "text/html": [
       "<div>\n",
       "<style scoped>\n",
       "    .dataframe tbody tr th:only-of-type {\n",
       "        vertical-align: middle;\n",
       "    }\n",
       "\n",
       "    .dataframe tbody tr th {\n",
       "        vertical-align: top;\n",
       "    }\n",
       "\n",
       "    .dataframe thead th {\n",
       "        text-align: right;\n",
       "    }\n",
       "</style>\n",
       "<table border=\"1\" class=\"dataframe\">\n",
       "  <thead>\n",
       "    <tr style=\"text-align: right;\">\n",
       "      <th></th>\n",
       "      <th>prob</th>\n",
       "      <th>Cloudy</th>\n",
       "      <th>Rain</th>\n",
       "      <th>Sprinkler</th>\n",
       "      <th>WetGrass</th>\n",
       "    </tr>\n",
       "  </thead>\n",
       "  <tbody>\n",
       "    <tr>\n",
       "      <th>0</th>\n",
       "      <td>0.0495</td>\n",
       "      <td>c0</td>\n",
       "      <td>r1</td>\n",
       "      <td>s1</td>\n",
       "      <td>w1</td>\n",
       "    </tr>\n",
       "    <tr>\n",
       "      <th>1</th>\n",
       "      <td>0.0005</td>\n",
       "      <td>c0</td>\n",
       "      <td>r1</td>\n",
       "      <td>s1</td>\n",
       "      <td>w0</td>\n",
       "    </tr>\n",
       "    <tr>\n",
       "      <th>2</th>\n",
       "      <td>0.0450</td>\n",
       "      <td>c0</td>\n",
       "      <td>r1</td>\n",
       "      <td>s0</td>\n",
       "      <td>w1</td>\n",
       "    </tr>\n",
       "    <tr>\n",
       "      <th>3</th>\n",
       "      <td>0.0050</td>\n",
       "      <td>c0</td>\n",
       "      <td>r1</td>\n",
       "      <td>s0</td>\n",
       "      <td>w0</td>\n",
       "    </tr>\n",
       "    <tr>\n",
       "      <th>4</th>\n",
       "      <td>0.1800</td>\n",
       "      <td>c0</td>\n",
       "      <td>r0</td>\n",
       "      <td>s1</td>\n",
       "      <td>w1</td>\n",
       "    </tr>\n",
       "    <tr>\n",
       "      <th>5</th>\n",
       "      <td>0.0200</td>\n",
       "      <td>c0</td>\n",
       "      <td>r0</td>\n",
       "      <td>s1</td>\n",
       "      <td>w0</td>\n",
       "    </tr>\n",
       "    <tr>\n",
       "      <th>6</th>\n",
       "      <td>0.0000</td>\n",
       "      <td>c0</td>\n",
       "      <td>r0</td>\n",
       "      <td>s0</td>\n",
       "      <td>w1</td>\n",
       "    </tr>\n",
       "    <tr>\n",
       "      <th>7</th>\n",
       "      <td>0.2000</td>\n",
       "      <td>c0</td>\n",
       "      <td>r0</td>\n",
       "      <td>s0</td>\n",
       "      <td>w0</td>\n",
       "    </tr>\n",
       "    <tr>\n",
       "      <th>8</th>\n",
       "      <td>0.0396</td>\n",
       "      <td>c1</td>\n",
       "      <td>r1</td>\n",
       "      <td>s1</td>\n",
       "      <td>w1</td>\n",
       "    </tr>\n",
       "    <tr>\n",
       "      <th>9</th>\n",
       "      <td>0.0004</td>\n",
       "      <td>c1</td>\n",
       "      <td>r1</td>\n",
       "      <td>s1</td>\n",
       "      <td>w0</td>\n",
       "    </tr>\n",
       "    <tr>\n",
       "      <th>10</th>\n",
       "      <td>0.3240</td>\n",
       "      <td>c1</td>\n",
       "      <td>r1</td>\n",
       "      <td>s0</td>\n",
       "      <td>w1</td>\n",
       "    </tr>\n",
       "    <tr>\n",
       "      <th>11</th>\n",
       "      <td>0.0360</td>\n",
       "      <td>c1</td>\n",
       "      <td>r1</td>\n",
       "      <td>s0</td>\n",
       "      <td>w0</td>\n",
       "    </tr>\n",
       "    <tr>\n",
       "      <th>12</th>\n",
       "      <td>0.0090</td>\n",
       "      <td>c1</td>\n",
       "      <td>r0</td>\n",
       "      <td>s1</td>\n",
       "      <td>w1</td>\n",
       "    </tr>\n",
       "    <tr>\n",
       "      <th>13</th>\n",
       "      <td>0.0010</td>\n",
       "      <td>c1</td>\n",
       "      <td>r0</td>\n",
       "      <td>s1</td>\n",
       "      <td>w0</td>\n",
       "    </tr>\n",
       "    <tr>\n",
       "      <th>14</th>\n",
       "      <td>0.0000</td>\n",
       "      <td>c1</td>\n",
       "      <td>r0</td>\n",
       "      <td>s0</td>\n",
       "      <td>w1</td>\n",
       "    </tr>\n",
       "    <tr>\n",
       "      <th>15</th>\n",
       "      <td>0.0900</td>\n",
       "      <td>c1</td>\n",
       "      <td>r0</td>\n",
       "      <td>s0</td>\n",
       "      <td>w0</td>\n",
       "    </tr>\n",
       "  </tbody>\n",
       "</table>\n",
       "</div>"
      ],
      "text/plain": [
       "      prob Cloudy Rain Sprinkler WetGrass\n",
       "0   0.0495     c0   r1        s1       w1\n",
       "1   0.0005     c0   r1        s1       w0\n",
       "2   0.0450     c0   r1        s0       w1\n",
       "3   0.0050     c0   r1        s0       w0\n",
       "4   0.1800     c0   r0        s1       w1\n",
       "5   0.0200     c0   r0        s1       w0\n",
       "6   0.0000     c0   r0        s0       w1\n",
       "7   0.2000     c0   r0        s0       w0\n",
       "8   0.0396     c1   r1        s1       w1\n",
       "9   0.0004     c1   r1        s1       w0\n",
       "10  0.3240     c1   r1        s0       w1\n",
       "11  0.0360     c1   r1        s0       w0\n",
       "12  0.0090     c1   r0        s1       w1\n",
       "13  0.0010     c1   r0        s1       w0\n",
       "14  0.0000     c1   r0        s0       w1\n",
       "15  0.0900     c1   r0        s0       w0"
      ]
     },
     "execution_count": 10,
     "metadata": {},
     "output_type": "execute_result"
    }
   ],
   "source": [
    "df_joint_expected"
   ]
  },
  {
   "cell_type": "markdown",
   "metadata": {},
   "source": [
    "# Part 3: `BayesNet.get_prob` (20 points)"
   ]
  },
  {
   "cell_type": "code",
   "execution_count": 11,
   "metadata": {},
   "outputs": [],
   "source": [
    "from math import isclose\n",
    "\n",
    "assert isclose(bayes_net.get_prob({'Cloudy': 'c1'}), .5)\n",
    "\n",
    "assert isclose(bayes_net.get_prob({'Sprinkler': 's1', 'Cloudy': 'c1'}), .05)\n",
    "assert isclose(bayes_net.get_prob({'Sprinkler': 's1', 'Cloudy': 'c0'}), .25)\n",
    "assert isclose(bayes_net.get_prob({'Sprinkler': 's1'}), .3)\n",
    "\n",
    "assert isclose(bayes_net.get_prob({'Rain': 'r1', 'Cloudy': 'c1'}), .4)\n",
    "assert isclose(bayes_net.get_prob({'Rain': 'r1', 'Cloudy': 'c0'}), .1)\n",
    "assert isclose(bayes_net.get_prob({'Rain': 'r1'}), .5)"
   ]
  },
  {
   "cell_type": "markdown",
   "metadata": {},
   "source": [
    "#### extra math note (not needed for HW completion, helpful for probability fluency though)\n",
    "\n",
    "The chunks of three assert statements immediately above demonstrate marginalization: \n",
    "\n",
    "- there's only two ways sprinkler is on: \n",
    "    - when its cloudy or clear outside (.3 = .05 + .25)\n",
    "- there's only two ways its raining:     \n",
    "    - when its cloudy or clear outside (.5 = .1 + .4)"
   ]
  },
  {
   "cell_type": "markdown",
   "metadata": {},
   "source": [
    "# Part 4: `BayesNet.get_conditional_prob` (15 points)\n",
    "\n",
    "To validate `.get_conditional_prob()` we reproduce known conditional probs from the bayes net definition:"
   ]
  },
  {
   "cell_type": "code",
   "execution_count": 12,
   "metadata": {},
   "outputs": [],
   "source": [
    "# whats the prob the sprinkler is on given its cloudy?\n",
    "assert isclose(bayes_net.get_conditional_prob(state={'Sprinkler': 's1'}, condition={'Cloudy': 'c1'}), .1)"
   ]
  },
  {
   "cell_type": "code",
   "execution_count": 13,
   "metadata": {},
   "outputs": [],
   "source": [
    "# whats the prob its not raining given its not cloudy?\n",
    "assert isclose(bayes_net.get_conditional_prob(state={'Rain': 'r0'}, condition={'Cloudy': 'c0'}), .8)"
   ]
  },
  {
   "cell_type": "code",
   "execution_count": 14,
   "metadata": {},
   "outputs": [],
   "source": [
    "# whats the prob lawn is wet given sprinkler is on and its raining?\n",
    "assert isclose(bayes_net.get_conditional_prob(state={'WetGrass': 'w1'}, condition={'Sprinkler': 's1',\n",
    "                                                                                    'Rain': 'r1'}), .99)"
   ]
  },
  {
   "cell_type": "markdown",
   "metadata": {},
   "source": [
    "# Part 5: Gardening (15 points)\n",
    "\n",
    "A gardener wants their newly planted lawn to have (at least) a 70% chance of being wet while using their sprinkler as little as possible, to conserve water.  Each morning they step outside their house and observe only if it is cloudy or not.  With only this evidence, they want to know whether they must turn their sprinkler on.\n",
    "\n",
    "- on clear days, should the gardener turn on their sprinkler?\n",
    "- on cloudy days, should the gardener turn on their sprinkler?\n",
    "- is it possible for the gardener to always ensure at least 70% chance of having a wet lawn?\n",
    "\n",
    "Call a few methods of the bayes net above to investigate the questions immediately above.  Write a summary of results in 2-3 sentences which is easily understood by a garener who knows little of probability or Bayes Nets."
   ]
  },
  {
   "cell_type": "code",
   "execution_count": 15,
   "metadata": {},
   "outputs": [
    {
     "data": {
      "text/plain": [
       "0.9179999999999999"
      ]
     },
     "execution_count": 15,
     "metadata": {},
     "output_type": "execute_result"
    }
   ],
   "source": [
    "# chances of wetgrass when sky is clear & sprinkler is on\n",
    "bayes_net.get_conditional_prob(state={'WetGrass': 'w1'}, condition={'Cloudy': 'c0', 'Sprinkler': 's1'})"
   ]
  },
  {
   "cell_type": "code",
   "execution_count": 16,
   "metadata": {},
   "outputs": [
    {
     "data": {
      "text/plain": [
       "0.18000000000000002"
      ]
     },
     "execution_count": 16,
     "metadata": {},
     "output_type": "execute_result"
    }
   ],
   "source": [
    "# chances of wetgrass when sky is clear & sprinkler is off\n",
    "bayes_net.get_conditional_prob(state={'WetGrass': 'w1'}, condition={'Cloudy': 'c0', 'Sprinkler': 's0'})"
   ]
  },
  {
   "cell_type": "code",
   "execution_count": 17,
   "metadata": {},
   "outputs": [
    {
     "data": {
      "text/plain": [
       "0.9720000000000001"
      ]
     },
     "execution_count": 17,
     "metadata": {},
     "output_type": "execute_result"
    }
   ],
   "source": [
    "# chances of wetgrass when sky is cloudy & sprinkler is on\n",
    "bayes_net.get_conditional_prob(state={'WetGrass': 'w1'}, condition={'Cloudy': 'c1', 'Sprinkler': 's1'})"
   ]
  },
  {
   "cell_type": "code",
   "execution_count": 18,
   "metadata": {},
   "outputs": [
    {
     "data": {
      "text/plain": [
       "0.72"
      ]
     },
     "execution_count": 18,
     "metadata": {},
     "output_type": "execute_result"
    }
   ],
   "source": [
    "# chances of wetgrass when sky is cloudy & sprinkler is off\n",
    "bayes_net.get_conditional_prob(state={'WetGrass': 'w1'}, condition={'Cloudy': 'c1', 'Sprinkler': 's0'})"
   ]
  },
  {
   "cell_type": "code",
   "execution_count": 19,
   "metadata": {},
   "outputs": [
    {
     "data": {
      "text/plain": [
       "0.8"
      ]
     },
     "execution_count": 19,
     "metadata": {},
     "output_type": "execute_result"
    }
   ],
   "source": [
    "# chances of rain when sky is cloudy \n",
    "bayes_net.get_conditional_prob(state={'Rain': 'r1'}, condition={'Cloudy': 'c1'})"
   ]
  },
  {
   "cell_type": "code",
   "execution_count": 20,
   "metadata": {},
   "outputs": [
    {
     "data": {
      "text/plain": [
       "0.2"
      ]
     },
     "execution_count": 20,
     "metadata": {},
     "output_type": "execute_result"
    }
   ],
   "source": [
    "# chances of rain when sky is clear\n",
    "bayes_net.get_conditional_prob(state={'Rain': 'r1'}, condition={'Cloudy': 'c0'})"
   ]
  },
  {
   "cell_type": "markdown",
   "metadata": {},
   "source": [
    "### <font color=royalblue> Response: </font> \n",
    "It is possible for the gardener to always ensure at least 70% chance of having a wet lawn by not turning on the sprinklers on cloudy days. During cloudy days, there is a 80% that there will be rain. Thus, by not turning on the sprinklers on cloudy days, there is a 72% that the grass will be wet. However, there is only a 20% chance of rain on clear days. Thus, there will be a 92% that the grass will be wet by keeping the sprinklers on during clear days."
   ]
  },
  {
   "cell_type": "markdown",
   "metadata": {},
   "source": [
    "# Part 6: Memory Analysis (5 points)\n",
    "\n",
    "Let's consider the liver disease bayes net example shown in class.  Assuming it has 40 total nodes, and each is binary, how much memory would it cost to store the probability column of `df_joint` as shown above?  Assume that every combination of variables must be stored as a float which uses `np.ones(1).nbytes / 1e6` megabytes of space.\n",
    "\n",
    "Summarize your computation in 2 sentences so a non-technical reader can understand the drawback.  (Note: this memory problem lies with our implementation, there are methods to avoid it)\n",
    "\n",
    "Hint:\n",
    "- its a big number, don't try this line of code as you'll run out of memory before you get an answer:\n",
    "    - `np.ones(2 ** 40).nbytes / 1e6` megabytes of space"
   ]
  },
  {
   "cell_type": "code",
   "execution_count": 21,
   "metadata": {},
   "outputs": [
    {
     "data": {
      "text/plain": [
       "8796093.022208"
      ]
     },
     "execution_count": 21,
     "metadata": {},
     "output_type": "execute_result"
    }
   ],
   "source": [
    "import numpy as np\n",
    "(2 ** 40 * np.ones(1).nbytes) / 1e6"
   ]
  },
  {
   "cell_type": "markdown",
   "metadata": {},
   "source": [
    "### <font color=black> Background: </font> \n",
    "For every new nodes (aka the columns) and each is binary, the number of row would double from the previous number. For example, there is 2 nodes (columns) with 4 rows. If 1 node is added, there will be a total of 8 rows.\n",
    "\n",
    "### <font color=royalblue> Response to part 6: </font>\n",
    "With 40 nodes, there will be 2^40 (1,099,511,627,776) rows with 40 columns; the table would require to have 8,796,093.02 megabytes of space. Because it is a huge table, it can be very disorganized and difficult to locate certain conditions."
   ]
  },
  {
   "cell_type": "markdown",
   "metadata": {},
   "source": [
    "# Part 7: Build-your-own (4 ex cred pts)\n",
    "\n",
    "Build your own Bayes Net problem!\n",
    "\n",
    "1. Provide a graphical representation which contains a graph and all necessary distributions\n",
    "    - see the thief, alarm, dog, doorbell, earthquake example in class\n",
    "    - include it as an embedded image directly below\n",
    "1. Implement it as a `BayesNet`\n",
    "1. Write a few questions which tell a \"data story\".  Answer them by querying your network and interpretting results.\n",
    "    - again, see the thief example in class for a \"data story\"\n",
    "    \n",
    "Grab your project team's data if you'd like :)\n",
    "\n",
    "I'd love a few more beautiful examples for use in future coursework.  Make a super-clean figure and a compelling datastory to earn the full four points of credit.  \n",
    "\n",
    "If you're willing to share this in future coursework (for any course or instructor) please shoot me a copy via email saying \"You, or other instructors, are welcome to use this in any future course\".  Also, let us know if you'd like us to cite you or whether you'd like us to give credit to an anonymous DS2500 student.  Your consent to use / share won't impact whether you score extra credit points."
   ]
  }
 ],
 "metadata": {
  "kernelspec": {
   "display_name": "Python 3 (ipykernel)",
   "language": "python",
   "name": "python3"
  },
  "language_info": {
   "codemirror_mode": {
    "name": "ipython",
    "version": 3
   },
   "file_extension": ".py",
   "mimetype": "text/x-python",
   "name": "python",
   "nbconvert_exporter": "python",
   "pygments_lexer": "ipython3",
   "version": "3.9.7"
  }
 },
 "nbformat": 4,
 "nbformat_minor": 4
}
