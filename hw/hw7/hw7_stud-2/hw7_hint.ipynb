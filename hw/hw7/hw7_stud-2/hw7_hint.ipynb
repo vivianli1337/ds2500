{
 "cells": [
  {
   "cell_type": "markdown",
   "id": "e713f7ab",
   "metadata": {},
   "source": [
    "# Some useful constructions\n",
    "\n",
    "I list a few constructions used in my solution.  I'd suggest reviewing this briefly to see whats available and returning if the need arises.  Don't feel obligated to use any of the following, as long as you pass the asserts you're all set :)"
   ]
  },
  {
   "cell_type": "markdown",
   "id": "495ebe74",
   "metadata": {},
   "source": [
    "### You can iterate row by row through a dataframe\n",
    "\n",
    "Using [pd.DataFrame.iterrows()](https://pandas.pydata.org/docs/reference/api/pandas.DataFrame.iterrows.html)"
   ]
  },
  {
   "cell_type": "code",
   "execution_count": 1,
   "id": "d7e733f9",
   "metadata": {},
   "outputs": [
    {
     "data": {
      "text/html": [
       "<div>\n",
       "<style scoped>\n",
       "    .dataframe tbody tr th:only-of-type {\n",
       "        vertical-align: middle;\n",
       "    }\n",
       "\n",
       "    .dataframe tbody tr th {\n",
       "        vertical-align: top;\n",
       "    }\n",
       "\n",
       "    .dataframe thead th {\n",
       "        text-align: right;\n",
       "    }\n",
       "</style>\n",
       "<table border=\"1\" class=\"dataframe\">\n",
       "  <thead>\n",
       "    <tr style=\"text-align: right;\">\n",
       "      <th></th>\n",
       "      <th>a</th>\n",
       "      <th>b</th>\n",
       "    </tr>\n",
       "  </thead>\n",
       "  <tbody>\n",
       "    <tr>\n",
       "      <th>0</th>\n",
       "      <td>1</td>\n",
       "      <td>3</td>\n",
       "    </tr>\n",
       "    <tr>\n",
       "      <th>1</th>\n",
       "      <td>2</td>\n",
       "      <td>4</td>\n",
       "    </tr>\n",
       "  </tbody>\n",
       "</table>\n",
       "</div>"
      ],
      "text/plain": [
       "   a  b\n",
       "0  1  3\n",
       "1  2  4"
      ]
     },
     "execution_count": 1,
     "metadata": {},
     "output_type": "execute_result"
    }
   ],
   "source": [
    "import pandas as pd\n",
    "\n",
    "df = pd.DataFrame({'a': [1, 2],\n",
    "                   'b': [3, 4]})\n",
    "df"
   ]
  },
  {
   "cell_type": "code",
   "execution_count": 2,
   "id": "d357acd5",
   "metadata": {
    "scrolled": false
   },
   "outputs": [
    {
     "name": "stdout",
     "output_type": "stream",
     "text": [
      "a    1\n",
      "b    3\n",
      "Name: 0, dtype: int64\n",
      "a    2\n",
      "b    4\n",
      "Name: 1, dtype: int64\n"
     ]
    }
   ],
   "source": [
    "for idx, row in df.iterrows():\n",
    "    print(row)"
   ]
  },
  {
   "cell_type": "markdown",
   "id": "067f6b5f",
   "metadata": {},
   "source": [
    "### Building a `pd.DataFrame` row by row"
   ]
  },
  {
   "cell_type": "code",
   "execution_count": 3,
   "id": "6c996100",
   "metadata": {},
   "outputs": [
    {
     "data": {
      "text/html": [
       "<div>\n",
       "<style scoped>\n",
       "    .dataframe tbody tr th:only-of-type {\n",
       "        vertical-align: middle;\n",
       "    }\n",
       "\n",
       "    .dataframe tbody tr th {\n",
       "        vertical-align: top;\n",
       "    }\n",
       "\n",
       "    .dataframe thead th {\n",
       "        text-align: right;\n",
       "    }\n",
       "</style>\n",
       "<table border=\"1\" class=\"dataframe\">\n",
       "  <thead>\n",
       "    <tr style=\"text-align: right;\">\n",
       "      <th></th>\n",
       "      <th>name</th>\n",
       "      <th>length of name</th>\n",
       "      <th>first char</th>\n",
       "    </tr>\n",
       "  </thead>\n",
       "  <tbody>\n",
       "    <tr>\n",
       "      <th>0</th>\n",
       "      <td>ringo</td>\n",
       "      <td>5</td>\n",
       "      <td>r</td>\n",
       "    </tr>\n",
       "    <tr>\n",
       "      <th>1</th>\n",
       "      <td>john</td>\n",
       "      <td>4</td>\n",
       "      <td>j</td>\n",
       "    </tr>\n",
       "    <tr>\n",
       "      <th>2</th>\n",
       "      <td>paul</td>\n",
       "      <td>4</td>\n",
       "      <td>p</td>\n",
       "    </tr>\n",
       "    <tr>\n",
       "      <th>3</th>\n",
       "      <td>george</td>\n",
       "      <td>6</td>\n",
       "      <td>g</td>\n",
       "    </tr>\n",
       "  </tbody>\n",
       "</table>\n",
       "</div>"
      ],
      "text/plain": [
       "     name  length of name first char\n",
       "0   ringo               5          r\n",
       "1    john               4          j\n",
       "2    paul               4          p\n",
       "3  george               6          g"
      ]
     },
     "execution_count": 3,
     "metadata": {},
     "output_type": "execute_result"
    }
   ],
   "source": [
    "import pandas as pd\n",
    "\n",
    "# make a list of dictionaries (each will be a new row)\n",
    "row_list = list()\n",
    "for name in ['ringo', 'john', 'paul', 'george']:\n",
    "    new_row = {'name': name, 'length of name': len(name), 'first char': name[0]}\n",
    "    row_list.append(new_row)\n",
    "    \n",
    "pd.DataFrame(row_list)"
   ]
  },
  {
   "cell_type": "markdown",
   "id": "935c22ca",
   "metadata": {},
   "source": [
    "### Copying something \n",
    "\n",
    "helpful to be sure each of the  `new_row` dictionaries above are seperate objects ... otherwise the modification of one row will also modify others!"
   ]
  },
  {
   "cell_type": "code",
   "execution_count": 4,
   "id": "d304615b",
   "metadata": {},
   "outputs": [
    {
     "data": {
      "text/plain": [
       "({'key': 'value', 1: 2}, {'key': 'VALUE', 1: 2})"
      ]
     },
     "execution_count": 4,
     "metadata": {},
     "output_type": "execute_result"
    }
   ],
   "source": [
    "from copy import copy\n",
    "\n",
    "a = {'key': 'value', 1: 2}\n",
    "b = copy(a)\n",
    "\n",
    "# notice that a and b are seperate objects, modifying b does not modify a\n",
    "b['key'] = 'VALUE'\n",
    "\n",
    "a, b"
   ]
  },
  {
   "cell_type": "markdown",
   "id": "5a3beb43",
   "metadata": {},
   "source": [
    "### Check if one dictionary is included in another\n",
    "\n",
    "Python's `Set` objects are wonderful for testing if one collection is included in another."
   ]
  },
  {
   "cell_type": "code",
   "execution_count": 5,
   "id": "73633e31",
   "metadata": {},
   "outputs": [
    {
     "data": {
      "text/plain": [
       "False"
      ]
     },
     "execution_count": 5,
     "metadata": {},
     "output_type": "execute_result"
    }
   ],
   "source": [
    "a = {1, 2, 3}\n",
    "\n",
    "# does set a contain all these values?\n",
    "a.issuperset([1, 2, 3, 4])"
   ]
  },
  {
   "cell_type": "code",
   "execution_count": 6,
   "id": "150f9253",
   "metadata": {},
   "outputs": [
    {
     "data": {
      "text/plain": [
       "True"
      ]
     },
     "execution_count": 6,
     "metadata": {},
     "output_type": "execute_result"
    }
   ],
   "source": [
    "# is set a included in all these values?\n",
    "a.issubset([1, 2, 3, 4])"
   ]
  },
  {
   "cell_type": "code",
   "execution_count": 7,
   "id": "0ecf75e9",
   "metadata": {},
   "outputs": [
    {
     "data": {
      "text/plain": [
       "{('a', 1), ('b', 2)}"
      ]
     },
     "execution_count": 7,
     "metadata": {},
     "output_type": "execute_result"
    }
   ],
   "source": [
    "a_dict = {'a': 1, 'b': 2}\n",
    "a_super_dict = {'a': 1, 'b': 2, 'c': 3}\n",
    "\n",
    "# build a set of (key, value) tuples\n",
    "set(a_dict.items())"
   ]
  },
  {
   "cell_type": "code",
   "execution_count": 8,
   "id": "4d8c8982",
   "metadata": {},
   "outputs": [
    {
     "data": {
      "text/plain": [
       "True"
      ]
     },
     "execution_count": 8,
     "metadata": {},
     "output_type": "execute_result"
    }
   ],
   "source": [
    "# is a_dict contained within a_super_dict?\n",
    "set(a_dict.items()).issubset(a_super_dict.items())"
   ]
  },
  {
   "cell_type": "markdown",
   "id": "6d96abf6",
   "metadata": {},
   "source": [
    "### Merging two dictionaries together"
   ]
  },
  {
   "cell_type": "code",
   "execution_count": 9,
   "id": "c35a9ea8",
   "metadata": {},
   "outputs": [
    {
     "data": {
      "text/plain": [
       "{'a': 1, 'b': 2, 'c': 3}"
      ]
     },
     "execution_count": 9,
     "metadata": {},
     "output_type": "execute_result"
    }
   ],
   "source": [
    "dict0 = {'a': 1, 'b': 2}\n",
    "dict1 = {'c': 3}\n",
    "\n",
    "# add all dict1 key value pairs into dict0\n",
    "dict0.update(dict1)\n",
    "\n",
    "dict0"
   ]
  },
  {
   "cell_type": "code",
   "execution_count": 10,
   "id": "ac310f00",
   "metadata": {},
   "outputs": [
    {
     "data": {
      "text/plain": [
       "{'a': 'a whole new value!', 'b': 2, 'c': 3}"
      ]
     },
     "execution_count": 10,
     "metadata": {},
     "output_type": "execute_result"
    }
   ],
   "source": [
    "dict0 = {'a': 1, 'b': 2}\n",
    "dict1 = {'c': 3, 'a': 'a whole new value!'}\n",
    "\n",
    "# notice: intersecting keys are overwritten (taking values from dict1)\n",
    "dict0.update(dict1)\n",
    "\n",
    "dict0"
   ]
  },
  {
   "cell_type": "code",
   "execution_count": 11,
   "id": "de81d170",
   "metadata": {},
   "outputs": [
    {
     "data": {
      "text/plain": [
       "{'a': 'a whole new value!', 'b': 2, 'c': 3}"
      ]
     },
     "execution_count": 11,
     "metadata": {},
     "output_type": "execute_result"
    }
   ],
   "source": [
    "# a shorthand, more recently introduced in python\n",
    "dict0 | dict1"
   ]
  },
  {
   "cell_type": "markdown",
   "id": "6373c679",
   "metadata": {},
   "source": [
    "# HW 7 Pseudocode hint\n",
    "\n",
    "See how much progress you can make yourself without using this hint (I tried to \"hide\" it in this extra file to dissaude you from reading this right away ... however, if you find yourself stuck or not having fun anymore, read the pseudocode hint below):"
   ]
  },
  {
   "cell_type": "markdown",
   "id": "f7f33955",
   "metadata": {},
   "source": [
    "your `BayesNet` class has two methods \n",
    "- `BayesNet.add_prior_node()`\n",
    "- `BayesNet.add_conditional_node()`\n",
    "\n",
    "Lets focus on the more challenging one `.add_conditional_node()` as the other behavior will be included in the discussion.  \n",
    "\n",
    "## Studying the interface\n",
    "\n",
    "Before adding our first conditional node, `bayes_net.df_joint` looks like:\n",
    "\n",
    "| prob | Cloudy |\n",
    "|------|--------|\n",
    "| 0.5  | cloudy |\n",
    "| 0.5  | clear  |\n",
    "\n",
    "at which point we add the conditional node via:\n",
    "\n",
    "```python\n",
    "# add rain conditional prob\n",
    "cond_prob_rain = \\\n",
    "    ConditionalProb(target='Rain',\n",
    "                    condition_list=['Cloudy'],\n",
    "                    cond_prob_dict={('cloudy',): {'rain': .8, 'no rain': .2},\n",
    "                                    ('clear',): {'rain': .2, 'no rain': .8}})\n",
    "bayes_net.add_conditional_node(cond_prob_rain)\n",
    "```\n",
    "so that, afterwards, `bayes_net.df_joint` looks like:\n",
    "\n",
    "| prob | Cloudy | Rain    |\n",
    "|------|--------|---------|\n",
    "| 0.4  | cloudy | rain    |\n",
    "| 0.1  | cloudy | no rain |\n",
    "| 0.1  | clear  | rain    |\n",
    "| 0.4  | clear  | no rain |\n",
    "\n",
    "## Implementation pseudo code\n",
    "\n",
    "Notice that the first row in the initial dataframe \n",
    "- prob=.5, Cloudy=cloudy\n",
    "\n",
    "ends up generating a corresponding row in the output for every outcome of the new target random variable (rain, no rain):\n",
    "- prob=.4, Cloudy=cloudy, Rain=rain\n",
    "- prob=.1, Cloudy=cloudy, Rain=no rain\n",
    "\n",
    "So a rough pseudo code of the `.add_conditional_node()` is:\n",
    "\n",
    "```python\n",
    "for every row in data_frame:\n",
    "    # 1.  find corresponding conditional probability appropriate for row\n",
    "    # (example, when initial row had Cloudy=cloudy the conditional\n",
    "    # probability of rain was cond_prob = {'rain': .8, 'no rain': .2})\n",
    "\n",
    "    \n",
    "    for outcome, prob in cond_prob.items():  \n",
    "        # build a new row in output dataframe for every outcome in conditional prob (incorporates outcome & prob in new row)\n",
    "```\n",
    "\n",
    "### `.add_prior_node()` ...\n",
    "works similarly, except its conditional prob is constant for all rows (the prob of the new variable is independent of all existing random variables)"
   ]
  }
 ],
 "metadata": {
  "kernelspec": {
   "display_name": "Python 3 (ipykernel)",
   "language": "python",
   "name": "python3"
  },
  "language_info": {
   "codemirror_mode": {
    "name": "ipython",
    "version": 3
   },
   "file_extension": ".py",
   "mimetype": "text/x-python",
   "name": "python",
   "nbconvert_exporter": "python",
   "pygments_lexer": "ipython3",
   "version": "3.9.7"
  }
 },
 "nbformat": 4,
 "nbformat_minor": 5
}
